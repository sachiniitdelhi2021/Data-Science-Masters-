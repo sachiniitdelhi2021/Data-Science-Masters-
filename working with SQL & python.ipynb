{
 "cells": [
  {
   "cell_type": "code",
   "execution_count": 1,
   "id": "b6e564d9",
   "metadata": {},
   "outputs": [],
   "source": [
    "# first we will see how to make a connection b/w python and server "
   ]
  },
  {
   "cell_type": "code",
   "execution_count": 2,
   "id": "f272e428",
   "metadata": {},
   "outputs": [],
   "source": [
    "# for making connection first we have to import --  mysql connector like  "
   ]
  },
  {
   "cell_type": "code",
   "execution_count": 11,
   "id": "7b0ec9f1",
   "metadata": {},
   "outputs": [],
   "source": [
    "import mysql.connector as connection     # for connection b/w python & server every time we have to import-mysql.connector "
   ]
  },
  {
   "cell_type": "code",
   "execution_count": null,
   "id": "a81c03e2",
   "metadata": {},
   "outputs": [],
   "source": []
  },
  {
   "cell_type": "code",
   "execution_count": 6,
   "id": "6abc627b",
   "metadata": {},
   "outputs": [],
   "source": [
    "conn=connection.connect(host='localhost',user='root',passwd='mysql',use_pure=True) # here we are making connection \n",
    "#  we only have to change host name by url of server location and user name and password  "
   ]
  },
  {
   "cell_type": "code",
   "execution_count": 7,
   "id": "0974fb96",
   "metadata": {},
   "outputs": [],
   "source": [
    "cur=conn.cursor()  # creating a cursor for giving results of all databases when available databases names are fetched in sequence  "
   ]
  },
  {
   "cell_type": "code",
   "execution_count": 8,
   "id": "44cefbe7",
   "metadata": {},
   "outputs": [],
   "source": [
    "cur.execute('show databases')  "
   ]
  },
  {
   "cell_type": "code",
   "execution_count": 9,
   "id": "ae01e6c6",
   "metadata": {},
   "outputs": [],
   "source": [
    "res=cur.fetchall()   # fetching name of all available databases in list which are available on respective server "
   ]
  },
  {
   "cell_type": "code",
   "execution_count": 10,
   "id": "3226ef8c",
   "metadata": {},
   "outputs": [
    {
     "data": {
      "text/plain": [
       "[('information_schema',),\n",
       " ('mysql',),\n",
       " ('performance_schema',),\n",
       " ('sakila',),\n",
       " ('sys',),\n",
       " ('world',)]"
      ]
     },
     "execution_count": 10,
     "metadata": {},
     "output_type": "execute_result"
    }
   ],
   "source": [
    "res    # "
   ]
  },
  {
   "cell_type": "code",
   "execution_count": 12,
   "id": "9b31dbb3",
   "metadata": {},
   "outputs": [],
   "source": [
    "#  now we will talk about creating a new database so for that-- step1) in place of 'show databases' just write 'create database nameofdatabase'\n",
    "# like-- 'create database sachin' \n",
    "#  and we are creating new database so there is no point in fetching the databases names so remove or comment out that line of code"
   ]
  },
  {
   "cell_type": "code",
   "execution_count": 13,
   "id": "b74956c4",
   "metadata": {},
   "outputs": [],
   "source": [
    "cur.execute('create database sachin')  # after execution you can see in sql workbench that database with name 'sachin' is created\n",
    "#  just type show databases in sql workbench and execute "
   ]
  },
  {
   "cell_type": "code",
   "execution_count": 29,
   "id": "762d5632",
   "metadata": {},
   "outputs": [],
   "source": [
    "#  creating a table inside my database 'sachin'\n",
    "# for making a table inisde any database out of available databases on any server i has to insert one more parameter 'database'\n",
    "#  inside line which is used for making connection b/w python and server \n",
    "mydb=connection.connect(host='localhost',database='sachin',user='root',passwd='mysql')\n"
   ]
  },
  {
   "cell_type": "code",
   "execution_count": 30,
   "id": "c99c7233",
   "metadata": {},
   "outputs": [
    {
     "data": {
      "text/plain": [
       "True"
      ]
     },
     "execution_count": 30,
     "metadata": {},
     "output_type": "execute_result"
    }
   ],
   "source": [
    "#  there is one command to check connection is developed or not \n",
    "mydb.is_connected()"
   ]
  },
  {
   "cell_type": "code",
   "execution_count": 31,
   "id": "ee4f7ba4",
   "metadata": {},
   "outputs": [],
   "source": [
    "#  giving true means connection is developed "
   ]
  },
  {
   "cell_type": "code",
   "execution_count": 38,
   "id": "1068f6d4",
   "metadata": {
    "collapsed": true
   },
   "outputs": [
    {
     "ename": "ProgrammingError",
     "evalue": "1050 (42S01): Table 'test' already exists",
     "output_type": "error",
     "traceback": [
      "\u001b[1;31m---------------------------------------------------------------------------\u001b[0m",
      "\u001b[1;31mMySQLInterfaceError\u001b[0m                       Traceback (most recent call last)",
      "File \u001b[1;32mD:\\downloads\\lib\\site-packages\\mysql\\connector\\connection_cext.py:535\u001b[0m, in \u001b[0;36mCMySQLConnection.cmd_query\u001b[1;34m(self, query, raw, buffered, raw_as_string)\u001b[0m\n\u001b[0;32m    534\u001b[0m         query \u001b[38;5;241m=\u001b[39m query\u001b[38;5;241m.\u001b[39mencode(\u001b[38;5;124m'\u001b[39m\u001b[38;5;124mutf-8\u001b[39m\u001b[38;5;124m'\u001b[39m)\n\u001b[1;32m--> 535\u001b[0m     \u001b[38;5;28;43mself\u001b[39;49m\u001b[38;5;241;43m.\u001b[39;49m\u001b[43m_cmysql\u001b[49m\u001b[38;5;241;43m.\u001b[39;49m\u001b[43mquery\u001b[49m\u001b[43m(\u001b[49m\u001b[43mquery\u001b[49m\u001b[43m,\u001b[49m\n\u001b[0;32m    536\u001b[0m \u001b[43m                       \u001b[49m\u001b[43mraw\u001b[49m\u001b[38;5;241;43m=\u001b[39;49m\u001b[43mraw\u001b[49m\u001b[43m,\u001b[49m\u001b[43m \u001b[49m\u001b[43mbuffered\u001b[49m\u001b[38;5;241;43m=\u001b[39;49m\u001b[43mbuffered\u001b[49m\u001b[43m,\u001b[49m\n\u001b[0;32m    537\u001b[0m \u001b[43m                       \u001b[49m\u001b[43mraw_as_string\u001b[49m\u001b[38;5;241;43m=\u001b[39;49m\u001b[43mraw_as_string\u001b[49m\u001b[43m,\u001b[49m\n\u001b[0;32m    538\u001b[0m \u001b[43m                       \u001b[49m\u001b[43mquery_attrs\u001b[49m\u001b[38;5;241;43m=\u001b[39;49m\u001b[38;5;28;43mself\u001b[39;49m\u001b[38;5;241;43m.\u001b[39;49m\u001b[43m_query_attrs\u001b[49m\u001b[43m)\u001b[49m\n\u001b[0;32m    539\u001b[0m \u001b[38;5;28;01mexcept\u001b[39;00m MySQLInterfaceError \u001b[38;5;28;01mas\u001b[39;00m exc:\n",
      "\u001b[1;31mMySQLInterfaceError\u001b[0m: Table 'test' already exists",
      "\nDuring handling of the above exception, another exception occurred:\n",
      "\u001b[1;31mProgrammingError\u001b[0m                          Traceback (most recent call last)",
      "Input \u001b[1;32mIn [38]\u001b[0m, in \u001b[0;36m<cell line: 2>\u001b[1;34m()\u001b[0m\n\u001b[0;32m      1\u001b[0m cur\u001b[38;5;241m=\u001b[39mmydb\u001b[38;5;241m.\u001b[39mcursor()\n\u001b[1;32m----> 2\u001b[0m \u001b[43mcur\u001b[49m\u001b[38;5;241;43m.\u001b[39;49m\u001b[43mexecute\u001b[49m\u001b[43m(\u001b[49m\u001b[38;5;124;43m'\u001b[39;49m\u001b[38;5;124;43mcreate table test(x1 INT(5), x2 VARCHAR(20), x3 DATE)\u001b[39;49m\u001b[38;5;124;43m'\u001b[39;49m\u001b[43m)\u001b[49m\n\u001b[0;32m      3\u001b[0m mydb\u001b[38;5;241m.\u001b[39mclose()\n",
      "File \u001b[1;32mD:\\downloads\\lib\\site-packages\\mysql\\connector\\cursor_cext.py:269\u001b[0m, in \u001b[0;36mCMySQLCursor.execute\u001b[1;34m(self, operation, params, multi)\u001b[0m\n\u001b[0;32m    265\u001b[0m             \u001b[38;5;28;01mraise\u001b[39;00m errors\u001b[38;5;241m.\u001b[39mProgrammingError(\n\u001b[0;32m    266\u001b[0m                 \u001b[38;5;124m\"\u001b[39m\u001b[38;5;124mNot all parameters were used in the SQL statement\u001b[39m\u001b[38;5;124m\"\u001b[39m)\n\u001b[0;32m    268\u001b[0m \u001b[38;5;28;01mtry\u001b[39;00m:\n\u001b[1;32m--> 269\u001b[0m     result \u001b[38;5;241m=\u001b[39m \u001b[38;5;28;43mself\u001b[39;49m\u001b[38;5;241;43m.\u001b[39;49m\u001b[43m_cnx\u001b[49m\u001b[38;5;241;43m.\u001b[39;49m\u001b[43mcmd_query\u001b[49m\u001b[43m(\u001b[49m\u001b[43mstmt\u001b[49m\u001b[43m,\u001b[49m\u001b[43m \u001b[49m\u001b[43mraw\u001b[49m\u001b[38;5;241;43m=\u001b[39;49m\u001b[38;5;28;43mself\u001b[39;49m\u001b[38;5;241;43m.\u001b[39;49m\u001b[43m_raw\u001b[49m\u001b[43m,\u001b[49m\n\u001b[0;32m    270\u001b[0m \u001b[43m                                 \u001b[49m\u001b[43mbuffered\u001b[49m\u001b[38;5;241;43m=\u001b[39;49m\u001b[38;5;28;43mself\u001b[39;49m\u001b[38;5;241;43m.\u001b[39;49m\u001b[43m_buffered\u001b[49m\u001b[43m,\u001b[49m\n\u001b[0;32m    271\u001b[0m \u001b[43m                                 \u001b[49m\u001b[43mraw_as_string\u001b[49m\u001b[38;5;241;43m=\u001b[39;49m\u001b[38;5;28;43mself\u001b[39;49m\u001b[38;5;241;43m.\u001b[39;49m\u001b[43m_raw_as_string\u001b[49m\u001b[43m)\u001b[49m\n\u001b[0;32m    272\u001b[0m \u001b[38;5;28;01mexcept\u001b[39;00m MySQLInterfaceError \u001b[38;5;28;01mas\u001b[39;00m exc:\n\u001b[0;32m    273\u001b[0m     \u001b[38;5;28;01mraise\u001b[39;00m errors\u001b[38;5;241m.\u001b[39mget_mysql_exception(msg\u001b[38;5;241m=\u001b[39mexc\u001b[38;5;241m.\u001b[39mmsg, errno\u001b[38;5;241m=\u001b[39mexc\u001b[38;5;241m.\u001b[39merrno,\n\u001b[0;32m    274\u001b[0m                                      sqlstate\u001b[38;5;241m=\u001b[39mexc\u001b[38;5;241m.\u001b[39msqlstate)\n",
      "File \u001b[1;32mD:\\downloads\\lib\\site-packages\\mysql\\connector\\connection_cext.py:540\u001b[0m, in \u001b[0;36mCMySQLConnection.cmd_query\u001b[1;34m(self, query, raw, buffered, raw_as_string)\u001b[0m\n\u001b[0;32m    535\u001b[0m     \u001b[38;5;28mself\u001b[39m\u001b[38;5;241m.\u001b[39m_cmysql\u001b[38;5;241m.\u001b[39mquery(query,\n\u001b[0;32m    536\u001b[0m                        raw\u001b[38;5;241m=\u001b[39mraw, buffered\u001b[38;5;241m=\u001b[39mbuffered,\n\u001b[0;32m    537\u001b[0m                        raw_as_string\u001b[38;5;241m=\u001b[39mraw_as_string,\n\u001b[0;32m    538\u001b[0m                        query_attrs\u001b[38;5;241m=\u001b[39m\u001b[38;5;28mself\u001b[39m\u001b[38;5;241m.\u001b[39m_query_attrs)\n\u001b[0;32m    539\u001b[0m \u001b[38;5;28;01mexcept\u001b[39;00m MySQLInterfaceError \u001b[38;5;28;01mas\u001b[39;00m exc:\n\u001b[1;32m--> 540\u001b[0m     \u001b[38;5;28;01mraise\u001b[39;00m errors\u001b[38;5;241m.\u001b[39mget_mysql_exception(exc\u001b[38;5;241m.\u001b[39merrno, msg\u001b[38;5;241m=\u001b[39mexc\u001b[38;5;241m.\u001b[39mmsg,\n\u001b[0;32m    541\u001b[0m                                      sqlstate\u001b[38;5;241m=\u001b[39mexc\u001b[38;5;241m.\u001b[39msqlstate)\n\u001b[0;32m    542\u001b[0m \u001b[38;5;28;01mexcept\u001b[39;00m \u001b[38;5;167;01mAttributeError\u001b[39;00m:\n\u001b[0;32m    543\u001b[0m     \u001b[38;5;28;01mif\u001b[39;00m \u001b[38;5;28mself\u001b[39m\u001b[38;5;241m.\u001b[39m_unix_socket:\n",
      "\u001b[1;31mProgrammingError\u001b[0m: 1050 (42S01): Table 'test' already exists"
     ]
    }
   ],
   "source": [
    "cur=mydb.cursor()\n",
    "cur.execute('create table test(x1 INT(5), x2 VARCHAR(20), x3 DATE)')\n",
    "mydb.close()"
   ]
  },
  {
   "cell_type": "code",
   "execution_count": 47,
   "id": "726639f9",
   "metadata": {},
   "outputs": [],
   "source": [
    "#  table is created inside my database now we have to insert data inside my table \n",
    "mydb=connection.connect(host='localhost',database='sachin',user='root',passwd='mysql')\n",
    "cur=mydb.cursor()\n",
    "cur.execute('''insert into test values(1234,'dangi','2022-05-20')''')      # date formate should be yyyy-mm-dd\n",
    "mydb.commit()   # with this we are committing the data(given in above line) for table test inside sachin database"
   ]
  },
  {
   "cell_type": "code",
   "execution_count": 42,
   "id": "d8d83ddf",
   "metadata": {},
   "outputs": [],
   "source": [
    "#  we can add data inside table in two ways--1) adding data in single row for each column one by one \n",
    "#  2) adding data in all selected rows in one go( in each column )"
   ]
  },
  {
   "cell_type": "code",
   "execution_count": 49,
   "id": "b51b5c3f",
   "metadata": {},
   "outputs": [],
   "source": [
    "# adding data one by one in rows but every time in each column like\n",
    "cur.execute('''insert into test values(1234,'dangi','2022-05-20')''')  \n",
    "cur.execute('''insert into test values(5678,'thakur','2022-05-20')''')  \n",
    "cur.execute('''insert into test values(9876,'rajput','2022-05-20')''')  \n",
    "cur.execute('''insert into test values(0987,'singh','2022-05-20')''')  \n",
    "cur.execute('''insert into test values(6554,'hindu','2022-05-20')''')  \n",
    "cur.execute('''insert into test values(1919,'shatreya','2022-05-20')''')  \n",
    "cur.execute('''insert into test values(0101,'hindu','2022-05-20')''')  \n",
    "mydb.commit()    # this is imp after giving data in database like we do in case of file where we have to close a file after writing inside file than only we will we ablw to read all data after opening the file "
   ]
  },
  {
   "cell_type": "code",
   "execution_count": 50,
   "id": "1ee7e13c",
   "metadata": {},
   "outputs": [],
   "source": [
    "# after creating my own database with name 'sachin' and inserting data inside it we can fetch all data like \n",
    "# before fetching all data re-run the code line which is for setting the connection b/w python and server so that cursor comes to start of table "
   ]
  },
  {
   "cell_type": "code",
   "execution_count": 61,
   "id": "8c2a46be",
   "metadata": {},
   "outputs": [
    {
     "data": {
      "text/plain": [
       "[(1234, 'dangi', datetime.date(2022, 5, 19)),\n",
       " (1234, 'dangi', datetime.date(2022, 5, 19)),\n",
       " (1234, 'dangi', datetime.date(2022, 5, 20)),\n",
       " (1234, 'dangi', datetime.date(2022, 5, 20)),\n",
       " (5678, 'thakur', datetime.date(2022, 5, 20)),\n",
       " (9876, 'rajput', datetime.date(2022, 5, 20)),\n",
       " (987, 'singh', datetime.date(2022, 5, 20)),\n",
       " (6554, 'hindu', datetime.date(2022, 5, 20)),\n",
       " (1919, 'shatreya', datetime.date(2022, 5, 20)),\n",
       " (101, 'hindu', datetime.date(2022, 5, 20))]"
      ]
     },
     "execution_count": 61,
     "metadata": {},
     "output_type": "execute_result"
    }
   ],
   "source": [
    "cur=mydb.cursor()      #creating the cursor again  \n",
    "cur.execute('select * from test')    # this is for executing the process  for fetching the data from table   \n",
    "cur.fetchall()    # now finaly fetching data from table   "
   ]
  },
  {
   "cell_type": "code",
   "execution_count": 65,
   "id": "5b37a401",
   "metadata": {},
   "outputs": [
    {
     "name": "stdout",
     "output_type": "stream",
     "text": [
      "(1234, 'dangi', datetime.date(2022, 5, 19))\n",
      "(1234, 'dangi', datetime.date(2022, 5, 19))\n",
      "(1234, 'dangi', datetime.date(2022, 5, 20))\n",
      "(1234, 'dangi', datetime.date(2022, 5, 20))\n",
      "(5678, 'thakur', datetime.date(2022, 5, 20))\n",
      "(9876, 'rajput', datetime.date(2022, 5, 20))\n",
      "(987, 'singh', datetime.date(2022, 5, 20))\n",
      "(6554, 'hindu', datetime.date(2022, 5, 20))\n",
      "(1919, 'shatreya', datetime.date(2022, 5, 20))\n",
      "(101, 'hindu', datetime.date(2022, 5, 20))\n"
     ]
    }
   ],
   "source": [
    "#  i can also use for loop for printing data of every row one by one like \n",
    "cur1=mydb.cursor()       # creating new cursor from start of table \n",
    "cur1.execute('select * from test')    # we can create new cursor every time after adding data inside table for fetching the same data any time after \n",
    "\n",
    "for i in cur1.fetchall():\n",
    "    print(i)"
   ]
  },
  {
   "cell_type": "code",
   "execution_count": 66,
   "id": "69e9768f",
   "metadata": {},
   "outputs": [
    {
     "name": "stdout",
     "output_type": "stream",
     "text": [
      "(1234, 'dangi')\n",
      "(1234, 'dangi')\n",
      "(1234, 'dangi')\n",
      "(1234, 'dangi')\n",
      "(5678, 'thakur')\n",
      "(9876, 'rajput')\n",
      "(987, 'singh')\n",
      "(6554, 'hindu')\n",
      "(1919, 'shatreya')\n",
      "(101, 'hindu')\n"
     ]
    }
   ],
   "source": [
    "#  if i want to select only two colums then i can use \n",
    "cur=mydb.cursor()\n",
    "cur.execute('select x1,x2 from test')\n",
    "for i in cur.fetchall():\n",
    "    print(i)"
   ]
  },
  {
   "cell_type": "code",
   "execution_count": 67,
   "id": "20512507",
   "metadata": {},
   "outputs": [],
   "source": [
    "# how to show all of data in proper tabular format like\n",
    "#  for this we have to import liberary 'pandas' pandas is used for doing all kind fo file manupilations of all format files \n",
    "import pandas as pd"
   ]
  },
  {
   "cell_type": "code",
   "execution_count": 68,
   "id": "43619764",
   "metadata": {},
   "outputs": [
    {
     "data": {
      "text/plain": [
       "<mysql.connector.connection_cext.CMySQLConnection at 0x255e9feb190>"
      ]
     },
     "execution_count": 68,
     "metadata": {},
     "output_type": "execute_result"
    }
   ],
   "source": [
    "mydb   # this u can use for checking that connection is still there or not "
   ]
  },
  {
   "cell_type": "code",
   "execution_count": 69,
   "id": "264875d5",
   "metadata": {},
   "outputs": [
    {
     "name": "stderr",
     "output_type": "stream",
     "text": [
      "D:\\downloads\\lib\\site-packages\\pandas\\io\\sql.py:761: UserWarning: pandas only support SQLAlchemy connectable(engine/connection) ordatabase string URI or sqlite3 DBAPI2 connectionother DBAPI2 objects are not tested, please consider using SQLAlchemy\n",
      "  warnings.warn(\n"
     ]
    },
    {
     "data": {
      "text/html": [
       "<div>\n",
       "<style scoped>\n",
       "    .dataframe tbody tr th:only-of-type {\n",
       "        vertical-align: middle;\n",
       "    }\n",
       "\n",
       "    .dataframe tbody tr th {\n",
       "        vertical-align: top;\n",
       "    }\n",
       "\n",
       "    .dataframe thead th {\n",
       "        text-align: right;\n",
       "    }\n",
       "</style>\n",
       "<table border=\"1\" class=\"dataframe\">\n",
       "  <thead>\n",
       "    <tr style=\"text-align: right;\">\n",
       "      <th></th>\n",
       "      <th>x1</th>\n",
       "      <th>x2</th>\n",
       "      <th>x3</th>\n",
       "    </tr>\n",
       "  </thead>\n",
       "  <tbody>\n",
       "    <tr>\n",
       "      <th>0</th>\n",
       "      <td>1234</td>\n",
       "      <td>dangi</td>\n",
       "      <td>2022-05-19</td>\n",
       "    </tr>\n",
       "    <tr>\n",
       "      <th>1</th>\n",
       "      <td>1234</td>\n",
       "      <td>dangi</td>\n",
       "      <td>2022-05-19</td>\n",
       "    </tr>\n",
       "    <tr>\n",
       "      <th>2</th>\n",
       "      <td>1234</td>\n",
       "      <td>dangi</td>\n",
       "      <td>2022-05-20</td>\n",
       "    </tr>\n",
       "    <tr>\n",
       "      <th>3</th>\n",
       "      <td>1234</td>\n",
       "      <td>dangi</td>\n",
       "      <td>2022-05-20</td>\n",
       "    </tr>\n",
       "    <tr>\n",
       "      <th>4</th>\n",
       "      <td>5678</td>\n",
       "      <td>thakur</td>\n",
       "      <td>2022-05-20</td>\n",
       "    </tr>\n",
       "    <tr>\n",
       "      <th>5</th>\n",
       "      <td>9876</td>\n",
       "      <td>rajput</td>\n",
       "      <td>2022-05-20</td>\n",
       "    </tr>\n",
       "    <tr>\n",
       "      <th>6</th>\n",
       "      <td>987</td>\n",
       "      <td>singh</td>\n",
       "      <td>2022-05-20</td>\n",
       "    </tr>\n",
       "    <tr>\n",
       "      <th>7</th>\n",
       "      <td>6554</td>\n",
       "      <td>hindu</td>\n",
       "      <td>2022-05-20</td>\n",
       "    </tr>\n",
       "    <tr>\n",
       "      <th>8</th>\n",
       "      <td>1919</td>\n",
       "      <td>shatreya</td>\n",
       "      <td>2022-05-20</td>\n",
       "    </tr>\n",
       "    <tr>\n",
       "      <th>9</th>\n",
       "      <td>101</td>\n",
       "      <td>hindu</td>\n",
       "      <td>2022-05-20</td>\n",
       "    </tr>\n",
       "  </tbody>\n",
       "</table>\n",
       "</div>"
      ],
      "text/plain": [
       "     x1        x2          x3\n",
       "0  1234     dangi  2022-05-19\n",
       "1  1234     dangi  2022-05-19\n",
       "2  1234     dangi  2022-05-20\n",
       "3  1234     dangi  2022-05-20\n",
       "4  5678    thakur  2022-05-20\n",
       "5  9876    rajput  2022-05-20\n",
       "6   987     singh  2022-05-20\n",
       "7  6554     hindu  2022-05-20\n",
       "8  1919  shatreya  2022-05-20\n",
       "9   101     hindu  2022-05-20"
      ]
     },
     "execution_count": 69,
     "metadata": {},
     "output_type": "execute_result"
    }
   ],
   "source": [
    "pd.read_sql('select * from test',mydb)  # use function-- pd.read_sql('select * from test')  , also use 'select * from sachin.test'"
   ]
  },
  {
   "cell_type": "code",
   "execution_count": 71,
   "id": "25d63bc0",
   "metadata": {},
   "outputs": [
    {
     "name": "stderr",
     "output_type": "stream",
     "text": [
      "D:\\downloads\\lib\\site-packages\\pandas\\io\\sql.py:761: UserWarning: pandas only support SQLAlchemy connectable(engine/connection) ordatabase string URI or sqlite3 DBAPI2 connectionother DBAPI2 objects are not tested, please consider using SQLAlchemy\n",
      "  warnings.warn(\n"
     ]
    },
    {
     "data": {
      "text/html": [
       "<div>\n",
       "<style scoped>\n",
       "    .dataframe tbody tr th:only-of-type {\n",
       "        vertical-align: middle;\n",
       "    }\n",
       "\n",
       "    .dataframe tbody tr th {\n",
       "        vertical-align: top;\n",
       "    }\n",
       "\n",
       "    .dataframe thead th {\n",
       "        text-align: right;\n",
       "    }\n",
       "</style>\n",
       "<table border=\"1\" class=\"dataframe\">\n",
       "  <thead>\n",
       "    <tr style=\"text-align: right;\">\n",
       "      <th></th>\n",
       "      <th>x1</th>\n",
       "      <th>x2</th>\n",
       "    </tr>\n",
       "  </thead>\n",
       "  <tbody>\n",
       "    <tr>\n",
       "      <th>0</th>\n",
       "      <td>1234</td>\n",
       "      <td>dangi</td>\n",
       "    </tr>\n",
       "    <tr>\n",
       "      <th>1</th>\n",
       "      <td>1234</td>\n",
       "      <td>dangi</td>\n",
       "    </tr>\n",
       "    <tr>\n",
       "      <th>2</th>\n",
       "      <td>1234</td>\n",
       "      <td>dangi</td>\n",
       "    </tr>\n",
       "    <tr>\n",
       "      <th>3</th>\n",
       "      <td>1234</td>\n",
       "      <td>dangi</td>\n",
       "    </tr>\n",
       "    <tr>\n",
       "      <th>4</th>\n",
       "      <td>5678</td>\n",
       "      <td>thakur</td>\n",
       "    </tr>\n",
       "    <tr>\n",
       "      <th>5</th>\n",
       "      <td>9876</td>\n",
       "      <td>rajput</td>\n",
       "    </tr>\n",
       "    <tr>\n",
       "      <th>6</th>\n",
       "      <td>987</td>\n",
       "      <td>singh</td>\n",
       "    </tr>\n",
       "    <tr>\n",
       "      <th>7</th>\n",
       "      <td>6554</td>\n",
       "      <td>hindu</td>\n",
       "    </tr>\n",
       "    <tr>\n",
       "      <th>8</th>\n",
       "      <td>1919</td>\n",
       "      <td>shatreya</td>\n",
       "    </tr>\n",
       "    <tr>\n",
       "      <th>9</th>\n",
       "      <td>101</td>\n",
       "      <td>hindu</td>\n",
       "    </tr>\n",
       "  </tbody>\n",
       "</table>\n",
       "</div>"
      ],
      "text/plain": [
       "     x1        x2\n",
       "0  1234     dangi\n",
       "1  1234     dangi\n",
       "2  1234     dangi\n",
       "3  1234     dangi\n",
       "4  5678    thakur\n",
       "5  9876    rajput\n",
       "6   987     singh\n",
       "7  6554     hindu\n",
       "8  1919  shatreya\n",
       "9   101     hindu"
      ]
     },
     "execution_count": 71,
     "metadata": {},
     "output_type": "execute_result"
    }
   ],
   "source": [
    "#  we can also get data of only those colums which we want only like\n",
    "pd.read_sql('select x1,x2 from sachin.test',mydb)"
   ]
  },
  {
   "cell_type": "code",
   "execution_count": 77,
   "id": "e94d9347",
   "metadata": {},
   "outputs": [
    {
     "name": "stderr",
     "output_type": "stream",
     "text": [
      "D:\\downloads\\lib\\site-packages\\pandas\\io\\sql.py:761: UserWarning: pandas only support SQLAlchemy connectable(engine/connection) ordatabase string URI or sqlite3 DBAPI2 connectionother DBAPI2 objects are not tested, please consider using SQLAlchemy\n",
      "  warnings.warn(\n"
     ]
    }
   ],
   "source": [
    "# now we will dump all of data of any file into database using file itself and not in way we did above \n",
    "#  first we will save a tabular data inside a variable 'a' than i will create a csv format file to store that data like \n",
    "a=pd.read_sql('select x1,x2,x3 from sachin.test',mydb)"
   ]
  },
  {
   "cell_type": "code",
   "execution_count": 78,
   "id": "eb206b34",
   "metadata": {},
   "outputs": [],
   "source": [
    "#  cretaing csv format file for storing data availabe in variable 'a' like\n",
    "a.to_csv('mydata.csv')"
   ]
  },
  {
   "cell_type": "code",
   "execution_count": 79,
   "id": "36fcee7e",
   "metadata": {},
   "outputs": [],
   "source": [
    "#  now u can check file will be created inside same folder in which this notebook is running "
   ]
  },
  {
   "cell_type": "code",
   "execution_count": 80,
   "id": "1d3122b4",
   "metadata": {},
   "outputs": [
    {
     "data": {
      "text/plain": [
       "<mysql.connector.connection_cext.CMySQLConnection at 0x255e9feb190>"
      ]
     },
     "execution_count": 80,
     "metadata": {},
     "output_type": "execute_result"
    }
   ],
   "source": [
    "mydb   # just checking connection is still there or not ,so connectio is there"
   ]
  },
  {
   "cell_type": "code",
   "execution_count": 84,
   "id": "ddc3b85c",
   "metadata": {
    "collapsed": true
   },
   "outputs": [
    {
     "ename": "ProgrammingError",
     "evalue": "1050 (42S01): Table 'mydata' already exists",
     "output_type": "error",
     "traceback": [
      "\u001b[1;31m---------------------------------------------------------------------------\u001b[0m",
      "\u001b[1;31mMySQLInterfaceError\u001b[0m                       Traceback (most recent call last)",
      "File \u001b[1;32mD:\\downloads\\lib\\site-packages\\mysql\\connector\\connection_cext.py:535\u001b[0m, in \u001b[0;36mCMySQLConnection.cmd_query\u001b[1;34m(self, query, raw, buffered, raw_as_string)\u001b[0m\n\u001b[0;32m    534\u001b[0m         query \u001b[38;5;241m=\u001b[39m query\u001b[38;5;241m.\u001b[39mencode(\u001b[38;5;124m'\u001b[39m\u001b[38;5;124mutf-8\u001b[39m\u001b[38;5;124m'\u001b[39m)\n\u001b[1;32m--> 535\u001b[0m     \u001b[38;5;28;43mself\u001b[39;49m\u001b[38;5;241;43m.\u001b[39;49m\u001b[43m_cmysql\u001b[49m\u001b[38;5;241;43m.\u001b[39;49m\u001b[43mquery\u001b[49m\u001b[43m(\u001b[49m\u001b[43mquery\u001b[49m\u001b[43m,\u001b[49m\n\u001b[0;32m    536\u001b[0m \u001b[43m                       \u001b[49m\u001b[43mraw\u001b[49m\u001b[38;5;241;43m=\u001b[39;49m\u001b[43mraw\u001b[49m\u001b[43m,\u001b[49m\u001b[43m \u001b[49m\u001b[43mbuffered\u001b[49m\u001b[38;5;241;43m=\u001b[39;49m\u001b[43mbuffered\u001b[49m\u001b[43m,\u001b[49m\n\u001b[0;32m    537\u001b[0m \u001b[43m                       \u001b[49m\u001b[43mraw_as_string\u001b[49m\u001b[38;5;241;43m=\u001b[39;49m\u001b[43mraw_as_string\u001b[49m\u001b[43m,\u001b[49m\n\u001b[0;32m    538\u001b[0m \u001b[43m                       \u001b[49m\u001b[43mquery_attrs\u001b[49m\u001b[38;5;241;43m=\u001b[39;49m\u001b[38;5;28;43mself\u001b[39;49m\u001b[38;5;241;43m.\u001b[39;49m\u001b[43m_query_attrs\u001b[49m\u001b[43m)\u001b[49m\n\u001b[0;32m    539\u001b[0m \u001b[38;5;28;01mexcept\u001b[39;00m MySQLInterfaceError \u001b[38;5;28;01mas\u001b[39;00m exc:\n",
      "\u001b[1;31mMySQLInterfaceError\u001b[0m: Table 'mydata' already exists",
      "\nDuring handling of the above exception, another exception occurred:\n",
      "\u001b[1;31mProgrammingError\u001b[0m                          Traceback (most recent call last)",
      "Input \u001b[1;32mIn [84]\u001b[0m, in \u001b[0;36m<cell line: 3>\u001b[1;34m()\u001b[0m\n\u001b[0;32m      1\u001b[0m \u001b[38;5;66;03m# creating another table in same database with name 'mydata' like\u001b[39;00m\n\u001b[0;32m      2\u001b[0m cur\u001b[38;5;241m=\u001b[39mmydb\u001b[38;5;241m.\u001b[39mcursor()\n\u001b[1;32m----> 3\u001b[0m \u001b[43mcur\u001b[49m\u001b[38;5;241;43m.\u001b[39;49m\u001b[43mexecute\u001b[49m\u001b[43m(\u001b[49m\u001b[38;5;124;43m'\u001b[39;49m\u001b[38;5;124;43mcreate table mydata(n1 int(5),n2 varchar(20),n3 date)\u001b[39;49m\u001b[38;5;124;43m'\u001b[39;49m\u001b[43m)\u001b[49m\n",
      "File \u001b[1;32mD:\\downloads\\lib\\site-packages\\mysql\\connector\\cursor_cext.py:269\u001b[0m, in \u001b[0;36mCMySQLCursor.execute\u001b[1;34m(self, operation, params, multi)\u001b[0m\n\u001b[0;32m    265\u001b[0m             \u001b[38;5;28;01mraise\u001b[39;00m errors\u001b[38;5;241m.\u001b[39mProgrammingError(\n\u001b[0;32m    266\u001b[0m                 \u001b[38;5;124m\"\u001b[39m\u001b[38;5;124mNot all parameters were used in the SQL statement\u001b[39m\u001b[38;5;124m\"\u001b[39m)\n\u001b[0;32m    268\u001b[0m \u001b[38;5;28;01mtry\u001b[39;00m:\n\u001b[1;32m--> 269\u001b[0m     result \u001b[38;5;241m=\u001b[39m \u001b[38;5;28;43mself\u001b[39;49m\u001b[38;5;241;43m.\u001b[39;49m\u001b[43m_cnx\u001b[49m\u001b[38;5;241;43m.\u001b[39;49m\u001b[43mcmd_query\u001b[49m\u001b[43m(\u001b[49m\u001b[43mstmt\u001b[49m\u001b[43m,\u001b[49m\u001b[43m \u001b[49m\u001b[43mraw\u001b[49m\u001b[38;5;241;43m=\u001b[39;49m\u001b[38;5;28;43mself\u001b[39;49m\u001b[38;5;241;43m.\u001b[39;49m\u001b[43m_raw\u001b[49m\u001b[43m,\u001b[49m\n\u001b[0;32m    270\u001b[0m \u001b[43m                                 \u001b[49m\u001b[43mbuffered\u001b[49m\u001b[38;5;241;43m=\u001b[39;49m\u001b[38;5;28;43mself\u001b[39;49m\u001b[38;5;241;43m.\u001b[39;49m\u001b[43m_buffered\u001b[49m\u001b[43m,\u001b[49m\n\u001b[0;32m    271\u001b[0m \u001b[43m                                 \u001b[49m\u001b[43mraw_as_string\u001b[49m\u001b[38;5;241;43m=\u001b[39;49m\u001b[38;5;28;43mself\u001b[39;49m\u001b[38;5;241;43m.\u001b[39;49m\u001b[43m_raw_as_string\u001b[49m\u001b[43m)\u001b[49m\n\u001b[0;32m    272\u001b[0m \u001b[38;5;28;01mexcept\u001b[39;00m MySQLInterfaceError \u001b[38;5;28;01mas\u001b[39;00m exc:\n\u001b[0;32m    273\u001b[0m     \u001b[38;5;28;01mraise\u001b[39;00m errors\u001b[38;5;241m.\u001b[39mget_mysql_exception(msg\u001b[38;5;241m=\u001b[39mexc\u001b[38;5;241m.\u001b[39mmsg, errno\u001b[38;5;241m=\u001b[39mexc\u001b[38;5;241m.\u001b[39merrno,\n\u001b[0;32m    274\u001b[0m                                      sqlstate\u001b[38;5;241m=\u001b[39mexc\u001b[38;5;241m.\u001b[39msqlstate)\n",
      "File \u001b[1;32mD:\\downloads\\lib\\site-packages\\mysql\\connector\\connection_cext.py:540\u001b[0m, in \u001b[0;36mCMySQLConnection.cmd_query\u001b[1;34m(self, query, raw, buffered, raw_as_string)\u001b[0m\n\u001b[0;32m    535\u001b[0m     \u001b[38;5;28mself\u001b[39m\u001b[38;5;241m.\u001b[39m_cmysql\u001b[38;5;241m.\u001b[39mquery(query,\n\u001b[0;32m    536\u001b[0m                        raw\u001b[38;5;241m=\u001b[39mraw, buffered\u001b[38;5;241m=\u001b[39mbuffered,\n\u001b[0;32m    537\u001b[0m                        raw_as_string\u001b[38;5;241m=\u001b[39mraw_as_string,\n\u001b[0;32m    538\u001b[0m                        query_attrs\u001b[38;5;241m=\u001b[39m\u001b[38;5;28mself\u001b[39m\u001b[38;5;241m.\u001b[39m_query_attrs)\n\u001b[0;32m    539\u001b[0m \u001b[38;5;28;01mexcept\u001b[39;00m MySQLInterfaceError \u001b[38;5;28;01mas\u001b[39;00m exc:\n\u001b[1;32m--> 540\u001b[0m     \u001b[38;5;28;01mraise\u001b[39;00m errors\u001b[38;5;241m.\u001b[39mget_mysql_exception(exc\u001b[38;5;241m.\u001b[39merrno, msg\u001b[38;5;241m=\u001b[39mexc\u001b[38;5;241m.\u001b[39mmsg,\n\u001b[0;32m    541\u001b[0m                                      sqlstate\u001b[38;5;241m=\u001b[39mexc\u001b[38;5;241m.\u001b[39msqlstate)\n\u001b[0;32m    542\u001b[0m \u001b[38;5;28;01mexcept\u001b[39;00m \u001b[38;5;167;01mAttributeError\u001b[39;00m:\n\u001b[0;32m    543\u001b[0m     \u001b[38;5;28;01mif\u001b[39;00m \u001b[38;5;28mself\u001b[39m\u001b[38;5;241m.\u001b[39m_unix_socket:\n",
      "\u001b[1;31mProgrammingError\u001b[0m: 1050 (42S01): Table 'mydata' already exists"
     ]
    }
   ],
   "source": [
    "# creating another table in same database with name 'mydata' like\n",
    "cur=mydb.cursor()\n",
    "cur.execute('create table mydata(n1 int(5),n2 varchar(20),n3 date)')\n"
   ]
  },
  {
   "cell_type": "code",
   "execution_count": 85,
   "id": "ae20b52d",
   "metadata": {},
   "outputs": [
    {
     "data": {
      "text/html": [
       "<div>\n",
       "<style scoped>\n",
       "    .dataframe tbody tr th:only-of-type {\n",
       "        vertical-align: middle;\n",
       "    }\n",
       "\n",
       "    .dataframe tbody tr th {\n",
       "        vertical-align: top;\n",
       "    }\n",
       "\n",
       "    .dataframe thead th {\n",
       "        text-align: right;\n",
       "    }\n",
       "</style>\n",
       "<table border=\"1\" class=\"dataframe\">\n",
       "  <thead>\n",
       "    <tr style=\"text-align: right;\">\n",
       "      <th></th>\n",
       "      <th>Unnamed: 0</th>\n",
       "      <th>x1</th>\n",
       "      <th>x2</th>\n",
       "      <th>x3</th>\n",
       "    </tr>\n",
       "  </thead>\n",
       "  <tbody>\n",
       "    <tr>\n",
       "      <th>0</th>\n",
       "      <td>0</td>\n",
       "      <td>1234</td>\n",
       "      <td>dangi</td>\n",
       "      <td>2022-05-19</td>\n",
       "    </tr>\n",
       "    <tr>\n",
       "      <th>1</th>\n",
       "      <td>1</td>\n",
       "      <td>1234</td>\n",
       "      <td>dangi</td>\n",
       "      <td>2022-05-19</td>\n",
       "    </tr>\n",
       "    <tr>\n",
       "      <th>2</th>\n",
       "      <td>2</td>\n",
       "      <td>1234</td>\n",
       "      <td>dangi</td>\n",
       "      <td>2022-05-20</td>\n",
       "    </tr>\n",
       "    <tr>\n",
       "      <th>3</th>\n",
       "      <td>3</td>\n",
       "      <td>1234</td>\n",
       "      <td>dangi</td>\n",
       "      <td>2022-05-20</td>\n",
       "    </tr>\n",
       "    <tr>\n",
       "      <th>4</th>\n",
       "      <td>4</td>\n",
       "      <td>5678</td>\n",
       "      <td>thakur</td>\n",
       "      <td>2022-05-20</td>\n",
       "    </tr>\n",
       "    <tr>\n",
       "      <th>5</th>\n",
       "      <td>5</td>\n",
       "      <td>9876</td>\n",
       "      <td>rajput</td>\n",
       "      <td>2022-05-20</td>\n",
       "    </tr>\n",
       "    <tr>\n",
       "      <th>6</th>\n",
       "      <td>6</td>\n",
       "      <td>987</td>\n",
       "      <td>singh</td>\n",
       "      <td>2022-05-20</td>\n",
       "    </tr>\n",
       "    <tr>\n",
       "      <th>7</th>\n",
       "      <td>7</td>\n",
       "      <td>6554</td>\n",
       "      <td>hindu</td>\n",
       "      <td>2022-05-20</td>\n",
       "    </tr>\n",
       "    <tr>\n",
       "      <th>8</th>\n",
       "      <td>8</td>\n",
       "      <td>1919</td>\n",
       "      <td>shatreya</td>\n",
       "      <td>2022-05-20</td>\n",
       "    </tr>\n",
       "    <tr>\n",
       "      <th>9</th>\n",
       "      <td>9</td>\n",
       "      <td>101</td>\n",
       "      <td>hindu</td>\n",
       "      <td>2022-05-20</td>\n",
       "    </tr>\n",
       "  </tbody>\n",
       "</table>\n",
       "</div>"
      ],
      "text/plain": [
       "   Unnamed: 0    x1        x2          x3\n",
       "0           0  1234     dangi  2022-05-19\n",
       "1           1  1234     dangi  2022-05-19\n",
       "2           2  1234     dangi  2022-05-20\n",
       "3           3  1234     dangi  2022-05-20\n",
       "4           4  5678    thakur  2022-05-20\n",
       "5           5  9876    rajput  2022-05-20\n",
       "6           6   987     singh  2022-05-20\n",
       "7           7  6554     hindu  2022-05-20\n",
       "8           8  1919  shatreya  2022-05-20\n",
       "9           9   101     hindu  2022-05-20"
      ]
     },
     "execution_count": 85,
     "metadata": {},
     "output_type": "execute_result"
    }
   ],
   "source": [
    "#  now for dumping data of mydata.csv file available in my system , i have to first read that data than write that data inside mydata table \n",
    "data=pd.read_csv('mydata.csv')   # reading the data of csv file & than storing it inside variable 'data'\n",
    "data"
   ]
  },
  {
   "cell_type": "code",
   "execution_count": 87,
   "id": "3885ae18",
   "metadata": {},
   "outputs": [
    {
     "ename": "DatabaseError",
     "evalue": "Execution failed on sql 'SELECT name FROM sqlite_master WHERE type='table' AND name=?;': Not all parameters were used in the SQL statement",
     "output_type": "error",
     "traceback": [
      "\u001b[1;31m---------------------------------------------------------------------------\u001b[0m",
      "\u001b[1;31mProgrammingError\u001b[0m                          Traceback (most recent call last)",
      "File \u001b[1;32mD:\\downloads\\lib\\site-packages\\pandas\\io\\sql.py:2020\u001b[0m, in \u001b[0;36mSQLiteDatabase.execute\u001b[1;34m(self, *args, **kwargs)\u001b[0m\n\u001b[0;32m   2019\u001b[0m \u001b[38;5;28;01mtry\u001b[39;00m:\n\u001b[1;32m-> 2020\u001b[0m     cur\u001b[38;5;241m.\u001b[39mexecute(\u001b[38;5;241m*\u001b[39margs, \u001b[38;5;241m*\u001b[39m\u001b[38;5;241m*\u001b[39mkwargs)\n\u001b[0;32m   2021\u001b[0m     \u001b[38;5;28;01mreturn\u001b[39;00m cur\n",
      "File \u001b[1;32mD:\\downloads\\lib\\site-packages\\mysql\\connector\\cursor_cext.py:265\u001b[0m, in \u001b[0;36mCMySQLCursor.execute\u001b[1;34m(self, operation, params, multi)\u001b[0m\n\u001b[0;32m    264\u001b[0m         \u001b[38;5;28;01mif\u001b[39;00m psub\u001b[38;5;241m.\u001b[39mremaining \u001b[38;5;241m!=\u001b[39m \u001b[38;5;241m0\u001b[39m:\n\u001b[1;32m--> 265\u001b[0m             \u001b[38;5;28;01mraise\u001b[39;00m errors\u001b[38;5;241m.\u001b[39mProgrammingError(\n\u001b[0;32m    266\u001b[0m                 \u001b[38;5;124m\"\u001b[39m\u001b[38;5;124mNot all parameters were used in the SQL statement\u001b[39m\u001b[38;5;124m\"\u001b[39m)\n\u001b[0;32m    268\u001b[0m \u001b[38;5;28;01mtry\u001b[39;00m:\n",
      "\u001b[1;31mProgrammingError\u001b[0m: Not all parameters were used in the SQL statement",
      "\nThe above exception was the direct cause of the following exception:\n",
      "\u001b[1;31mDatabaseError\u001b[0m                             Traceback (most recent call last)",
      "Input \u001b[1;32mIn [87]\u001b[0m, in \u001b[0;36m<cell line: 2>\u001b[1;34m()\u001b[0m\n\u001b[0;32m      1\u001b[0m \u001b[38;5;66;03m# now dumping data available inside variable 'data' into table created inside database 'sachin' like\u001b[39;00m\n\u001b[1;32m----> 2\u001b[0m \u001b[43mdata\u001b[49m\u001b[38;5;241;43m.\u001b[39;49m\u001b[43mto_sql\u001b[49m\u001b[43m(\u001b[49m\u001b[38;5;124;43m'\u001b[39;49m\u001b[38;5;124;43mmydata\u001b[39;49m\u001b[38;5;124;43m'\u001b[39;49m\u001b[43m,\u001b[49m\u001b[43mmydb\u001b[49m\u001b[43m)\u001b[49m\n",
      "File \u001b[1;32mD:\\downloads\\lib\\site-packages\\pandas\\core\\generic.py:2951\u001b[0m, in \u001b[0;36mNDFrame.to_sql\u001b[1;34m(self, name, con, schema, if_exists, index, index_label, chunksize, dtype, method)\u001b[0m\n\u001b[0;32m   2794\u001b[0m \u001b[38;5;124;03m\"\"\"\u001b[39;00m\n\u001b[0;32m   2795\u001b[0m \u001b[38;5;124;03mWrite records stored in a DataFrame to a SQL database.\u001b[39;00m\n\u001b[0;32m   2796\u001b[0m \n\u001b[1;32m   (...)\u001b[0m\n\u001b[0;32m   2947\u001b[0m \u001b[38;5;124;03m[(1,), (None,), (2,)]\u001b[39;00m\n\u001b[0;32m   2948\u001b[0m \u001b[38;5;124;03m\"\"\"\u001b[39;00m  \u001b[38;5;66;03m# noqa:E501\u001b[39;00m\n\u001b[0;32m   2949\u001b[0m \u001b[38;5;28;01mfrom\u001b[39;00m \u001b[38;5;21;01mpandas\u001b[39;00m\u001b[38;5;21;01m.\u001b[39;00m\u001b[38;5;21;01mio\u001b[39;00m \u001b[38;5;28;01mimport\u001b[39;00m sql\n\u001b[1;32m-> 2951\u001b[0m \u001b[38;5;28;01mreturn\u001b[39;00m \u001b[43msql\u001b[49m\u001b[38;5;241;43m.\u001b[39;49m\u001b[43mto_sql\u001b[49m\u001b[43m(\u001b[49m\n\u001b[0;32m   2952\u001b[0m \u001b[43m    \u001b[49m\u001b[38;5;28;43mself\u001b[39;49m\u001b[43m,\u001b[49m\n\u001b[0;32m   2953\u001b[0m \u001b[43m    \u001b[49m\u001b[43mname\u001b[49m\u001b[43m,\u001b[49m\n\u001b[0;32m   2954\u001b[0m \u001b[43m    \u001b[49m\u001b[43mcon\u001b[49m\u001b[43m,\u001b[49m\n\u001b[0;32m   2955\u001b[0m \u001b[43m    \u001b[49m\u001b[43mschema\u001b[49m\u001b[38;5;241;43m=\u001b[39;49m\u001b[43mschema\u001b[49m\u001b[43m,\u001b[49m\n\u001b[0;32m   2956\u001b[0m \u001b[43m    \u001b[49m\u001b[43mif_exists\u001b[49m\u001b[38;5;241;43m=\u001b[39;49m\u001b[43mif_exists\u001b[49m\u001b[43m,\u001b[49m\n\u001b[0;32m   2957\u001b[0m \u001b[43m    \u001b[49m\u001b[43mindex\u001b[49m\u001b[38;5;241;43m=\u001b[39;49m\u001b[43mindex\u001b[49m\u001b[43m,\u001b[49m\n\u001b[0;32m   2958\u001b[0m \u001b[43m    \u001b[49m\u001b[43mindex_label\u001b[49m\u001b[38;5;241;43m=\u001b[39;49m\u001b[43mindex_label\u001b[49m\u001b[43m,\u001b[49m\n\u001b[0;32m   2959\u001b[0m \u001b[43m    \u001b[49m\u001b[43mchunksize\u001b[49m\u001b[38;5;241;43m=\u001b[39;49m\u001b[43mchunksize\u001b[49m\u001b[43m,\u001b[49m\n\u001b[0;32m   2960\u001b[0m \u001b[43m    \u001b[49m\u001b[43mdtype\u001b[49m\u001b[38;5;241;43m=\u001b[39;49m\u001b[43mdtype\u001b[49m\u001b[43m,\u001b[49m\n\u001b[0;32m   2961\u001b[0m \u001b[43m    \u001b[49m\u001b[43mmethod\u001b[49m\u001b[38;5;241;43m=\u001b[39;49m\u001b[43mmethod\u001b[49m\u001b[43m,\u001b[49m\n\u001b[0;32m   2962\u001b[0m \u001b[43m\u001b[49m\u001b[43m)\u001b[49m\n",
      "File \u001b[1;32mD:\\downloads\\lib\\site-packages\\pandas\\io\\sql.py:697\u001b[0m, in \u001b[0;36mto_sql\u001b[1;34m(frame, name, con, schema, if_exists, index, index_label, chunksize, dtype, method, engine, **engine_kwargs)\u001b[0m\n\u001b[0;32m    692\u001b[0m \u001b[38;5;28;01melif\u001b[39;00m \u001b[38;5;129;01mnot\u001b[39;00m \u001b[38;5;28misinstance\u001b[39m(frame, DataFrame):\n\u001b[0;32m    693\u001b[0m     \u001b[38;5;28;01mraise\u001b[39;00m \u001b[38;5;167;01mNotImplementedError\u001b[39;00m(\n\u001b[0;32m    694\u001b[0m         \u001b[38;5;124m\"\u001b[39m\u001b[38;5;124m'\u001b[39m\u001b[38;5;124mframe\u001b[39m\u001b[38;5;124m'\u001b[39m\u001b[38;5;124m argument should be either a Series or a DataFrame\u001b[39m\u001b[38;5;124m\"\u001b[39m\n\u001b[0;32m    695\u001b[0m     )\n\u001b[1;32m--> 697\u001b[0m \u001b[38;5;28;01mreturn\u001b[39;00m pandas_sql\u001b[38;5;241m.\u001b[39mto_sql(\n\u001b[0;32m    698\u001b[0m     frame,\n\u001b[0;32m    699\u001b[0m     name,\n\u001b[0;32m    700\u001b[0m     if_exists\u001b[38;5;241m=\u001b[39mif_exists,\n\u001b[0;32m    701\u001b[0m     index\u001b[38;5;241m=\u001b[39mindex,\n\u001b[0;32m    702\u001b[0m     index_label\u001b[38;5;241m=\u001b[39mindex_label,\n\u001b[0;32m    703\u001b[0m     schema\u001b[38;5;241m=\u001b[39mschema,\n\u001b[0;32m    704\u001b[0m     chunksize\u001b[38;5;241m=\u001b[39mchunksize,\n\u001b[0;32m    705\u001b[0m     dtype\u001b[38;5;241m=\u001b[39mdtype,\n\u001b[0;32m    706\u001b[0m     method\u001b[38;5;241m=\u001b[39mmethod,\n\u001b[0;32m    707\u001b[0m     engine\u001b[38;5;241m=\u001b[39mengine,\n\u001b[0;32m    708\u001b[0m     \u001b[38;5;241m*\u001b[39m\u001b[38;5;241m*\u001b[39mengine_kwargs,\n\u001b[0;32m    709\u001b[0m )\n",
      "File \u001b[1;32mD:\\downloads\\lib\\site-packages\\pandas\\io\\sql.py:2189\u001b[0m, in \u001b[0;36mSQLiteDatabase.to_sql\u001b[1;34m(self, frame, name, if_exists, index, index_label, schema, chunksize, dtype, method, **kwargs)\u001b[0m\n\u001b[0;32m   2178\u001b[0m             \u001b[38;5;28;01mraise\u001b[39;00m \u001b[38;5;167;01mValueError\u001b[39;00m(\u001b[38;5;124mf\u001b[39m\u001b[38;5;124m\"\u001b[39m\u001b[38;5;132;01m{\u001b[39;00mcol\u001b[38;5;132;01m}\u001b[39;00m\u001b[38;5;124m (\u001b[39m\u001b[38;5;132;01m{\u001b[39;00mmy_type\u001b[38;5;132;01m}\u001b[39;00m\u001b[38;5;124m) not a string\u001b[39m\u001b[38;5;124m\"\u001b[39m)\n\u001b[0;32m   2180\u001b[0m table \u001b[38;5;241m=\u001b[39m SQLiteTable(\n\u001b[0;32m   2181\u001b[0m     name,\n\u001b[0;32m   2182\u001b[0m     \u001b[38;5;28mself\u001b[39m,\n\u001b[1;32m   (...)\u001b[0m\n\u001b[0;32m   2187\u001b[0m     dtype\u001b[38;5;241m=\u001b[39mdtype,\n\u001b[0;32m   2188\u001b[0m )\n\u001b[1;32m-> 2189\u001b[0m \u001b[43mtable\u001b[49m\u001b[38;5;241;43m.\u001b[39;49m\u001b[43mcreate\u001b[49m\u001b[43m(\u001b[49m\u001b[43m)\u001b[49m\n\u001b[0;32m   2190\u001b[0m \u001b[38;5;28;01mreturn\u001b[39;00m table\u001b[38;5;241m.\u001b[39minsert(chunksize, method)\n",
      "File \u001b[1;32mD:\\downloads\\lib\\site-packages\\pandas\\io\\sql.py:831\u001b[0m, in \u001b[0;36mSQLTable.create\u001b[1;34m(self)\u001b[0m\n\u001b[0;32m    830\u001b[0m \u001b[38;5;28;01mdef\u001b[39;00m \u001b[38;5;21mcreate\u001b[39m(\u001b[38;5;28mself\u001b[39m):\n\u001b[1;32m--> 831\u001b[0m     \u001b[38;5;28;01mif\u001b[39;00m \u001b[38;5;28;43mself\u001b[39;49m\u001b[38;5;241;43m.\u001b[39;49m\u001b[43mexists\u001b[49m\u001b[43m(\u001b[49m\u001b[43m)\u001b[49m:\n\u001b[0;32m    832\u001b[0m         \u001b[38;5;28;01mif\u001b[39;00m \u001b[38;5;28mself\u001b[39m\u001b[38;5;241m.\u001b[39mif_exists \u001b[38;5;241m==\u001b[39m \u001b[38;5;124m\"\u001b[39m\u001b[38;5;124mfail\u001b[39m\u001b[38;5;124m\"\u001b[39m:\n\u001b[0;32m    833\u001b[0m             \u001b[38;5;28;01mraise\u001b[39;00m \u001b[38;5;167;01mValueError\u001b[39;00m(\u001b[38;5;124mf\u001b[39m\u001b[38;5;124m\"\u001b[39m\u001b[38;5;124mTable \u001b[39m\u001b[38;5;124m'\u001b[39m\u001b[38;5;132;01m{\u001b[39;00m\u001b[38;5;28mself\u001b[39m\u001b[38;5;241m.\u001b[39mname\u001b[38;5;132;01m}\u001b[39;00m\u001b[38;5;124m'\u001b[39m\u001b[38;5;124m already exists.\u001b[39m\u001b[38;5;124m\"\u001b[39m)\n",
      "File \u001b[1;32mD:\\downloads\\lib\\site-packages\\pandas\\io\\sql.py:815\u001b[0m, in \u001b[0;36mSQLTable.exists\u001b[1;34m(self)\u001b[0m\n\u001b[0;32m    814\u001b[0m \u001b[38;5;28;01mdef\u001b[39;00m \u001b[38;5;21mexists\u001b[39m(\u001b[38;5;28mself\u001b[39m):\n\u001b[1;32m--> 815\u001b[0m     \u001b[38;5;28;01mreturn\u001b[39;00m \u001b[38;5;28;43mself\u001b[39;49m\u001b[38;5;241;43m.\u001b[39;49m\u001b[43mpd_sql\u001b[49m\u001b[38;5;241;43m.\u001b[39;49m\u001b[43mhas_table\u001b[49m\u001b[43m(\u001b[49m\u001b[38;5;28;43mself\u001b[39;49m\u001b[38;5;241;43m.\u001b[39;49m\u001b[43mname\u001b[49m\u001b[43m,\u001b[49m\u001b[43m \u001b[49m\u001b[38;5;28;43mself\u001b[39;49m\u001b[38;5;241;43m.\u001b[39;49m\u001b[43mschema\u001b[49m\u001b[43m)\u001b[49m\n",
      "File \u001b[1;32mD:\\downloads\\lib\\site-packages\\pandas\\io\\sql.py:2197\u001b[0m, in \u001b[0;36mSQLiteDatabase.has_table\u001b[1;34m(self, name, schema)\u001b[0m\n\u001b[0;32m   2194\u001b[0m wld \u001b[38;5;241m=\u001b[39m \u001b[38;5;124m\"\u001b[39m\u001b[38;5;124m?\u001b[39m\u001b[38;5;124m\"\u001b[39m\n\u001b[0;32m   2195\u001b[0m query \u001b[38;5;241m=\u001b[39m \u001b[38;5;124mf\u001b[39m\u001b[38;5;124m\"\u001b[39m\u001b[38;5;124mSELECT name FROM sqlite_master WHERE type=\u001b[39m\u001b[38;5;124m'\u001b[39m\u001b[38;5;124mtable\u001b[39m\u001b[38;5;124m'\u001b[39m\u001b[38;5;124m AND name=\u001b[39m\u001b[38;5;132;01m{\u001b[39;00mwld\u001b[38;5;132;01m}\u001b[39;00m\u001b[38;5;124m;\u001b[39m\u001b[38;5;124m\"\u001b[39m\n\u001b[1;32m-> 2197\u001b[0m \u001b[38;5;28;01mreturn\u001b[39;00m \u001b[38;5;28mlen\u001b[39m(\u001b[38;5;28;43mself\u001b[39;49m\u001b[38;5;241;43m.\u001b[39;49m\u001b[43mexecute\u001b[49m\u001b[43m(\u001b[49m\u001b[43mquery\u001b[49m\u001b[43m,\u001b[49m\u001b[43m \u001b[49m\u001b[43m[\u001b[49m\u001b[43mname\u001b[49m\u001b[43m]\u001b[49m\u001b[43m)\u001b[49m\u001b[38;5;241m.\u001b[39mfetchall()) \u001b[38;5;241m>\u001b[39m \u001b[38;5;241m0\u001b[39m\n",
      "File \u001b[1;32mD:\\downloads\\lib\\site-packages\\pandas\\io\\sql.py:2032\u001b[0m, in \u001b[0;36mSQLiteDatabase.execute\u001b[1;34m(self, *args, **kwargs)\u001b[0m\n\u001b[0;32m   2029\u001b[0m     \u001b[38;5;28;01mraise\u001b[39;00m ex \u001b[38;5;28;01mfrom\u001b[39;00m \u001b[38;5;21;01minner_exc\u001b[39;00m\n\u001b[0;32m   2031\u001b[0m ex \u001b[38;5;241m=\u001b[39m DatabaseError(\u001b[38;5;124mf\u001b[39m\u001b[38;5;124m\"\u001b[39m\u001b[38;5;124mExecution failed on sql \u001b[39m\u001b[38;5;124m'\u001b[39m\u001b[38;5;132;01m{\u001b[39;00margs[\u001b[38;5;241m0\u001b[39m]\u001b[38;5;132;01m}\u001b[39;00m\u001b[38;5;124m'\u001b[39m\u001b[38;5;124m: \u001b[39m\u001b[38;5;132;01m{\u001b[39;00mexc\u001b[38;5;132;01m}\u001b[39;00m\u001b[38;5;124m\"\u001b[39m)\n\u001b[1;32m-> 2032\u001b[0m \u001b[38;5;28;01mraise\u001b[39;00m ex \u001b[38;5;28;01mfrom\u001b[39;00m \u001b[38;5;21;01mexc\u001b[39;00m\n",
      "\u001b[1;31mDatabaseError\u001b[0m: Execution failed on sql 'SELECT name FROM sqlite_master WHERE type='table' AND name=?;': Not all parameters were used in the SQL statement"
     ]
    }
   ],
   "source": [
    "# now dumping data available inside variable 'data' into table created inside database 'sachin' like\n",
    "data.to_sql('mydata',mydb)"
   ]
  },
  {
   "cell_type": "code",
   "execution_count": 91,
   "id": "34114ffd",
   "metadata": {},
   "outputs": [],
   "source": [
    "#  some error is comming in executing this boz there is some mismatching in parametrs b/w csv file and sql table inside sachin database"
   ]
  },
  {
   "cell_type": "code",
   "execution_count": 93,
   "id": "74ab4c9e",
   "metadata": {},
   "outputs": [],
   "source": [
    "#  how to delete some data from table \n",
    "# deleting 1234 from column x1 like\n",
    "cur.execute('delete from test where x1=1234')\n",
    "mydb.commit()    # we can check in sql workbench that every row containing x1=1234  is deleted  "
   ]
  },
  {
   "cell_type": "code",
   "execution_count": 95,
   "id": "96a79877",
   "metadata": {},
   "outputs": [],
   "source": [
    "# how to update table of any database \n",
    "cur.execute('''update test set x1=3211, x2='dangi' where x1=5678''')\n",
    "mydb.commit()"
   ]
  },
  {
   "cell_type": "code",
   "execution_count": 96,
   "id": "5be146bb",
   "metadata": {},
   "outputs": [],
   "source": [
    "#  now u can check that values are updated in table "
   ]
  },
  {
   "cell_type": "code",
   "execution_count": 97,
   "id": "a56e3335",
   "metadata": {},
   "outputs": [],
   "source": [
    "# for using mongo DB we have to install 'pymongo' if shows error while importing but import is ok not showing any error than no need to install like same what we did in case of 'mysql' importing mysql connector and than setting up the connection b/w two"
   ]
  },
  {
   "cell_type": "code",
   "execution_count": 100,
   "id": "c7a30fe6",
   "metadata": {},
   "outputs": [
    {
     "name": "stdout",
     "output_type": "stream",
     "text": [
      "Collecting pymongo\n",
      "  Downloading pymongo-4.1.1-cp39-cp39-win_amd64.whl (365 kB)\n",
      "Installing collected packages: pymongo\n",
      "Successfully installed pymongo-4.1.1\n"
     ]
    }
   ],
   "source": [
    "!pip install pymongo     # installing module pymongo for working with mongo DB database "
   ]
  },
  {
   "cell_type": "code",
   "execution_count": 3,
   "id": "0c9fb55c",
   "metadata": {},
   "outputs": [
    {
     "data": {
      "text/plain": [
       "MongoClient(host=['localhost:27017'], document_class=dict, tz_aware=False, connect=True)"
      ]
     },
     "execution_count": 3,
     "metadata": {},
     "output_type": "execute_result"
    }
   ],
   "source": [
    "import pymongo            # importing pymongo module for strating working with database 'mongo DB' \n",
    "client=pymongo.MongoClient('mongodb://localhost:27017/')\n",
    "client"
   ]
  },
  {
   "cell_type": "code",
   "execution_count": 9,
   "id": "a9808030",
   "metadata": {},
   "outputs": [],
   "source": [
    "# first creating a database \n",
    "db_1=client['sachin_thakur']     # db_1 is just a variable and 'sachin_thakur' is name of database "
   ]
  },
  {
   "cell_type": "code",
   "execution_count": 10,
   "id": "53d93688",
   "metadata": {},
   "outputs": [],
   "source": [
    "# NOTE---- in case of mongoDB unless we insert any data inside newly created database it will now show in mongo DB compass  "
   ]
  },
  {
   "cell_type": "code",
   "execution_count": 11,
   "id": "1ffa3ea0",
   "metadata": {},
   "outputs": [
    {
     "data": {
      "text/plain": [
       "['admin', 'config', 'local']"
      ]
     },
     "execution_count": 11,
     "metadata": {},
     "output_type": "execute_result"
    }
   ],
   "source": [
    "# for checking available of databases use \n",
    "client.list_database_names()"
   ]
  },
  {
   "cell_type": "code",
   "execution_count": 12,
   "id": "7b77d952",
   "metadata": {},
   "outputs": [],
   "source": [
    "# writing data inside database but in mongodb we have to make a record in a key-value kind of format \n",
    "#  but before this step we have to create a collection inside database 'sachin_thakur' collection is like creating a file or table   "
   ]
  },
  {
   "cell_type": "code",
   "execution_count": 16,
   "id": "a8b935bf",
   "metadata": {},
   "outputs": [
    {
     "data": {
      "text/plain": [
       "Collection(Database(MongoClient(host=['localhost:27017'], document_class=dict, tz_aware=False, connect=True), 'sachin_thakur'), 'test')"
      ]
     },
     "execution_count": 16,
     "metadata": {},
     "output_type": "execute_result"
    }
   ],
   "source": [
    "# collection \n",
    "collection=db_1['test']    # test is the name of the collection inside dATABASE with name sachin_thakur  \n",
    "collection                  # inside one collection we can store any no. of data files  "
   ]
  },
  {
   "cell_type": "code",
   "execution_count": 22,
   "id": "f60a458b",
   "metadata": {},
   "outputs": [
    {
     "data": {
      "text/plain": [
       "<pymongo.results.InsertOneResult at 0x1d7cd278df0>"
      ]
     },
     "execution_count": 22,
     "metadata": {},
     "output_type": "execute_result"
    }
   ],
   "source": [
    "# creating a record and than inserting it inside collection \n",
    "record={'companyname':'google',\n",
    "        'product':'whatsapp',\n",
    "       'type':'free',\n",
    "       'name': ['sachin','thakur',888],\n",
    "       'edu': {'collg':'iitdehi','dep':'AM'}}\n",
    "\n",
    "# inserting inside collection\n",
    "collection.insert_one(record)"
   ]
  },
  {
   "cell_type": "code",
   "execution_count": 23,
   "id": "79b205fc",
   "metadata": {},
   "outputs": [],
   "source": [
    "#  say if i add some more data in record in diff.. formats for values like list,typle,dicti.... etc we can do \n"
   ]
  },
  {
   "cell_type": "code",
   "execution_count": 26,
   "id": "0602ac22",
   "metadata": {},
   "outputs": [],
   "source": [
    "# suppose i want to insert more than one data files inside one collection  than i can do this \n",
    "list_of_records=[{'companyname':'google',\n",
    "        'product':'whatsapp',\n",
    "       'type':'free',\n",
    "       'name': ['sachin','thakur',888],\n",
    "       'edu': {'collg':'iitdehi','dep':'AM'}},\n",
    "                {'companyname':'google',\n",
    "        'product':'whatsapp',\n",
    "       'type':'free',\n",
    "       'name': ['sachin','thakur',888],\n",
    "       'edu': {'collg':'iitdehi','dep':'AM'}},\n",
    "                {'test':'dfgh',\n",
    "                'complex':[{'name':'sachin','list':[1,23,4,4,5,5]}]}]\n",
    "                 \n",
    "rec=collection.insert_many(list_of_records)     # rec is just a variable \n",
    "#  for inserting multiple data we use --insert_many not insert_one \n",
    "# when i m inserting multiple data i have to create dictionaries of same inside a list like above"
   ]
  },
  {
   "cell_type": "code",
   "execution_count": 29,
   "id": "12ecc316",
   "metadata": {},
   "outputs": [
    {
     "name": "stdout",
     "output_type": "stream",
     "text": [
      "0.62886d50c5b26a284d28fac5\n",
      "1.62886d50c5b26a284d28fac6\n",
      "2.62886d50c5b26a284d28fac7\n"
     ]
    }
   ],
   "source": [
    "# for getting id's of all stored data inside any collection of database i can use \n",
    "inserted_IDs=rec.inserted_ids\n",
    "\n",
    "for idx,unique_ids in enumerate(inserted_IDs):\n",
    "    print(f'{idx}.{unique_ids}')"
   ]
  },
  {
   "cell_type": "code",
   "execution_count": 32,
   "id": "ad6feefe",
   "metadata": {},
   "outputs": [],
   "source": [
    "# we can create any no of collections inside any database like we are creating new collection inside sachin_thakur\n",
    "collection1=db_1['test1']\n",
    "#  now creating a record of data for putting it inside new collection\n",
    "list_of_newrecords=[{'companyname':'google',\n",
    "        'product':'whatsapp',\n",
    "       'type':'free',\n",
    "       'name': ['sachin','thakur',888],\n",
    "       'edu': {'collg':'iitdehi','dep':'AM'}},\n",
    "                {'companyname':'google',\n",
    "        'product':'whatsapp',\n",
    "       'type':'free',\n",
    "       'name': ['sachin','thakur',888],\n",
    "       'edu': {'collg':'iitdehi','dep':'AM'}},\n",
    "                {'test':'dfgh',\n",
    "                'complex':[{'name':'sachin','list':[1,23,4,4,5,5]}]}]\n",
    "rec1=collection1.insert_many(list_of_newrecords)"
   ]
  },
  {
   "cell_type": "code",
   "execution_count": 33,
   "id": "3313a0cd",
   "metadata": {},
   "outputs": [
    {
     "name": "stdout",
     "output_type": "stream",
     "text": [
      "0.62887359c5b26a284d28fac8\n",
      "1.62887359c5b26a284d28fac9\n",
      "2.62887359c5b26a284d28faca\n"
     ]
    }
   ],
   "source": [
    "#  getting id's of data inside collection test1 \n",
    "inserted_IDs=rec1.inserted_ids\n",
    "for idx,unique_ids in enumerate(inserted_IDs):\n",
    "    print(f'{idx}.{unique_ids}')"
   ]
  },
  {
   "cell_type": "code",
   "execution_count": 39,
   "id": "eef1da2c",
   "metadata": {},
   "outputs": [
    {
     "data": {
      "text/plain": [
       "{'_id': ObjectId('62887359c5b26a284d28fac8'),\n",
       " 'companyname': 'google',\n",
       " 'product': 'whatsapp',\n",
       " 'type': 'free',\n",
       " 'name': ['sachin', 'thakur', 888],\n",
       " 'edu': {'collg': 'iitdehi', 'dep': 'AM'}}"
      ]
     },
     "execution_count": 39,
     "metadata": {},
     "output_type": "execute_result"
    }
   ],
   "source": [
    "collection1.find_one()   # for getting complete data of any single file(by-default it takes data of first file of collection) from collection "
   ]
  },
  {
   "cell_type": "code",
   "execution_count": 42,
   "id": "c5a09685",
   "metadata": {},
   "outputs": [
    {
     "name": "stdout",
     "output_type": "stream",
     "text": [
      "{'_id': ObjectId('62887359c5b26a284d28fac8'), 'companyname': 'google', 'product': 'whatsapp', 'type': 'free', 'name': ['sachin', 'thakur', 888], 'edu': {'collg': 'iitdehi', 'dep': 'AM'}}\n",
      "{'_id': ObjectId('62887359c5b26a284d28fac9'), 'companyname': 'google', 'product': 'whatsapp', 'type': 'free', 'name': ['sachin', 'thakur', 888], 'edu': {'collg': 'iitdehi', 'dep': 'AM'}}\n",
      "{'_id': ObjectId('62887359c5b26a284d28faca'), 'test': 'dfgh', 'complex': [{'name': 'sachin', 'list': [1, 23, 4, 4, 5, 5]}]}\n"
     ]
    }
   ],
   "source": [
    "for i in collection1.find():  # for printing data of all files(every record which is available ) inside collection one by one \n",
    "    print(i)"
   ]
  },
  {
   "cell_type": "code",
   "execution_count": 43,
   "id": "f0ebb95e",
   "metadata": {},
   "outputs": [
    {
     "name": "stdout",
     "output_type": "stream",
     "text": [
      "{'_id': ObjectId('6287b249c5b26a284d28fabe'), 'companyname': 'google', 'product': 'whatsapp', 'type': 'free'}\n",
      "{'_id': ObjectId('6287b34cc5b26a284d28fac0'), 'companyname': 'google', 'product': 'whatsapp', 'type': 'free'}\n",
      "{'_id': ObjectId('6287b569c5b26a284d28fac1'), 'companyname': 'google', 'product': 'whatsapp', 'type': 'free', 'name': ['sachin', 'thakur', 888], 'edu': {'collg': 'iitdehi', 'dep': 'AM'}}\n",
      "{'_id': ObjectId('62886c44c5b26a284d28fac2'), 'companyname': 'google', 'product': 'whatsapp', 'type': 'free', 'name': ['sachin', 'thakur', 888], 'edu': {'collg': 'iitdehi', 'dep': 'AM'}}\n",
      "{'_id': ObjectId('62886c44c5b26a284d28fac3'), 'companyname': 'google', 'product': 'whatsapp', 'type': 'free', 'name': ['sachin', 'thakur', 888], 'edu': {'collg': 'iitdehi', 'dep': 'AM'}}\n",
      "{'_id': ObjectId('62886c44c5b26a284d28fac4'), 'test': 'dfgh', 'complex': [{'name': 'sachin', 'list': [1, 23, 4, 4, 5, 5]}]}\n",
      "{'_id': ObjectId('62886d50c5b26a284d28fac5'), 'companyname': 'google', 'product': 'whatsapp', 'type': 'free', 'name': ['sachin', 'thakur', 888], 'edu': {'collg': 'iitdehi', 'dep': 'AM'}}\n",
      "{'_id': ObjectId('62886d50c5b26a284d28fac6'), 'companyname': 'google', 'product': 'whatsapp', 'type': 'free', 'name': ['sachin', 'thakur', 888], 'edu': {'collg': 'iitdehi', 'dep': 'AM'}}\n",
      "{'_id': ObjectId('62886d50c5b26a284d28fac7'), 'test': 'dfgh', 'complex': [{'name': 'sachin', 'list': [1, 23, 4, 4, 5, 5]}]}\n"
     ]
    }
   ],
   "source": [
    "# similarly getting every record available inside collection with name collection\n",
    "for i in collection.find():\n",
    "    print(i)"
   ]
  },
  {
   "cell_type": "code",
   "execution_count": 45,
   "id": "9f9b13f9",
   "metadata": {},
   "outputs": [
    {
     "name": "stdout",
     "output_type": "stream",
     "text": [
      "{'_id': ObjectId('62887359c5b26a284d28fac8'), 'companyname': 'google', 'product': 'whatsapp', 'type': 'free', 'name': ['sachin', 'thakur', 888], 'edu': {'collg': 'iitdehi', 'dep': 'AM'}}\n",
      "{'_id': ObjectId('62887359c5b26a284d28fac9'), 'companyname': 'google', 'product': 'whatsapp', 'type': 'free', 'name': ['sachin', 'thakur', 888], 'edu': {'collg': 'iitdehi', 'dep': 'AM'}}\n"
     ]
    }
   ],
   "source": [
    "# can also get any particular data of collection from every file if it is available in every file \n",
    "#  simply give that - 'key':'value' pair as an argument inside this \n",
    "for i in collection1.find({'companyname':'google'}):\n",
    "    print(i)"
   ]
  },
  {
   "cell_type": "code",
   "execution_count": 46,
   "id": "07d2cf05",
   "metadata": {},
   "outputs": [
    {
     "data": {
      "text/plain": [
       "<pymongo.results.DeleteResult at 0x1d7ce3cf4f0>"
      ]
     },
     "execution_count": 46,
     "metadata": {},
     "output_type": "execute_result"
    }
   ],
   "source": [
    "# lets delete one document in collection1 \n",
    "# first we store that key-value pair data inside a variable like\n",
    "query_to_delete={'companyname':'google'}\n",
    "# function for doing this\n",
    "collection1.delete_one(query_to_delete)"
   ]
  },
  {
   "cell_type": "code",
   "execution_count": 50,
   "id": "fc343dc2",
   "metadata": {},
   "outputs": [
    {
     "ename": "TypeError",
     "evalue": "update_one() missing 1 required positional argument: 'update'",
     "output_type": "error",
     "traceback": [
      "\u001b[1;31m---------------------------------------------------------------------------\u001b[0m",
      "\u001b[1;31mTypeError\u001b[0m                                 Traceback (most recent call last)",
      "Input \u001b[1;32mIn [50]\u001b[0m, in \u001b[0;36m<cell line: 2>\u001b[1;34m()\u001b[0m\n\u001b[0;32m      1\u001b[0m \u001b[38;5;66;03m#  we can also update any record value from collection \u001b[39;00m\n\u001b[1;32m----> 2\u001b[0m \u001b[43mcollection1\u001b[49m\u001b[38;5;241;43m.\u001b[39;49m\u001b[43mupdate_one\u001b[49m\u001b[43m(\u001b[49m\u001b[43m{\u001b[49m\u001b[38;5;124;43m'\u001b[39;49m\u001b[38;5;124;43mcompanyname\u001b[39;49m\u001b[38;5;124;43m'\u001b[39;49m\u001b[43m:\u001b[49m\u001b[38;5;124;43m'\u001b[39;49m\u001b[38;5;124;43mFB\u001b[39;49m\u001b[38;5;124;43m'\u001b[39;49m\u001b[43m}\u001b[49m\u001b[43m)\u001b[49m\n",
      "\u001b[1;31mTypeError\u001b[0m: update_one() missing 1 required positional argument: 'update'"
     ]
    }
   ],
   "source": [
    "#  we can also update any record value from collection \n",
    "collection1.update_one({'companyname':'FB'})"
   ]
  },
  {
   "cell_type": "code",
   "execution_count": null,
   "id": "7ac6be9a",
   "metadata": {},
   "outputs": [],
   "source": []
  }
 ],
 "metadata": {
  "kernelspec": {
   "display_name": "Python 3 (ipykernel)",
   "language": "python",
   "name": "python3"
  },
  "language_info": {
   "codemirror_mode": {
    "name": "ipython",
    "version": 3
   },
   "file_extension": ".py",
   "mimetype": "text/x-python",
   "name": "python",
   "nbconvert_exporter": "python",
   "pygments_lexer": "ipython3",
   "version": "3.9.12"
  }
 },
 "nbformat": 4,
 "nbformat_minor": 5
}
