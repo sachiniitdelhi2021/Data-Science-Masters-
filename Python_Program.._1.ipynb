{
 "cells": [
  {
   "cell_type": "raw",
   "id": "137a9f0d",
   "metadata": {},
   "source": [
    "1.\tWrite a Python program to print \"Hello Python\"?\n",
    "2.\tWrite a Python program to do arithmetical operations addition and division.?\n",
    "3.\tWrite a Python program to find the area of a triangle?\n",
    "4.\tWrite a Python program to swap two variables?\n",
    "5.\tWrite a Python program to generate a random number?\n"
   ]
  },
  {
   "cell_type": "raw",
   "id": "8c369f2e",
   "metadata": {},
   "source": [
    "ans--(1)\n",
    "\n",
    "a=input('name is :')\n",
    "print('Hello {}'.format(a))"
   ]
  },
  {
   "cell_type": "code",
   "execution_count": 2,
   "id": "696032f5",
   "metadata": {},
   "outputs": [
    {
     "name": "stdout",
     "output_type": "stream",
     "text": [
      "name is :python\n",
      "Hello python\n"
     ]
    }
   ],
   "source": [
    "a=input('name is :')\n",
    "print('Hello {}'.format(a))\n",
    "# run the program ,it will ask for name than type say 'python' \n",
    "# we will get output as "
   ]
  },
  {
   "cell_type": "raw",
   "id": "3416a77c",
   "metadata": {},
   "source": [
    "ans--(2)"
   ]
  },
  {
   "cell_type": "code",
   "execution_count": 3,
   "id": "6845a95c",
   "metadata": {},
   "outputs": [
    {
     "name": "stdout",
     "output_type": "stream",
     "text": [
      "a is:2\n",
      "b is:3\n",
      "the sum is: 5\n"
     ]
    }
   ],
   "source": [
    "# addition\n",
    "a=int(input('a is:'))\n",
    "b=int(input('b is:'))\n",
    "c=a+b\n",
    "print('the sum is:',c)"
   ]
  },
  {
   "cell_type": "code",
   "execution_count": 4,
   "id": "4ce8d65e",
   "metadata": {},
   "outputs": [
    {
     "name": "stdout",
     "output_type": "stream",
     "text": [
      "a is:4\n",
      "b is:2\n",
      "the division is: 2.0\n"
     ]
    }
   ],
   "source": [
    "# division \n",
    "a=int(input('a is:'))\n",
    "b=int(input('b is:'))\n",
    "c=a/b\n",
    "print('the division is:',c)"
   ]
  },
  {
   "cell_type": "raw",
   "id": "558aef78",
   "metadata": {},
   "source": [
    "Ans--(3)"
   ]
  },
  {
   "cell_type": "code",
   "execution_count": 10,
   "id": "dd232b32",
   "metadata": {},
   "outputs": [
    {
     "name": "stdout",
     "output_type": "stream",
     "text": [
      "first side leght is:5\n",
      "second side leght is:5\n",
      "third side leght is:7\n",
      "area of triangle is: 12.497499749949988\n"
     ]
    }
   ],
   "source": [
    "# for calculating the area of any triangle with the given three sides length as\n",
    "from math import sqrt\n",
    "\n",
    "a=int(input('first side leght is:'))\n",
    "b=int(input('second side leght is:'))\n",
    "c=int(input('third side leght is:'))\n",
    "\n",
    "s=(a+b+c)/2\n",
    "d=s*(s-a)*(s-b)*(s-c)\n",
    "area=sqrt(d)\n",
    "print('area of triangle is:',area)"
   ]
  },
  {
   "cell_type": "raw",
   "id": "ef844287",
   "metadata": {},
   "source": [
    "Ans-- (4)"
   ]
  },
  {
   "cell_type": "code",
   "execution_count": 67,
   "id": "b2e0400e",
   "metadata": {},
   "outputs": [
    {
     "name": "stdout",
     "output_type": "stream",
     "text": [
      "x is: thakur\n",
      "y is: sachin\n"
     ]
    }
   ],
   "source": [
    "x='sachin'\n",
    "y='thakur'\n",
    "x,y=y,x\n",
    "print('x is:',x)\n",
    "print('y is:',y)"
   ]
  },
  {
   "cell_type": "code",
   "execution_count": 70,
   "id": "054627e1",
   "metadata": {},
   "outputs": [
    {
     "name": "stdout",
     "output_type": "stream",
     "text": [
      "give value of x:89\n",
      "give value of y:98\n",
      "x is: 98\n",
      "y is: 89\n"
     ]
    }
   ],
   "source": [
    "x=int(input('give value of x:'))\n",
    "y=int(input('give value of y:'))\n",
    "x,y=y,x\n",
    "print('x is:',x)\n",
    "print('y is:',y)\n",
    "# as we can see the values of two variables 'x' and 'y' are exchanged  with there respective input values 'x' takes the value of 'y' and vice-versa "
   ]
  },
  {
   "cell_type": "raw",
   "id": "822cc6ec",
   "metadata": {},
   "source": [
    "Ans--(5)"
   ]
  },
  {
   "cell_type": "code",
   "execution_count": 65,
   "id": "b4b61284",
   "metadata": {},
   "outputs": [],
   "source": [
    "# we can use numpy for getting a random number which is a integer b/w 2 and 8 excluding 8 the upper bound value as \n",
    "# every time we run this we will get  different integer value as output \n",
    "import numpy as np\n",
    "a=np.random.randint(2,8)"
   ]
  },
  {
   "cell_type": "code",
   "execution_count": 66,
   "id": "468bcc75",
   "metadata": {},
   "outputs": [
    {
     "data": {
      "text/plain": [
       "2"
      ]
     },
     "execution_count": 66,
     "metadata": {},
     "output_type": "execute_result"
    }
   ],
   "source": [
    "a"
   ]
  },
  {
   "cell_type": "code",
   "execution_count": null,
   "id": "3c7e8943",
   "metadata": {},
   "outputs": [],
   "source": []
  }
 ],
 "metadata": {
  "kernelspec": {
   "display_name": "Python 3 (ipykernel)",
   "language": "python",
   "name": "python3"
  },
  "language_info": {
   "codemirror_mode": {
    "name": "ipython",
    "version": 3
   },
   "file_extension": ".py",
   "mimetype": "text/x-python",
   "name": "python",
   "nbconvert_exporter": "python",
   "pygments_lexer": "ipython3",
   "version": "3.9.12"
  }
 },
 "nbformat": 4,
 "nbformat_minor": 5
}
