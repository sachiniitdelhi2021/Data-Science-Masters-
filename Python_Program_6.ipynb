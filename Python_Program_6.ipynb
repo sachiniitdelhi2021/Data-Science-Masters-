{
 "cells": [
  {
   "cell_type": "raw",
   "id": "d9470515",
   "metadata": {},
   "source": [
    "1.\tWrite a Python Program to Display Fibonacci Sequence Using Recursion?\n",
    "2.\tWrite a Python Program to Find Factorial of Number Using Recursion?\n",
    "3.\tWrite a Python Program to calculate your Body Mass Index?\n",
    "4.\tWrite a Python Program to calculate the natural logarithm of any number?\n",
    "5.\tWrite a Python Program for cube sum of first n natural numbers?\n"
   ]
  },
  {
   "cell_type": "raw",
   "id": "1446551f",
   "metadata": {},
   "source": [
    "Ans-(5) for finding the sum of cube of  first given 'n' natural numbers  "
   ]
  },
  {
   "cell_type": "code",
   "execution_count": 1,
   "id": "794586bd",
   "metadata": {},
   "outputs": [
    {
     "name": "stdout",
     "output_type": "stream",
     "text": [
      "input number is:4\n",
      "The sum of cube of natural numbers till 4 is: 100\n"
     ]
    }
   ],
   "source": [
    "# defining the function as\n",
    "\n",
    "def natural_no_cube(n):\n",
    "    a=(n*(n+1)//2)**2\n",
    "    print('The sum of cube of natural numbers till {} is:'.format(n),a)\n",
    "\n",
    "    \n",
    "# input \n",
    "n=int(input('input number is:'))\n",
    "natural_no_cube(n)"
   ]
  },
  {
   "cell_type": "code",
   "execution_count": null,
   "id": "873459de",
   "metadata": {},
   "outputs": [],
   "source": [
    "# using above function we can find the sum of cube of natural numbers till any given natural number"
   ]
  },
  {
   "cell_type": "raw",
   "id": "73459a3f",
   "metadata": {},
   "source": [
    "Ans--(3) for finding the BMI of any person"
   ]
  },
  {
   "cell_type": "code",
   "execution_count": 5,
   "id": "1951c851",
   "metadata": {},
   "outputs": [
    {
     "name": "stdout",
     "output_type": "stream",
     "text": [
      "for height in meters:1.7\n",
      "for weight in Kg:60\n",
      "For 1.7m height & 60.0Kg weight BMI is: 20.761245674740486\n",
      "you are normal:\n"
     ]
    }
   ],
   "source": [
    "# defining the function as\n",
    "\n",
    "def BMI(height,weight):              # height -- should be in meters(m)    # weight -- should be in Kilograms(Kg)\n",
    "    a=height**2\n",
    "    b=weight/a\n",
    "    print('For {}m height & {}Kg weight BMI is:'.format(height,weight),b)\n",
    "    \n",
    "    if b<18.5:\n",
    "        print('you are under weight:')\n",
    "    elif 18.5<=b<=24.9:\n",
    "        print('you are normal:')\n",
    "    elif 25<=b<=29.9:\n",
    "        print('you are over weight:')\n",
    "    elif b>30:\n",
    "        print('you are obese:')\n",
    "        \n",
    "# for inputs \n",
    "height=float(input('for height in meters:'))\n",
    "weight=float(input('for weight in Kg:'))\n",
    "\n",
    "# calling the function as\n",
    "BMI(height,weight)\n",
    "\n",
    "# using this function we can get the BMI of any person having height in meters and weight in kilograms "
   ]
  },
  {
   "cell_type": "raw",
   "id": "c30f1dbe",
   "metadata": {},
   "source": [
    "Ans--(4) for getting the natural logarithm of any given number "
   ]
  },
  {
   "cell_type": "code",
   "execution_count": 7,
   "id": "fb622eb8",
   "metadata": {},
   "outputs": [
    {
     "name": "stdout",
     "output_type": "stream",
     "text": [
      "number is:10\n",
      "The natural log of 10.0 for base (e) is: 2.302585092994046\n"
     ]
    }
   ],
   "source": [
    "# defining the function as\n",
    "\n",
    "def natu_log(num):\n",
    "    from math import log\n",
    "    print('The natural log of {} for base (e) is:'.format(num),log(num))\n",
    "    \n",
    "# for inputs\n",
    "num=float(input('number is:'))\n",
    "\n",
    "# calling the function as\n",
    "natu_log(num)\n",
    "\n",
    "# using this function we  can get the natural log of any number for base 'e' which is a euler number e=2.17"
   ]
  },
  {
   "cell_type": "raw",
   "id": "8dc9ed5a",
   "metadata": {},
   "source": [
    "Ans--(2) for getting the factorial of any number using recursion  "
   ]
  },
  {
   "cell_type": "code",
   "execution_count": 20,
   "id": "95393218",
   "metadata": {},
   "outputs": [
    {
     "name": "stdout",
     "output_type": "stream",
     "text": [
      "number is :5\n",
      "The factorial of 5 is: 120\n"
     ]
    }
   ],
   "source": [
    "# defining a recursive function as \n",
    "\n",
    "def factorial(num):\n",
    "    if (num==0 or num== 1):\n",
    "        return 1\n",
    "        \n",
    "    else:\n",
    "        return num*factorial(num-1)\n",
    "        \n",
    "        \n",
    "# for inputs \n",
    "num=int(input('number is :'))\n",
    "\n",
    "# calling the function as \n",
    "factorial(num)\n",
    "print('The factorial of {} is:'.format(num),factorial(num))"
   ]
  },
  {
   "cell_type": "code",
   "execution_count": null,
   "id": "24984a89",
   "metadata": {},
   "outputs": [],
   "source": [
    "# using above defined recursive function we can get the factorial of any integer number "
   ]
  },
  {
   "cell_type": "raw",
   "id": "8e494afc",
   "metadata": {},
   "source": [
    "Ans--(1)  for getting the Fibonacci Sequence Using Recursion "
   ]
  },
  {
   "cell_type": "code",
   "execution_count": 28,
   "id": "d369077c",
   "metadata": {},
   "outputs": [
    {
     "name": "stdout",
     "output_type": "stream",
     "text": [
      "series for terms=5\n",
      "The Fibonacci series is:\n",
      "0 1 1 2 3 "
     ]
    }
   ],
   "source": [
    "# defining the function as\n",
    "\n",
    "def Fibonacci(n):                     # 'n'-- is for the number of terms of the series\n",
    "    \n",
    "    if (n==0):\n",
    "        return 0\n",
    "    \n",
    "    if (n==1 or n==2):\n",
    "        return 1\n",
    "    \n",
    "    else:\n",
    "        return (Fibonacci(n-1)+Fibonacci(n-2))\n",
    "    \n",
    "# for input\n",
    "n=int(input('series for terms='))\n",
    "print('The Fibonacci series is:')\n",
    "# for getting the series \n",
    "for i in range(0,n):\n",
    "    \n",
    "    print(Fibonacci(i),end=' ')"
   ]
  },
  {
   "cell_type": "code",
   "execution_count": null,
   "id": "b35d19c9",
   "metadata": {},
   "outputs": [],
   "source": [
    "# using above defied function we can get the series upto any required terms "
   ]
  }
 ],
 "metadata": {
  "kernelspec": {
   "display_name": "Python 3 (ipykernel)",
   "language": "python",
   "name": "python3"
  },
  "language_info": {
   "codemirror_mode": {
    "name": "ipython",
    "version": 3
   },
   "file_extension": ".py",
   "mimetype": "text/x-python",
   "name": "python",
   "nbconvert_exporter": "python",
   "pygments_lexer": "ipython3",
   "version": "3.9.12"
  }
 },
 "nbformat": 4,
 "nbformat_minor": 5
}
