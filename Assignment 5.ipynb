{
 "cells": [
  {
   "cell_type": "raw",
   "id": "5cde4895",
   "metadata": {},
   "source": [
    "1. What does an empty dictionary's code look like?\n",
    "2. What is the value of a dictionary value with the key 'foo' and the value 42?\n",
    "3. What is the most significant distinction between a dictionary and a list?\n",
    "4. What happens if you try to access spam['foo'] if spam is {'bar': 100}?\n",
    "5. If a dictionary is stored in spam, what is the difference between the expressions 'cat' in spam and 'cat' in spam.keys()?\n",
    "6. If a dictionary is stored in spam, what is the difference between the expressions 'cat' in spam and 'cat' in spam.values()?\n",
    "7. What is a shortcut for the following code?\n",
    "if 'color' not in spam:\n",
    "spam['color'] = 'black'\n",
    "\n",
    "8. How do you \"pretty print\" dictionary values using which module and function?\n",
    "\n"
   ]
  },
  {
   "cell_type": "raw",
   "id": "7c2d9ec9",
   "metadata": {},
   "source": [
    "1. What does an empty dictionary's code look like?\n",
    "Ans- d={}  is a empty dictionary "
   ]
  },
  {
   "cell_type": "code",
   "execution_count": 1,
   "id": "5ab89027",
   "metadata": {},
   "outputs": [
    {
     "data": {
      "text/plain": [
       "dict"
      ]
     },
     "execution_count": 1,
     "metadata": {},
     "output_type": "execute_result"
    }
   ],
   "source": [
    "d={}\n",
    "type(d)"
   ]
  },
  {
   "cell_type": "raw",
   "id": "ba355e01",
   "metadata": {},
   "source": [
    "2. What is the value of a dictionary value with the key 'foo' and the value 42?\n",
    "Ans-- d={'foo':42}\n",
    "d['foo']"
   ]
  },
  {
   "cell_type": "code",
   "execution_count": 2,
   "id": "5636dfee",
   "metadata": {},
   "outputs": [
    {
     "data": {
      "text/plain": [
       "42"
      ]
     },
     "execution_count": 2,
     "metadata": {},
     "output_type": "execute_result"
    }
   ],
   "source": [
    "d={'foo':42}\n",
    "d['foo']"
   ]
  },
  {
   "cell_type": "code",
   "execution_count": null,
   "id": "51438bc6",
   "metadata": {},
   "outputs": [],
   "source": [
    "3. What is the most significant distinction between a dictionary and a list?\n",
    "Ans--the most significant distinction between a dictionary and a list is that in list we only have elements as individual\n",
    "whereas in case of dictionary we have key and value pairs as given below\n",
    "\n",
    "l=[1,2,3,4,5,6,'sachin']\n",
    "d={'name':'sachin','surname':'thakur','proff..':'student'}"
   ]
  },
  {
   "cell_type": "raw",
   "id": "d472ed48",
   "metadata": {},
   "source": [
    "4. What happens if you try to access spam['foo'] if spam is {'bar': 100}?\n",
    "Ans-- spam={'bar': 100}\n",
    "spam['foo'] will give it's value if this key is present inside the dictionary otherwise it will givr error"
   ]
  },
  {
   "cell_type": "code",
   "execution_count": 3,
   "id": "2fd04ffd",
   "metadata": {},
   "outputs": [
    {
     "ename": "KeyError",
     "evalue": "'foo'",
     "output_type": "error",
     "traceback": [
      "\u001b[1;31m---------------------------------------------------------------------------\u001b[0m",
      "\u001b[1;31mKeyError\u001b[0m                                  Traceback (most recent call last)",
      "Input \u001b[1;32mIn [3]\u001b[0m, in \u001b[0;36m<cell line: 2>\u001b[1;34m()\u001b[0m\n\u001b[0;32m      1\u001b[0m spam\u001b[38;5;241m=\u001b[39m{\u001b[38;5;124m'\u001b[39m\u001b[38;5;124mbar\u001b[39m\u001b[38;5;124m'\u001b[39m: \u001b[38;5;241m100\u001b[39m}\n\u001b[1;32m----> 2\u001b[0m \u001b[43mspam\u001b[49m\u001b[43m[\u001b[49m\u001b[38;5;124;43m'\u001b[39;49m\u001b[38;5;124;43mfoo\u001b[39;49m\u001b[38;5;124;43m'\u001b[39;49m\u001b[43m]\u001b[49m\n",
      "\u001b[1;31mKeyError\u001b[0m: 'foo'"
     ]
    }
   ],
   "source": [
    "spam={'bar': 100}\n",
    "spam['foo']"
   ]
  },
  {
   "cell_type": "code",
   "execution_count": null,
   "id": "23e9e8b1",
   "metadata": {},
   "outputs": [],
   "source": [
    "5. If a dictionary is stored in spam, what is the difference between the expressions 'cat' in spam1 and 'cat' in spam1.keys()?\n",
    "Ans-- spam1={'cat':100,'asd':89,'gf':45}\n",
    "'cat' in spam will give either True or False depending upon it's presence in dictionary as key \n",
    "\n",
    "if it is present it will give True \n",
    "if it is not then it will give False \n",
    "\n",
    "'cat' in spam.keys(), will also look for key name 'cat' among all keys of dictionary(inside list conatining all keys only), if it is present it will give True otherwise\n",
    "False "
   ]
  },
  {
   "cell_type": "code",
   "execution_count": 8,
   "id": "73210a04",
   "metadata": {},
   "outputs": [],
   "source": [
    "spam1={'cat':100,'asd':89,'gf':45}"
   ]
  },
  {
   "cell_type": "code",
   "execution_count": 11,
   "id": "5fa9998a",
   "metadata": {},
   "outputs": [
    {
     "data": {
      "text/plain": [
       "True"
      ]
     },
     "execution_count": 11,
     "metadata": {},
     "output_type": "execute_result"
    }
   ],
   "source": [
    "'cat' in spam1"
   ]
  },
  {
   "cell_type": "code",
   "execution_count": 12,
   "id": "1434741f",
   "metadata": {},
   "outputs": [
    {
     "data": {
      "text/plain": [
       "True"
      ]
     },
     "execution_count": 12,
     "metadata": {},
     "output_type": "execute_result"
    }
   ],
   "source": [
    "'cat' in spam1.keys()"
   ]
  },
  {
   "cell_type": "code",
   "execution_count": 13,
   "id": "2c359439",
   "metadata": {},
   "outputs": [
    {
     "data": {
      "text/plain": [
       "dict_keys(['cat', 'asd', 'gf'])"
      ]
     },
     "execution_count": 13,
     "metadata": {},
     "output_type": "execute_result"
    }
   ],
   "source": [
    "spam1.keys()"
   ]
  },
  {
   "cell_type": "raw",
   "id": "03e719b1",
   "metadata": {},
   "source": [
    "6. If a dictionary is stored in spam, what is the difference between the expressions 'cat' in spam1 and 'cat' in spam1.values()\n",
    "Ans--- spam1={'cat':100,'asd':89,'gf':45}\n",
    "\n",
    "'cat' in spam1 will give True or False depending upon it's presence as key in dictionary \n",
    "\n",
    "whereas 'cat' in spam1.values() will give True or False depending upon it's presence as value of any key in dictionary "
   ]
  },
  {
   "cell_type": "code",
   "execution_count": 14,
   "id": "a1b6df23",
   "metadata": {},
   "outputs": [
    {
     "data": {
      "text/plain": [
       "True"
      ]
     },
     "execution_count": 14,
     "metadata": {},
     "output_type": "execute_result"
    }
   ],
   "source": [
    "spam1={'cat':100,'asd':89,'gf':45}\n",
    "'cat' in spam1"
   ]
  },
  {
   "cell_type": "code",
   "execution_count": 16,
   "id": "03f169b2",
   "metadata": {},
   "outputs": [
    {
     "data": {
      "text/plain": [
       "dict_values([100, 89, 45])"
      ]
     },
     "execution_count": 16,
     "metadata": {},
     "output_type": "execute_result"
    }
   ],
   "source": [
    "spam1.values()"
   ]
  },
  {
   "cell_type": "code",
   "execution_count": 17,
   "id": "e022c9a8",
   "metadata": {},
   "outputs": [
    {
     "data": {
      "text/plain": [
       "False"
      ]
     },
     "execution_count": 17,
     "metadata": {},
     "output_type": "execute_result"
    }
   ],
   "source": [
    "'cat' in spam1.values()"
   ]
  },
  {
   "cell_type": "code",
   "execution_count": 33,
   "id": "f93dd9c9",
   "metadata": {
    "collapsed": true
   },
   "outputs": [
    {
     "ename": "IndentationError",
     "evalue": "expected an indented block (4076664059.py, line 3)",
     "output_type": "error",
     "traceback": [
      "\u001b[1;36m  Input \u001b[1;32mIn [33]\u001b[1;36m\u001b[0m\n\u001b[1;33m    spam1['color'] = 'black'\u001b[0m\n\u001b[1;37m    ^\u001b[0m\n\u001b[1;31mIndentationError\u001b[0m\u001b[1;31m:\u001b[0m expected an indented block\n"
     ]
    }
   ],
   "source": [
    "7. What is a shortcut for the following code?\n",
    "if 'color' not in spam1:\n",
    "spam1['color'] = 'black'\n",
    "\n",
    "Ans--- using function setdefault() -- which by default adds key and it's value if it does not exist in dictionary \n",
    "spam1.setdefault('color':'black')"
   ]
  },
  {
   "cell_type": "code",
   "execution_count": 18,
   "id": "efc22121",
   "metadata": {},
   "outputs": [
    {
     "data": {
      "text/plain": [
       "{'cat': 100, 'asd': 89, 'gf': 45}"
      ]
     },
     "execution_count": 18,
     "metadata": {},
     "output_type": "execute_result"
    }
   ],
   "source": [
    "spam1"
   ]
  },
  {
   "cell_type": "code",
   "execution_count": 35,
   "id": "7b21bced",
   "metadata": {},
   "outputs": [
    {
     "data": {
      "text/plain": [
       "'black'"
      ]
     },
     "execution_count": 35,
     "metadata": {},
     "output_type": "execute_result"
    }
   ],
   "source": [
    "spam1.setdefault('color','black')"
   ]
  },
  {
   "cell_type": "code",
   "execution_count": 36,
   "id": "3b2d66fa",
   "metadata": {},
   "outputs": [
    {
     "data": {
      "text/plain": [
       "{'cat': 100, 'asd': 89, 'gf': 45, 'color': 'black'}"
      ]
     },
     "execution_count": 36,
     "metadata": {},
     "output_type": "execute_result"
    }
   ],
   "source": [
    "spam1"
   ]
  },
  {
   "cell_type": "code",
   "execution_count": null,
   "id": "306498d0",
   "metadata": {},
   "outputs": [],
   "source": [
    "8. How do you \"pretty print\" dictionary values using which module and function?\n",
    "Ans-- by importing python module -- pprint  and using it's function with the same name pprint() as \n",
    "this gives the result in more readable format/style "
   ]
  },
  {
   "cell_type": "code",
   "execution_count": 31,
   "id": "3dfc72be",
   "metadata": {},
   "outputs": [
    {
     "name": "stdout",
     "output_type": "stream",
     "text": [
      "[{'Age': '23', 'Country': 'USA', 'Name': 'John'},\n",
      " {'Age': '44', 'Country': 'Spain', 'Name': 'Jose'},\n",
      " {'Age': '29', 'Country': 'UK', 'Name': 'Anne'},\n",
      " {'Age': '35', 'Country': 'Japan', 'Name': 'Lee'}]\n"
     ]
    }
   ],
   "source": [
    "import pprint\n",
    "\n",
    "dct_arr = [\n",
    "  {'Name': 'John', 'Age': '23', 'Country': 'USA'},\n",
    "  {'Name': 'Jose', 'Age': '44', 'Country': 'Spain'},\n",
    "  {'Name': 'Anne', 'Age': '29', 'Country': 'UK'},\n",
    "  {'Name': 'Lee', 'Age': '35', 'Country': 'Japan'}\n",
    "]\n",
    "\n",
    "pprint.pprint(dct_arr)"
   ]
  },
  {
   "cell_type": "code",
   "execution_count": 32,
   "id": "dc634001",
   "metadata": {},
   "outputs": [
    {
     "name": "stdout",
     "output_type": "stream",
     "text": [
      "[{'Name': 'John', 'Age': '23', 'Country': 'USA'}, {'Name': 'Jose', 'Age': '44', 'Country': 'Spain'}, {'Name': 'Anne', 'Age': '29', 'Country': 'UK'}, {'Name': 'Lee', 'Age': '35', 'Country': 'Japan'}]\n"
     ]
    }
   ],
   "source": [
    "#  normal print function gives result as \n",
    "print(dct_arr)"
   ]
  },
  {
   "cell_type": "code",
   "execution_count": null,
   "id": "fbe7e892",
   "metadata": {},
   "outputs": [],
   "source": []
  }
 ],
 "metadata": {
  "kernelspec": {
   "display_name": "Python 3 (ipykernel)",
   "language": "python",
   "name": "python3"
  },
  "language_info": {
   "codemirror_mode": {
    "name": "ipython",
    "version": 3
   },
   "file_extension": ".py",
   "mimetype": "text/x-python",
   "name": "python",
   "nbconvert_exporter": "python",
   "pygments_lexer": "ipython3",
   "version": "3.9.12"
  }
 },
 "nbformat": 4,
 "nbformat_minor": 5
}
