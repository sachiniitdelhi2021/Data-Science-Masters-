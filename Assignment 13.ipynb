{
 "cells": [
  {
   "cell_type": "raw",
   "id": "d1d58521",
   "metadata": {},
   "source": [
    "1. What advantages do Excel spreadsheets have over CSV spreadsheets?\n",
    "2.What do you pass to csv.reader() and csv.writer() to create reader and writer objects?\n",
    "3. What modes do File objects for reader and writer objects need to be opened in?\n",
    "4. What method takes a list argument and writes it to a CSV file?\n",
    "5. What do the keyword arguments delimiter and line terminator do?\n",
    "6. What function takes a string of JSON data and returns a Python data structure?\n",
    "7. What function takes a Python data structure and returns a string of JSON data?\n",
    "\n"
   ]
  },
  {
   "cell_type": "raw",
   "id": "029ff80e",
   "metadata": {},
   "source": [
    "1. What advantages do Excel spreadsheets have over CSV spreadsheets?\n",
    "Ans-- 1) Excel can be password protected but csv can't be password protected\n",
    "2) Excel can perform VBA Coding, functions, formulas and create summaries easily when compared to CSV. \n",
    "3)Reading large data set is much easier for the end-user to read, comprehend and understand when compared to CSV.\n",
    "4)Excel also provides the user option for external linking of data from other sources, and also, the user can do custom add-ins.\n",
    "no such features are available in case of csv file format "
   ]
  },
  {
   "cell_type": "raw",
   "id": "2039a787",
   "metadata": {},
   "source": [
    "2.What do you pass to csv.reader() and csv.writer() to create reader and writer objects\n",
    "Ans-- in case of csv.reader() we can pass 'r' which is for opening the file in reading mode\n",
    "in case of csv.writer() we can pass 'w' which is for opening the file in writing mode \n",
    "\n",
    "ex- \n",
    "import csv\n",
    "file1=csv.reader('file_name.csv','r')\n",
    "file2=csv.writer('file_name.csv','w')"
   ]
  },
  {
   "cell_type": "raw",
   "id": "9ceb04e2",
   "metadata": {},
   "source": [
    "3. What modes do File objects for reader and writer objects need to be opened in?\n",
    "Ans-- in reading mode(using 'r') and writing mode(using 'w') respectively "
   ]
  },
  {
   "cell_type": "raw",
   "id": "adca1d26",
   "metadata": {},
   "source": [
    "4. What method takes a list argument and writes it to a CSV file?\n",
    "Ans-- using  method writerow()  we can write list inside csv file by giving list as an argument like\n",
    "\n",
    "import csv\n",
    "file=open('file_name.csv','w')\n",
    "file1=csv.writer(file)\n",
    "csv.writer(file).writerow(['sachin','dangi','thakur'])"
   ]
  },
  {
   "cell_type": "raw",
   "id": "e056c3f3",
   "metadata": {},
   "source": [
    "5. What do the keyword arguments delimiter and line terminator do?\n",
    "Ans-- the delimiter argument is for seperating the cells of each row of file, whereas the terminator argument is for seperating \n",
    "the row of file \n",
    "\n",
    "ex-\n",
    "import csv\n",
    "file=open('file_name.csv','w')\n",
    "csv.writer(file,delimiter='\\t',lineterminator='\\n\\n')"
   ]
  },
  {
   "cell_type": "raw",
   "id": "831c1952",
   "metadata": {},
   "source": [
    "6. What function takes a string of JSON data and returns a Python data structure?\n",
    "Ans-- function which takes json string and converts it into data structure -- json.loads()"
   ]
  },
  {
   "cell_type": "code",
   "execution_count": null,
   "id": "e3ce99ad",
   "metadata": {},
   "outputs": [],
   "source": [
    "7. What function takes a Python data structure and returns a string of JSON data?\n",
    "ANS-- function which takes python data structure and converts it into json string  -- json.dumps()"
   ]
  }
 ],
 "metadata": {
  "kernelspec": {
   "display_name": "Python 3 (ipykernel)",
   "language": "python",
   "name": "python3"
  },
  "language_info": {
   "codemirror_mode": {
    "name": "ipython",
    "version": 3
   },
   "file_extension": ".py",
   "mimetype": "text/x-python",
   "name": "python",
   "nbconvert_exporter": "python",
   "pygments_lexer": "ipython3",
   "version": "3.9.12"
  }
 },
 "nbformat": 4,
 "nbformat_minor": 5
}
