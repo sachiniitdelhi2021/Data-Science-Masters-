{
 "cells": [
  {
   "cell_type": "raw",
   "id": "eb79fe7e",
   "metadata": {},
   "source": [
    "1. Add the current date to the text file today.txt as a string.\n",
    "2. Read the text file today.txt into the string today_string\n",
    "3. Parse the date from today_string.\n",
    "4. List the files in your current directory\n",
    "5. Create a list of all of the files in your parent directory (minimum five files should be available).\n",
    "6. Use multiprocessing to create three separate processes. Make each one wait a random number of seconds between one and five, print the current time, and then exit.\n",
    "7. Create a date object of your day of birth.\n",
    "8. What day of the week was your day of birth?\n",
    "9. When will you be (or when were you) 10,000 days old?\n"
   ]
  },
  {
   "cell_type": "raw",
   "id": "22be9110",
   "metadata": {},
   "source": [
    "Ans--(1)"
   ]
  },
  {
   "cell_type": "code",
   "execution_count": 1,
   "id": "0d3c3a0b",
   "metadata": {},
   "outputs": [],
   "source": [
    "# As no such file already exist in directory so we need to create a new file with this name as\n",
    "\n",
    "a=open('today.txt','w')     # making new file in 'w' mode as "
   ]
  },
  {
   "cell_type": "code",
   "execution_count": 2,
   "id": "5a436986",
   "metadata": {},
   "outputs": [],
   "source": [
    "# for adding the current date we will use 'datetime' module of python as  \n",
    "from datetime import datetime as dt\n",
    "\n",
    "# for writing inside file \n",
    "a.write(dt.now().strftime('%d/%m/%y'))\n",
    "\n",
    "# after writing inside file we need to close the file as\n",
    "a.close()"
   ]
  },
  {
   "cell_type": "raw",
   "id": "078a4310",
   "metadata": {},
   "source": [
    "Ans--(2)\n"
   ]
  },
  {
   "cell_type": "code",
   "execution_count": 3,
   "id": "c6f89276",
   "metadata": {},
   "outputs": [
    {
     "name": "stdout",
     "output_type": "stream",
     "text": [
      "14/06/22\n"
     ]
    }
   ],
   "source": [
    "# reading the data of created file and dumping it's data inside a variable as \n",
    "\n",
    "# for data of any file we need to open that file again than only we can read the data as\n",
    "file=open('today.txt','r')\n",
    "# for reading the file into the string as\n",
    "today_string=file.read()\n",
    "\n",
    "print(today_string)\n"
   ]
  },
  {
   "cell_type": "code",
   "execution_count": null,
   "id": "9fbf0817",
   "metadata": {},
   "outputs": [],
   "source": [
    "# as we can see above the data of file is readed by again opening the file in reading mode only "
   ]
  },
  {
   "cell_type": "raw",
   "id": "9160804b",
   "metadata": {},
   "source": [
    "Ans--(3)"
   ]
  },
  {
   "cell_type": "code",
   "execution_count": 5,
   "id": "24ef6d5b",
   "metadata": {
    "scrolled": true
   },
   "outputs": [
    {
     "name": "stdout",
     "output_type": "stream",
     "text": [
      "2022-06-14 00:00:00\n"
     ]
    }
   ],
   "source": [
    "# for parsing the date from today_string\n",
    "from datetime import datetime \n",
    "\n",
    "parse_date=datetime.strptime(today_string,'%d/%m/%y')\n",
    "print(parse_date)"
   ]
  },
  {
   "cell_type": "raw",
   "id": "4447f9cd",
   "metadata": {},
   "source": [
    "Ans--(4)"
   ]
  },
  {
   "cell_type": "code",
   "execution_count": 6,
   "id": "5285b0f0",
   "metadata": {},
   "outputs": [
    {
     "data": {
      "text/plain": [
       "'C:\\\\Users\\\\Dell\\\\Data Science Masters\\\\Assignments'"
      ]
     },
     "execution_count": 6,
     "metadata": {},
     "output_type": "execute_result"
    }
   ],
   "source": [
    "# first we need to import the module name 'operating system' as \n",
    "import os\n",
    "\n",
    "# then using it's function to know the current working diectory as\n",
    "os.getcwd() \n",
    "# below is the present directory location "
   ]
  },
  {
   "cell_type": "code",
   "execution_count": 7,
   "id": "8e8341aa",
   "metadata": {
    "scrolled": true
   },
   "outputs": [
    {
     "data": {
      "text/plain": [
       "['.ipynb_checkpoints',\n",
       " 'Assignment 10 .ipynb',\n",
       " 'Assignment 11.ipynb',\n",
       " 'Assignment 12.ipynb',\n",
       " 'Assignment 13.ipynb',\n",
       " 'Assignment 14.ipynb',\n",
       " 'ASSIGNMENT 15.ipynb',\n",
       " 'Assignment 16.ipynb',\n",
       " 'Assignment 17.ipynb',\n",
       " 'Assignment 18.ipynb',\n",
       " 'Assignment 19.ipynb',\n",
       " 'Assignment 20.ipynb',\n",
       " 'Assignment 21.ipynb',\n",
       " 'Assignment 22.ipynb',\n",
       " 'Assignment 23.ipynb',\n",
       " 'Assignment 24.ipynb',\n",
       " 'Assignment 25.ipynb',\n",
       " 'Assignment 4.ipynb',\n",
       " 'Assignment 5.ipynb',\n",
       " 'Assignment 6.ipynb',\n",
       " 'Assignment 7.ipynb',\n",
       " 'Assignment 8 .ipynb',\n",
       " 'Assignment 9.ipynb',\n",
       " 'Python Program._4.ipynb',\n",
       " 'Python Program_5.ipynb',\n",
       " 'Python_Program.._1.ipynb',\n",
       " 'Python_Programm_2.ipynb',\n",
       " 'Python_Program_3.ipynb',\n",
       " 'today.txt',\n",
       " 'zoo.py',\n",
       " '__pycache__']"
      ]
     },
     "execution_count": 7,
     "metadata": {},
     "output_type": "execute_result"
    }
   ],
   "source": [
    "# for getting the list of all files present in this directory using function as\n",
    "os.listdir()   # this takes current directory by-default \n",
    "\n",
    "# below is the list of all files present in this directory \n",
    "# current working directory "
   ]
  },
  {
   "cell_type": "raw",
   "id": "4bb7e02f",
   "metadata": {},
   "source": [
    "Ans--(5)"
   ]
  },
  {
   "cell_type": "code",
   "execution_count": 8,
   "id": "0bd1466b",
   "metadata": {
    "scrolled": true
   },
   "outputs": [
    {
     "name": "stdout",
     "output_type": "stream",
     "text": [
      "['Assignment 10 .ipynb', 'Assignment 11.ipynb', 'Assignment 12.ipynb', 'Assignment 13.ipynb', 'Assignment 14.ipynb', 'ASSIGNMENT 15.ipynb', 'Assignment 16.ipynb', 'Assignment 17.ipynb', 'Assignment 18.ipynb', 'Assignment 19.ipynb', 'Assignment 20.ipynb', 'Assignment 21.ipynb', 'Assignment 22.ipynb', 'Assignment 23.ipynb', 'Assignment 24.ipynb', 'Assignment 25.ipynb', 'Assignment 4.ipynb', 'Assignment 5.ipynb', 'Assignment 6.ipynb', 'Assignment 7.ipynb', 'Assignment 8 .ipynb', 'Assignment 9.ipynb', 'Python Program._4.ipynb', 'Python Program_5.ipynb', 'Python_Program.._1.ipynb', 'Python_Programm_2.ipynb', 'Python_Program_3.ipynb', 'today.txt', 'zoo.py', 'Assignment 10 -checkpoint.ipynb', 'Assignment 11-checkpoint.ipynb', 'Assignment 12-checkpoint.ipynb', 'Assignment 13-checkpoint.ipynb', 'Assignment 14-checkpoint.ipynb', 'ASSIGNMENT 15-checkpoint.ipynb', 'Assignment 16-checkpoint.ipynb', 'Assignment 17-checkpoint.ipynb', 'Assignment 18-checkpoint.ipynb', 'Assignment 19-checkpoint.ipynb', 'Assignment 20-checkpoint.ipynb', 'Assignment 21-checkpoint.ipynb', 'Assignment 22-checkpoint.ipynb', 'Assignment 23-checkpoint.ipynb', 'Assignment 24-checkpoint.ipynb', 'Assignment 25-checkpoint.ipynb', 'Assignment 4-checkpoint.ipynb', 'Assignment 5-checkpoint.ipynb', 'Assignment 6-checkpoint.ipynb', 'Assignment 7-checkpoint.ipynb', 'Assignment 8 -checkpoint.ipynb', 'Assignment 9-checkpoint.ipynb', 'Python Program._4-checkpoint.ipynb', 'Python Program_5-checkpoint.ipynb', 'Python_Program.._1-checkpoint.ipynb', 'Python_Programm_2-checkpoint.ipynb', 'Python_Program_3-checkpoint.ipynb', 'zoo.cpython-39.pyc', 'Rest API, Flask & working with postman .ipynb', 'Rest API, Flask & working with postman -checkpoint.ipynb']\n"
     ]
    }
   ],
   "source": [
    "# list of files in the parent directory \n",
    "\n",
    "# as seen above during getting the current directory name which contains the name of parent directory as well\n",
    "# for getting the list of files of parent directory  \n",
    "l=[]\n",
    "import os \n",
    "for folders,subfolders,files in os.walk('C:\\\\Users\\\\Dell\\\\Data Science Masters'):\n",
    "    \n",
    "    for file in files:\n",
    "      \n",
    "        l.append(file)\n",
    "print(l)\n",
    "\n",
    "\n"
   ]
  },
  {
   "cell_type": "raw",
   "id": "162e7461",
   "metadata": {},
   "source": [
    "Ans--(6)"
   ]
  },
  {
   "cell_type": "code",
   "execution_count": 31,
   "id": "961e23b1",
   "metadata": {},
   "outputs": [
    {
     "name": "stdout",
     "output_type": "stream",
     "text": [
      "start time of func1 is = 2022-06-14 12:21:24.805168\n",
      "end time of func1 is =2022-06-14 12:21:27.809416\n",
      "start time of func2 is = 2022-06-14 12:21:27.810424\n",
      "end time of func2 is =2022-06-14 12:21:32.816940\n",
      "start time of func3 is = 2022-06-14 12:21:32.817951\n",
      "end time of func3 is =2022-06-14 12:21:35.829456\n",
      "All the processes are executed and results are above\n"
     ]
    }
   ],
   "source": [
    "# for this we have to import multiple modules of python as\n",
    "import multiprocessing\n",
    "import datetime\n",
    "import time\n",
    "import random\n",
    "\n",
    "# creating functions as \n",
    "\n",
    "# function 1\n",
    "def fun1():\n",
    "    print('start time of func1 is = {}'.format(datetime.datetime.now()))    # this is for giving the start time\n",
    "    time.sleep(random.randint(1,5))                                 # this is for making function to wait \n",
    "    print('end time of func1 is ={}'.format(datetime.datetime.now()))        # this for giving the end time \n",
    "    \n",
    "def fun2():\n",
    "    print('start time of func2 is = {}'.format(datetime.datetime.now()))    # this is for giving the start time\n",
    "    time.sleep(random.randint(1,5))                                 # this is for making function to wait \n",
    "    print('end time of func2 is ={}'.format(datetime.datetime.now()))        # this for giving the end time \n",
    "    \n",
    "    \n",
    "def fun3():\n",
    "    print('start time of func3 is = {}'.format(datetime.datetime.now()))    # this is for giving the start time\n",
    "    time.sleep(random.randint(1,5))                                 # this is for making function to wait \n",
    "    print('end time of func3 is ={}'.format(datetime.datetime.now()))        # this for giving the end time \n",
    "    \n",
    "    \n",
    "# now creating the processes as\n",
    "if __name__=='__main__':\n",
    "    p1=multiprocessing.Process(target=fun1())\n",
    "    p2=multiprocessing.Process(target=fun2())\n",
    "    p3=multiprocessing.Process(target=fun3())\n",
    "    \n",
    "#    for starting the processes as\n",
    "    p1.start()\n",
    "    p2.start()\n",
    "    p3.start()\n",
    "    \n",
    "#   wait for process 1 to finish \n",
    "    p1.join()\n",
    "    p2.join()\n",
    "    p3.join()\n",
    "    print('All the processes are executed and results are above')"
   ]
  },
  {
   "cell_type": "raw",
   "id": "1335a361",
   "metadata": {},
   "source": [
    "Ans--(7)\n",
    "dob=datetime.strptime('28/07/97','%d/%m/%y')\n",
    "print(dob)"
   ]
  },
  {
   "cell_type": "code",
   "execution_count": 9,
   "id": "ad44571b",
   "metadata": {},
   "outputs": [
    {
     "name": "stdout",
     "output_type": "stream",
     "text": [
      "1997-07-28 00:00:00\n"
     ]
    }
   ],
   "source": [
    "# 'dob' object for my date of birth \n",
    "dob=datetime.strptime('28/07/97','%d/%m/%y')\n",
    "print(dob)"
   ]
  },
  {
   "cell_type": "raw",
   "id": "ebbb1447",
   "metadata": {},
   "source": [
    "Ans--(8)\n",
    "day=datetime(1997,7,28)\n",
    "day.strftime('%A')\n"
   ]
  },
  {
   "cell_type": "code",
   "execution_count": 18,
   "id": "6646adcc",
   "metadata": {},
   "outputs": [
    {
     "data": {
      "text/plain": [
       "'Monday'"
      ]
     },
     "execution_count": 18,
     "metadata": {},
     "output_type": "execute_result"
    }
   ],
   "source": [
    "# what day of the week \n",
    "day=datetime(1997,7,28)\n",
    "day.strftime('%A')\n"
   ]
  },
  {
   "cell_type": "raw",
   "id": "eb943c99",
   "metadata": {},
   "source": [
    "Ans--(9)\n",
    "# date on which i was/will be 10,000  days old \n",
    "from datetime import timedelta\n",
    "\n",
    "dob=datetime.strptime('28/07/97','%d/%m/%y')\n",
    "future_date=dob+timedelta(10000)\n",
    "print(future_date)"
   ]
  },
  {
   "cell_type": "code",
   "execution_count": 22,
   "id": "2d62d5e4",
   "metadata": {},
   "outputs": [
    {
     "name": "stdout",
     "output_type": "stream",
     "text": [
      "2024-12-13 00:00:00\n"
     ]
    }
   ],
   "source": [
    "# date on which i was/will be 10,000  days old \n",
    "# for doing this we need to import function 'timedelta' from module datetime as\n",
    "from datetime import timedelta\n",
    "\n",
    "dob=datetime.strptime('28/07/97','%d/%m/%y')\n",
    "future_date=dob+timedelta(10000)\n",
    "print(future_date)\n",
    "# as we can see the future date below "
   ]
  },
  {
   "cell_type": "code",
   "execution_count": null,
   "id": "625b226b",
   "metadata": {},
   "outputs": [],
   "source": []
  }
 ],
 "metadata": {
  "kernelspec": {
   "display_name": "Python 3 (ipykernel)",
   "language": "python",
   "name": "python3"
  },
  "language_info": {
   "codemirror_mode": {
    "name": "ipython",
    "version": 3
   },
   "file_extension": ".py",
   "mimetype": "text/x-python",
   "name": "python",
   "nbconvert_exporter": "python",
   "pygments_lexer": "ipython3",
   "version": "3.9.12"
  }
 },
 "nbformat": 4,
 "nbformat_minor": 5
}
