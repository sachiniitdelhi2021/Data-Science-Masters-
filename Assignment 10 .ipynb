{
 "cells": [
  {
   "cell_type": "raw",
   "id": "7117da75",
   "metadata": {},
   "source": [
    "1. How do you distinguish between shutil.copy() and shutil.copytree()?\n",
    "2. What function is used to rename files??\n",
    "3. What is the difference between the delete functions in the send2trash and shutil modules?\n",
    "4.ZipFile objects have a close() method just like File objects’ close() method. What ZipFile method is equivalent to File objects’ open() method?\n",
    "5. Create a programme that searches a folder tree for files with a certain file extension (such as .pdf or .jpg). Copy these files from whatever location they are in to a new folder.\n",
    "\n"
   ]
  },
  {
   "cell_type": "raw",
   "id": "40069e6b",
   "metadata": {},
   "source": [
    "1. How do you distinguish between shutil.copy() and shutil.copytree()?\n",
    "Ans-- shutil.copy() -- is used for copying the content of source file to destination file or directory, the source must be a file \n",
    "whereas the destination can be file or directory, if destination is directory than file from source will be coped inside it with \n",
    "the name as basename from path of source file but if the destination is file and if already exist than it will be replaced by the \n",
    "source file otherwise it will be created if not exist \n",
    "\n",
    "shutil.copytree() -- this function will copy the tree of source directory(containing all files and folders) to destination \n",
    "directory, the destination directory should not exist it will be created at the time of copying from source directory "
   ]
  },
  {
   "cell_type": "raw",
   "id": "bf16b65f",
   "metadata": {},
   "source": [
    "2. What function is used to rename files??\n",
    "Ans-- we use function rename()  of os (operating system) module after importing module os \n",
    "\n",
    "import os\n",
    "os.rename(abc.txt,dfg.txt)    # abc - is the old name of file \n",
    "                              # dfg - will be the new name of file "
   ]
  },
  {
   "cell_type": "raw",
   "id": "6d02983c",
   "metadata": {},
   "source": [
    "3. What is the difference between the delete functions in the send2trash and shutil modules?\n",
    "Ans-- the delete function in send2trash module does not permanently delete any file or folder rather it sends all such files to \n",
    "trash/bin, whereas delete function in shutil module permanently delete the selected file or folder \n",
    "\n",
    "send2trash function takes the path of the file or folder to be deleted "
   ]
  },
  {
   "cell_type": "raw",
   "id": "69a6a76c",
   "metadata": {},
   "source": [
    "4.ZipFile objects have a close() method just like File objects’ close() method. What ZipFile method is equivalent to File objects’ open() method?\n",
    "Ans--- similar to files open() method ZipFile.open()  method can be used  for opening the zipfiles "
   ]
  },
  {
   "cell_type": "raw",
   "id": "95869b6a",
   "metadata": {},
   "source": [
    "5. Create a programme that searches a folder tree for files with a certain file extension (such as .pdf or .jpg). Copy these files from whatever location they are in to a new folder.\n",
    "\n",
    "Ans--  "
   ]
  },
  {
   "cell_type": "code",
   "execution_count": 6,
   "id": "018ab14c",
   "metadata": {
    "collapsed": true
   },
   "outputs": [
    {
     "name": "stdout",
     "output_type": "stream",
     "text": [
      "enter the path of source folder:D:\\\n",
      "enter the file type(like .jpg,.txt etc):.docx\n",
      "enter the path of destination folderD:\\ALL Word files\n",
      "D:\\Assignment_10.docx\n",
      "D:\\Assignment_11.docx\n",
      "D:\\Assignment_12.docx\n",
      "D:\\Assignment_13.docx\n",
      "D:\\Assignment_14.docx\n",
      "D:\\Assignment_15.docx\n",
      "D:\\$RECYCLE.BIN\\S-1-5-21-2342779644-618588178-2988896166-1001\\$I3O5AS1.docx\n",
      "D:\\$RECYCLE.BIN\\S-1-5-21-2342779644-618588178-2988896166-1001\\$I5D20V7.docx\n",
      "D:\\$RECYCLE.BIN\\S-1-5-21-2342779644-618588178-2988896166-1001\\$I71S3SQ.docx\n",
      "D:\\$RECYCLE.BIN\\S-1-5-21-2342779644-618588178-2988896166-1001\\$I7YA78E.docx\n",
      "D:\\$RECYCLE.BIN\\S-1-5-21-2342779644-618588178-2988896166-1001\\$I8BWVOP.docx\n",
      "D:\\$RECYCLE.BIN\\S-1-5-21-2342779644-618588178-2988896166-1001\\$IA917CR.docx\n",
      "D:\\$RECYCLE.BIN\\S-1-5-21-2342779644-618588178-2988896166-1001\\$IEN79J3.docx\n",
      "D:\\$RECYCLE.BIN\\S-1-5-21-2342779644-618588178-2988896166-1001\\$IISPAGP.docx\n",
      "D:\\$RECYCLE.BIN\\S-1-5-21-2342779644-618588178-2988896166-1001\\$ILAJYVO.docx\n",
      "D:\\$RECYCLE.BIN\\S-1-5-21-2342779644-618588178-2988896166-1001\\$IP01IRJ.docx\n",
      "D:\\$RECYCLE.BIN\\S-1-5-21-2342779644-618588178-2988896166-1001\\$IYSP90N.docx\n",
      "D:\\$RECYCLE.BIN\\S-1-5-21-2342779644-618588178-2988896166-1001\\$IZWZKHT.docx\n",
      "D:\\$RECYCLE.BIN\\S-1-5-21-2342779644-618588178-2988896166-1001\\$R3O5AS1.docx\n",
      "D:\\$RECYCLE.BIN\\S-1-5-21-2342779644-618588178-2988896166-1001\\$R5D20V7.docx\n",
      "D:\\$RECYCLE.BIN\\S-1-5-21-2342779644-618588178-2988896166-1001\\$R71S3SQ.docx\n",
      "D:\\$RECYCLE.BIN\\S-1-5-21-2342779644-618588178-2988896166-1001\\$R7YA78E.docx\n",
      "D:\\$RECYCLE.BIN\\S-1-5-21-2342779644-618588178-2988896166-1001\\$R8BWVOP.docx\n",
      "D:\\$RECYCLE.BIN\\S-1-5-21-2342779644-618588178-2988896166-1001\\$RA917CR.docx\n",
      "D:\\$RECYCLE.BIN\\S-1-5-21-2342779644-618588178-2988896166-1001\\$REN79J3.docx\n",
      "D:\\$RECYCLE.BIN\\S-1-5-21-2342779644-618588178-2988896166-1001\\$RISPAGP.docx\n",
      "D:\\$RECYCLE.BIN\\S-1-5-21-2342779644-618588178-2988896166-1001\\$RLAJYVO.docx\n",
      "D:\\$RECYCLE.BIN\\S-1-5-21-2342779644-618588178-2988896166-1001\\$RP01IRJ.docx\n",
      "D:\\$RECYCLE.BIN\\S-1-5-21-2342779644-618588178-2988896166-1001\\$RYSP90N.docx\n",
      "D:\\$RECYCLE.BIN\\S-1-5-21-2342779644-618588178-2988896166-1001\\$RZWZKHT.docx\n",
      "D:\\ALL Word files\\$I3O5AS1.docx\n"
     ]
    },
    {
     "ename": "SameFileError",
     "evalue": "'D:\\\\ALL Word files\\\\$I3O5AS1.docx' and 'D:\\\\ALL Word files\\\\$I3O5AS1.docx' are the same file",
     "output_type": "error",
     "traceback": [
      "\u001b[1;31m---------------------------------------------------------------------------\u001b[0m",
      "\u001b[1;31mSameFileError\u001b[0m                             Traceback (most recent call last)",
      "Input \u001b[1;32mIn [6]\u001b[0m, in \u001b[0;36m<cell line: 10>\u001b[1;34m()\u001b[0m\n\u001b[0;32m     13\u001b[0m     path\u001b[38;5;241m=\u001b[39mos\u001b[38;5;241m.\u001b[39mpath\u001b[38;5;241m.\u001b[39mjoin(folders,file)\n\u001b[0;32m     14\u001b[0m     \u001b[38;5;28mprint\u001b[39m(path)\n\u001b[1;32m---> 15\u001b[0m     \u001b[43mshutil\u001b[49m\u001b[38;5;241;43m.\u001b[39;49m\u001b[43mcopy\u001b[49m\u001b[43m(\u001b[49m\u001b[43mpath\u001b[49m\u001b[43m,\u001b[49m\u001b[43mdestinationfolder\u001b[49m\u001b[43m)\u001b[49m\n\u001b[0;32m     17\u001b[0m \u001b[38;5;28;01melse\u001b[39;00m:\n\u001b[0;32m     18\u001b[0m     \u001b[38;5;28;01mcontinue\u001b[39;00m\n",
      "File \u001b[1;32m~\\anaconda3\\lib\\shutil.py:427\u001b[0m, in \u001b[0;36mcopy\u001b[1;34m(src, dst, follow_symlinks)\u001b[0m\n\u001b[0;32m    425\u001b[0m \u001b[38;5;28;01mif\u001b[39;00m os\u001b[38;5;241m.\u001b[39mpath\u001b[38;5;241m.\u001b[39misdir(dst):\n\u001b[0;32m    426\u001b[0m     dst \u001b[38;5;241m=\u001b[39m os\u001b[38;5;241m.\u001b[39mpath\u001b[38;5;241m.\u001b[39mjoin(dst, os\u001b[38;5;241m.\u001b[39mpath\u001b[38;5;241m.\u001b[39mbasename(src))\n\u001b[1;32m--> 427\u001b[0m \u001b[43mcopyfile\u001b[49m\u001b[43m(\u001b[49m\u001b[43msrc\u001b[49m\u001b[43m,\u001b[49m\u001b[43m \u001b[49m\u001b[43mdst\u001b[49m\u001b[43m,\u001b[49m\u001b[43m \u001b[49m\u001b[43mfollow_symlinks\u001b[49m\u001b[38;5;241;43m=\u001b[39;49m\u001b[43mfollow_symlinks\u001b[49m\u001b[43m)\u001b[49m\n\u001b[0;32m    428\u001b[0m copymode(src, dst, follow_symlinks\u001b[38;5;241m=\u001b[39mfollow_symlinks)\n\u001b[0;32m    429\u001b[0m \u001b[38;5;28;01mreturn\u001b[39;00m dst\n",
      "File \u001b[1;32m~\\anaconda3\\lib\\shutil.py:244\u001b[0m, in \u001b[0;36mcopyfile\u001b[1;34m(src, dst, follow_symlinks)\u001b[0m\n\u001b[0;32m    241\u001b[0m sys\u001b[38;5;241m.\u001b[39maudit(\u001b[38;5;124m\"\u001b[39m\u001b[38;5;124mshutil.copyfile\u001b[39m\u001b[38;5;124m\"\u001b[39m, src, dst)\n\u001b[0;32m    243\u001b[0m \u001b[38;5;28;01mif\u001b[39;00m _samefile(src, dst):\n\u001b[1;32m--> 244\u001b[0m     \u001b[38;5;28;01mraise\u001b[39;00m SameFileError(\u001b[38;5;124m\"\u001b[39m\u001b[38;5;132;01m{!r}\u001b[39;00m\u001b[38;5;124m and \u001b[39m\u001b[38;5;132;01m{!r}\u001b[39;00m\u001b[38;5;124m are the same file\u001b[39m\u001b[38;5;124m\"\u001b[39m\u001b[38;5;241m.\u001b[39mformat(src, dst))\n\u001b[0;32m    246\u001b[0m file_size \u001b[38;5;241m=\u001b[39m \u001b[38;5;241m0\u001b[39m\n\u001b[0;32m    247\u001b[0m \u001b[38;5;28;01mfor\u001b[39;00m i, fn \u001b[38;5;129;01min\u001b[39;00m \u001b[38;5;28menumerate\u001b[39m([src, dst]):\n",
      "\u001b[1;31mSameFileError\u001b[0m: 'D:\\\\ALL Word files\\\\$I3O5AS1.docx' and 'D:\\\\ALL Word files\\\\$I3O5AS1.docx' are the same file"
     ]
    }
   ],
   "source": [
    "import os \n",
    "import shutil \n",
    "\n",
    "# for taking source folder,destination folder and also file type as input for saving into new folder \n",
    "\n",
    "sourcefolder=input('enter the path of source folder:')\n",
    "filetype=input('enter the file type(like .jpg,.txt etc):')\n",
    "destinationfolder=input('enter the path of destination folder')\n",
    "\n",
    "for folders,subfolders,files in os.walk(sourcefolder):\n",
    "    for file in files:\n",
    "        if file.endswith(filetype):\n",
    "            path=os.path.join(folders,file)\n",
    "            print(path)\n",
    "            shutil.copy(path,destinationfolder)\n",
    "           \n",
    "        else:\n",
    "            continue"
   ]
  },
  {
   "cell_type": "code",
   "execution_count": null,
   "id": "76cd7e76",
   "metadata": {},
   "outputs": [],
   "source": []
  }
 ],
 "metadata": {
  "kernelspec": {
   "display_name": "Python 3 (ipykernel)",
   "language": "python",
   "name": "python3"
  },
  "language_info": {
   "codemirror_mode": {
    "name": "ipython",
    "version": 3
   },
   "file_extension": ".py",
   "mimetype": "text/x-python",
   "name": "python",
   "nbconvert_exporter": "python",
   "pygments_lexer": "ipython3",
   "version": "3.9.12"
  }
 },
 "nbformat": 4,
 "nbformat_minor": 5
}
