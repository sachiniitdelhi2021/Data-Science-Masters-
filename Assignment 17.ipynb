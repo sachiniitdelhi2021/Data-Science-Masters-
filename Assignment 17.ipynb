{
 "cells": [
  {
   "cell_type": "raw",
   "id": "ebcf64a6",
   "metadata": {},
   "source": [
    "1. Assign the value 7 to the variable guess_me. Then, write the conditional tests (if, else, and elif) to print the string 'too low' if guess_me is less than 7, 'too high' if greater than 7, and 'just right' if equal to 7.\n",
    "2. Assign the value 7 to the variable guess_me and the value 1 to the variable start. Write a while loop that compares start with guess_me. Print too low if start is less than guess me. If start equals guess_me, print 'found it!' and exit the loop. If start is greater than guess_me, print 'oops' and exit the loop. Increment start at the end of the loop.\n",
    "3. Print the following values of the list [3, 2, 1, 0] using a for loop.\n",
    "4. Use a list comprehension to make a list of the even numbers in range(10)\n",
    "5. Use a dictionary comprehension to create the dictionary squares. Use range(10) to return the keys, and use the square of each key as its value.\n",
    "6. Construct the set odd from the odd numbers in the range using a set comprehension (10).\n",
    "7. Use a generator comprehension to return the string 'Got ' and a number for the numbers in range(10). Iterate through this by using a for loop.\n",
    "8. Define a function called good that returns the list ['Harry', 'Ron', 'Hermione'].\n",
    "9. Define a generator function called get_odds that returns the odd numbers from range(10). Use a for loop to find and print the third value returned.\n",
    "10. Define an exception called OopsException. Raise this exception to see what happens. Then write the code to catch this exception and print 'Caught an oops'.\n",
    "11. Use zip() to make a dictionary called movies that pairs these lists: titles = ['Creature of Habit', 'Crewel Fate'] and plots = ['A nun turns into a monster', 'A haunted yarn shop'].\n",
    "\n"
   ]
  },
  {
   "cell_type": "raw",
   "id": "100d1146",
   "metadata": {},
   "source": [
    "1. Assign the value 7 to the variable guess_me. Then, write the conditional tests (if, else, and elif) to print the string 'too low' if guess_me is less than 7, 'too high' if greater than 7, and 'just right' if equal to 7.\n",
    "\n",
    "Ans-- \n",
    "guess_me=int(input())\n",
    "\n",
    "if guess_me<7:\n",
    "    print('too low:')\n",
    "    \n",
    "elif guess_me>7:\n",
    "    print('too high:')\n",
    "else:\n",
    "    print('just right:')"
   ]
  },
  {
   "cell_type": "code",
   "execution_count": 7,
   "id": "1208963a",
   "metadata": {},
   "outputs": [
    {
     "name": "stdout",
     "output_type": "stream",
     "text": [
      "7\n",
      "just right:\n"
     ]
    }
   ],
   "source": [
    "guess_me=int(input())\n",
    "\n",
    "if guess_me<7:\n",
    "    print('too low:')\n",
    "    \n",
    "elif guess_me>7:\n",
    "    print('too high:')\n",
    "else:\n",
    "    print('just right:')"
   ]
  },
  {
   "cell_type": "raw",
   "id": "22110c51",
   "metadata": {},
   "source": [
    "2. Assign the value 7 to the variable guess_me and the value 1 to the variable start. Write a while loop that compares start with guess_me. Print too low if start is less than guess me. If start equals guess_me, print 'found it!' and exit the loop. If start is greater than guess_me, print 'oops' and exit the loop. Increment start at the end of the loop.\n",
    "\n",
    "Ans-- "
   ]
  },
  {
   "cell_type": "code",
   "execution_count": 11,
   "id": "9d3805f7",
   "metadata": {},
   "outputs": [
    {
     "name": "stdout",
     "output_type": "stream",
     "text": [
      "too low\n",
      "too low\n",
      "too low\n",
      "too low\n",
      "too low\n",
      "too low\n",
      "found it\n",
      "oops\n"
     ]
    }
   ],
   "source": [
    "guess_me=7\n",
    "start=1\n",
    "\n",
    "while True: \n",
    "    if start<guess_me:\n",
    "        print('too low')\n",
    "    elif start==guess_me:\n",
    "        print('found it')\n",
    "        \n",
    "    elif start>guess_me:\n",
    "        print('oops')\n",
    "        break\n",
    "    start=start+1\n"
   ]
  },
  {
   "cell_type": "raw",
   "id": "98edb8af",
   "metadata": {},
   "source": [
    "3. Print the following values of the list [3, 2, 1, 0] using a for loop.\n",
    "Ans-- \n",
    "l=[3, 2, 1, 0]\n",
    "for i in l:\n",
    "    print(i)"
   ]
  },
  {
   "cell_type": "code",
   "execution_count": 16,
   "id": "5f026cfe",
   "metadata": {},
   "outputs": [
    {
     "name": "stdout",
     "output_type": "stream",
     "text": [
      "3\n",
      "2\n",
      "1\n",
      "0\n"
     ]
    }
   ],
   "source": [
    "l=[3, 2, 1, 0]\n",
    "for i in l:\n",
    "    print(i)"
   ]
  },
  {
   "cell_type": "raw",
   "id": "56b0f2b0",
   "metadata": {},
   "source": [
    "4. Use a list comprehension to make a list of the even numbers in range(10)\n",
    "Ans-- \n",
    "# using list comprehension\n",
    "# printing all even numbers with range as-- 10 \n",
    "[2*i for i in range(1,10)]"
   ]
  },
  {
   "cell_type": "code",
   "execution_count": 20,
   "id": "647758c3",
   "metadata": {},
   "outputs": [
    {
     "data": {
      "text/plain": [
       "[2, 4, 6, 8, 10, 12, 14, 16, 18]"
      ]
     },
     "execution_count": 20,
     "metadata": {},
     "output_type": "execute_result"
    }
   ],
   "source": [
    "[2*i for i in range(1,10)]"
   ]
  },
  {
   "cell_type": "raw",
   "id": "11896a40",
   "metadata": {},
   "source": [
    "5. Use a dictionary comprehension to create the dictionary squares. Use range(10) to return the keys, and use the square of each key as its value.\n",
    "Ans--\n",
    "# using dictionary comprehension as\n",
    "{i:i**2 for i in range(10)}"
   ]
  },
  {
   "cell_type": "code",
   "execution_count": 19,
   "id": "51281196",
   "metadata": {},
   "outputs": [
    {
     "data": {
      "text/plain": [
       "{0: 0, 1: 1, 2: 4, 3: 9, 4: 16, 5: 25, 6: 36, 7: 49, 8: 64, 9: 81}"
      ]
     },
     "execution_count": 19,
     "metadata": {},
     "output_type": "execute_result"
    }
   ],
   "source": [
    "{i:i**2 for i in range(10)}"
   ]
  },
  {
   "cell_type": "raw",
   "id": "04509d94",
   "metadata": {},
   "source": [
    "6. Construct the set odd from the odd numbers in the range using a set comprehension (10).\n",
    "Ans-- \n",
    "# using set comprehension as \n",
    "{2*i+1 for i in range(10)}"
   ]
  },
  {
   "cell_type": "code",
   "execution_count": 21,
   "id": "b6b4c462",
   "metadata": {},
   "outputs": [
    {
     "data": {
      "text/plain": [
       "{1, 3, 5, 7, 9, 11, 13, 15, 17, 19}"
      ]
     },
     "execution_count": 21,
     "metadata": {},
     "output_type": "execute_result"
    }
   ],
   "source": [
    "{2*i+1 for i in range(10)}"
   ]
  },
  {
   "cell_type": "raw",
   "id": "0059aab5",
   "metadata": {},
   "source": [
    "7. Use a generator comprehension to return the string 'Got ' and a number for the numbers in range(10). Iterate through this by using a for loop.\n",
    "Ans--"
   ]
  },
  {
   "cell_type": "code",
   "execution_count": 17,
   "id": "180ddb47",
   "metadata": {},
   "outputs": [
    {
     "name": "stdout",
     "output_type": "stream",
     "text": [
      "Got  0\n",
      "Got  1\n",
      "Got  2\n",
      "Got  3\n",
      "Got  4\n",
      "Got  5\n",
      "Got  6\n",
      "Got  7\n",
      "Got  8\n",
      "Got  9\n"
     ]
    }
   ],
   "source": [
    "generator=('Got'+'  '+str(i) for i in range(10))\n",
    "\n",
    "# now using for loop \n",
    "for i in generator:\n",
    "    print(i)"
   ]
  },
  {
   "cell_type": "raw",
   "id": "ea3dd674",
   "metadata": {},
   "source": [
    "8. Define a function called good that returns the list ['Harry', 'Ron', 'Hermione'].\n",
    "Ans-- \n",
    "# function \n",
    "l= ['Harry', 'Ron', 'Hermione']\n",
    "def good():\n",
    "    return l \n",
    "    "
   ]
  },
  {
   "cell_type": "code",
   "execution_count": 22,
   "id": "d63002bf",
   "metadata": {},
   "outputs": [],
   "source": [
    "l= ['Harry', 'Ron', 'Hermione']\n",
    "def good():\n",
    "    return l \n",
    "    "
   ]
  },
  {
   "cell_type": "code",
   "execution_count": 23,
   "id": "18fe73aa",
   "metadata": {},
   "outputs": [
    {
     "data": {
      "text/plain": [
       "['Harry', 'Ron', 'Hermione']"
      ]
     },
     "execution_count": 23,
     "metadata": {},
     "output_type": "execute_result"
    }
   ],
   "source": [
    "good()"
   ]
  },
  {
   "cell_type": "raw",
   "id": "4fdd55d0",
   "metadata": {},
   "source": [
    "9. Define a generator function called get_odds that returns the odd numbers from range(10). Use a for loop to find and print the third value returned.\n",
    "Ans--- "
   ]
  },
  {
   "cell_type": "code",
   "execution_count": 20,
   "id": "4a76cc3b",
   "metadata": {},
   "outputs": [
    {
     "name": "stdout",
     "output_type": "stream",
     "text": [
      "the value returned is : 5\n"
     ]
    }
   ],
   "source": [
    "# creating a generator function as \n",
    "def get_odds():\n",
    "    for i in range(1,10,2):\n",
    "        yield i\n",
    "        \n",
    "# using for loop \n",
    "count=1\n",
    "for i in get_odds():\n",
    "    if count==3:\n",
    "        print('the value returned is :',i)\n",
    "        break\n",
    "    count=count+1\n",
    "   "
   ]
  },
  {
   "cell_type": "code",
   "execution_count": 61,
   "id": "e9505b76",
   "metadata": {},
   "outputs": [
    {
     "data": {
      "text/plain": [
       "([1, 3, 5, 7, 9, 11, 13, 15, 17, 19], 7)"
      ]
     },
     "execution_count": 61,
     "metadata": {},
     "output_type": "execute_result"
    }
   ],
   "source": [
    "#  we will get both a list of all odd numbers and also the returned number at asked position  \n",
    "get_odds(10,3)    # here '3' is the index value and this will give number at 4th position "
   ]
  },
  {
   "cell_type": "raw",
   "id": "457731cb",
   "metadata": {},
   "source": [
    "10. Define an exception called OopsException. Raise this exception to see what happens. Then write the code to catch this exception and print 'Caught an oops'.\n",
    "Ans-- \n"
   ]
  },
  {
   "cell_type": "code",
   "execution_count": 38,
   "id": "1b800433",
   "metadata": {},
   "outputs": [
    {
     "name": "stdout",
     "output_type": "stream",
     "text": [
      "Caught an oops\n"
     ]
    }
   ],
   "source": [
    "# defining an exception as \n",
    "class OopsException(Exception):\n",
    "    pass\n",
    "def raiseException(a):\n",
    "    if a==1:\n",
    "        raise OopsException(a)\n",
    "            \n",
    "# using try and except block as\n",
    "try:\n",
    "    raiseException(1)\n",
    "except OopsException as e:\n",
    "    print('Caught an oops')"
   ]
  },
  {
   "cell_type": "raw",
   "id": "ccfc98a7",
   "metadata": {},
   "source": [
    "11. Use zip() to make a dictionary called movies that pairs these lists: titles = ['Creature of Habit', 'Crewel Fate'] and plots = ['A nun turns into a monster', 'A haunted yarn shop'].\n",
    "Ans--"
   ]
  },
  {
   "cell_type": "code",
   "execution_count": 39,
   "id": "57890d51",
   "metadata": {},
   "outputs": [],
   "source": [
    "\n",
    "titles = ['Creature of Habit', 'Crewel Fate']\n",
    "plots = ['A nun turns into a monster', 'A haunted yarn shop']\n",
    "\n",
    "# using zip() as \n",
    "zipped=dict(zip(titles,plots))    #zipped is just a variable \n",
    "\n",
    "# if all elements of list 'titles' are going to beha ve as keys \n",
    "#  and all elements of list 'plots' are going to brhave as there values than using zip()  we can do this "
   ]
  },
  {
   "cell_type": "code",
   "execution_count": 40,
   "id": "14b867ce",
   "metadata": {},
   "outputs": [
    {
     "name": "stdout",
     "output_type": "stream",
     "text": [
      "{'Creature of Habit': 'A nun turns into a monster', 'Crewel Fate': 'A haunted yarn shop'}\n"
     ]
    }
   ],
   "source": [
    "print(zipped)"
   ]
  },
  {
   "cell_type": "code",
   "execution_count": 41,
   "id": "5b58d56f",
   "metadata": {},
   "outputs": [
    {
     "name": "stdout",
     "output_type": "stream",
     "text": [
      "{'A nun turns into a monster': 'Creature of Habit', 'A haunted yarn shop': 'Crewel Fate'}\n"
     ]
    }
   ],
   "source": [
    "# if we want elements  of list 'plots' to behave as keys and 'titles' as values than \n",
    "\n",
    "titles = ['Creature of Habit', 'Crewel Fate']\n",
    "plots = ['A nun turns into a monster', 'A haunted yarn shop']\n",
    "\n",
    "# using zip() as \n",
    "zipped=dict(zip(plots,titles))\n",
    "print(zipped)"
   ]
  },
  {
   "cell_type": "code",
   "execution_count": null,
   "id": "c5af2373",
   "metadata": {},
   "outputs": [],
   "source": []
  }
 ],
 "metadata": {
  "kernelspec": {
   "display_name": "Python 3 (ipykernel)",
   "language": "python",
   "name": "python3"
  },
  "language_info": {
   "codemirror_mode": {
    "name": "ipython",
    "version": 3
   },
   "file_extension": ".py",
   "mimetype": "text/x-python",
   "name": "python",
   "nbconvert_exporter": "python",
   "pygments_lexer": "ipython3",
   "version": "3.9.12"
  }
 },
 "nbformat": 4,
 "nbformat_minor": 5
}
