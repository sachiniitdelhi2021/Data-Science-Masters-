{
 "cells": [
  {
   "cell_type": "raw",
   "id": "72bd1ddf",
   "metadata": {},
   "source": [
    "1. What is the relationship between def statements and lambda expressions ?\n",
    "2. What is the benefit of lambda?\n",
    "3. Compare and contrast map, filter, and reduce.\n",
    "4. What are function annotations, and how are they used?\n",
    "5. What are recursive functions, and how are they used?\n",
    "6. What are some general design guidelines for coding functions?\n",
    "7. Name three or more ways that functions can communicate results to a caller.\n",
    "\n"
   ]
  },
  {
   "cell_type": "raw",
   "id": "da12ffc9",
   "metadata": {},
   "source": [
    "1. What is the relationship between def statements and lambda expressions ?\n",
    "Ans-- def is just a key word which means definition and is used for defining any function ,first we give keyword def and than we give the name of the function than comes the body of the function and finaly at the end return or print statement to get  output from the function.\n",
    "\n",
    "lambda is not a function it is just a keyword which is used so that we don't need to give the name of the function, nither we \n",
    "need to end either using return or print as in case of function all we need is giving the number of required arguments and after colon we give what we need in output as expressions containing the arguments \n",
    "\n",
    "the relationship b/w two is that both are used to get output after some operation and both reduces the work in terms of writing \n",
    "the number of code lines again and again boz the function defined using def can be reused whereever needed and the lambda is just a work of one line, no need to write lines of code when using lambda in this sense it makes the work easy \n",
    "\n",
    "ex- function---\n",
    "def addition(a,b):\n",
    "    return a+b\n",
    "\n",
    "# addition is the name of the function and a,b are two input arguments and return is used so that when function will be called \n",
    "it will return the sum of two parameters a and b\n",
    "\n",
    "ex-- lambda-- \n",
    "lambda a,b:a+b\n",
    "# this will also give the same output as function addition but in thid case the code is just in one single line unlike any normal function "
   ]
  },
  {
   "cell_type": "code",
   "execution_count": 2,
   "id": "dbd84426",
   "metadata": {},
   "outputs": [],
   "source": [
    "# function \n",
    "def addition(a,b):\n",
    "    return a+b\n",
    "    "
   ]
  },
  {
   "cell_type": "code",
   "execution_count": 4,
   "id": "e4549537",
   "metadata": {},
   "outputs": [
    {
     "data": {
      "text/plain": [
       "5"
      ]
     },
     "execution_count": 4,
     "metadata": {},
     "output_type": "execute_result"
    }
   ],
   "source": [
    "addition(2,3)"
   ]
  },
  {
   "cell_type": "code",
   "execution_count": 7,
   "id": "ac7a118b",
   "metadata": {},
   "outputs": [],
   "source": [
    "# use of lambda and saving the output of this inside a variable 'x'\n",
    "x=lambda a,b:a+b"
   ]
  },
  {
   "cell_type": "code",
   "execution_count": 8,
   "id": "a40ed47b",
   "metadata": {},
   "outputs": [
    {
     "name": "stdout",
     "output_type": "stream",
     "text": [
      "5\n"
     ]
    }
   ],
   "source": [
    "print(x(2,3))"
   ]
  },
  {
   "cell_type": "raw",
   "id": "7605248c",
   "metadata": {},
   "source": [
    "2. What is the benefit of lambda?\n",
    "Ans-- the benefits of using lambda are --\n",
    "\n",
    "1) we don't need to give the name to the function, without it also we gets an output \n",
    "2) unlike function we don't need to use return or print statements in case of lambda without it also it gives output  by default \n",
    "3) we only need to write single line of code unlike any normal function which includes multiple lines of code \n",
    "4) in case of lambda we don't use parenthesis () which we use in case of any normal function  "
   ]
  },
  {
   "cell_type": "raw",
   "id": "fe906ff2",
   "metadata": {},
   "source": [
    "3. Compare and contrast map, filter, and reduce.\n",
    "Ans-- \n",
    "1)map() function -\n",
    "map function iterates through all the items given in iterable and executes the function given as an argument inside map function \n",
    "on all these items and based on the nature of the function we gets a result as\n",
    "\n",
    "ex-- for map() function is given below \n",
    "ex- for filter() function is given below \n",
    "ex- for reduce() function is given below "
   ]
  },
  {
   "cell_type": "code",
   "execution_count": 32,
   "id": "5ac94fcd",
   "metadata": {},
   "outputs": [
    {
     "name": "stdout",
     "output_type": "stream",
     "text": [
      "[True, False, False, True, False]\n"
     ]
    }
   ],
   "source": [
    "# example of map() function as \n",
    "def fun(s):\n",
    "    return s[0]=='A'\n",
    "\n",
    "fruits=[\"Apple\", \"Banana\", \"Pear\", \"Apricot\", \"Orange\"]\n",
    "\n",
    "# now we will create a variable which will hold the outputs of map function as\n",
    "Map=map(fun,fruits)\n",
    "\n",
    "a=[]\n",
    "for i in Map:\n",
    "    a.append(i)\n",
    "print(a)\n",
    "\n",
    "#  '''in this we are getting output for each item of the iterable when passed inside the main function and based on the nature of \n",
    "# operation of the function''' "
   ]
  },
  {
   "cell_type": "code",
   "execution_count": 35,
   "id": "159205a0",
   "metadata": {},
   "outputs": [
    {
     "name": "stdout",
     "output_type": "stream",
     "text": [
      "['Apple', 'Apricot']\n"
     ]
    }
   ],
   "source": [
    "# example of filter() function as \n",
    "def fun(s):\n",
    "    return s[0]=='A'\n",
    "\n",
    "fruits=[\"Apple\", \"Banana\", \"Pear\", \"Apricot\", \"Orange\"]\n",
    "\n",
    "# now we will create a variable which will hold the outputs of filter function as\n",
    "Filter=filter(fun,fruits)\n",
    "\n",
    "a=[]\n",
    "for i in Filter:\n",
    "    a.append(i)\n",
    "print(a)\n",
    "\n",
    "#  '''in this we are getting output a list which contains only those items of the main list fruits which satifies the condition \n",
    "#  of the main function "
   ]
  },
  {
   "cell_type": "code",
   "execution_count": 37,
   "id": "f93c5bfb",
   "metadata": {},
   "outputs": [
    {
     "name": "stdout",
     "output_type": "stream",
     "text": [
      "10\n"
     ]
    }
   ],
   "source": [
    "# example of reduce() function as \n",
    "# reduce function is not available in python 3 so we have to import from  module functools as \n",
    "from functools import reduce \n",
    "def add(x,y):\n",
    "    return x+y\n",
    "\n",
    "b=[1,2,3,4]\n",
    "\n",
    "# now we will create a variable which will hold the outputs of map function as\n",
    "Reduce=reduce(add,b)\n",
    "print(Reduce)\n",
    "\n",
    "# what happens in case of reduce function - this function is different from map and filter functions in this function it is taking \n",
    "# two values in starting from the list 'b' and using them as 'x' and 'y' to get result from main function 'add' the output of this\n",
    "# is again given to function along with next value from list and this happens till the last value of list is used inside fucntion \n",
    "# and finally we get the final most output \n"
   ]
  },
  {
   "cell_type": "raw",
   "id": "24d43662",
   "metadata": {},
   "source": [
    "4. What are function annotations, and how are they used?\n",
    "Ans-- \n",
    "Function annotations are arbitrary python expressions that are associated with various part of functions. These expressions are evaluated at compile time and have no life in python’s runtime environment. Python does not attach any meaning to these annotations. They take life when interpreted by third party libraries, for example, mypy.\n",
    "\n",
    "ex-- given below is one of the example\n",
    "\n",
    "1) Annotations for simple parameters : The argument name is followed by ‘:’ which is then followed by the expression. Annotation syntax is shown below.\n",
    "\n",
    "def foobar(a: expression, b: expression = 5):"
   ]
  },
  {
   "cell_type": "raw",
   "id": "34a97816",
   "metadata": {},
   "source": [
    "5. What are recursive functions, and how are they used?\n",
    "Ans-- \n",
    "A recursive function is a function that calls itself during its execution. \n",
    "This means that the function will continue to call itself and repeat its behavior until some condition is met to return \n",
    "a result\n",
    "\n",
    "ex---1) function calling itself (directly)\n"
   ]
  },
  {
   "cell_type": "code",
   "execution_count": 39,
   "id": "7e5002a2",
   "metadata": {},
   "outputs": [
    {
     "data": {
      "text/plain": [
       "6"
      ]
     },
     "execution_count": 39,
     "metadata": {},
     "output_type": "execute_result"
    }
   ],
   "source": [
    "# example\n",
    "def fact(x):\n",
    "    if x == 1 :\n",
    "        return 1\n",
    "    else :\n",
    "        return x * fact(x-1) # recurtion\n",
    "    \n",
    "fact(3)"
   ]
  },
  {
   "cell_type": "raw",
   "id": "089518a5",
   "metadata": {},
   "source": [
    "6. What are some general design guidelines for coding functions?\n",
    "ans-- \n",
    "some of the design guidelines for coding any functions are--\n",
    "1) make a proper docstring which should contain all info about the function like the operation ,what are the required input \n",
    "arguments and what output fuction will return etc.\n",
    "2)the name of the function should be relevent and should reflect the nature of it's operation \n",
    "3) the name of all variables used inside the function should be relevant and all the variables should be well defined  \n",
    "4) use comments inside the function containing info about the variables for easy understanding for both coder and the user  \n",
    "5)Characters that should not be used for identifiers :\n",
    "    ‘l’ (lowercase letter el), \n",
    "    ‘O’ (uppercase letter oh), \n",
    "    ‘I’ (uppercase letter eye) as single character variable names as these are similar to the numerals one and zero.\n",
    "6) Don’t use non-ASCII characters in identifiers\n",
    "7) Name your classes and functions consistently\n",
    "8) While naming of function of methods always use self for the first argument\n",
    "9) Use of trailing commas : in case of tuple -> ('good',)\n",
    "10) use proper indentations inside function at various places  "
   ]
  },
  {
   "cell_type": "raw",
   "id": "e84f5589",
   "metadata": {},
   "source": [
    "7. Name three or more ways that functions can communicate results to a caller.\n",
    "Ans- \n",
    "there are many ways in which any function communicate it's results with the caller like\n",
    "1) the result may be any single value as output \n",
    "2)it may be a list\n",
    "3)it may be multiple values like in tuple\n",
    "4)it may be dictionary \n",
    "5) it may be a object like any class or any other function "
   ]
  }
 ],
 "metadata": {
  "kernelspec": {
   "display_name": "Python 3 (ipykernel)",
   "language": "python",
   "name": "python3"
  },
  "language_info": {
   "codemirror_mode": {
    "name": "ipython",
    "version": 3
   },
   "file_extension": ".py",
   "mimetype": "text/x-python",
   "name": "python",
   "nbconvert_exporter": "python",
   "pygments_lexer": "ipython3",
   "version": "3.9.12"
  }
 },
 "nbformat": 4,
 "nbformat_minor": 5
}
