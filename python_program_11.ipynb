{
 "cells": [
  {
   "cell_type": "raw",
   "id": "27919e64",
   "metadata": {},
   "source": [
    "1.\tWrite a Python program to find words which are greater than given length k?\n",
    "2.\tWrite a Python program for removing i-th character from a string?\n",
    "3.\tWrite a Python program to split and join a string?\n",
    "4.\tWrite a Python to check if a given string is binary string or not?\n",
    "5.\tWrite a Python program to find uncommon words from two Strings?\n",
    "6.\tWrite a Python to find all duplicate characters in string?\n",
    "7.\tWrite a Python Program to check if a string contains any special character?\n"
   ]
  },
  {
   "cell_type": "raw",
   "id": "6e8c5122",
   "metadata": {},
   "source": [
    "Ans--(1)  for getting all words of any input string which are greater than certain length 'k'"
   ]
  },
  {
   "cell_type": "code",
   "execution_count": 22,
   "id": "a80c2a3e",
   "metadata": {},
   "outputs": [
    {
     "name": "stdout",
     "output_type": "stream",
     "text": [
      "my name is sachin thakur\n",
      "extracting all words having length greater than=3\n",
      "The list containing all words of input string which are having length >k is: ['name', 'sachin', 'thakur']\n"
     ]
    }
   ],
   "source": [
    "# defining a function like\n",
    "\n",
    "def words_len_str(n,k):\n",
    "    global l\n",
    "    l=[]\n",
    "    for i in n:\n",
    "        \n",
    "        if len(i)>k:\n",
    "            l.append(i)\n",
    "    return l \n",
    "\n",
    "# inputs for the function \n",
    "n=list(map(str,input().split()))\n",
    "k=int(input('extracting all words having length greater than='))\n",
    "\n",
    "# calling function\n",
    "print('The list containing all words of input string which are having length >k is:',words_len_str(n,k))"
   ]
  },
  {
   "cell_type": "code",
   "execution_count": null,
   "id": "1e850291",
   "metadata": {},
   "outputs": [],
   "source": [
    "# using above function we can get the list containing all words of given string having length greater than k   "
   ]
  },
  {
   "cell_type": "raw",
   "id": "be264c42",
   "metadata": {},
   "source": [
    "Ans--(2) for removing any Ith character from given string "
   ]
  },
  {
   "cell_type": "code",
   "execution_count": 33,
   "id": "7fdde2f1",
   "metadata": {},
   "outputs": [
    {
     "name": "stdout",
     "output_type": "stream",
     "text": [
      "The string is :my name is sachin dangi\n",
      "The character we want to remove is:n\n",
      "The new string is: my ame is sachi dagi\n"
     ]
    }
   ],
   "source": [
    "# defining a function like\n",
    "\n",
    "def remv_char(n,k):\n",
    "    #'n' is the input string and 'k' is the character which we want to remove\n",
    "    l=list(n)\n",
    "    for i in l:\n",
    "        if i==k:\n",
    "            l.remove(i)\n",
    "    l=''.join(l)\n",
    "    return l\n",
    "\n",
    "# inputs for the function\n",
    "n=input('The string is :')\n",
    "k=input('The character we want to remove is:')\n",
    "\n",
    "# calling function\n",
    "print('The new string is:', remv_char(n,k))"
   ]
  },
  {
   "cell_type": "raw",
   "id": "838c2b95",
   "metadata": {},
   "source": [
    "Ans--(5) for getting all uncommon words from two strings "
   ]
  },
  {
   "cell_type": "code",
   "execution_count": 1,
   "id": "36b3bdbd",
   "metadata": {},
   "outputs": [
    {
     "name": "stdout",
     "output_type": "stream",
     "text": [
      "the first string is:my name is sachin thakur \n",
      "the second string is:my name is sachin dangi\n",
      "The list which contains all un-common words of two given string: ['thakur', 'dangi']\n"
     ]
    }
   ],
   "source": [
    "# defining a function like\n",
    "\n",
    "def uncom_words():\n",
    "    #first converting the two strings into two lists as \n",
    "    l1=list(map(str,input('the first string is:').split()))\n",
    "    l2=list(map(str,input('the second string is:').split()))\n",
    "    global l\n",
    "    l=[]\n",
    "    for i in l1:\n",
    "        if i not in l2:\n",
    "            l.append(i)\n",
    "    \n",
    "    for j in l2:\n",
    "        if j not in l1:\n",
    "            l.append(j)\n",
    "            \n",
    "    return l\n",
    "            \n",
    "        \n",
    "# calling function \n",
    "print('The list which contains all un-common words of two given string:',uncom_words())"
   ]
  },
  {
   "cell_type": "raw",
   "id": "7e14a7e6",
   "metadata": {},
   "source": [
    "Ans--(7) for checking string contains any special character "
   ]
  },
  {
   "cell_type": "code",
   "execution_count": 18,
   "id": "86c7669c",
   "metadata": {},
   "outputs": [
    {
     "name": "stdout",
     "output_type": "stream",
     "text": [
      "The input string is:@my@name is @sachin@dangi\n",
      "want to replace this special characters if present:@\n",
      "The string after removing the asked special character is:  my name is  sachin dangi\n"
     ]
    }
   ],
   "source": [
    "# defining function like\n",
    "\n",
    "def spec_charac(s,p):\n",
    "    for i in s:\n",
    "        if i in p:\n",
    "            s=s.replace(i,' ')\n",
    "    return s\n",
    "\n",
    "# inputs for the string \n",
    "s=input('The input string is:')\n",
    "p=input('want to replace this special characters if present:')\n",
    "\n",
    "# calling function \n",
    "print('The string after removing the asked special character is:',spec_charac(s,p))"
   ]
  },
  {
   "cell_type": "code",
   "execution_count": null,
   "id": "3d7ab81b",
   "metadata": {},
   "outputs": [],
   "source": [
    "# using above function we can replace any special character which we want from given string if that is present in given string "
   ]
  },
  {
   "cell_type": "raw",
   "id": "2ecf9b0e",
   "metadata": {},
   "source": [
    "Ans--(3)  for splitting and joining any given string"
   ]
  },
  {
   "cell_type": "code",
   "execution_count": 7,
   "id": "56246e71",
   "metadata": {},
   "outputs": [
    {
     "name": "stdout",
     "output_type": "stream",
     "text": [
      "The given string is:my name is sachin thakur i am a student in iit delhi\n",
      "The list which contains all words of given string after splitting is: ['my', 'name', 'is', 'sachin', 'thakur', 'i', 'am', 'a', 'student', 'in', 'iit', 'delhi']\n"
     ]
    }
   ],
   "source": [
    "# defining a function like\n",
    "\n",
    "def split(s):\n",
    "    global l\n",
    "    l=list(map(str,s.split()))\n",
    "    return l \n",
    "\n",
    "# inputs for the function \n",
    "s=input('The given string is:')\n",
    "\n",
    "# calling function \n",
    "print('The list which contains all words of given string after splitting is:',split(s))"
   ]
  },
  {
   "cell_type": "code",
   "execution_count": null,
   "id": "d2af55b6",
   "metadata": {},
   "outputs": [],
   "source": [
    "# using above function we can get the list of all words of given string after splitting "
   ]
  },
  {
   "cell_type": "code",
   "execution_count": 9,
   "id": "187f7f64",
   "metadata": {},
   "outputs": [
    {
     "name": "stdout",
     "output_type": "stream",
     "text": [
      "The string is : my name is sachin thakur i am a student in iit delhi\n"
     ]
    }
   ],
   "source": [
    "# defining function for joining all words of any string which are present inside list as elements of the list \n",
    "\n",
    "def joining(l):\n",
    "    l=' '.join(l)\n",
    "    return l \n",
    "\n",
    "# inputs for the function\n",
    "l=['my', 'name', 'is', 'sachin', 'thakur', 'i' ,'am', 'a', 'student', 'in', 'iit', 'delhi']\n",
    "\n",
    "# calling function\n",
    "print('The string is :',joining(l))"
   ]
  },
  {
   "cell_type": "code",
   "execution_count": null,
   "id": "c3aeff7a",
   "metadata": {},
   "outputs": [],
   "source": [
    "# using above function we can get the string using the list which contains elements as string as above "
   ]
  },
  {
   "cell_type": "raw",
   "id": "afada4b9",
   "metadata": {},
   "source": [
    "Ans-(4)  for checking the given string is binary or not "
   ]
  },
  {
   "cell_type": "code",
   "execution_count": 14,
   "id": "a19c5320",
   "metadata": {},
   "outputs": [
    {
     "name": "stdout",
     "output_type": "stream",
     "text": [
      "The given string is=101011\n",
      "The given string is binary Yes/No: Yes\n"
     ]
    }
   ],
   "source": [
    "# defining function like\n",
    "\n",
    "# A binary string is a sequence of bytes. Unlike a character string which usually contains text data, \n",
    "# a binary string is used to hold non-traditional data such as pictures. \n",
    "# The length of a binary string is the number of bytes in the sequence.\n",
    "\n",
    "\n",
    "def str_bin(string):\n",
    "    s=set(string)\n",
    "    #defining a binary set as\n",
    "    set_binary={'0','1'}\n",
    "    \n",
    "    #now compairing the two sets for checking the given string is binary or not as\n",
    "    if set_binary==s or s=={'0'} or s=={'1'}:\n",
    "        return 'Yes'\n",
    "    else:\n",
    "        return 'No'\n",
    "    \n",
    "# inputs for the function\n",
    "string=input('The given string is=')\n",
    "\n",
    "# calling function \n",
    "print('The given string is binary Yes/No:',str_bin(string))"
   ]
  },
  {
   "cell_type": "code",
   "execution_count": null,
   "id": "5c4c7516",
   "metadata": {},
   "outputs": [],
   "source": [
    "# using above function we can check any given string is binary or not "
   ]
  },
  {
   "cell_type": "raw",
   "id": "df89f399",
   "metadata": {},
   "source": [
    "Ans--(6)  for checking any duplicate characters in given string or not"
   ]
  },
  {
   "cell_type": "code",
   "execution_count": 12,
   "id": "4399ab43",
   "metadata": {},
   "outputs": [
    {
     "name": "stdout",
     "output_type": "stream",
     "text": [
      "The given input string is:my name is sachin thakur\n",
      "m is repeated 2 times\n",
      "n is repeated 2 times\n",
      "a is repeated 3 times\n",
      "m is repeated 2 times\n",
      "i is repeated 2 times\n",
      "s is repeated 2 times\n",
      "s is repeated 2 times\n",
      "a is repeated 3 times\n",
      "h is repeated 2 times\n",
      "i is repeated 2 times\n",
      "n is repeated 2 times\n",
      "h is repeated 2 times\n",
      "a is repeated 3 times\n"
     ]
    }
   ],
   "source": [
    "# definig a function like\n",
    "\n",
    "def dupli_char(string):\n",
    "    #first converting a string into list as \n",
    "    s=string.replace(' ','')\n",
    "    l=list(s)\n",
    "    \n",
    "    for i in l:\n",
    "        if s.count(i)>1:\n",
    "            print('{} is repeated {}'.format(i,s.count(i)),'times')\n",
    "    \n",
    "# inputs for the function \n",
    "string=input('The given input string is:')\n",
    "\n",
    "# calling function\n",
    "dupli_char(string)"
   ]
  },
  {
   "cell_type": "code",
   "execution_count": null,
   "id": "c37f470f",
   "metadata": {},
   "outputs": [],
   "source": [
    "# using above function we can get how many times any character is repeated in given string \n",
    "# but in above function we are getting some repeat of results \n",
    "# and result of this type --  is repeated : 4 times is for space which is present in the string "
   ]
  },
  {
   "cell_type": "raw",
   "id": "087606de",
   "metadata": {},
   "source": [
    "Ans--(6)  another way of getting how many times each character of any input string is repeated using 'counter' function like"
   ]
  },
  {
   "cell_type": "code",
   "execution_count": 13,
   "id": "22455a61",
   "metadata": {},
   "outputs": [
    {
     "name": "stdout",
     "output_type": "stream",
     "text": [
      "The input given string is:my name is sachin thakur i am student at iit delhi\n",
      "m is repeated 3 times\n",
      "n is repeated 3 times\n",
      "a is repeated 5 times\n",
      "e is repeated 3 times\n",
      "i is repeated 6 times\n",
      "s is repeated 3 times\n",
      "h is repeated 3 times\n",
      "t is repeated 5 times\n",
      "u is repeated 2 times\n",
      "d is repeated 2 times\n"
     ]
    }
   ],
   "source": [
    "from collections import Counter\n",
    "elements=Counter(s)\n",
    "\n",
    "# defining a function like\n",
    "\n",
    "def duplicate(s):\n",
    "    elements=Counter(s.replace(' ',''))\n",
    "\n",
    "    for i in elements.keys():\n",
    "        if s.count(i)>1:\n",
    "            print('{} is repeated {}'.format(i,elements[i]),'times')\n",
    "\n",
    "\n",
    "# inputs for the function \n",
    "s=input('The input given string is:')\n",
    "\n",
    "# calling function \n",
    "duplicate(s)"
   ]
  },
  {
   "cell_type": "code",
   "execution_count": null,
   "id": "c6b1e598",
   "metadata": {},
   "outputs": [],
   "source": [
    "# the above function gives more accurate results as compair to the first solution for question --(6)   "
   ]
  }
 ],
 "metadata": {
  "kernelspec": {
   "display_name": "Python 3 (ipykernel)",
   "language": "python",
   "name": "python3"
  },
  "language_info": {
   "codemirror_mode": {
    "name": "ipython",
    "version": 3
   },
   "file_extension": ".py",
   "mimetype": "text/x-python",
   "name": "python",
   "nbconvert_exporter": "python",
   "pygments_lexer": "ipython3",
   "version": "3.9.12"
  }
 },
 "nbformat": 4,
 "nbformat_minor": 5
}
