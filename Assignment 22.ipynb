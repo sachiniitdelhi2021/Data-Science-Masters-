{
 "cells": [
  {
   "cell_type": "raw",
   "id": "069a3c1f",
   "metadata": {},
   "source": [
    "1. What is the result of the code, and explain?\n",
    "\n",
    ">>> X = 'iNeuron'\n",
    ">>> def func():\n",
    "print(X)\n",
    "\n",
    ">>> func()\n",
    "Ans-- the result is 'iNeuron' boz we defined a function and when that function is called it gives the string(as output) which is saved inside the variable 'X', means whenever function will be called it will print the value of variable 'X'  "
   ]
  },
  {
   "cell_type": "code",
   "execution_count": 2,
   "id": "ac7d6487",
   "metadata": {},
   "outputs": [
    {
     "name": "stdout",
     "output_type": "stream",
     "text": [
      "iNeuron\n"
     ]
    }
   ],
   "source": [
    ">>> X = 'iNeuron'\n",
    ">>> def func():\n",
    "    print(X)\n",
    "\n",
    ">>> func()"
   ]
  },
  {
   "cell_type": "raw",
   "id": "19fa0c57",
   "metadata": {},
   "source": [
    "2. What is the result of the code, and explain?\n",
    "\n",
    "\n",
    ">>> X = 'iNeuron'\n",
    ">>> def func():\n",
    "    X = 'NI!'\n",
    "\n",
    "\n",
    ">>> func()\n",
    ">>> print(X)\n",
    "\n",
    "Ans-- as a result we will get 'iNeuron', boz of print(x) statement which is simply printing the value given to variable X\n",
    "and we are not getting any output after calling the function this is boz the function is not concluded either by 'print' or 'return' hence we will not get any output in such case  "
   ]
  },
  {
   "cell_type": "code",
   "execution_count": 9,
   "id": "aed10b3d",
   "metadata": {},
   "outputs": [
    {
     "name": "stdout",
     "output_type": "stream",
     "text": [
      "iNeuron\n"
     ]
    }
   ],
   "source": [
    ">>> X = 'iNeuron'\n",
    ">>> def func():\n",
    "    X = 'NI!'\n",
    "\n",
    "\n",
    ">>> func()\n",
    ">>> print(X)"
   ]
  },
  {
   "cell_type": "raw",
   "id": "97a12b72",
   "metadata": {},
   "source": [
    "3. What does this code print, and why?\n",
    "\n",
    "\n",
    ">>> X = 'iNeuron'\n",
    ">>> def func():\n",
    "    X = 'NI'\n",
    "    print(X)\n",
    "\n",
    "\n",
    ">>> func()\n",
    ">>> print(X)\n",
    "\n",
    "Ans--In this case the results are NI and iNeuron, as in this case the defined function is concluded using print(X) statement which means whenever function will be called it will give the value of local variable 'X' as 'NI' and the print(X) statement which is called after calling function will give the value of global variable X which is another string 'iNeuron' "
   ]
  },
  {
   "cell_type": "code",
   "execution_count": 11,
   "id": "78d9f9c3",
   "metadata": {},
   "outputs": [
    {
     "name": "stdout",
     "output_type": "stream",
     "text": [
      "NI\n",
      "iNeuron\n"
     ]
    }
   ],
   "source": [
    ">>> X = 'iNeuron'\n",
    ">>> def func():\n",
    "    X = 'NI'\n",
    "    print(X)\n",
    "\n",
    "\n",
    ">>> func()\n",
    ">>> print(X)\n"
   ]
  },
  {
   "cell_type": "raw",
   "id": "252a5ffd",
   "metadata": {},
   "source": [
    "4. What output does this code produce? Why?\n",
    "\n",
    "\n",
    ">>> X = 'iNeuron'\n",
    ">>> def func():\n",
    "    global X\n",
    "    X = 'NI'\n",
    "    \n",
    "\n",
    ">>> func()\n",
    ">>> print(X)\n",
    "Ans--- the output of this code will be (NI), again the function is not closed using either return or print hence the call of function will give no result as output but boz of usage of global keyword inside function while declaring a variable X made it a gloabl variable thus it can be accessed outside function also and don't get confused b/w previously defined variable X and the global variable X inside function,the previous value of X is kind of erased and the new value it remenbers for X is NI "
   ]
  },
  {
   "cell_type": "code",
   "execution_count": 31,
   "id": "842ffc42",
   "metadata": {},
   "outputs": [
    {
     "name": "stdout",
     "output_type": "stream",
     "text": [
      "NI\n"
     ]
    }
   ],
   "source": [
    ">>> X = 'iNeuron'\n",
    ">>> def func():\n",
    "    global X\n",
    "    X = 'NI'\n",
    "    \n",
    "\n",
    "\n",
    ">>> func()\n",
    ">>> print(X)"
   ]
  },
  {
   "cell_type": "code",
   "execution_count": 37,
   "id": "89bd1e17",
   "metadata": {},
   "outputs": [
    {
     "data": {
      "text/plain": [
       "10"
      ]
     },
     "execution_count": 37,
     "metadata": {},
     "output_type": "execute_result"
    }
   ],
   "source": [
    "# here i will define a variable as \n",
    "a=10\n",
    "a"
   ]
  },
  {
   "cell_type": "code",
   "execution_count": 38,
   "id": "78a6d12d",
   "metadata": {},
   "outputs": [
    {
     "data": {
      "text/plain": [
       "19"
      ]
     },
     "execution_count": 38,
     "metadata": {},
     "output_type": "execute_result"
    }
   ],
   "source": [
    "# again i will define same variable with another value as \n",
    "a=19\n",
    "a"
   ]
  },
  {
   "cell_type": "code",
   "execution_count": 39,
   "id": "105ee639",
   "metadata": {},
   "outputs": [
    {
     "data": {
      "text/plain": [
       "19"
      ]
     },
     "execution_count": 39,
     "metadata": {},
     "output_type": "execute_result"
    }
   ],
   "source": [
    "# but if i call variable 'a' again then we will get value as '19' boz it is the most recent value for same variable 'a' and it will not give previous value\n",
    "# this is what happening in question no. 4 with the variable 'X' \n",
    "a"
   ]
  },
  {
   "cell_type": "raw",
   "id": "63413bae",
   "metadata": {},
   "source": [
    "5. What about this code—what’s the output, and why?\n",
    "\n",
    "\n",
    ">>> X = 'iNeuron'\n",
    ">>> def func():\n",
    "X = 'NI'\n",
    "def nested():\n",
    "print(X)\n",
    "nested()\n",
    "\n",
    "\n",
    ">>> func()\n",
    ">>> X\n",
    "\n",
    "Ans-- the output is 'iNeuron' and we are getting it two times, first boz of function nested()  and second boz of calling variable\n",
    "X itself, the nested function is also giving the value of global variable X and boz function func() is not concluded properly\n",
    "it's call is not giving any output as "
   ]
  },
  {
   "cell_type": "code",
   "execution_count": 44,
   "id": "358a3745",
   "metadata": {},
   "outputs": [
    {
     "name": "stdout",
     "output_type": "stream",
     "text": [
      "iNeuron\n"
     ]
    },
    {
     "data": {
      "text/plain": [
       "'iNeuron'"
      ]
     },
     "execution_count": 44,
     "metadata": {},
     "output_type": "execute_result"
    }
   ],
   "source": [
    ">>> X = 'iNeuron'\n",
    ">>> def func():\n",
    "    X = 'NI'\n",
    "    \n",
    "def nested():\n",
    "    print(X)\n",
    "nested()\n",
    "\n",
    "\n",
    ">>> func()\n",
    ">>> X"
   ]
  },
  {
   "cell_type": "raw",
   "id": "f9fbe32a",
   "metadata": {},
   "source": [
    "6. How about this code: what is its output in Python 3, and explain?\n",
    "\n",
    "\n",
    ">>> def func():\n",
    "    X = 'NI'\n",
    "    def nested():\n",
    "        nonlocal X\n",
    "        X = 'Spam'\n",
    "    nested()\n",
    "    print(X)\n",
    "\n",
    "\n",
    ">>> func()\n",
    "\n",
    "Ans-- so the output is string 'Spam', boz the nested function which is defined inside the main function func() is declaring the \n",
    "variable X using keyword nonlocal due to which the varibale of nested function X is not confined inside it, rather it has\n",
    "become kind of gloabl variable inside the main function func() due to which the previously defined value of X whcih was 'NI' \n",
    "is overrided and new value is assigned to variable X which is 'Spam'.\n",
    "\n",
    "when the main function is called, it calls the nested function due to which the variable X with value 'Sapm' becomes the kind of \n",
    "global varaible inside the main function and boz of print(X) we will get 'Spam' as output ,but if you seperately call variable \n",
    "X you will not get any output boz variable X is not actually a gloabal variable "
   ]
  },
  {
   "cell_type": "code",
   "execution_count": 16,
   "id": "0b0b5728",
   "metadata": {},
   "outputs": [
    {
     "name": "stdout",
     "output_type": "stream",
     "text": [
      "Spam\n"
     ]
    }
   ],
   "source": [
    ">>> def func():\n",
    "    X = 'NI'\n",
    "    def nested():\n",
    "        nonlocal X\n",
    "        X = 'Spam'\n",
    "    nested()\n",
    "    print(X)\n",
    "\n",
    "\n",
    ">>> func()\n"
   ]
  },
  {
   "cell_type": "code",
   "execution_count": 17,
   "id": "a64c85dd",
   "metadata": {},
   "outputs": [
    {
     "name": "stdout",
     "output_type": "stream",
     "text": [
      "Spam\n"
     ]
    }
   ],
   "source": [
    "func()"
   ]
  },
  {
   "cell_type": "code",
   "execution_count": 19,
   "id": "7c8a09d7",
   "metadata": {},
   "outputs": [
    {
     "ename": "NameError",
     "evalue": "name 'X' is not defined",
     "output_type": "error",
     "traceback": [
      "\u001b[1;31m---------------------------------------------------------------------------\u001b[0m",
      "\u001b[1;31mNameError\u001b[0m                                 Traceback (most recent call last)",
      "Input \u001b[1;32mIn [19]\u001b[0m, in \u001b[0;36m<cell line: 1>\u001b[1;34m()\u001b[0m\n\u001b[1;32m----> 1\u001b[0m \u001b[43mX\u001b[49m\n",
      "\u001b[1;31mNameError\u001b[0m: name 'X' is not defined"
     ]
    }
   ],
   "source": [
    "X"
   ]
  },
  {
   "cell_type": "code",
   "execution_count": 20,
   "id": "7d718787",
   "metadata": {},
   "outputs": [
    {
     "data": {
      "text/plain": [
       "'you can see this result which confirms X is not a global variable we can assume it as global variable inside main function\\nas it is not bounded within the nested function definded inside the main function'"
      ]
     },
     "execution_count": 20,
     "metadata": {},
     "output_type": "execute_result"
    }
   ],
   "source": [
    "'''you can see this result which confirms X is not a global variable we can assume it as global variable inside main function\n",
    "as it is not bounded within the nested function definded inside the main function''' "
   ]
  },
  {
   "cell_type": "code",
   "execution_count": null,
   "id": "6befddf7",
   "metadata": {},
   "outputs": [],
   "source": []
  }
 ],
 "metadata": {
  "kernelspec": {
   "display_name": "Python 3 (ipykernel)",
   "language": "python",
   "name": "python3"
  },
  "language_info": {
   "codemirror_mode": {
    "name": "ipython",
    "version": 3
   },
   "file_extension": ".py",
   "mimetype": "text/x-python",
   "name": "python",
   "nbconvert_exporter": "python",
   "pygments_lexer": "ipython3",
   "version": "3.9.12"
  }
 },
 "nbformat": 4,
 "nbformat_minor": 5
}
