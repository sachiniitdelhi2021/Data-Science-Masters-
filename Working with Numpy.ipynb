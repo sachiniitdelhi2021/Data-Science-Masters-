{
 "cells": [
  {
   "cell_type": "code",
   "execution_count": 1,
   "id": "eb7afb05",
   "metadata": {},
   "outputs": [],
   "source": [
    "# importing a numerical python library also called Numpy ,numpy is very-very usefull whether it is ML,DL,NLP,computer vision etc for dealing with matrixes,arrays etc"
   ]
  },
  {
   "cell_type": "code",
   "execution_count": 2,
   "id": "c0ad015d",
   "metadata": {},
   "outputs": [],
   "source": [
    "# importing numpy \n",
    "import numpy as np"
   ]
  },
  {
   "cell_type": "code",
   "execution_count": 3,
   "id": "a3c55208",
   "metadata": {},
   "outputs": [
    {
     "data": {
      "text/plain": [
       "array([1, 2, 3, 4])"
      ]
     },
     "execution_count": 3,
     "metadata": {},
     "output_type": "execute_result"
    }
   ],
   "source": [
    "#  say i want to create a array \n",
    "np.array([1,2,3,4])"
   ]
  },
  {
   "cell_type": "code",
   "execution_count": 4,
   "id": "89fa03a7",
   "metadata": {},
   "outputs": [
    {
     "data": {
      "text/plain": [
       "numpy.ndarray"
      ]
     },
     "execution_count": 4,
     "metadata": {},
     "output_type": "execute_result"
    }
   ],
   "source": [
    "type(np.array([1,2,3,4])) \n"
   ]
  },
  {
   "cell_type": "code",
   "execution_count": 5,
   "id": "02d7a11d",
   "metadata": {},
   "outputs": [],
   "source": [
    "# as u can see it is a array as 'nd' means it is n-dimensional "
   ]
  },
  {
   "cell_type": "code",
   "execution_count": 8,
   "id": "07ff2653",
   "metadata": {},
   "outputs": [
    {
     "data": {
      "text/plain": [
       "array(['1', '2', '3', '4', 'sachin', '(2+2j)'], dtype='<U64')"
      ]
     },
     "execution_count": 8,
     "metadata": {},
     "output_type": "execute_result"
    }
   ],
   "source": [
    "# if i add string inside list than in such case every item in array will be string too whether it is was interger,complex no. etc \n",
    "np.array([1,2,3,4,'sachin',2+2j])"
   ]
  },
  {
   "cell_type": "code",
   "execution_count": 9,
   "id": "39c69e60",
   "metadata": {},
   "outputs": [
    {
     "data": {
      "text/plain": [
       "array([1., 2., 3., 4., 5.])"
      ]
     },
     "execution_count": 9,
     "metadata": {},
     "output_type": "execute_result"
    }
   ],
   "source": [
    "# say if i add any floating no. inside a list with integer no. than the array as reslt will have all items as float like\n",
    "np.array([1,2,3,4,5.0])"
   ]
  },
  {
   "cell_type": "code",
   "execution_count": 11,
   "id": "6db540f3",
   "metadata": {},
   "outputs": [
    {
     "data": {
      "text/plain": [
       "array([[1, 3],\n",
       "       [3, 4]])"
      ]
     },
     "execution_count": 11,
     "metadata": {},
     "output_type": "execute_result"
    }
   ],
   "source": [
    "#  if i add lists inside list than in this case resulted array will be \n",
    "np.array([[1,3],[3,4]])"
   ]
  },
  {
   "cell_type": "code",
   "execution_count": 12,
   "id": "ab92fec4",
   "metadata": {},
   "outputs": [
    {
     "data": {
      "text/plain": [
       "array([[1, 3],\n",
       "       [3, 4],\n",
       "       [5, 7]])"
      ]
     },
     "execution_count": 12,
     "metadata": {},
     "output_type": "execute_result"
    }
   ],
   "source": [
    "np.array([[1,3],[3,4],[5,7]])"
   ]
  },
  {
   "cell_type": "code",
   "execution_count": 13,
   "id": "8729ef3a",
   "metadata": {},
   "outputs": [
    {
     "name": "stderr",
     "output_type": "stream",
     "text": [
      "C:\\Users\\Dell\\AppData\\Local\\Temp\\ipykernel_11832\\2570925194.py:2: VisibleDeprecationWarning: Creating an ndarray from ragged nested sequences (which is a list-or-tuple of lists-or-tuples-or ndarrays with different lengths or shapes) is deprecated. If you meant to do this, you must specify 'dtype=object' when creating the ndarray.\n",
      "  np.array([[1,3],[3,4],[9,8,7]])\n"
     ]
    },
    {
     "data": {
      "text/plain": [
       "array([list([1, 3]), list([3, 4]), list([9, 8, 7])], dtype=object)"
      ]
     },
     "execution_count": 13,
     "metadata": {},
     "output_type": "execute_result"
    }
   ],
   "source": [
    "# \n",
    "np.array([[1,3],[3,4],[9,8,7]])"
   ]
  },
  {
   "cell_type": "code",
   "execution_count": 14,
   "id": "9c5c079a",
   "metadata": {},
   "outputs": [],
   "source": [
    "# in above case i m getting result but as array of list boz all the list are not having same no. of items inside them "
   ]
  },
  {
   "cell_type": "code",
   "execution_count": 16,
   "id": "a7f24f76",
   "metadata": {},
   "outputs": [
    {
     "data": {
      "text/plain": [
       "array([[[1, 3],\n",
       "        [3, 4]],\n",
       "\n",
       "       [[5, 6],\n",
       "        [9, 7]]])"
      ]
     },
     "execution_count": 16,
     "metadata": {},
     "output_type": "execute_result"
    }
   ],
   "source": [
    "np.array([[[1,3],[3,4]],[[5,6],[9,7]]])   # this is called 3d array boz of 3 brackets "
   ]
  },
  {
   "cell_type": "code",
   "execution_count": 17,
   "id": "42844925",
   "metadata": {},
   "outputs": [],
   "source": [
    "# NOTE-- there is 1d , 2d , 3d and nd array"
   ]
  },
  {
   "cell_type": "code",
   "execution_count": 18,
   "id": "b050bbc8",
   "metadata": {},
   "outputs": [
    {
     "data": {
      "text/plain": [
       "array([[[1, 2, 3]]])"
      ]
     },
     "execution_count": 18,
     "metadata": {},
     "output_type": "execute_result"
    }
   ],
   "source": [
    "# we can creste array of any dimension like \n",
    "np.array([1,2,3],ndmin=3)    # ndmin=3 will create array of 3dimension like "
   ]
  },
  {
   "cell_type": "code",
   "execution_count": 19,
   "id": "e87ba528",
   "metadata": {},
   "outputs": [
    {
     "data": {
      "text/plain": [
       "array([[[[[[[[[[[[[[[[[[[[[[[[[[[[[[1, 2, 3]]]]]]]]]]]]]]]]]]]]]]]]]]]]]])"
      ]
     },
     "execution_count": 19,
     "metadata": {},
     "output_type": "execute_result"
    }
   ],
   "source": [
    "# we can create array of any dimension like 30 here \n",
    "np.array([1,2,3],ndmin=30)"
   ]
  },
  {
   "cell_type": "code",
   "execution_count": 20,
   "id": "a19850b9",
   "metadata": {},
   "outputs": [
    {
     "data": {
      "text/plain": [
       "array([[[1.+0.j, 2.+0.j, 3.+0.j]]])"
      ]
     },
     "execution_count": 20,
     "metadata": {},
     "output_type": "execute_result"
    }
   ],
   "source": [
    "# we can give datatype for items of array using--- dtype=     , like\n",
    "np.array([1,2,3],ndmin=3,dtype=complex)\n",
    "#  we will get all items as complex like"
   ]
  },
  {
   "cell_type": "code",
   "execution_count": 21,
   "id": "90924e4a",
   "metadata": {},
   "outputs": [
    {
     "data": {
      "text/plain": [
       "array([[1, 2],\n",
       "       [4, 5]])"
      ]
     },
     "execution_count": 21,
     "metadata": {},
     "output_type": "execute_result"
    }
   ],
   "source": [
    "# \n",
    "np.array([(1,2),(4,5)])"
   ]
  },
  {
   "cell_type": "code",
   "execution_count": 22,
   "id": "d0b04746",
   "metadata": {},
   "outputs": [
    {
     "data": {
      "text/plain": [
       "array([(1, 2), (4, 5)], dtype=[('a', '<i4'), ('b', '<i8')])"
      ]
     },
     "execution_count": 22,
     "metadata": {},
     "output_type": "execute_result"
    }
   ],
   "source": [
    "# even integers are of different types like----16bit, 32bit,64bit and many more like\n",
    "np.array([(1,2),(4,5)],dtype=[('a','<i4'),('b','<i8')])"
   ]
  },
  {
   "cell_type": "code",
   "execution_count": 29,
   "id": "815cc41d",
   "metadata": {},
   "outputs": [],
   "source": [
    "arr=np.array([(1,2),(4,5)],dtype=[('a','<i4'),('b','<i8')])"
   ]
  },
  {
   "cell_type": "code",
   "execution_count": 30,
   "id": "07477bb3",
   "metadata": {},
   "outputs": [
    {
     "data": {
      "text/plain": [
       "(1, 2)"
      ]
     },
     "execution_count": 30,
     "metadata": {},
     "output_type": "execute_result"
    }
   ],
   "source": [
    "arr[0]"
   ]
  },
  {
   "cell_type": "code",
   "execution_count": 31,
   "id": "862e4a72",
   "metadata": {},
   "outputs": [
    {
     "data": {
      "text/plain": [
       "1"
      ]
     },
     "execution_count": 31,
     "metadata": {},
     "output_type": "execute_result"
    }
   ],
   "source": [
    "arr[0][0]"
   ]
  },
  {
   "cell_type": "code",
   "execution_count": 32,
   "id": "76073e20",
   "metadata": {},
   "outputs": [
    {
     "data": {
      "text/plain": [
       "2"
      ]
     },
     "execution_count": 32,
     "metadata": {},
     "output_type": "execute_result"
    }
   ],
   "source": [
    "arr[0][1]"
   ]
  },
  {
   "cell_type": "code",
   "execution_count": 33,
   "id": "061228f8",
   "metadata": {},
   "outputs": [
    {
     "data": {
      "text/plain": [
       "numpy.int32"
      ]
     },
     "execution_count": 33,
     "metadata": {},
     "output_type": "execute_result"
    }
   ],
   "source": [
    "type(arr[0][0])   #  so integer '1' is 32 bit  "
   ]
  },
  {
   "cell_type": "code",
   "execution_count": 34,
   "id": "a474024f",
   "metadata": {},
   "outputs": [
    {
     "data": {
      "text/plain": [
       "numpy.int64"
      ]
     },
     "execution_count": 34,
     "metadata": {},
     "output_type": "execute_result"
    }
   ],
   "source": [
    "type(arr[0][1])    # integer '2' is 64 bit "
   ]
  },
  {
   "cell_type": "code",
   "execution_count": 35,
   "id": "f97223df",
   "metadata": {},
   "outputs": [
    {
     "data": {
      "text/plain": [
       "array([(1, 2), (4, 5)], dtype=[('a', '<i4'), ('b', '<i8')])"
      ]
     },
     "execution_count": 35,
     "metadata": {},
     "output_type": "execute_result"
    }
   ],
   "source": [
    "arr"
   ]
  },
  {
   "cell_type": "code",
   "execution_count": 36,
   "id": "0eaf0a4e",
   "metadata": {},
   "outputs": [
    {
     "data": {
      "text/plain": [
       "matrix([[(1, 2), (4, 5)]], dtype=[('a', '<i4'), ('b', '<i8')])"
      ]
     },
     "execution_count": 36,
     "metadata": {},
     "output_type": "execute_result"
    }
   ],
   "source": [
    "#another high level datatype inside numpy is 'matrix' appart from 'array' \n",
    "np.mat(arr)"
   ]
  },
  {
   "cell_type": "code",
   "execution_count": 37,
   "id": "54bc3008",
   "metadata": {},
   "outputs": [
    {
     "data": {
      "text/plain": [
       "matrix([[(1, 2), (4, 5)]], dtype=[('a', '<i4'), ('b', '<i8')])"
      ]
     },
     "execution_count": 37,
     "metadata": {},
     "output_type": "execute_result"
    }
   ],
   "source": [
    "# another way of creating matrix is like\n",
    "np.matrix(arr)     # both gives same result this one and the above one"
   ]
  },
  {
   "cell_type": "code",
   "execution_count": 38,
   "id": "85567a9c",
   "metadata": {},
   "outputs": [],
   "source": [
    "# using 3 differnt ways for getting a array 1)np.array(l) 2)np.asarray(l)  3) np.asanyarray(l) but there is little diff. in 2 and 3 how \n",
    "l=[9,8,7,6,5,4]"
   ]
  },
  {
   "cell_type": "code",
   "execution_count": 39,
   "id": "42d456d3",
   "metadata": {},
   "outputs": [
    {
     "data": {
      "text/plain": [
       "array([9, 8, 7, 6, 5, 4])"
      ]
     },
     "execution_count": 39,
     "metadata": {},
     "output_type": "execute_result"
    }
   ],
   "source": [
    "#  np.array(l)\n",
    "np.array(l)"
   ]
  },
  {
   "cell_type": "code",
   "execution_count": 40,
   "id": "ba53868b",
   "metadata": {},
   "outputs": [
    {
     "data": {
      "text/plain": [
       "array([9, 8, 7, 6, 5, 4])"
      ]
     },
     "execution_count": 40,
     "metadata": {},
     "output_type": "execute_result"
    }
   ],
   "source": [
    "# np.asarray(l)\n",
    "np.asarray(l)"
   ]
  },
  {
   "cell_type": "code",
   "execution_count": 41,
   "id": "52b18bb5",
   "metadata": {},
   "outputs": [
    {
     "data": {
      "text/plain": [
       "array([9, 8, 7, 6, 5, 4])"
      ]
     },
     "execution_count": 41,
     "metadata": {},
     "output_type": "execute_result"
    }
   ],
   "source": [
    "# np.asanyarray(l)\n",
    "np.asanyarray(l)"
   ]
  },
  {
   "cell_type": "code",
   "execution_count": 42,
   "id": "073fa950",
   "metadata": {},
   "outputs": [],
   "source": [
    "# in all above 3 cases the results are same but if i use matrix in 2 and 3 to get array let's see what we will get"
   ]
  },
  {
   "cell_type": "code",
   "execution_count": 43,
   "id": "c6c81567",
   "metadata": {},
   "outputs": [],
   "source": [
    "arr=np.mat([1,3])"
   ]
  },
  {
   "cell_type": "code",
   "execution_count": 44,
   "id": "3fb6ea9a",
   "metadata": {},
   "outputs": [
    {
     "data": {
      "text/plain": [
       "matrix([[1, 3]])"
      ]
     },
     "execution_count": 44,
     "metadata": {},
     "output_type": "execute_result"
    }
   ],
   "source": [
    "arr"
   ]
  },
  {
   "cell_type": "code",
   "execution_count": 45,
   "id": "dbad214f",
   "metadata": {},
   "outputs": [
    {
     "data": {
      "text/plain": [
       "array([[1, 3]])"
      ]
     },
     "execution_count": 45,
     "metadata": {},
     "output_type": "execute_result"
    }
   ],
   "source": [
    "# let's put this inside np.array()\n",
    "np.array(arr)"
   ]
  },
  {
   "cell_type": "code",
   "execution_count": 46,
   "id": "87566271",
   "metadata": {},
   "outputs": [
    {
     "data": {
      "text/plain": [
       "matrix([[1, 3]])"
      ]
     },
     "execution_count": 46,
     "metadata": {},
     "output_type": "execute_result"
    }
   ],
   "source": [
    "# let's put arr inside np.asanyarray()\n",
    "np.asanyarray(arr)"
   ]
  },
  {
   "cell_type": "code",
   "execution_count": 47,
   "id": "f7dcee55",
   "metadata": {},
   "outputs": [],
   "source": [
    "#  u see the first gave array but the last one gave matrix this is the difference b/w  the two"
   ]
  },
  {
   "cell_type": "code",
   "execution_count": 49,
   "id": "78254243",
   "metadata": {},
   "outputs": [
    {
     "data": {
      "text/plain": [
       "True"
      ]
     },
     "execution_count": 49,
     "metadata": {},
     "output_type": "execute_result"
    }
   ],
   "source": [
    "# note--- there is a function called 'issubclass()' to check something is subclass of something or not \n",
    "\n",
    "#  like this ,here i want to check whether matrix is subclass of ndarray or  not \n",
    "issubclass(np.matrix,np.ndarray)"
   ]
  },
  {
   "cell_type": "markdown",
   "id": "9bf8d9af",
   "metadata": {},
   "source": [
    "# NOTE---->>>>>>> matrix is a subclass of array or child class of array and array is the parent calss "
   ]
  },
  {
   "cell_type": "code",
   "execution_count": 53,
   "id": "48795762",
   "metadata": {},
   "outputs": [
    {
     "data": {
      "text/plain": [
       "False"
      ]
     },
     "execution_count": 53,
     "metadata": {},
     "output_type": "execute_result"
    }
   ],
   "source": [
    "#  ndarray is not a subclass of matrix as it will give false \n",
    "issubclass(np.ndarray,np.matrix)"
   ]
  },
  {
   "cell_type": "code",
   "execution_count": 54,
   "id": "bfd3871f",
   "metadata": {},
   "outputs": [],
   "source": [
    "# deep-copy and shallow-copy "
   ]
  },
  {
   "cell_type": "code",
   "execution_count": 57,
   "id": "c8852e5c",
   "metadata": {},
   "outputs": [],
   "source": [
    "arr1=np.array(arr)"
   ]
  },
  {
   "cell_type": "code",
   "execution_count": 58,
   "id": "7b3be7f0",
   "metadata": {},
   "outputs": [
    {
     "data": {
      "text/plain": [
       "array([[1, 3]])"
      ]
     },
     "execution_count": 58,
     "metadata": {},
     "output_type": "execute_result"
    }
   ],
   "source": [
    "arr1"
   ]
  },
  {
   "cell_type": "code",
   "execution_count": 65,
   "id": "77fbde98",
   "metadata": {},
   "outputs": [],
   "source": [
    "# if i assign this array to any variable like \n",
    "a=arr1   # what happens if i do any changes in 'arr1' the same changes will be reflected in 'a' also and hence 'a' is called 'shallow-copy' of array arr1 "
   ]
  },
  {
   "cell_type": "code",
   "execution_count": 66,
   "id": "0acbb1b0",
   "metadata": {},
   "outputs": [
    {
     "data": {
      "text/plain": [
       "array([[56,  3]])"
      ]
     },
     "execution_count": 66,
     "metadata": {},
     "output_type": "execute_result"
    }
   ],
   "source": [
    "a"
   ]
  },
  {
   "cell_type": "code",
   "execution_count": 69,
   "id": "553dc9f4",
   "metadata": {},
   "outputs": [],
   "source": [
    "# but if i again assign the same array 'arr1' to new variable but this using --- b=np.copy(arr1)\n",
    "b=np.copy(arr1)"
   ]
  },
  {
   "cell_type": "code",
   "execution_count": 70,
   "id": "56aedfef",
   "metadata": {},
   "outputs": [
    {
     "data": {
      "text/plain": [
       "array([[56,  3]])"
      ]
     },
     "execution_count": 70,
     "metadata": {},
     "output_type": "execute_result"
    }
   ],
   "source": [
    "b"
   ]
  },
  {
   "cell_type": "code",
   "execution_count": 72,
   "id": "52d7f5f8",
   "metadata": {},
   "outputs": [],
   "source": [
    "\n",
    "arr1[0][0]=156   # here i m again replacing the previously replaced value which was '56' with new value '156'"
   ]
  },
  {
   "cell_type": "code",
   "execution_count": 73,
   "id": "69cef327",
   "metadata": {},
   "outputs": [
    {
     "data": {
      "text/plain": [
       "array([[156,   3]])"
      ]
     },
     "execution_count": 73,
     "metadata": {},
     "output_type": "execute_result"
    }
   ],
   "source": [
    "arr1"
   ]
  },
  {
   "cell_type": "code",
   "execution_count": 74,
   "id": "15b7cf66",
   "metadata": {},
   "outputs": [
    {
     "data": {
      "text/plain": [
       "array([[156,   3]])"
      ]
     },
     "execution_count": 74,
     "metadata": {},
     "output_type": "execute_result"
    }
   ],
   "source": [
    "# the same changes will be made in variabel 'a' also \n",
    "a"
   ]
  },
  {
   "cell_type": "code",
   "execution_count": 75,
   "id": "b5dd6a40",
   "metadata": {},
   "outputs": [
    {
     "data": {
      "text/plain": [
       "array([[56,  3]])"
      ]
     },
     "execution_count": 75,
     "metadata": {},
     "output_type": "execute_result"
    }
   ],
   "source": [
    "# but this change will not reflect in 'b'\n",
    "b"
   ]
  },
  {
   "cell_type": "code",
   "execution_count": null,
   "id": "a63b6609",
   "metadata": {},
   "outputs": [],
   "source": [
    "''' boz 'b' is called deep-copy of array 'arr1' and any changes in 'arr1' will not reflect in 'b' boz 'b' occupies differnt space in main memory \n",
    " but 'a' is in same sapce of memory in which 'arr1' is there in main memory boz they are same''' "
   ]
  },
  {
   "cell_type": "code",
   "execution_count": 77,
   "id": "3c5a4f31",
   "metadata": {},
   "outputs": [],
   "source": [
    "# array elements are mutuable means we can change the arry elements "
   ]
  },
  {
   "cell_type": "code",
   "execution_count": 78,
   "id": "379b49bd",
   "metadata": {},
   "outputs": [
    {
     "data": {
      "text/plain": [
       "array([[156,   3]])"
      ]
     },
     "execution_count": 78,
     "metadata": {},
     "output_type": "execute_result"
    }
   ],
   "source": [
    "arr1"
   ]
  },
  {
   "cell_type": "code",
   "execution_count": 79,
   "id": "c9bbf3d5",
   "metadata": {},
   "outputs": [
    {
     "data": {
      "text/plain": [
       "array([[156,   3]])"
      ]
     },
     "execution_count": 79,
     "metadata": {},
     "output_type": "execute_result"
    }
   ],
   "source": [
    "arr1[0:10]"
   ]
  },
  {
   "cell_type": "code",
   "execution_count": 80,
   "id": "9706dd1a",
   "metadata": {},
   "outputs": [
    {
     "data": {
      "text/plain": [
       "array([156,   3])"
      ]
     },
     "execution_count": 80,
     "metadata": {},
     "output_type": "execute_result"
    }
   ],
   "source": [
    "arr1[-1]"
   ]
  },
  {
   "cell_type": "code",
   "execution_count": 82,
   "id": "71d33114",
   "metadata": {},
   "outputs": [
    {
     "name": "stdout",
     "output_type": "stream",
     "text": [
      "[156   3]\n"
     ]
    }
   ],
   "source": [
    "# using for loop getting the elements of array \n",
    "for i in arr1:\n",
    "    print(i)"
   ]
  },
  {
   "cell_type": "code",
   "execution_count": 84,
   "id": "eff0bffa",
   "metadata": {},
   "outputs": [
    {
     "data": {
      "text/plain": [
       "array([[ True, False, False, False],\n",
       "       [False,  True, False, False],\n",
       "       [False, False,  True, False],\n",
       "       [False, False, False,  True]])"
      ]
     },
     "execution_count": 84,
     "metadata": {},
     "output_type": "execute_result"
    }
   ],
   "source": [
    "# fromfunction() ---helps to generate a array depending upon the logic we put inside the function like\n",
    "np.fromfunction(lambda i,j:i==j,(4,4))  # fromfunction is another function in numpy ,lambda function we all know and (4,4) if for size of array \n",
    "#  array of size 4*4 having total of 16 elements "
   ]
  },
  {
   "cell_type": "code",
   "execution_count": 85,
   "id": "7b5d0605",
   "metadata": {},
   "outputs": [
    {
     "data": {
      "text/plain": [
       "array([[0., 0., 0.],\n",
       "       [0., 1., 2.],\n",
       "       [0., 2., 4.]])"
      ]
     },
     "execution_count": 85,
     "metadata": {},
     "output_type": "execute_result"
    }
   ],
   "source": [
    "np.fromfunction(lambda i,j:i*j,(3,3))"
   ]
  },
  {
   "cell_type": "code",
   "execution_count": 87,
   "id": "7fd6095b",
   "metadata": {},
   "outputs": [
    {
     "name": "stderr",
     "output_type": "stream",
     "text": [
      "C:\\Users\\Dell\\AppData\\Local\\Temp\\ipykernel_11832\\1676616379.py:2: RuntimeWarning: divide by zero encountered in true_divide\n",
      "  np.fromfunction(lambda i,j:i/j,(3,3))\n",
      "C:\\Users\\Dell\\AppData\\Local\\Temp\\ipykernel_11832\\1676616379.py:2: RuntimeWarning: invalid value encountered in true_divide\n",
      "  np.fromfunction(lambda i,j:i/j,(3,3))\n"
     ]
    },
    {
     "data": {
      "text/plain": [
       "array([[nan, 0. , 0. ],\n",
       "       [inf, 1. , 0.5],\n",
       "       [inf, 2. , 1. ]])"
      ]
     },
     "execution_count": 87,
     "metadata": {},
     "output_type": "execute_result"
    }
   ],
   "source": [
    "# in numpy any no. divided by zero than we won't get error duvision by zero rather it will give 'inf' like\n",
    "np.fromfunction(lambda i,j:i/j,(3,3))"
   ]
  },
  {
   "cell_type": "code",
   "execution_count": 89,
   "id": "b5b36280",
   "metadata": {},
   "outputs": [
    {
     "data": {
      "text/plain": [
       "<generator object <genexpr> at 0x0000018746A174A0>"
      ]
     },
     "execution_count": 89,
     "metadata": {},
     "output_type": "execute_result"
    }
   ],
   "source": [
    "# generator\n",
    "(i*i for i in range(5))"
   ]
  },
  {
   "cell_type": "code",
   "execution_count": 90,
   "id": "8e8c615f",
   "metadata": {},
   "outputs": [
    {
     "data": {
      "text/plain": [
       "[0, 1, 4, 9, 16]"
      ]
     },
     "execution_count": 90,
     "metadata": {},
     "output_type": "execute_result"
    }
   ],
   "source": [
    "[i*i for i in range(5)]"
   ]
  },
  {
   "cell_type": "code",
   "execution_count": 91,
   "id": "04c0e182",
   "metadata": {},
   "outputs": [],
   "source": [
    "gen=(i*i for i in range(5))"
   ]
  },
  {
   "cell_type": "code",
   "execution_count": 92,
   "id": "05a5293d",
   "metadata": {},
   "outputs": [
    {
     "data": {
      "text/plain": [
       "<generator object <genexpr> at 0x0000018746A17890>"
      ]
     },
     "execution_count": 92,
     "metadata": {},
     "output_type": "execute_result"
    }
   ],
   "source": [
    "gen"
   ]
  },
  {
   "cell_type": "code",
   "execution_count": 94,
   "id": "5d65883d",
   "metadata": {},
   "outputs": [
    {
     "data": {
      "text/plain": [
       "array([ 0,  1,  4,  9, 16])"
      ]
     },
     "execution_count": 94,
     "metadata": {},
     "output_type": "execute_result"
    }
   ],
   "source": [
    "#  there is another function in numpy--- fromiter()\n",
    "np.fromiter(gen,dtype=int)"
   ]
  },
  {
   "cell_type": "code",
   "execution_count": 97,
   "id": "aa3ac928",
   "metadata": {},
   "outputs": [
    {
     "data": {
      "text/plain": [
       "array([0, 1, 2, 3, 4])"
      ]
     },
     "execution_count": 97,
     "metadata": {},
     "output_type": "execute_result"
    }
   ],
   "source": [
    "# range()  itself is a generater function remember this \n",
    "np.fromiter(range(5),dtype=int)"
   ]
  },
  {
   "cell_type": "code",
   "execution_count": 104,
   "id": "47841e49",
   "metadata": {},
   "outputs": [
    {
     "data": {
      "text/plain": [
       "array([1, 2, 3, 4])"
      ]
     },
     "execution_count": 104,
     "metadata": {},
     "output_type": "execute_result"
    }
   ],
   "source": [
    "# from string also i can generate the array using--- fromstring() , like\n",
    "np.fromstring('1,2,3,4',sep=', ',dtype=int)"
   ]
  },
  {
   "cell_type": "code",
   "execution_count": 109,
   "id": "1af41f31",
   "metadata": {},
   "outputs": [
    {
     "data": {
      "text/plain": [
       "array([8.+0.j, 7.+0.j, 6.+0.j, 5.+0.j])"
      ]
     },
     "execution_count": 109,
     "metadata": {},
     "output_type": "execute_result"
    }
   ],
   "source": [
    "# from any other string also i can generate array like\n",
    "np.fromstring('8,7,6,5',sep=',',dtype=complex)"
   ]
  },
  {
   "cell_type": "code",
   "execution_count": 111,
   "id": "1435e512",
   "metadata": {},
   "outputs": [],
   "source": [
    "# \n",
    "l=[6,5,4,3]\n",
    "arr=np.array(l)"
   ]
  },
  {
   "cell_type": "code",
   "execution_count": 113,
   "id": "90c21109",
   "metadata": {},
   "outputs": [],
   "source": [
    "# \n",
    "arr1=np.array([[4,3,2,1],[7,6,5,4],[7,6,5,4]])"
   ]
  },
  {
   "cell_type": "code",
   "execution_count": 114,
   "id": "43ff190b",
   "metadata": {},
   "outputs": [
    {
     "data": {
      "text/plain": [
       "array([[4, 3, 2, 1],\n",
       "       [7, 6, 5, 4],\n",
       "       [7, 6, 5, 4]])"
      ]
     },
     "execution_count": 114,
     "metadata": {},
     "output_type": "execute_result"
    }
   ],
   "source": [
    "arr1"
   ]
  },
  {
   "cell_type": "code",
   "execution_count": 115,
   "id": "a9858898",
   "metadata": {},
   "outputs": [
    {
     "data": {
      "text/plain": [
       "2"
      ]
     },
     "execution_count": 115,
     "metadata": {},
     "output_type": "execute_result"
    }
   ],
   "source": [
    "#  for checking the dimension of any array use-- arrayname.ndim\n",
    "arr1.ndim"
   ]
  },
  {
   "cell_type": "code",
   "execution_count": 116,
   "id": "a44b6a96",
   "metadata": {},
   "outputs": [],
   "source": [
    "# u can see above that the dimension of arr1 is '2' which means i will be able to represent this data in 2-D plane using x-y plane olny "
   ]
  },
  {
   "cell_type": "code",
   "execution_count": 117,
   "id": "5882f0e4",
   "metadata": {},
   "outputs": [
    {
     "data": {
      "text/plain": [
       "12"
      ]
     },
     "execution_count": 117,
     "metadata": {},
     "output_type": "execute_result"
    }
   ],
   "source": [
    "#if we want to know the no. of elements inside any array we can use -- 'size' function  \n",
    "arr1.size"
   ]
  },
  {
   "cell_type": "code",
   "execution_count": 119,
   "id": "69c9a786",
   "metadata": {},
   "outputs": [
    {
     "data": {
      "text/plain": [
       "(3, 4)"
      ]
     },
     "execution_count": 119,
     "metadata": {},
     "output_type": "execute_result"
    }
   ],
   "source": [
    "# for knowing the no. of rows and no. of columns in any array  \n",
    "arr1.shape"
   ]
  },
  {
   "cell_type": "code",
   "execution_count": 120,
   "id": "bb8a7df7",
   "metadata": {},
   "outputs": [],
   "source": [
    "# 3-no. of rows and 4-- no. of columns "
   ]
  },
  {
   "cell_type": "code",
   "execution_count": 122,
   "id": "8d4ff7fa",
   "metadata": {},
   "outputs": [
    {
     "data": {
      "text/plain": [
       "dtype('int32')"
      ]
     },
     "execution_count": 122,
     "metadata": {},
     "output_type": "execute_result"
    }
   ],
   "source": [
    "# every element of array 'arr1' is integer of 32 bit \n",
    "arr1.dtype"
   ]
  },
  {
   "cell_type": "code",
   "execution_count": 123,
   "id": "4fb2252c",
   "metadata": {},
   "outputs": [],
   "source": [
    "# let's generate a 3d array like\n",
    "arr2=np.array([[[1,2,3],[5,4,3]],[[7,8,9],[45,46,37]]])"
   ]
  },
  {
   "cell_type": "code",
   "execution_count": 124,
   "id": "6b18d325",
   "metadata": {},
   "outputs": [
    {
     "data": {
      "text/plain": [
       "array([[[ 1,  2,  3],\n",
       "        [ 5,  4,  3]],\n",
       "\n",
       "       [[ 7,  8,  9],\n",
       "        [45, 46, 37]]])"
      ]
     },
     "execution_count": 124,
     "metadata": {},
     "output_type": "execute_result"
    }
   ],
   "source": [
    "arr2"
   ]
  },
  {
   "cell_type": "code",
   "execution_count": 126,
   "id": "280e04e8",
   "metadata": {},
   "outputs": [
    {
     "data": {
      "text/plain": [
       "3"
      ]
     },
     "execution_count": 126,
     "metadata": {},
     "output_type": "execute_result"
    }
   ],
   "source": [
    "# let's check the dimension of arr2 array\n",
    "arr2.ndim"
   ]
  },
  {
   "cell_type": "code",
   "execution_count": 127,
   "id": "bdefcf50",
   "metadata": {},
   "outputs": [],
   "source": [
    "#  so it's a 3-d array "
   ]
  },
  {
   "cell_type": "code",
   "execution_count": 129,
   "id": "df591891",
   "metadata": {},
   "outputs": [
    {
     "data": {
      "text/plain": [
       "(2, 2, 3)"
      ]
     },
     "execution_count": 129,
     "metadata": {},
     "output_type": "execute_result"
    }
   ],
   "source": [
    "#  let's print the shape of this array \n",
    "arr2.shape"
   ]
  },
  {
   "cell_type": "code",
   "execution_count": 130,
   "id": "0cf85348",
   "metadata": {},
   "outputs": [],
   "source": [
    "# (2,2,3)-- what it means ,it means 'arr2' array has 2 sets of data with shape (2,3) 2- rows and 3-columns as u can above also "
   ]
  },
  {
   "cell_type": "code",
   "execution_count": 131,
   "id": "c75d7f07",
   "metadata": {},
   "outputs": [],
   "source": [
    "# generating a array of dim... 4 \n",
    "arr3=np.array([[[[1,2,3],[5,4,3]],[[7,8,9],[45,46,37]],[[1,2,3],[5,4,3]],[[1,2,3],[5,4,3]]]])"
   ]
  },
  {
   "cell_type": "code",
   "execution_count": 132,
   "id": "7c51eb87",
   "metadata": {},
   "outputs": [
    {
     "data": {
      "text/plain": [
       "array([[[[ 1,  2,  3],\n",
       "         [ 5,  4,  3]],\n",
       "\n",
       "        [[ 7,  8,  9],\n",
       "         [45, 46, 37]],\n",
       "\n",
       "        [[ 1,  2,  3],\n",
       "         [ 5,  4,  3]],\n",
       "\n",
       "        [[ 1,  2,  3],\n",
       "         [ 5,  4,  3]]]])"
      ]
     },
     "execution_count": 132,
     "metadata": {},
     "output_type": "execute_result"
    }
   ],
   "source": [
    "arr3"
   ]
  },
  {
   "cell_type": "code",
   "execution_count": 133,
   "id": "93fde60f",
   "metadata": {},
   "outputs": [
    {
     "data": {
      "text/plain": [
       "4"
      ]
     },
     "execution_count": 133,
     "metadata": {},
     "output_type": "execute_result"
    }
   ],
   "source": [
    "arr3.ndim"
   ]
  },
  {
   "cell_type": "code",
   "execution_count": 135,
   "id": "08be343e",
   "metadata": {},
   "outputs": [
    {
     "data": {
      "text/plain": [
       "(1, 4, 2, 3)"
      ]
     },
     "execution_count": 135,
     "metadata": {},
     "output_type": "execute_result"
    }
   ],
   "source": [
    "arr3.shape   # we have 4 sets of data of shape(2,3) with 2 rows and 3 columns "
   ]
  },
  {
   "cell_type": "code",
   "execution_count": 141,
   "id": "05c0a57e",
   "metadata": {},
   "outputs": [
    {
     "data": {
      "text/plain": [
       "[0, 1, 2, 3, 4, 5]"
      ]
     },
     "execution_count": 141,
     "metadata": {},
     "output_type": "execute_result"
    }
   ],
   "source": [
    "# range() is a generator function which only takes integers not float like\n",
    "list(range(6))\n"
   ]
  },
  {
   "cell_type": "code",
   "execution_count": 142,
   "id": "6d9b4728",
   "metadata": {},
   "outputs": [
    {
     "ename": "TypeError",
     "evalue": "'float' object cannot be interpreted as an integer",
     "output_type": "error",
     "traceback": [
      "\u001b[1;31m---------------------------------------------------------------------------\u001b[0m",
      "\u001b[1;31mTypeError\u001b[0m                                 Traceback (most recent call last)",
      "Input \u001b[1;32mIn [142]\u001b[0m, in \u001b[0;36m<cell line: 1>\u001b[1;34m()\u001b[0m\n\u001b[1;32m----> 1\u001b[0m \u001b[38;5;28mlist\u001b[39m(\u001b[38;5;28;43mrange\u001b[39;49m\u001b[43m(\u001b[49m\u001b[38;5;241;43m8.8\u001b[39;49m\u001b[43m)\u001b[49m)\n",
      "\u001b[1;31mTypeError\u001b[0m: 'float' object cannot be interpreted as an integer"
     ]
    }
   ],
   "source": [
    "list(range(8.8))"
   ]
  },
  {
   "cell_type": "code",
   "execution_count": 143,
   "id": "8b23d416",
   "metadata": {},
   "outputs": [],
   "source": [
    "#  but in numpy there is one function-- arange(),  which is equivalent to range() function but in terms of operation and it can also take floating no. also "
   ]
  },
  {
   "cell_type": "code",
   "execution_count": 145,
   "id": "e579e535",
   "metadata": {},
   "outputs": [
    {
     "data": {
      "text/plain": [
       "array([0., 1., 2., 3., 4., 5., 6., 7., 8.])"
      ]
     },
     "execution_count": 145,
     "metadata": {},
     "output_type": "execute_result"
    }
   ],
   "source": [
    "np.arange(8.8)     # we will get array "
   ]
  },
  {
   "cell_type": "code",
   "execution_count": 146,
   "id": "a0f8cfc0",
   "metadata": {},
   "outputs": [
    {
     "data": {
      "text/plain": [
       "array([2.3, 2.6, 2.9, 3.2, 3.5, 3.8, 4.1, 4.4, 4.7, 5. , 5.3, 5.6, 5.9,\n",
       "       6.2, 6.5, 6.8, 7.1, 7.4, 7.7, 8. , 8.3, 8.6, 8.9])"
      ]
     },
     "execution_count": 146,
     "metadata": {},
     "output_type": "execute_result"
    }
   ],
   "source": [
    "#  we can also generate array with jump also using 'arange()' which is kind of substitute of range() function available in core python  \n",
    "np.arange(2.3,9,0.3)"
   ]
  },
  {
   "cell_type": "code",
   "execution_count": 147,
   "id": "72a971c9",
   "metadata": {},
   "outputs": [
    {
     "data": {
      "text/plain": [
       "array([9. , 8.7, 8.4, 8.1, 7.8, 7.5, 7.2, 6.9, 6.6, 6.3, 6. , 5.7, 5.4,\n",
       "       5.1, 4.8, 4.5, 4.2, 3.9, 3.6, 3.3, 3. , 2.7, 2.4])"
      ]
     },
     "execution_count": 147,
     "metadata": {},
     "output_type": "execute_result"
    }
   ],
   "source": [
    "#  in reverse order to we can generate array like\n",
    "np.arange(9,2.3,-0.3)"
   ]
  },
  {
   "cell_type": "code",
   "execution_count": 148,
   "id": "b7c1fe7f",
   "metadata": {},
   "outputs": [],
   "source": [
    "# like range() function arange() also excludes upper bound "
   ]
  },
  {
   "cell_type": "code",
   "execution_count": 149,
   "id": "635c5b37",
   "metadata": {},
   "outputs": [
    {
     "data": {
      "text/plain": [
       "array([3.        , 3.10204082, 3.20408163, 3.30612245, 3.40816327,\n",
       "       3.51020408, 3.6122449 , 3.71428571, 3.81632653, 3.91836735,\n",
       "       4.02040816, 4.12244898, 4.2244898 , 4.32653061, 4.42857143,\n",
       "       4.53061224, 4.63265306, 4.73469388, 4.83673469, 4.93877551,\n",
       "       5.04081633, 5.14285714, 5.24489796, 5.34693878, 5.44897959,\n",
       "       5.55102041, 5.65306122, 5.75510204, 5.85714286, 5.95918367,\n",
       "       6.06122449, 6.16326531, 6.26530612, 6.36734694, 6.46938776,\n",
       "       6.57142857, 6.67346939, 6.7755102 , 6.87755102, 6.97959184,\n",
       "       7.08163265, 7.18367347, 7.28571429, 7.3877551 , 7.48979592,\n",
       "       7.59183673, 7.69387755, 7.79591837, 7.89795918, 8.        ])"
      ]
     },
     "execution_count": 149,
     "metadata": {},
     "output_type": "execute_result"
    }
   ],
   "source": [
    "# linspace()-- is another function in numpy for generating random data in b\\w two given points \n",
    "np.linspace(3,8)     # by-default it generates '50' random data values in b\\w points given "
   ]
  },
  {
   "cell_type": "code",
   "execution_count": 150,
   "id": "06b4a101",
   "metadata": {},
   "outputs": [
    {
     "data": {
      "text/plain": [
       "50"
      ]
     },
     "execution_count": 150,
     "metadata": {},
     "output_type": "execute_result"
    }
   ],
   "source": [
    "len(np.linspace(3,8))"
   ]
  },
  {
   "cell_type": "code",
   "execution_count": 152,
   "id": "5c294293",
   "metadata": {},
   "outputs": [
    {
     "data": {
      "text/plain": [
       "array([3.  , 4.25, 5.5 , 6.75, 8.  ])"
      ]
     },
     "execution_count": 152,
     "metadata": {},
     "output_type": "execute_result"
    }
   ],
   "source": [
    "#  but if we specify the no. of data points we want in b\\w given points we can do this as\n",
    "np.linspace(3,8,5)   # 5-- is the no. of data points which i want "
   ]
  },
  {
   "cell_type": "code",
   "execution_count": 153,
   "id": "a477f80a",
   "metadata": {},
   "outputs": [
    {
     "data": {
      "text/plain": [
       "array([0., 0., 0., 0., 0.])"
      ]
     },
     "execution_count": 153,
     "metadata": {},
     "output_type": "execute_result"
    }
   ],
   "source": [
    "# zeros()-- function in numpy for generating data with values '0'\n",
    "np.zeros(5)"
   ]
  },
  {
   "cell_type": "code",
   "execution_count": 156,
   "id": "c86ad3c4",
   "metadata": {},
   "outputs": [
    {
     "data": {
      "text/plain": [
       "array([[0., 0., 0.],\n",
       "       [0., 0., 0.]])"
      ]
     },
     "execution_count": 156,
     "metadata": {},
     "output_type": "execute_result"
    }
   ],
   "source": [
    "np.zeros([2,3])   # data(array) with values  '0' in 2-rows and 3-columns "
   ]
  },
  {
   "cell_type": "code",
   "execution_count": 158,
   "id": "103234d0",
   "metadata": {},
   "outputs": [
    {
     "data": {
      "text/plain": [
       "array([[[0., 0., 0., 0.],\n",
       "        [0., 0., 0., 0.],\n",
       "        [0., 0., 0., 0.]],\n",
       "\n",
       "       [[0., 0., 0., 0.],\n",
       "        [0., 0., 0., 0.],\n",
       "        [0., 0., 0., 0.]]])"
      ]
     },
     "execution_count": 158,
     "metadata": {},
     "output_type": "execute_result"
    }
   ],
   "source": [
    "np.zeros([2,3,4])"
   ]
  },
  {
   "cell_type": "code",
   "execution_count": 159,
   "id": "980a102e",
   "metadata": {},
   "outputs": [
    {
     "data": {
      "text/plain": [
       "array([1., 1., 1., 1., 1.])"
      ]
     },
     "execution_count": 159,
     "metadata": {},
     "output_type": "execute_result"
    }
   ],
   "source": [
    "# ones()--function similar to zeros() function but for grnerating array with values as'1'\n",
    "np.ones(5)"
   ]
  },
  {
   "cell_type": "code",
   "execution_count": 161,
   "id": "255ec02e",
   "metadata": {},
   "outputs": [
    {
     "data": {
      "text/plain": [
       "array([[1., 1., 1.],\n",
       "       [1., 1., 1.]])"
      ]
     },
     "execution_count": 161,
     "metadata": {},
     "output_type": "execute_result"
    }
   ],
   "source": [
    "np.ones([2,3])             # 2-d "
   ]
  },
  {
   "cell_type": "code",
   "execution_count": 162,
   "id": "3d8a56a7",
   "metadata": {},
   "outputs": [
    {
     "data": {
      "text/plain": [
       "array([[[0., 0., 0., 0.],\n",
       "        [0., 0., 0., 0.],\n",
       "        [0., 0., 0., 0.]],\n",
       "\n",
       "       [[0., 0., 0., 0.],\n",
       "        [0., 0., 0., 0.],\n",
       "        [0., 0., 0., 0.]]])"
      ]
     },
     "execution_count": 162,
     "metadata": {},
     "output_type": "execute_result"
    }
   ],
   "source": [
    "# 3-d\n",
    "np.zeros([2,3,4])"
   ]
  },
  {
   "cell_type": "code",
   "execution_count": 164,
   "id": "87636343",
   "metadata": {},
   "outputs": [
    {
     "data": {
      "text/plain": [
       "array([1., 1., 1., 1., 1.])"
      ]
     },
     "execution_count": 164,
     "metadata": {},
     "output_type": "execute_result"
    }
   ],
   "source": [
    "# empty()-- function\n",
    "np.empty(5)"
   ]
  },
  {
   "cell_type": "code",
   "execution_count": 166,
   "id": "0437ec08",
   "metadata": {},
   "outputs": [
    {
     "data": {
      "text/plain": [
       "array([[1., 1., 1.],\n",
       "       [1., 1., 1.]])"
      ]
     },
     "execution_count": 166,
     "metadata": {},
     "output_type": "execute_result"
    }
   ],
   "source": [
    "np.empty([2,3])"
   ]
  },
  {
   "cell_type": "code",
   "execution_count": 168,
   "id": "27b4762a",
   "metadata": {},
   "outputs": [
    {
     "data": {
      "text/plain": [
       "array([[1., 0., 0.],\n",
       "       [0., 1., 0.],\n",
       "       [0., 0., 1.]])"
      ]
     },
     "execution_count": 168,
     "metadata": {},
     "output_type": "execute_result"
    }
   ],
   "source": [
    "# identity matrix with function ---->  eye()\n",
    "np.eye(3)"
   ]
  },
  {
   "cell_type": "code",
   "execution_count": 173,
   "id": "d03d63c1",
   "metadata": {},
   "outputs": [
    {
     "data": {
      "text/plain": [
       "array([2. , 2.5, 3. , 3.5])"
      ]
     },
     "execution_count": 173,
     "metadata": {},
     "output_type": "execute_result"
    }
   ],
   "source": [
    "# \n",
    "np.linspace(2,4,4,endpoint=False)  # with endpoint=False  it will not enclude the last no. which is 4 here "
   ]
  },
  {
   "cell_type": "code",
   "execution_count": 174,
   "id": "ad758b02",
   "metadata": {},
   "outputs": [
    {
     "data": {
      "text/plain": [
       "array([2.        , 2.66666667, 3.33333333, 4.        ])"
      ]
     },
     "execution_count": 174,
     "metadata": {},
     "output_type": "execute_result"
    }
   ],
   "source": [
    "np.linspace(2,4,4) # in this case it will enclude the end point "
   ]
  },
  {
   "cell_type": "code",
   "execution_count": 177,
   "id": "e9cd1a08",
   "metadata": {},
   "outputs": [
    {
     "data": {
      "text/plain": [
       "array([   100.        ,    562.34132519,   3162.27766017,  17782.79410039,\n",
       "       100000.        ])"
      ]
     },
     "execution_count": 177,
     "metadata": {},
     "output_type": "execute_result"
    }
   ],
   "source": [
    "# logspace()-- function which will give values of randomly generated points b/w given start and stop point values on 'log' scale\n",
    "np.logspace(2,5,5) "
   ]
  },
  {
   "cell_type": "code",
   "execution_count": 178,
   "id": "b62f97cf",
   "metadata": {},
   "outputs": [],
   "source": [
    "#### numpy functions which will be mostly used on daily bases "
   ]
  },
  {
   "cell_type": "code",
   "execution_count": 182,
   "id": "f9b49185",
   "metadata": {},
   "outputs": [],
   "source": [
    "# generating 40 random data points b/w 2 and 5  \n",
    "d=np.linspace(2,5,40)"
   ]
  },
  {
   "cell_type": "code",
   "execution_count": 183,
   "id": "a84c2b45",
   "metadata": {},
   "outputs": [
    {
     "data": {
      "text/plain": [
       "array([2.        , 2.07692308, 2.15384615, 2.23076923, 2.30769231,\n",
       "       2.38461538, 2.46153846, 2.53846154, 2.61538462, 2.69230769,\n",
       "       2.76923077, 2.84615385, 2.92307692, 3.        , 3.07692308,\n",
       "       3.15384615, 3.23076923, 3.30769231, 3.38461538, 3.46153846,\n",
       "       3.53846154, 3.61538462, 3.69230769, 3.76923077, 3.84615385,\n",
       "       3.92307692, 4.        , 4.07692308, 4.15384615, 4.23076923,\n",
       "       4.30769231, 4.38461538, 4.46153846, 4.53846154, 4.61538462,\n",
       "       4.69230769, 4.76923077, 4.84615385, 4.92307692, 5.        ])"
      ]
     },
     "execution_count": 183,
     "metadata": {},
     "output_type": "execute_result"
    }
   ],
   "source": [
    "d"
   ]
  },
  {
   "cell_type": "code",
   "execution_count": 184,
   "id": "2ff06cb9",
   "metadata": {},
   "outputs": [
    {
     "data": {
      "text/plain": [
       "1"
      ]
     },
     "execution_count": 184,
     "metadata": {},
     "output_type": "execute_result"
    }
   ],
   "source": [
    "d.ndim   # so it is a 1-d data "
   ]
  },
  {
   "cell_type": "code",
   "execution_count": 187,
   "id": "0546d5ce",
   "metadata": {},
   "outputs": [
    {
     "data": {
      "text/plain": [
       "(40,)"
      ]
     },
     "execution_count": 187,
     "metadata": {},
     "output_type": "execute_result"
    }
   ],
   "source": [
    "d.shape   # 40- columns and only 1 - row"
   ]
  },
  {
   "cell_type": "code",
   "execution_count": 189,
   "id": "761041cc",
   "metadata": {
    "scrolled": true
   },
   "outputs": [
    {
     "data": {
      "text/plain": [
       "array([[2.        ],\n",
       "       [2.07692308],\n",
       "       [2.15384615],\n",
       "       [2.23076923],\n",
       "       [2.30769231],\n",
       "       [2.38461538],\n",
       "       [2.46153846],\n",
       "       [2.53846154],\n",
       "       [2.61538462],\n",
       "       [2.69230769],\n",
       "       [2.76923077],\n",
       "       [2.84615385],\n",
       "       [2.92307692],\n",
       "       [3.        ],\n",
       "       [3.07692308],\n",
       "       [3.15384615],\n",
       "       [3.23076923],\n",
       "       [3.30769231],\n",
       "       [3.38461538],\n",
       "       [3.46153846],\n",
       "       [3.53846154],\n",
       "       [3.61538462],\n",
       "       [3.69230769],\n",
       "       [3.76923077],\n",
       "       [3.84615385],\n",
       "       [3.92307692],\n",
       "       [4.        ],\n",
       "       [4.07692308],\n",
       "       [4.15384615],\n",
       "       [4.23076923],\n",
       "       [4.30769231],\n",
       "       [4.38461538],\n",
       "       [4.46153846],\n",
       "       [4.53846154],\n",
       "       [4.61538462],\n",
       "       [4.69230769],\n",
       "       [4.76923077],\n",
       "       [4.84615385],\n",
       "       [4.92307692],\n",
       "       [5.        ]])"
      ]
     },
     "execution_count": 189,
     "metadata": {},
     "output_type": "execute_result"
    }
   ],
   "source": [
    "#  we can change the shape of the above data using-- reshape() function like\n",
    "d.reshape(40,1)   # data with 40- rows and only 1 -column"
   ]
  },
  {
   "cell_type": "code",
   "execution_count": 190,
   "id": "ff90288c",
   "metadata": {},
   "outputs": [],
   "source": [
    "# using reshape() function we can get all possible sets of data but always remember that the size of both should be same  "
   ]
  },
  {
   "cell_type": "code",
   "execution_count": 193,
   "id": "023ac938",
   "metadata": {},
   "outputs": [
    {
     "data": {
      "text/plain": [
       "array([[[2.        , 2.07692308, 2.15384615, 2.23076923, 2.30769231,\n",
       "         2.38461538, 2.46153846, 2.53846154, 2.61538462, 2.69230769],\n",
       "        [2.76923077, 2.84615385, 2.92307692, 3.        , 3.07692308,\n",
       "         3.15384615, 3.23076923, 3.30769231, 3.38461538, 3.46153846]],\n",
       "\n",
       "       [[3.53846154, 3.61538462, 3.69230769, 3.76923077, 3.84615385,\n",
       "         3.92307692, 4.        , 4.07692308, 4.15384615, 4.23076923],\n",
       "        [4.30769231, 4.38461538, 4.46153846, 4.53846154, 4.61538462,\n",
       "         4.69230769, 4.76923077, 4.84615385, 4.92307692, 5.        ]]])"
      ]
     },
     "execution_count": 193,
     "metadata": {},
     "output_type": "execute_result"
    }
   ],
   "source": [
    "d.reshape(2,2,10)   # 2 sets of 2*10 "
   ]
  },
  {
   "cell_type": "code",
   "execution_count": 195,
   "id": "c7a02ff4",
   "metadata": {},
   "outputs": [
    {
     "ename": "ValueError",
     "evalue": "cannot reshape array of size 40 into shape (2,2,20)",
     "output_type": "error",
     "traceback": [
      "\u001b[1;31m---------------------------------------------------------------------------\u001b[0m",
      "\u001b[1;31mValueError\u001b[0m                                Traceback (most recent call last)",
      "Input \u001b[1;32mIn [195]\u001b[0m, in \u001b[0;36m<cell line: 1>\u001b[1;34m()\u001b[0m\n\u001b[1;32m----> 1\u001b[0m \u001b[43md\u001b[49m\u001b[38;5;241;43m.\u001b[39;49m\u001b[43mreshape\u001b[49m\u001b[43m(\u001b[49m\u001b[38;5;241;43m2\u001b[39;49m\u001b[43m,\u001b[49m\u001b[38;5;241;43m2\u001b[39;49m\u001b[43m,\u001b[49m\u001b[38;5;241;43m20\u001b[39;49m\u001b[43m)\u001b[49m\n",
      "\u001b[1;31mValueError\u001b[0m: cannot reshape array of size 40 into shape (2,2,20)"
     ]
    }
   ],
   "source": [
    "d.reshape(2,2,20)  # boz the size of two are different"
   ]
  },
  {
   "cell_type": "code",
   "execution_count": 1,
   "id": "724549a1",
   "metadata": {},
   "outputs": [],
   "source": [
    "# for generating a random data we have 2 functions in numpy 1)np.random.rand()   2) np.random.randn()\n",
    "# there is difference b/w two 1) the 'rand' will generate only positive data using 'unifor ditribution'\n",
    "#  2) where as 'randn' generates data which contains -ve values also using 'standard normal distribution'"
   ]
  },
  {
   "cell_type": "code",
   "execution_count": 2,
   "id": "3ddb232b",
   "metadata": {},
   "outputs": [],
   "source": [
    "#  there is diff. b/w noraml distribution and stand. noraml distribution \n",
    "#  IN NORAML DISTRIBUTION-- the mean value and the standard deviation value can be any thing\n",
    "# IN STANDARD NORMAL DISTRIBITION ---- the mean=0 and stand.. diviation=1 "
   ]
  },
  {
   "cell_type": "code",
   "execution_count": 3,
   "id": "7156fbd6",
   "metadata": {},
   "outputs": [
    {
     "data": {
      "text/plain": [
       "array([0.32264777, 0.96655846, 0.06033754])"
      ]
     },
     "execution_count": 3,
     "metadata": {},
     "output_type": "execute_result"
    }
   ],
   "source": [
    "# using 'rand' for generating random data values \n",
    "import numpy as np\n",
    "np.random.rand(3)"
   ]
  },
  {
   "cell_type": "code",
   "execution_count": 6,
   "id": "3c274d36",
   "metadata": {},
   "outputs": [],
   "source": [
    "#  using 'randn' for generating random data values like\n",
    "a=np.random.randn(5)"
   ]
  },
  {
   "cell_type": "code",
   "execution_count": 7,
   "id": "f367b7f3",
   "metadata": {},
   "outputs": [
    {
     "data": {
      "text/plain": [
       "array([-1.23976719, -0.98637286, -1.0045526 ,  0.09123411, -1.29803586])"
      ]
     },
     "execution_count": 7,
     "metadata": {},
     "output_type": "execute_result"
    }
   ],
   "source": [
    "#  youn can see -ve values also \n",
    "a"
   ]
  },
  {
   "cell_type": "code",
   "execution_count": 8,
   "id": "47ca62e4",
   "metadata": {},
   "outputs": [
    {
     "data": {
      "text/plain": [
       "1"
      ]
     },
     "execution_count": 8,
     "metadata": {},
     "output_type": "execute_result"
    }
   ],
   "source": [
    "#  let's check the dimension \n",
    "a.ndim"
   ]
  },
  {
   "cell_type": "code",
   "execution_count": 10,
   "id": "40569f68",
   "metadata": {},
   "outputs": [
    {
     "data": {
      "text/plain": [
       "array([[-0.42101313, -0.74486868,  0.3108301 ],\n",
       "       [ 0.18278298, -0.43327808,  0.24600529]])"
      ]
     },
     "execution_count": 10,
     "metadata": {},
     "output_type": "execute_result"
    }
   ],
   "source": [
    "#  we can random data of any dimension like\n",
    "np.random.randn(2,3)   # 2- is for no. of rows and 3-- is for no. of columns\n",
    "#  dimension is 2"
   ]
  },
  {
   "cell_type": "code",
   "execution_count": 11,
   "id": "f215ba89",
   "metadata": {},
   "outputs": [
    {
     "data": {
      "text/plain": [
       "array([[[0.47019715, 0.58953279, 0.49549646, 0.99281337],\n",
       "        [0.3968812 , 0.16102944, 0.56289354, 0.7328253 ]],\n",
       "\n",
       "       [[0.79513822, 0.95416806, 0.4904465 , 0.05815877],\n",
       "        [0.27899488, 0.45104006, 0.41187854, 0.77109748]]])"
      ]
     },
     "execution_count": 11,
     "metadata": {},
     "output_type": "execute_result"
    }
   ],
   "source": [
    "# 3 dimensional random data generated  like\n",
    "np.random.rand(2,2,4)"
   ]
  },
  {
   "cell_type": "code",
   "execution_count": 12,
   "id": "5da50bf3",
   "metadata": {},
   "outputs": [],
   "source": [
    "#  2 sets of 2*3 data with 2-- rows and 3- columns in each set "
   ]
  },
  {
   "cell_type": "code",
   "execution_count": 13,
   "id": "d167bc39",
   "metadata": {},
   "outputs": [],
   "source": [
    "#  there is another function for randomly generating integer value b/w given lower value and upper value like  "
   ]
  },
  {
   "cell_type": "code",
   "execution_count": 14,
   "id": "9392bde8",
   "metadata": {},
   "outputs": [
    {
     "data": {
      "text/plain": [
       "3"
      ]
     },
     "execution_count": 14,
     "metadata": {},
     "output_type": "execute_result"
    }
   ],
   "source": [
    "np.random.randint(2,5)"
   ]
  },
  {
   "cell_type": "code",
   "execution_count": 16,
   "id": "a281ef80",
   "metadata": {},
   "outputs": [
    {
     "data": {
      "text/plain": [
       "array([7, 5, 2, 8, 6, 6, 6, 9, 2, 5])"
      ]
     },
     "execution_count": 16,
     "metadata": {},
     "output_type": "execute_result"
    }
   ],
   "source": [
    "np.random.randint(2,10,size=10)    # random points b/w 2(included) & 10(excluded) with size=10 means will generate total of 10 points"
   ]
  },
  {
   "cell_type": "code",
   "execution_count": 20,
   "id": "65563d2e",
   "metadata": {},
   "outputs": [
    {
     "data": {
      "text/plain": [
       "array([[9, 3, 7],\n",
       "       [3, 7, 4]])"
      ]
     },
     "execution_count": 20,
     "metadata": {},
     "output_type": "execute_result"
    }
   ],
   "source": [
    "b=np.random.randint(2,10,size=(2,3))\n",
    "b"
   ]
  },
  {
   "cell_type": "code",
   "execution_count": 18,
   "id": "8fc68bf6",
   "metadata": {},
   "outputs": [],
   "source": [
    "#  so basically give the size you want and the lower value and upper value for data points values in b/w those lower and upper values   "
   ]
  },
  {
   "cell_type": "code",
   "execution_count": 21,
   "id": "e3da6136",
   "metadata": {},
   "outputs": [
    {
     "data": {
      "text/plain": [
       "array([[9, 3],\n",
       "       [7, 3],\n",
       "       [7, 4]])"
      ]
     },
     "execution_count": 21,
     "metadata": {},
     "output_type": "execute_result"
    }
   ],
   "source": [
    "#  reshaping of above data which we have generated \n",
    "b.reshape(3,2)"
   ]
  },
  {
   "cell_type": "code",
   "execution_count": 22,
   "id": "43a40269",
   "metadata": {},
   "outputs": [
    {
     "data": {
      "text/plain": [
       "array([[9, 3, 7, 3, 7, 4]])"
      ]
     },
     "execution_count": 22,
     "metadata": {},
     "output_type": "execute_result"
    }
   ],
   "source": [
    "b.reshape(1,6)"
   ]
  },
  {
   "cell_type": "code",
   "execution_count": 23,
   "id": "26e837a5",
   "metadata": {},
   "outputs": [
    {
     "data": {
      "text/plain": [
       "array([[9],\n",
       "       [3],\n",
       "       [7],\n",
       "       [3],\n",
       "       [7],\n",
       "       [4]])"
      ]
     },
     "execution_count": 23,
     "metadata": {},
     "output_type": "execute_result"
    }
   ],
   "source": [
    "b.reshape(6,1)"
   ]
  },
  {
   "cell_type": "code",
   "execution_count": 27,
   "id": "99f4b3c5",
   "metadata": {},
   "outputs": [
    {
     "data": {
      "text/plain": [
       "array([[[9, 3, 7, 3, 7, 4]]])"
      ]
     },
     "execution_count": 27,
     "metadata": {},
     "output_type": "execute_result"
    }
   ],
   "source": [
    "b.reshape(1,1,6)  # 3-d data "
   ]
  },
  {
   "cell_type": "code",
   "execution_count": 29,
   "id": "662a398a",
   "metadata": {},
   "outputs": [
    {
     "data": {
      "text/plain": [
       "array([[9, 3],\n",
       "       [7, 3],\n",
       "       [7, 4]])"
      ]
     },
     "execution_count": 29,
     "metadata": {},
     "output_type": "execute_result"
    }
   ],
   "source": [
    "# \n",
    "b.reshape(3,-1)   # 'b' originally is havingn total of 6 elements and here 3-- no. of rows so here in this case it will automatically take 2-columns "
   ]
  },
  {
   "cell_type": "code",
   "execution_count": 30,
   "id": "d25ddcd0",
   "metadata": {},
   "outputs": [],
   "source": [
    "#  using max()  and min() function we can get max.. and min.. values out of any array of any dimension like "
   ]
  },
  {
   "cell_type": "code",
   "execution_count": 31,
   "id": "854babb3",
   "metadata": {},
   "outputs": [
    {
     "data": {
      "text/plain": [
       "9"
      ]
     },
     "execution_count": 31,
     "metadata": {},
     "output_type": "execute_result"
    }
   ],
   "source": [
    "b.max()"
   ]
  },
  {
   "cell_type": "code",
   "execution_count": 32,
   "id": "342507cd",
   "metadata": {},
   "outputs": [
    {
     "data": {
      "text/plain": [
       "3"
      ]
     },
     "execution_count": 32,
     "metadata": {},
     "output_type": "execute_result"
    }
   ],
   "source": [
    "b.min()"
   ]
  },
  {
   "cell_type": "code",
   "execution_count": 33,
   "id": "0e1a1dce",
   "metadata": {},
   "outputs": [],
   "source": [
    "#  let's generate a array of size 5,5\n",
    "arr=np.random.randint(4,100,size=(5,5))"
   ]
  },
  {
   "cell_type": "code",
   "execution_count": 34,
   "id": "9b258db8",
   "metadata": {},
   "outputs": [
    {
     "data": {
      "text/plain": [
       "array([[50, 43,  4, 60, 41],\n",
       "       [31, 37, 85,  9, 51],\n",
       "       [70, 82, 74, 67, 91],\n",
       "       [91, 71, 93, 87, 96],\n",
       "       [83, 75, 56, 67, 25]])"
      ]
     },
     "execution_count": 34,
     "metadata": {},
     "output_type": "execute_result"
    }
   ],
   "source": [
    "arr"
   ]
  },
  {
   "cell_type": "code",
   "execution_count": 35,
   "id": "e5b5c4dc",
   "metadata": {},
   "outputs": [
    {
     "data": {
      "text/plain": [
       "array([[87, 96],\n",
       "       [67, 25]])"
      ]
     },
     "execution_count": 35,
     "metadata": {},
     "output_type": "execute_result"
    }
   ],
   "source": [
    "# we want elements from intersection of 3,4 rows and 3,4 columns   \n",
    "arr[3:,3:]   # 3: means start from 3rd row and go till end and second 3: means start from 3rd column and go till end"
   ]
  },
  {
   "cell_type": "code",
   "execution_count": 38,
   "id": "ceebdfdf",
   "metadata": {},
   "outputs": [
    {
     "data": {
      "text/plain": [
       "9"
      ]
     },
     "execution_count": 38,
     "metadata": {},
     "output_type": "execute_result"
    }
   ],
   "source": [
    "arr[1,3]   # for getting enement at any location in array ,using which row and in which column "
   ]
  },
  {
   "cell_type": "code",
   "execution_count": 39,
   "id": "b8698c9c",
   "metadata": {},
   "outputs": [
    {
     "data": {
      "text/plain": [
       "array([[43, 60],\n",
       "       [37,  9],\n",
       "       [82, 67],\n",
       "       [71, 87],\n",
       "       [75, 67]])"
      ]
     },
     "execution_count": 39,
     "metadata": {},
     "output_type": "execute_result"
    }
   ],
   "source": [
    "## suppose if i want data of 2nd and 4th columns than \n",
    "# index for 2nd column is '1' and for 4th column is '3' we use indexes like \n",
    "#  we want data for all rows and only for columns with index '1' and '3'\n",
    "arr[:,[1,3]]\n"
   ]
  },
  {
   "cell_type": "code",
   "execution_count": 40,
   "id": "26941612",
   "metadata": {},
   "outputs": [
    {
     "data": {
      "text/plain": [
       "array([[31, 37, 85,  9, 51],\n",
       "       [91, 71, 93, 87, 96]])"
      ]
     },
     "execution_count": 40,
     "metadata": {},
     "output_type": "execute_result"
    }
   ],
   "source": [
    "#in similar way we can get data of any specific rows like say i want data for row with index '1' and '3' than \n",
    "arr[[1,3],:]"
   ]
  },
  {
   "cell_type": "code",
   "execution_count": 41,
   "id": "b1e24064",
   "metadata": {},
   "outputs": [
    {
     "data": {
      "text/plain": [
       "array([50, 43, 60, 41, 31, 37, 85, 51, 70, 82, 74, 67, 91, 91, 71, 93, 87,\n",
       "       96, 83, 75, 56, 67, 25])"
      ]
     },
     "execution_count": 41,
     "metadata": {},
     "output_type": "execute_result"
    }
   ],
   "source": [
    "# now give me all values of array 'arr' which are >10 like\n",
    "arr[arr>10]"
   ]
  },
  {
   "cell_type": "code",
   "execution_count": 43,
   "id": "61842169",
   "metadata": {},
   "outputs": [
    {
     "data": {
      "text/plain": [
       "array([[ True,  True, False,  True,  True],\n",
       "       [ True,  True,  True, False,  True],\n",
       "       [ True,  True,  True,  True,  True],\n",
       "       [ True,  True,  True,  True,  True],\n",
       "       [ True,  True,  True,  True,  True]])"
      ]
     },
     "execution_count": 43,
     "metadata": {},
     "output_type": "execute_result"
    }
   ],
   "source": [
    "arr>10   # value which is >10 will return True and all other as False "
   ]
  },
  {
   "cell_type": "code",
   "execution_count": 45,
   "id": "0991a6bd",
   "metadata": {},
   "outputs": [
    {
     "data": {
      "text/plain": [
       "array([[2500, 1849,   16, 3600, 1681],\n",
       "       [ 961, 1369, 7225,   81, 2601],\n",
       "       [4900, 6724, 5476, 4489, 8281],\n",
       "       [8281, 5041, 8649, 7569, 9216],\n",
       "       [6889, 5625, 3136, 4489,  625]])"
      ]
     },
     "execution_count": 45,
     "metadata": {},
     "output_type": "execute_result"
    }
   ],
   "source": [
    "# elements wise multiplication of same size arrays like \n",
    "arr*arr     # we can have diff.. arrays also "
   ]
  },
  {
   "cell_type": "code",
   "execution_count": 46,
   "id": "7cd0b599",
   "metadata": {},
   "outputs": [
    {
     "data": {
      "text/plain": [
       "array([[100,  86,   8, 120,  82],\n",
       "       [ 62,  74, 170,  18, 102],\n",
       "       [140, 164, 148, 134, 182],\n",
       "       [182, 142, 186, 174, 192],\n",
       "       [166, 150, 112, 134,  50]])"
      ]
     },
     "execution_count": 46,
     "metadata": {},
     "output_type": "execute_result"
    }
   ],
   "source": [
    "# multiplying any no. with array than the no. will be multiplied with every element  of array 'arr' like\n",
    "arr*2"
   ]
  },
  {
   "cell_type": "code",
   "execution_count": 47,
   "id": "e876f621",
   "metadata": {},
   "outputs": [
    {
     "data": {
      "text/plain": [
       "array([[25. , 21.5,  2. , 30. , 20.5],\n",
       "       [15.5, 18.5, 42.5,  4.5, 25.5],\n",
       "       [35. , 41. , 37. , 33.5, 45.5],\n",
       "       [45.5, 35.5, 46.5, 43.5, 48. ],\n",
       "       [41.5, 37.5, 28. , 33.5, 12.5]])"
      ]
     },
     "execution_count": 47,
     "metadata": {},
     "output_type": "execute_result"
    }
   ],
   "source": [
    "# we can also divede by any no. also like \n",
    "arr/2"
   ]
  },
  {
   "cell_type": "code",
   "execution_count": 49,
   "id": "f6dcfacb",
   "metadata": {},
   "outputs": [
    {
     "data": {
      "text/plain": [
       "array([[1., 1., 1., 1., 1.],\n",
       "       [1., 1., 1., 1., 1.],\n",
       "       [1., 1., 1., 1., 1.],\n",
       "       [1., 1., 1., 1., 1.],\n",
       "       [1., 1., 1., 1., 1.]])"
      ]
     },
     "execution_count": 49,
     "metadata": {},
     "output_type": "execute_result"
    }
   ],
   "source": [
    "arr/arr  # for converting any array into array with all values '1' unity like  "
   ]
  },
  {
   "cell_type": "code",
   "execution_count": 50,
   "id": "fa1a594e",
   "metadata": {},
   "outputs": [],
   "source": [
    "# let's see what is 'BROADCASTING' in array\n",
    "#  there is something called 'row wise broadcasting' and 'colunm wise broadcasting' like"
   ]
  },
  {
   "cell_type": "code",
   "execution_count": 53,
   "id": "c51d275c",
   "metadata": {},
   "outputs": [],
   "source": [
    "# row wise broascasting \n",
    "arr=np.zeros(5)"
   ]
  },
  {
   "cell_type": "code",
   "execution_count": 54,
   "id": "d3dac5d7",
   "metadata": {},
   "outputs": [
    {
     "data": {
      "text/plain": [
       "array([0., 0., 0., 0., 0.])"
      ]
     },
     "execution_count": 54,
     "metadata": {},
     "output_type": "execute_result"
    }
   ],
   "source": [
    "arr"
   ]
  },
  {
   "cell_type": "code",
   "execution_count": 55,
   "id": "ca46877b",
   "metadata": {},
   "outputs": [
    {
     "data": {
      "text/plain": [
       "array([5., 5., 5., 5., 5.])"
      ]
     },
     "execution_count": 55,
     "metadata": {},
     "output_type": "execute_result"
    }
   ],
   "source": [
    "arr+5"
   ]
  },
  {
   "cell_type": "code",
   "execution_count": 57,
   "id": "ef4fad9b",
   "metadata": {},
   "outputs": [],
   "source": [
    "arr1=np.zeros([5,5])"
   ]
  },
  {
   "cell_type": "code",
   "execution_count": 58,
   "id": "89b12c3f",
   "metadata": {},
   "outputs": [
    {
     "data": {
      "text/plain": [
       "array([[0., 0., 0., 0., 0.],\n",
       "       [0., 0., 0., 0., 0.],\n",
       "       [0., 0., 0., 0., 0.],\n",
       "       [0., 0., 0., 0., 0.],\n",
       "       [0., 0., 0., 0., 0.]])"
      ]
     },
     "execution_count": 58,
     "metadata": {},
     "output_type": "execute_result"
    }
   ],
   "source": [
    "arr1"
   ]
  },
  {
   "cell_type": "code",
   "execution_count": 59,
   "id": "7b836364",
   "metadata": {},
   "outputs": [],
   "source": [
    "b=np.array([1,1,2,3,4])"
   ]
  },
  {
   "cell_type": "code",
   "execution_count": 60,
   "id": "cd5c31e2",
   "metadata": {},
   "outputs": [
    {
     "data": {
      "text/plain": [
       "array([1, 1, 2, 3, 4])"
      ]
     },
     "execution_count": 60,
     "metadata": {},
     "output_type": "execute_result"
    }
   ],
   "source": [
    "b"
   ]
  },
  {
   "cell_type": "code",
   "execution_count": 61,
   "id": "22a2a1af",
   "metadata": {},
   "outputs": [
    {
     "data": {
      "text/plain": [
       "array([[1., 1., 2., 3., 4.],\n",
       "       [1., 1., 2., 3., 4.],\n",
       "       [1., 1., 2., 3., 4.],\n",
       "       [1., 1., 2., 3., 4.],\n",
       "       [1., 1., 2., 3., 4.]])"
      ]
     },
     "execution_count": 61,
     "metadata": {},
     "output_type": "execute_result"
    }
   ],
   "source": [
    "#  row wise broadcasting \n",
    "arr1+b"
   ]
  },
  {
   "cell_type": "code",
   "execution_count": 64,
   "id": "5b503138",
   "metadata": {},
   "outputs": [
    {
     "data": {
      "text/plain": [
       "array([1, 1, 2, 3, 4])"
      ]
     },
     "execution_count": 64,
     "metadata": {},
     "output_type": "execute_result"
    }
   ],
   "source": [
    "b.T   # not able to get transpose boz it is simply 1 dimensional ,first change it to 2-D or any higher dim... like"
   ]
  },
  {
   "cell_type": "code",
   "execution_count": 65,
   "id": "0f4fcb3c",
   "metadata": {},
   "outputs": [],
   "source": [
    "b=np.array([[1,2,3,4,5]])"
   ]
  },
  {
   "cell_type": "code",
   "execution_count": 66,
   "id": "9e03dce1",
   "metadata": {},
   "outputs": [
    {
     "data": {
      "text/plain": [
       "array([[1, 2, 3, 4, 5]])"
      ]
     },
     "execution_count": 66,
     "metadata": {},
     "output_type": "execute_result"
    }
   ],
   "source": [
    "b"
   ]
  },
  {
   "cell_type": "code",
   "execution_count": 67,
   "id": "84c0c0e2",
   "metadata": {},
   "outputs": [
    {
     "data": {
      "text/plain": [
       "2"
      ]
     },
     "execution_count": 67,
     "metadata": {},
     "output_type": "execute_result"
    }
   ],
   "source": [
    "b.ndim"
   ]
  },
  {
   "cell_type": "code",
   "execution_count": 68,
   "id": "820da363",
   "metadata": {},
   "outputs": [
    {
     "data": {
      "text/plain": [
       "array([[1],\n",
       "       [2],\n",
       "       [3],\n",
       "       [4],\n",
       "       [5]])"
      ]
     },
     "execution_count": 68,
     "metadata": {},
     "output_type": "execute_result"
    }
   ],
   "source": [
    "# transpose of array 'b'\n",
    "b.T"
   ]
  },
  {
   "cell_type": "code",
   "execution_count": 69,
   "id": "14e440be",
   "metadata": {},
   "outputs": [
    {
     "data": {
      "text/plain": [
       "(1, 5)"
      ]
     },
     "execution_count": 69,
     "metadata": {},
     "output_type": "execute_result"
    }
   ],
   "source": [
    "b.shape"
   ]
  },
  {
   "cell_type": "code",
   "execution_count": 71,
   "id": "f9a3c65a",
   "metadata": {},
   "outputs": [
    {
     "data": {
      "text/plain": [
       "array([[1., 1., 1., 1., 1.],\n",
       "       [2., 2., 2., 2., 2.],\n",
       "       [3., 3., 3., 3., 3.],\n",
       "       [4., 4., 4., 4., 4.],\n",
       "       [5., 5., 5., 5., 5.]])"
      ]
     },
     "execution_count": 71,
     "metadata": {},
     "output_type": "execute_result"
    }
   ],
   "source": [
    "#  now column wise broadcasting like\n",
    "arr1+b.T"
   ]
  },
  {
   "cell_type": "code",
   "execution_count": 72,
   "id": "dc0bd5ec",
   "metadata": {},
   "outputs": [
    {
     "data": {
      "text/plain": [
       "array([[5., 5., 5., 5., 5.],\n",
       "       [5., 5., 5., 5., 5.],\n",
       "       [5., 5., 5., 5., 5.],\n",
       "       [5., 5., 5., 5., 5.],\n",
       "       [5., 5., 5., 5., 5.]])"
      ]
     },
     "execution_count": 72,
     "metadata": {},
     "output_type": "execute_result"
    }
   ],
   "source": [
    "# can also do \n",
    "arr1+5"
   ]
  },
  {
   "cell_type": "code",
   "execution_count": 73,
   "id": "35b0fbd7",
   "metadata": {},
   "outputs": [
    {
     "data": {
      "text/plain": [
       "array([[0., 0., 0., 0., 0.],\n",
       "       [0., 0., 0., 0., 0.],\n",
       "       [0., 0., 0., 0., 0.],\n",
       "       [0., 0., 0., 0., 0.],\n",
       "       [0., 0., 0., 0., 0.]])"
      ]
     },
     "execution_count": 73,
     "metadata": {},
     "output_type": "execute_result"
    }
   ],
   "source": [
    "# various opeartions with any array like \n",
    "arr1"
   ]
  },
  {
   "cell_type": "code",
   "execution_count": 74,
   "id": "4caf158b",
   "metadata": {},
   "outputs": [],
   "source": [
    "arr1=np.random.randn(3,5)"
   ]
  },
  {
   "cell_type": "code",
   "execution_count": 75,
   "id": "b52854de",
   "metadata": {},
   "outputs": [
    {
     "data": {
      "text/plain": [
       "array([[-0.76166835,  1.67366862, -0.17486123, -0.23443948,  1.12657093],\n",
       "       [-0.88342136, -1.57978706,  1.2918349 , -0.64818562,  0.10264449],\n",
       "       [-0.02094611, -0.26431721,  0.3542523 ,  0.54363755, -0.81503681]])"
      ]
     },
     "execution_count": 75,
     "metadata": {},
     "output_type": "execute_result"
    }
   ],
   "source": [
    "arr1"
   ]
  },
  {
   "cell_type": "code",
   "execution_count": 76,
   "id": "9bdeaf83",
   "metadata": {},
   "outputs": [
    {
     "name": "stderr",
     "output_type": "stream",
     "text": [
      "C:\\Users\\Dell\\AppData\\Local\\Temp\\ipykernel_10512\\3592223419.py:2: RuntimeWarning: invalid value encountered in sqrt\n",
      "  np.sqrt(arr1)   # sqrt()-- function is available in numpy also along with 'math' library of python\n"
     ]
    },
    {
     "data": {
      "text/plain": [
       "array([[       nan, 1.29370345,        nan,        nan, 1.06140046],\n",
       "       [       nan,        nan, 1.13658915,        nan, 0.32038178],\n",
       "       [       nan,        nan, 0.59519098, 0.73731781,        nan]])"
      ]
     },
     "execution_count": 76,
     "metadata": {},
     "output_type": "execute_result"
    }
   ],
   "source": [
    "#  we can get squareroot of each value of above array like \n",
    "np.sqrt(arr1)   # sqrt()-- function is available in numpy also along with 'math' library of python "
   ]
  },
  {
   "cell_type": "code",
   "execution_count": 77,
   "id": "9f701377",
   "metadata": {},
   "outputs": [],
   "source": [
    "#  it is returning 'nan' where there is -ve value "
   ]
  },
  {
   "cell_type": "code",
   "execution_count": 78,
   "id": "fe7ae564",
   "metadata": {},
   "outputs": [
    {
     "data": {
      "text/plain": [
       "array([[0.46688684, 5.33169193, 0.83957352, 0.7910141 , 3.08505947],\n",
       "       [0.41336621, 0.20601896, 3.63945847, 0.52299382, 1.1080974 ],\n",
       "       [0.97927174, 0.76772997, 1.4251147 , 1.72226029, 0.44262303]])"
      ]
     },
     "execution_count": 78,
     "metadata": {},
     "output_type": "execute_result"
    }
   ],
   "source": [
    "# taking exponent of each value of 'arr1' like \n",
    "np.exp(arr1)"
   ]
  },
  {
   "cell_type": "code",
   "execution_count": 81,
   "id": "794bff4c",
   "metadata": {},
   "outputs": [
    {
     "name": "stderr",
     "output_type": "stream",
     "text": [
      "C:\\Users\\Dell\\AppData\\Local\\Temp\\ipykernel_10512\\2657877095.py:2: RuntimeWarning: invalid value encountered in log\n",
      "  np.log(arr1)     # with base value=e  # we can change base to any value which we want\n"
     ]
    },
    {
     "data": {
      "text/plain": [
       "array([[        nan,  0.515018  ,         nan,         nan,  0.11917845],\n",
       "       [        nan,         nan,  0.25606361,         nan, -2.27648384],\n",
       "       [        nan,         nan, -1.03774591, -0.60947253,         nan]])"
      ]
     },
     "execution_count": 81,
     "metadata": {},
     "output_type": "execute_result"
    }
   ],
   "source": [
    "#  we can take 'log' of every value of 'arr1' also like\n",
    "np.log(arr1)     # with base value=e  # we can change base to any value which we want"
   ]
  },
  {
   "cell_type": "code",
   "execution_count": 82,
   "id": "83874889",
   "metadata": {},
   "outputs": [],
   "source": [
    "# again where there is -ve value it is returning 'nan'"
   ]
  },
  {
   "cell_type": "code",
   "execution_count": 85,
   "id": "462e3d4e",
   "metadata": {},
   "outputs": [
    {
     "data": {
      "text/plain": [
       "array([[0.15416284, 0.7400497 , 0.26331502],\n",
       "       [0.53373939, 0.01457496, 0.91874701]])"
      ]
     },
     "execution_count": 85,
     "metadata": {},
     "output_type": "execute_result"
    }
   ],
   "source": [
    "# there is another function in numpy -- seed()   for freezing the randomly generated values using any of like (rand,randn & randint)\n",
    "np.random.seed(12)\n",
    "np.random.rand(2,3)"
   ]
  },
  {
   "cell_type": "code",
   "execution_count": null,
   "id": "aa047ac3",
   "metadata": {},
   "outputs": [],
   "source": [
    "#  as you can see every time you run the command now values are not changing boz of use of 'seed()' function of numpy  "
   ]
  },
  {
   "cell_type": "code",
   "execution_count": null,
   "id": "07229d69",
   "metadata": {},
   "outputs": [],
   "source": []
  }
 ],
 "metadata": {
  "kernelspec": {
   "display_name": "Python 3 (ipykernel)",
   "language": "python",
   "name": "python3"
  },
  "language_info": {
   "codemirror_mode": {
    "name": "ipython",
    "version": 3
   },
   "file_extension": ".py",
   "mimetype": "text/x-python",
   "name": "python",
   "nbconvert_exporter": "python",
   "pygments_lexer": "ipython3",
   "version": "3.9.12"
  }
 },
 "nbformat": 4,
 "nbformat_minor": 5
}
