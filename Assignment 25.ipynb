{
 "cells": [
  {
   "cell_type": "raw",
   "id": "4153478f",
   "metadata": {},
   "source": [
    "1) . What is the difference between enclosing a list comprehension in square brackets and parentheses?\n",
    "2) What is the relationship between generators and iterators?\n",
    "3) What are the signs that a function is a generator function?\n",
    "4) What is the purpose of a yield statement?\n",
    "5) What is the relationship between map calls and list comprehensions? Make a comparison and contrast between the two."
   ]
  },
  {
   "cell_type": "raw",
   "id": "a0af4007",
   "metadata": {},
   "source": [
    "1) . What is the difference between enclosing a list comprehension in square brackets and parentheses?\n",
    "Ans-- \n",
    "in first case if we enclose it inside square brackets than we get list as output ,but in second case when it is enclosed inside\n",
    "parentheses then we get generator as output as shown below "
   ]
  },
  {
   "cell_type": "code",
   "execution_count": 1,
   "id": "0358dd6e",
   "metadata": {},
   "outputs": [
    {
     "data": {
      "text/plain": [
       "[0, 1, 2, 3, 4, 5, 6, 7, 8, 9]"
      ]
     },
     "execution_count": 1,
     "metadata": {},
     "output_type": "execute_result"
    }
   ],
   "source": [
    "#  first creating a list using list comprehension like\n",
    "[i for i in range(10)]"
   ]
  },
  {
   "cell_type": "code",
   "execution_count": 24,
   "id": "003d53d6",
   "metadata": {},
   "outputs": [
    {
     "data": {
      "text/plain": [
       "<generator object <genexpr> at 0x0000025734AF6120>"
      ]
     },
     "execution_count": 24,
     "metadata": {},
     "output_type": "execute_result"
    }
   ],
   "source": [
    "# now enclosing the same above code inside parentheses as \n",
    "(i for i in range(10))\n",
    "# the output is a generator "
   ]
  },
  {
   "cell_type": "code",
   "execution_count": 25,
   "id": "8c9e8cfc",
   "metadata": {},
   "outputs": [
    {
     "data": {
      "text/plain": [
       "[0, 1, 2, 3, 4, 5, 6, 7, 8, 9]"
      ]
     },
     "execution_count": 25,
     "metadata": {},
     "output_type": "execute_result"
    }
   ],
   "source": [
    "# to get result of above we do\n",
    "list((i for i in range(10)))"
   ]
  },
  {
   "cell_type": "raw",
   "id": "916dd100",
   "metadata": {},
   "source": [
    "2) What is the relationship between generators and iterators?\n",
    "Ans-- \n",
    "The relations are given below ----\n",
    "\n",
    "Iterators                                        Generators \n",
    "1) for implementing iterators class is used      1) for implementing generators functions are used \n",
    "2) local variables are not used in               2) all the loacal variables are stored before yield function\n",
    "iterators \n",
    "3) iterators are used to convert                 3) generators works in loop to give iterators every time when loop runs \n",
    "iterable objects into iterators \n",
    "using iter() function \n",
    "4) iterators uses functions iter()               4) yield keyword is used in case of generators \n",
    "& next()\n",
    "5) every iterator is not a generator             5) but every generator is a iterator "
   ]
  },
  {
   "cell_type": "code",
   "execution_count": 30,
   "id": "036c0e3e",
   "metadata": {},
   "outputs": [
    {
     "name": "stdout",
     "output_type": "stream",
     "text": [
      "1\n",
      "2\n",
      "3\n",
      "4\n",
      "5\n",
      "6\n",
      "7\n"
     ]
    }
   ],
   "source": [
    "# example of iterator --\n",
    "a=iter([1,2,3,4,5,6,7])\n",
    "\n",
    "# using for loop as\n",
    "for i in range(7):\n",
    "    print(next(a))"
   ]
  },
  {
   "cell_type": "code",
   "execution_count": 26,
   "id": "ddf2203f",
   "metadata": {},
   "outputs": [
    {
     "name": "stdout",
     "output_type": "stream",
     "text": [
      "5\n"
     ]
    }
   ],
   "source": [
    "# example of generator function \n",
    "def add(x,y):\n",
    "    yield x+y\n",
    "    \n",
    "a=add(2,3)\n",
    "print(next(a))\n"
   ]
  },
  {
   "cell_type": "raw",
   "id": "58f7ba74",
   "metadata": {},
   "source": [
    "3) What are the signs that a function is a generator function?\n",
    "Ans-- If a function contains at least one yield statement (it may contain other yield or return statements), it becomes a generator function. Both yield and return will return some value from a function.\n",
    "\n",
    "ex--\n",
    "def add(x,y):\n",
    "    yield x+y\n",
    "    \n",
    "a=add(2,3)\n",
    "print(next(a))\n"
   ]
  },
  {
   "cell_type": "code",
   "execution_count": 23,
   "id": "4b06292f",
   "metadata": {},
   "outputs": [
    {
     "name": "stdout",
     "output_type": "stream",
     "text": [
      "5\n"
     ]
    }
   ],
   "source": [
    "def add(x,y):\n",
    "    yield x+y\n",
    "    \n",
    "a=add(2,3)\n",
    "print(next(a))\n"
   ]
  },
  {
   "cell_type": "raw",
   "id": "c5967bf0",
   "metadata": {},
   "source": [
    "4) What is the purpose of a yield statement?\n",
    "Ans-- \n",
    "yield is a keyword which is used in generator functions during concluding the function to generate output as iterators everytime when function executes after calling the function and giving all required arguments values "
   ]
  },
  {
   "cell_type": "raw",
   "id": "198336a9",
   "metadata": {},
   "source": [
    "5) What is the relationship between map calls and list comprehensions? Make a comparison and contrast between the two.\n",
    "Ans-- \n",
    "\n",
    "Map function:\n",
    "Suppose we have a function and we want to compute this function for different values in a single line of code . This is where map() function plays its role. map() function returns a map object(which is an iterator) of the results after applying the given function to each item of a given iterable (list, tuple etc.)\n",
    "\n",
    "If we already have a function defined, it is often good to use map For example, map(sum, myLists) is more neat than [sum(x) for x in myLists]. You gain the elegance of not having to make up a dummy variable (e.g. sum(x) for x... or sum(_) for _... or sum(readableName) for readableName...) which you have to type twice, just to iterate.\n",
    "\n",
    "List Comprehension:\n",
    "List Comprehension is a substitute for the lambda function, map(), filter() and reduce()\n",
    "\n",
    "\n",
    "Comparision :\n",
    "    1. List comprehension is more concise and easier to read as compared to map\n",
    "    2. List comprehension allows filtering. In map, we have no such facility\n",
    "    For example, to print all even numbers in range of 100, we can write [n for n in range(100) if n%2 == 0]. There is \n",
    "    no alternate for it in map\n",
    "    3. List comprehension are used when a list of results is required, where as map only returns a map object and does \n",
    "    not return any list.\n",
    "    4. List comprehension is faster than map when we need to evaluate expressions that are too long or complicated \n",
    "    to express\n",
    "    5. Map is faster in case of calling an already defined function (as no lambda is required)"
   ]
  }
 ],
 "metadata": {
  "kernelspec": {
   "display_name": "Python 3 (ipykernel)",
   "language": "python",
   "name": "python3"
  },
  "language_info": {
   "codemirror_mode": {
    "name": "ipython",
    "version": 3
   },
   "file_extension": ".py",
   "mimetype": "text/x-python",
   "name": "python",
   "nbconvert_exporter": "python",
   "pygments_lexer": "ipython3",
   "version": "3.9.12"
  }
 },
 "nbformat": 4,
 "nbformat_minor": 5
}
