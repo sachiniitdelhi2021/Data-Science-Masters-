{
 "cells": [
  {
   "cell_type": "raw",
   "id": "8cb1a750",
   "metadata": {},
   "source": [
    "1.\tWrite a Python Program to Find the Factorial of a Number?\n",
    "2.\tWrite a Python Program to Display the multiplication Table?\n",
    "3.\tWrite a Python Program to Print the Fibonacci sequence?\n",
    "4.\tWrite a Python Program to Check Armstrong Number?\n",
    "5.\tWrite a Python Program to Find Armstrong Number in an Interval?\n",
    "6.\tWrite a Python Program to Find the Sum of Natural Numbers?\n"
   ]
  },
  {
   "cell_type": "raw",
   "id": "d9cb4a4f",
   "metadata": {},
   "source": [
    "Ans--(1)"
   ]
  },
  {
   "cell_type": "code",
   "execution_count": 8,
   "id": "f4115bf7",
   "metadata": {},
   "outputs": [],
   "source": [
    "# for finding the factorial of any number \n",
    "\n",
    "def factorial(n):\n",
    "    if n>1:\n",
    "        a=1\n",
    "        for i in range(2,n+1):\n",
    "            a=a*i\n",
    "        return 'factorial is:',a\n",
    "    elif n==0:\n",
    "        print('factorial of 0 is:',1)\n",
    "    elif n==1:\n",
    "        print('factorial of 1 is:',1)\n",
    "    else:\n",
    "        print('factorial does not exist')\n",
    "    "
   ]
  },
  {
   "cell_type": "code",
   "execution_count": 9,
   "id": "8284e37f",
   "metadata": {},
   "outputs": [
    {
     "data": {
      "text/plain": [
       "('factorial is:', 24)"
      ]
     },
     "execution_count": 9,
     "metadata": {},
     "output_type": "execute_result"
    }
   ],
   "source": [
    "factorial(4)"
   ]
  },
  {
   "cell_type": "code",
   "execution_count": 10,
   "id": "5beb6f52",
   "metadata": {},
   "outputs": [
    {
     "name": "stdout",
     "output_type": "stream",
     "text": [
      "factorial of 1 is: 1\n"
     ]
    }
   ],
   "source": [
    "factorial(1)"
   ]
  },
  {
   "cell_type": "code",
   "execution_count": 11,
   "id": "d5353bbe",
   "metadata": {},
   "outputs": [
    {
     "data": {
      "text/plain": [
       "('factorial is:', 120)"
      ]
     },
     "execution_count": 11,
     "metadata": {},
     "output_type": "execute_result"
    }
   ],
   "source": [
    "factorial(5)"
   ]
  },
  {
   "cell_type": "code",
   "execution_count": 12,
   "id": "cade5290",
   "metadata": {},
   "outputs": [
    {
     "name": "stdout",
     "output_type": "stream",
     "text": [
      "factorial does not exist\n"
     ]
    }
   ],
   "source": [
    "factorial(-1)"
   ]
  },
  {
   "cell_type": "raw",
   "id": "a9031974",
   "metadata": {},
   "source": [
    "Ans--(2)"
   ]
  },
  {
   "cell_type": "code",
   "execution_count": 17,
   "id": "99ee1bb4",
   "metadata": {},
   "outputs": [
    {
     "name": "stdout",
     "output_type": "stream",
     "text": [
      "Table of:5\n",
      "5*1= 5\n",
      "5*2= 10\n",
      "5*3= 15\n",
      "5*4= 20\n",
      "5*5= 25\n",
      "5*6= 30\n",
      "5*7= 35\n",
      "5*8= 40\n",
      "5*9= 45\n",
      "5*10= 50\n",
      "Table for given number is given above\n"
     ]
    }
   ],
   "source": [
    "# for displaying the multiplication table of any number as\n",
    "\n",
    "def table(n):\n",
    "    for i in range(1,11):\n",
    "        a=n*i\n",
    "        print('{}*{}='.format(n,i),a)\n",
    "        \n",
    "# calling the function as\n",
    "n=int(input('Table of:'))\n",
    "table(n)\n",
    "print('Table for given number is given above')      "
   ]
  },
  {
   "cell_type": "raw",
   "id": "bb1f42ad",
   "metadata": {},
   "source": [
    "Ans--(6)\n",
    "program for finding the sum of natural numbers "
   ]
  },
  {
   "cell_type": "code",
   "execution_count": 20,
   "id": "3e46af24",
   "metadata": {},
   "outputs": [
    {
     "name": "stdout",
     "output_type": "stream",
     "text": [
      "give any natural number:4\n",
      "sum of natural numbers is: 10\n"
     ]
    }
   ],
   "source": [
    "# for finding the sum of natural numbers till given numbers as\n",
    "\n",
    "def natural(n):\n",
    "    print('sum of natural numbers is:',n*(n+1)//2)\n",
    "\n",
    "# calling the function as\n",
    "a=int(input('give any natural number:'))\n",
    "natural(a)"
   ]
  },
  {
   "cell_type": "raw",
   "id": "a1f2444d",
   "metadata": {},
   "source": [
    "Ans--(4) program for finding the armstrong number "
   ]
  },
  {
   "cell_type": "code",
   "execution_count": 34,
   "id": "f45668f3",
   "metadata": {},
   "outputs": [
    {
     "name": "stdout",
     "output_type": "stream",
     "text": [
      "153\n",
      "153 is a armstrong number\n"
     ]
    }
   ],
   "source": [
    "# for finding the armstrong number \n",
    "\n",
    "def armstrong(n):\n",
    "    if int(n)==(int(n[0])**3)+(int(n[1])**3)+(int(n[2])**3):\n",
    "        print('{} is a armstrong number'.format(n))\n",
    "    else:\n",
    "        print('{} is not a armstrong number'.format(n))\n",
    "    \n",
    "# calling function as\n",
    "n=input()\n",
    "armstrong(n)\n",
    "\n",
    "# just give any 3 digit number to check it is a armstrong number or not \n",
    "# as give below '153' is a armstrong number "
   ]
  },
  {
   "cell_type": "raw",
   "id": "973ff84b",
   "metadata": {},
   "source": [
    "Ans--(5)  for finding armstrong numbers in given range "
   ]
  },
  {
   "cell_type": "code",
   "execution_count": 38,
   "id": "5d0bc0ac",
   "metadata": {},
   "outputs": [
    {
     "name": "stdout",
     "output_type": "stream",
     "text": [
      "give lower limit:100\n",
      "give upper limit:1000\n",
      "list of armstrong numbers: [153, 370, 371, 407]\n"
     ]
    }
   ],
   "source": [
    "# for armstrong numbers in given range\n",
    "\n",
    "l=[]\n",
    "def arm_num(a,b):\n",
    "    for i in range(int(a),int(b)+1):\n",
    "        b=str(i)\n",
    "        if int(b)==(int(b[0])**3)+(int(b[1])**3)+(int(b[2])**3):\n",
    "            l.append(int(b))\n",
    "    print('list of armstrong numbers:',l)\n",
    "    \n",
    "    \n",
    "# calling function as\n",
    "a=input('give lower limit:')\n",
    "b=input('give upper limit:')\n",
    "arm_num(a,b)\n",
    "     \n",
    "    "
   ]
  },
  {
   "cell_type": "raw",
   "id": "14644245",
   "metadata": {},
   "source": [
    "Ans-(3) program for getting the Fibonacci series  "
   ]
  },
  {
   "cell_type": "code",
   "execution_count": 41,
   "id": "835bbfd0",
   "metadata": {},
   "outputs": [
    {
     "name": "stdout",
     "output_type": "stream",
     "text": [
      "number of terms:10\n",
      "list of all Fibonacci numbers till 10 term: [0, 1, 1, 2, 3, 5, 8, 13, 21]\n"
     ]
    }
   ],
   "source": [
    "# for getting the Fibonacci series \n",
    "\n",
    "l=[0,1]\n",
    "def Fibonacci_series(n):    # 'n' here is the number of terms of series we want \n",
    "    term=3\n",
    "    while term<n:\n",
    "        a=l[term-2]+l[term-3]\n",
    "        l.append(a)\n",
    "        term=term+1\n",
    "    print('list of all Fibonacci numbers till {} term:'.format(n),l)\n",
    "        \n",
    "# calling function as\n",
    "n=int(input('number of terms:'))\n",
    "Fibonacci_series(n)\n",
    "    "
   ]
  },
  {
   "cell_type": "code",
   "execution_count": null,
   "id": "7f368102",
   "metadata": {},
   "outputs": [],
   "source": []
  }
 ],
 "metadata": {
  "kernelspec": {
   "display_name": "Python 3 (ipykernel)",
   "language": "python",
   "name": "python3"
  },
  "language_info": {
   "codemirror_mode": {
    "name": "ipython",
    "version": 3
   },
   "file_extension": ".py",
   "mimetype": "text/x-python",
   "name": "python",
   "nbconvert_exporter": "python",
   "pygments_lexer": "ipython3",
   "version": "3.9.12"
  }
 },
 "nbformat": 4,
 "nbformat_minor": 5
}
