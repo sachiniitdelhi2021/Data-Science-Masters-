{
 "cells": [
  {
   "cell_type": "raw",
   "id": "e0a7c8ca",
   "metadata": {},
   "source": [
    "1.\tWrite a Python program to check if the given number is a Disarium Number?\n",
    "2.\tWrite a Python program to print all disarium numbers between 1 to 100?\n",
    "3.\tWrite a Python program to check if the given number is Happy Number?\n",
    "4.\tWrite a Python program to print all happy numbers between 1 and 100?\n",
    "5.\tWrite a Python program to determine whether the given number is a Harshad Number?\n",
    "6.\tWrite a Python program to print all pronic numbers between 1 and 100\n"
   ]
  },
  {
   "cell_type": "raw",
   "id": "aa1a33e7",
   "metadata": {},
   "source": [
    "Ans--(1) for checking if any number is  Disarium Number?"
   ]
  },
  {
   "cell_type": "code",
   "execution_count": 3,
   "id": "d33e163d",
   "metadata": {},
   "outputs": [
    {
     "name": "stdout",
     "output_type": "stream",
     "text": [
      "The given number is=135\n",
      "135 is a Disarium Number\n"
     ]
    }
   ],
   "source": [
    "# defining function like \n",
    "\n",
    "def  Disarium_Number(N):\n",
    "    #'N'- is the number\n",
    "    Sum=0\n",
    "    a=str(N)\n",
    "    for i in range(len(a)):\n",
    "        \n",
    "        Sum=Sum+int(a[i])**(i+1)\n",
    "    \n",
    "    \n",
    "    if N==Sum:\n",
    "        print('{} is a Disarium Number'.format(N))\n",
    "    else:\n",
    "        print('The given nunber is not a Disarium Number:',N)\n",
    "    \n",
    "# inputs for the function\n",
    "N=int(input('The given number is='))\n",
    "\n",
    "# calling function\n",
    "Disarium_Number(N)\n",
    "        \n",
    "    "
   ]
  },
  {
   "cell_type": "code",
   "execution_count": null,
   "id": "4d4b06a4",
   "metadata": {},
   "outputs": [],
   "source": [
    "# using above function we can check if any number is Disarium Number or not "
   ]
  },
  {
   "cell_type": "raw",
   "id": "e1873b3f",
   "metadata": {},
   "source": [
    "Ans--(2)  for getting all Disarium Number b/w 1 and 100 "
   ]
  },
  {
   "cell_type": "code",
   "execution_count": 23,
   "id": "f67f1f5a",
   "metadata": {},
   "outputs": [
    {
     "name": "stdout",
     "output_type": "stream",
     "text": [
      "The lower limit number is=1\n",
      "The upper limit number is=100\n",
      "The list of all Disarium_Numbers b/w 1 & 100 is:\n",
      "[1, 2, 3, 4, 5, 6, 7, 8, 9, 89]\n"
     ]
    }
   ],
   "source": [
    "# defining a function like \n",
    "l=[]\n",
    "def All_Disarium_Numbers(n1,n2):\n",
    "    #n1 and n2 are the lower and upper limits for the numbers \n",
    "    for j in range(n1,n2+1):\n",
    "        Sum=0\n",
    "        a=str(j)\n",
    "        for i in range(len(a)):\n",
    "            Sum=Sum+int(a[i])**(i+1)\n",
    "            \n",
    "            if j==Sum:\n",
    "                l.append(j)\n",
    "    print(l)\n",
    "                \n",
    "               \n",
    "               \n",
    "# inputs for the function\n",
    "n1=int(input('The lower limit number is='))\n",
    "n2=int(input('The upper limit number is='))\n",
    "\n",
    "# calling function as\n",
    "print('The list of all Disarium_Numbers b/w {} & {} is:'.format(n1,n2))\n",
    "All_Disarium_Numbers(n1,n2)"
   ]
  },
  {
   "cell_type": "code",
   "execution_count": null,
   "id": "1f7d8120",
   "metadata": {},
   "outputs": [],
   "source": [
    "# using above function we can all Disarium_Numbers b/w given lower and upper limit of numbers "
   ]
  },
  {
   "cell_type": "raw",
   "id": "9913ca63",
   "metadata": {},
   "source": [
    "Ans--(3)  for checking a number is happy number or not "
   ]
  },
  {
   "cell_type": "code",
   "execution_count": 11,
   "id": "7381bd15",
   "metadata": {},
   "outputs": [
    {
     "name": "stdout",
     "output_type": "stream",
     "text": [
      "The number is:320\n",
      "320 is a Happy number\n"
     ]
    }
   ],
   "source": [
    "# defining a function for getting the sum of square of all digits of number \n",
    "\n",
    "# sum of square of digit of n\n",
    "def numSquareSum(n):\n",
    "\tsquareSum = 0;\n",
    "\twhile(n):\n",
    "\t\tsquareSum += (n % 10) * (n % 10);\n",
    "\t\tn = int(n / 10);\n",
    "\treturn squareSum;\n",
    "\n",
    "# method return true if\n",
    "# n is Happy number\n",
    "def isHappynumber(n):\n",
    "\n",
    "\t# initialize slow\n",
    "\t# and fast by n\n",
    "\tslow = n;\n",
    "\tfast = n;\n",
    "\twhile(True):\n",
    "\t\t\n",
    "\t\t# move slow number\n",
    "\t\t# by one iteration\n",
    "\t\tslow = numSquareSum(slow);\n",
    "\n",
    "\t\t# move fast number\n",
    "\t\t# by two iteration\n",
    "\t\tfast = numSquareSum(numSquareSum(fast));\n",
    "\t\tif(slow != fast):\n",
    "\t\t\tcontinue;\n",
    "\t\telse:\n",
    "\t\t\tbreak;\n",
    "\n",
    "\t# if both number meet at 1,\n",
    "\t# then return true\n",
    "\treturn (slow == 1);\n",
    "\n",
    "# inputs for the function and calling function\n",
    "\n",
    "n = int(input('The number is:'));\n",
    "if (isHappynumber(n)):\n",
    "\tprint(n , \"is a Happy number\");\n",
    "else:\n",
    "\tprint(n , \"is not a Happy number\");\n",
    "\n"
   ]
  },
  {
   "cell_type": "code",
   "execution_count": null,
   "id": "99c768c5",
   "metadata": {},
   "outputs": [],
   "source": [
    "# using above function we can check any number is happy number or not \n",
    "# some examples of happy numbers are --1,7,28,320"
   ]
  },
  {
   "cell_type": "markdown",
   "id": "5328d36b",
   "metadata": {},
   "source": [
    "Ans--(4)  for getting all happy numbers b/w 1 and 100 "
   ]
  },
  {
   "cell_type": "code",
   "execution_count": 2,
   "id": "2d92ce39",
   "metadata": {},
   "outputs": [
    {
     "name": "stdout",
     "output_type": "stream",
     "text": [
      "The first number is:1\n",
      "The second number is:100\n",
      "The list containing all happy number b/w 1 & 100 is: [1, 7, 10, 13, 19, 23, 28, 31, 32, 44, 49, 68, 70, 79, 82, 86, 91, 94, 97, 100]\n"
     ]
    }
   ],
   "source": [
    "#defining a function like\n",
    "\n",
    "# defining a function for getting the sum of square of all digits of number \n",
    "\n",
    "# sum of square of digit of n\n",
    "def numSquareSum(i):\n",
    "\tsquareSum = 0;\n",
    "\twhile(i):\n",
    "\t\tsquareSum += (i % 10) * (i % 10);\n",
    "\t\ti = int(i / 10);\n",
    "\treturn squareSum;\n",
    "\n",
    "# method return true if\n",
    "# n is Happy number\n",
    "def isHappynumber(i):\n",
    "\n",
    "\t# initialize slow\n",
    "\t# and fast by n\n",
    "\tslow = i;\n",
    "\tfast = i;\n",
    "\twhile(True):\n",
    "\t\t\n",
    "\t\t# move slow number\n",
    "\t\t# by one iteration\n",
    "\t\tslow = numSquareSum(slow);\n",
    "\n",
    "\t\t# move fast number\n",
    "\t\t# by two iteration\n",
    "\t\tfast = numSquareSum(numSquareSum(fast));\n",
    "\t\tif(slow != fast):\n",
    "\t\t\tcontinue;\n",
    "\t\telse:\n",
    "\t\t\tbreak;\n",
    "\n",
    "\t# if both number meet at 1,\n",
    "\t# then return true\n",
    "\treturn (slow == 1);\n",
    "\n",
    "# inputs for the function and calling function\n",
    "n1 = int(input('The first number is:'))\n",
    "n2 = int(input('The second number is:'))\n",
    "l=[]\n",
    "for i in range(n1,n2+1):\n",
    "    if (isHappynumber(i)):\n",
    "        l.append(i)\n",
    "print('The list containing all happy number b/w {} & {} is:'.format(n1,n2),l)"
   ]
  },
  {
   "cell_type": "raw",
   "id": "7d77dde1",
   "metadata": {},
   "source": [
    "Ans--(5) for getting the given number is harshad number or not "
   ]
  },
  {
   "cell_type": "code",
   "execution_count": 85,
   "id": "4de8f9a6",
   "metadata": {},
   "outputs": [
    {
     "name": "stdout",
     "output_type": "stream",
     "text": [
      "The given number is=156\n",
      "156 is a harshad number:\n"
     ]
    }
   ],
   "source": [
    "# defining a function like\n",
    "\n",
    "def  harshad_number(n):\n",
    "    #'n'-- is the given number by the user\n",
    "    #harshad number is a number which is divisible by the sum of it's digits\n",
    "    Sum=0\n",
    "    b=str(n)\n",
    "    for i in range(len(b)):\n",
    "        Sum=Sum+int(b[i])\n",
    "       \n",
    "    if n%Sum==0:\n",
    "        print('{} is a harshad number:'.format(n))\n",
    "        \n",
    "    else:\n",
    "        print('{} is not a harshad number:'.format(n))\n",
    "        \n",
    "# inputs for the function \n",
    "n=int(input('The given number is='))\n",
    "\n",
    "# calling function\n",
    "harshad_number(n)"
   ]
  },
  {
   "cell_type": "code",
   "execution_count": null,
   "id": "69733783",
   "metadata": {},
   "outputs": [],
   "source": [
    "# using above function we can check any number is harshad number or not \n",
    "# some examples of harshad number are -- 156,8,54,120 etc.."
   ]
  },
  {
   "cell_type": "raw",
   "id": "bddfc932",
   "metadata": {},
   "source": [
    "Ans--(6) for getting all pronic numbers between 1 and 100 "
   ]
  },
  {
   "cell_type": "code",
   "execution_count": 88,
   "id": "cbc2cafe",
   "metadata": {},
   "outputs": [
    {
     "name": "stdout",
     "output_type": "stream",
     "text": [
      "The lower limit number is=1\n",
      "The upper limit number is=100\n",
      "The list of all pronic numbers b/w 1 & 100 is: [2, 6, 12, 20, 30, 42, 56, 72, 90]\n"
     ]
    }
   ],
   "source": [
    "# defining a function like \n",
    "\n",
    "def pronic_numbers(n1,n2):\n",
    "    #n1-- is the lower limit and n2-- is the upper limit number \n",
    "    global l\n",
    "    l=[]\n",
    "    for i in range(n1,n2+1):\n",
    "        for j in range(1,i+1):\n",
    "            if i==j*(j+1):\n",
    "                l.append(i)\n",
    "    return l\n",
    "\n",
    "# inputs for the function\n",
    "n1=int(input('The lower limit number is='))\n",
    "n2=int(input('The upper limit number is='))\n",
    "\n",
    "# calling function\n",
    "print('The list of all pronic numbers b/w {} & {} is:'.format(n1,n2), pronic_numbers(n1,n2))\n",
    "    "
   ]
  },
  {
   "cell_type": "code",
   "execution_count": null,
   "id": "02bdce0d",
   "metadata": {},
   "outputs": [],
   "source": [
    "# using above funcrion we can get all pronic numbers b/w any two given numbers as above "
   ]
  }
 ],
 "metadata": {
  "kernelspec": {
   "display_name": "Python 3 (ipykernel)",
   "language": "python",
   "name": "python3"
  },
  "language_info": {
   "codemirror_mode": {
    "name": "ipython",
    "version": 3
   },
   "file_extension": ".py",
   "mimetype": "text/x-python",
   "name": "python",
   "nbconvert_exporter": "python",
   "pygments_lexer": "ipython3",
   "version": "3.9.12"
  }
 },
 "nbformat": 4,
 "nbformat_minor": 5
}
