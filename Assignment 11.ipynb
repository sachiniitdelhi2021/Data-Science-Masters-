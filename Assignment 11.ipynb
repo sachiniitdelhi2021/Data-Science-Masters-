{
 "cells": [
  {
   "cell_type": "raw",
   "id": "3b409ce3",
   "metadata": {},
   "source": [
    "1. Create an assert statement that throws an AssertionError if the variable spam is a negative integer.\n",
    "2. Write an assert statement that triggers an AssertionError if the variables eggs and bacon contain strings that are the same as each other, even if their cases are different (that is, 'hello' and 'hello' are considered the same, and 'goodbye' and 'GOODbye' are also considered the same).\n",
    "3. Create an assert statement that throws an AssertionError every time.\n",
    "4. What are the two lines that must be present in your software in order to call logging.debug()?\n",
    "5. What are the two lines that your program must have in order to have logging.debug() send a logging message to a file named programLog.txt?\n",
    "6. What are the five levels of logging?\n",
    "7. What line of code would you add to your software to disable all logging messages?\n",
    "8.Why is using logging messages better than using print() to display the same message?\n",
    "9. What are the differences between the Step Over, Step In, and Step Out buttons in the debugger?\n",
    "10.After you click Continue, when will the debugger stop ?\n",
    "11. What is the concept of a breakpoint?\n"
   ]
  },
  {
   "cell_type": "raw",
   "id": "9c1e5e63",
   "metadata": {},
   "source": [
    "1. Create an assert statement that throws an AssertionError if the variable spam is a negative integer.\n",
    "Ans-- if we define any condition using assert, if that conditioin is matched than the execution goes to next line of code \n",
    "otherwise if that condition is false than we will get assertion error \n",
    "\n",
    "\n",
    "a=1\n",
    "spam=-1\n",
    "assert spam >0\n",
    "print(a+spam)"
   ]
  },
  {
   "cell_type": "code",
   "execution_count": 2,
   "id": "95d9f554",
   "metadata": {},
   "outputs": [
    {
     "name": "stdout",
     "output_type": "stream",
     "text": [
      "0\n"
     ]
    }
   ],
   "source": [
    "a=1\n",
    "spam=-1\n",
    "assert spam <0    # here the condition is true so we will get result without error\n",
    "print(a+spam)"
   ]
  },
  {
   "cell_type": "code",
   "execution_count": 3,
   "id": "ed3f450a",
   "metadata": {},
   "outputs": [
    {
     "ename": "AssertionError",
     "evalue": "",
     "output_type": "error",
     "traceback": [
      "\u001b[1;31m---------------------------------------------------------------------------\u001b[0m",
      "\u001b[1;31mAssertionError\u001b[0m                            Traceback (most recent call last)",
      "Input \u001b[1;32mIn [3]\u001b[0m, in \u001b[0;36m<cell line: 3>\u001b[1;34m()\u001b[0m\n\u001b[0;32m      1\u001b[0m a\u001b[38;5;241m=\u001b[39m\u001b[38;5;241m1\u001b[39m\n\u001b[0;32m      2\u001b[0m spam\u001b[38;5;241m=\u001b[39m\u001b[38;5;241m-\u001b[39m\u001b[38;5;241m1\u001b[39m\n\u001b[1;32m----> 3\u001b[0m \u001b[38;5;28;01massert\u001b[39;00m spam \u001b[38;5;241m>\u001b[39m\u001b[38;5;241m0\u001b[39m\n\u001b[0;32m      4\u001b[0m \u001b[38;5;28mprint\u001b[39m(a\u001b[38;5;241m+\u001b[39mspam)\n",
      "\u001b[1;31mAssertionError\u001b[0m: "
     ]
    }
   ],
   "source": [
    "a=1\n",
    "spam=-1\n",
    "assert spam >0   # here the condition is not true so we will get assertion error \n",
    "print(a+spam)"
   ]
  },
  {
   "cell_type": "raw",
   "id": "00133aa5",
   "metadata": {},
   "source": [
    "2. Write an assert statement that triggers an AssertionError if the variables eggs and bacon contain strings that are the same as each other, even if their cases are different (that is, 'hello' and 'hello' are considered the same, and 'goodbye' and 'GOODbye' are also considered the same).\n",
    "Ans-- \n",
    "eggs='TWO'\n",
    "bacon='two'\n",
    "assert eggs==bacon\n",
    "print(eggs)"
   ]
  },
  {
   "cell_type": "code",
   "execution_count": 7,
   "id": "0d59de18",
   "metadata": {},
   "outputs": [
    {
     "ename": "AssertionError",
     "evalue": "",
     "output_type": "error",
     "traceback": [
      "\u001b[1;31m---------------------------------------------------------------------------\u001b[0m",
      "\u001b[1;31mAssertionError\u001b[0m                            Traceback (most recent call last)",
      "Input \u001b[1;32mIn [7]\u001b[0m, in \u001b[0;36m<cell line: 4>\u001b[1;34m()\u001b[0m\n\u001b[0;32m      2\u001b[0m eggs\u001b[38;5;241m=\u001b[39m\u001b[38;5;124m'\u001b[39m\u001b[38;5;124mTWO\u001b[39m\u001b[38;5;124m'\u001b[39m\n\u001b[0;32m      3\u001b[0m bacon\u001b[38;5;241m=\u001b[39m\u001b[38;5;124m'\u001b[39m\u001b[38;5;124mtwo\u001b[39m\u001b[38;5;124m'\u001b[39m\n\u001b[1;32m----> 4\u001b[0m \u001b[38;5;28;01massert\u001b[39;00m eggs\u001b[38;5;241m.\u001b[39mlower()\u001b[38;5;241m==\u001b[39mbacon\u001b[38;5;241m.\u001b[39mupper()\n\u001b[0;32m      5\u001b[0m \u001b[38;5;28mprint\u001b[39m(eggs)\n",
      "\u001b[1;31mAssertionError\u001b[0m: "
     ]
    }
   ],
   "source": [
    "# when the two variables are not same \n",
    "eggs='TWO'\n",
    "bacon='two'\n",
    "assert eggs.lower()==bacon.upper()\n",
    "print(eggs)"
   ]
  },
  {
   "cell_type": "code",
   "execution_count": 6,
   "id": "9e6f5146",
   "metadata": {},
   "outputs": [
    {
     "name": "stdout",
     "output_type": "stream",
     "text": [
      "TWO\n"
     ]
    }
   ],
   "source": [
    "# when the two variables are same like \n",
    "eggs='TWO'\n",
    "bacon='TWO'\n",
    "assert eggs==bacon\n",
    "print(eggs)"
   ]
  },
  {
   "cell_type": "raw",
   "id": "28a0906c",
   "metadata": {},
   "source": [
    "3. Create an assert statement that throws an AssertionError every time.\n",
    "Ans-- assert False -- this statement will always throw error like"
   ]
  },
  {
   "cell_type": "code",
   "execution_count": 8,
   "id": "daa37bcc",
   "metadata": {},
   "outputs": [
    {
     "ename": "AssertionError",
     "evalue": "",
     "output_type": "error",
     "traceback": [
      "\u001b[1;31m---------------------------------------------------------------------------\u001b[0m",
      "\u001b[1;31mAssertionError\u001b[0m                            Traceback (most recent call last)",
      "Input \u001b[1;32mIn [8]\u001b[0m, in \u001b[0;36m<cell line: 1>\u001b[1;34m()\u001b[0m\n\u001b[1;32m----> 1\u001b[0m \u001b[38;5;28;01massert\u001b[39;00m \u001b[38;5;28;01mFalse\u001b[39;00m\n",
      "\u001b[1;31mAssertionError\u001b[0m: "
     ]
    }
   ],
   "source": [
    "assert False "
   ]
  },
  {
   "cell_type": "raw",
   "id": "e50634e5",
   "metadata": {},
   "source": [
    "4. What are the two lines that must be present in your software in order to call logging.debug()?\n",
    "Ans-- first we have to import logging module than we have to create a file in which all logging data will go when we do logging\n",
    "\n",
    "import logging as lg\n",
    "lg.basicConfig(filename='xyz.log',level=lg.ERROR)"
   ]
  },
  {
   "cell_type": "raw",
   "id": "d1bb7e3f",
   "metadata": {},
   "source": [
    "5. What are the two lines that your program must have in order to have logging.debug() send a logging message to a file named programLog.txt?\n",
    "Ans-- for logging, every program must have these two lines of code in starting\n",
    "\n",
    "import logging as lg\n",
    "lg.basicConfig(filename='xyz.log',level=lg.DEBUG)   # we can also set format for recording the time of every logging activity "
   ]
  },
  {
   "cell_type": "raw",
   "id": "4448fc09",
   "metadata": {},
   "source": [
    "6. What are the five levels of logging?\n",
    "Ans-- five levels of logging includes\n",
    "1) DEBUG-- logging each and every activity during making program or writing code\n",
    "2)INFO-- say every time we install any software than we get some information about that software, we are getting that info boz \n",
    "that infomation is logged somewhere any database etc.\n",
    "3)WARNING-- we get warning when we try to access anything which is not allowed or harmful for the system, boz that warning is also\n",
    "logged somewhere \n",
    "4)CRITICAL-- we get error when any arguments is not given during calling any function, when that argument is compulsorly given \n",
    "during calling function \n",
    "\n",
    "5)ERROR-- when we run our programs, during that if we encounter any error for logging that error we use this \n",
    "\n"
   ]
  },
  {
   "cell_type": "raw",
   "id": "f2d570be",
   "metadata": {},
   "source": [
    "7. What line of code would you add to your software to disable all logging messages?\n",
    "Ans-- for stop logging any further activities during working with program we can use\n",
    "\n",
    "lg.shutdown()"
   ]
  },
  {
   "cell_type": "raw",
   "id": "130681e6",
   "metadata": {},
   "source": [
    "8.Why is using logging messages better than using print() to display the same message?\n",
    "Ans-- because using logging the the log record that we create for every event/activity contains detailed information like\n",
    "file name ,complete file path,line number of every line of code,aslo the time of logging which are not there in case of the print\n"
   ]
  },
  {
   "cell_type": "raw",
   "id": "b51d6e86",
   "metadata": {},
   "source": [
    "9. What are the differences between the Step Over, Step In, and Step Out buttons in the debugger?\n",
    "Ans--- 1)step in -- suppose you want to see the execution of any function from calling till the function returns the output then \n",
    "we use step in for getting inside that function \n",
    "2) step out-- suppose you stepped in inside any function but after you decided that you don't want to see the execution of rest of\n",
    "function that you can step out from function using 'step out ', but we will able to see the result of function \n",
    "3) step over -- if i call any function but i don't want to see the execution of that function except the result of that function \n",
    "than in case we can use 'step over', it is like the function is in black box where we won't be able to see the execution of any\n",
    "part of the function except the result of that function"
   ]
  },
  {
   "cell_type": "raw",
   "id": "29d3c433",
   "metadata": {},
   "source": [
    "10.After you click Continue, when will the debugger stop ?\n",
    "Ans-- after clicking continue the debuger runs and stops at next breakpoint, but if there are no further breakpoints the complete program will be executed without stopping at any point "
   ]
  },
  {
   "cell_type": "raw",
   "id": "a95e91d4",
   "metadata": {},
   "source": [
    "11. What is the concept of a breakpoint?\n",
    "Ans-- breakpoint is a concept using which we set some conditions on any particular line of code so that the execution of program \n",
    "will stop at that line during the process of debuging for collecting the information about the program during execution and after\n",
    "pressing the continue button debugging continues till next breakpoint "
   ]
  }
 ],
 "metadata": {
  "kernelspec": {
   "display_name": "Python 3 (ipykernel)",
   "language": "python",
   "name": "python3"
  },
  "language_info": {
   "codemirror_mode": {
    "name": "ipython",
    "version": 3
   },
   "file_extension": ".py",
   "mimetype": "text/x-python",
   "name": "python",
   "nbconvert_exporter": "python",
   "pygments_lexer": "ipython3",
   "version": "3.9.12"
  }
 },
 "nbformat": 4,
 "nbformat_minor": 5
}
