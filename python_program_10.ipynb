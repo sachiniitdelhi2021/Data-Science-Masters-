{
 "cells": [
  {
   "cell_type": "raw",
   "id": "da4225dc",
   "metadata": {},
   "source": [
    "1.\tWrite a Python program to find sum of elements in list?\n",
    "2.\tWrite a Python program to  Multiply all numbers in the list?\n",
    "3.\tWrite a Python program to find smallest number in a list?\n",
    "4.\tWrite a Python program to find largest number in a list?\n",
    "5.\tWrite a Python program to find second largest number in a list?\n",
    "6.\tWrite a Python program to find N largest elements from a list?\n",
    "7.\tWrite a Python program to print even numbers in a list?\n",
    "8.\tWrite a Python program to print odd numbers in a List?\n",
    "9.\tWrite a Python program to Remove empty List from List?\n",
    "10.\tWrite a Python program to Cloning or Copying a list?\n",
    "11.\tWrite a Python program to Count occurrences of an element in a list?\n"
   ]
  },
  {
   "cell_type": "raw",
   "id": "2b2ab48b",
   "metadata": {},
   "source": [
    "Ans--(1)  for getting the sum of elements of list "
   ]
  },
  {
   "cell_type": "code",
   "execution_count": 8,
   "id": "41f85d00",
   "metadata": {},
   "outputs": [
    {
     "name": "stdout",
     "output_type": "stream",
     "text": [
      "The sum of elements of list is: 15\n",
      "The original list is: [1, 2, 3, 4, 5]\n"
     ]
    }
   ],
   "source": [
    "# defining a function \n",
    "\n",
    "def sum_list_elements(a,b):\n",
    "    # 'a'-- is the list and 'b'-- is the length of the list\n",
    "    sumofelements=0\n",
    "    for i in range(b):\n",
    "        sumofelements=sumofelements+a[i]\n",
    "    print('The sum of elements of list is:',sumofelements)\n",
    "    \n",
    "    \n",
    "# inputs for the function\n",
    "a=[1,2,3,4,5]\n",
    "b=len(a)\n",
    "\n",
    "# calling the function \n",
    "sum_list_elements(a,b)\n",
    "print('The original list is:',a)"
   ]
  },
  {
   "cell_type": "code",
   "execution_count": null,
   "id": "1ca01b76",
   "metadata": {},
   "outputs": [],
   "source": [
    "# using above function we can get the sum of all elements of the list "
   ]
  },
  {
   "cell_type": "raw",
   "id": "604f751c",
   "metadata": {},
   "source": [
    "Ans--(2)  for multiplying all numbers of the list "
   ]
  },
  {
   "cell_type": "code",
   "execution_count": 9,
   "id": "45af0dd7",
   "metadata": {},
   "outputs": [
    {
     "name": "stdout",
     "output_type": "stream",
     "text": [
      "The list is : [1, 2, 3, 4, 5, 6]\n",
      "The product of all elements of the given list is: 720\n"
     ]
    }
   ],
   "source": [
    "# defining a function\n",
    "\n",
    "def list_elem_multi(a,b):\n",
    "    #'a'-- is the list and 'b'-- is the length of the list\n",
    "    product =1\n",
    "    for i in range(b):\n",
    "        product=product*a[i]\n",
    "    print('The list is :',a)\n",
    "    print('The product of all elements of the given list is:',product)\n",
    "    \n",
    "# inputs for the function \n",
    "a=[1,2,3,4,5,6]\n",
    "b=len(a)\n",
    "\n",
    "# calling function as\n",
    "list_elem_multi(a,b)"
   ]
  },
  {
   "cell_type": "raw",
   "id": "850bf111",
   "metadata": {},
   "source": [
    "Ans--(3)  for getting the smallest element of list "
   ]
  },
  {
   "cell_type": "code",
   "execution_count": 14,
   "id": "e05c253e",
   "metadata": {},
   "outputs": [
    {
     "name": "stdout",
     "output_type": "stream",
     "text": [
      "The list is : [1, 2, 3, 4, 5, 6, -7]\n",
      "The smallest element of list is: -7\n"
     ]
    }
   ],
   "source": [
    "# defining function\n",
    "\n",
    "def min_list(a,b):\n",
    "    #'a'--is the list and 'b'-- is the length of the list\n",
    "    return min(a)\n",
    "    \n",
    "# inputs for the function\n",
    "a=[1,2,3,4,5,6,-7]\n",
    "b=len(a)\n",
    "\n",
    "# calling function\n",
    "min_list(a,b)\n",
    "print('The list is :',a)\n",
    "print('The smallest element of list is:',min_list(a,b))"
   ]
  },
  {
   "cell_type": "raw",
   "id": "6bd527c6",
   "metadata": {},
   "source": [
    "Ans--(4)  for getting the largest element of list "
   ]
  },
  {
   "cell_type": "code",
   "execution_count": 17,
   "id": "a7c0a26b",
   "metadata": {},
   "outputs": [
    {
     "name": "stdout",
     "output_type": "stream",
     "text": [
      "The list is: [1, 2, 3, 4, 5, 6, 70]\n",
      "The largest element of list is: 70\n"
     ]
    }
   ],
   "source": [
    "# defining a function\n",
    "\n",
    "def max_list(a,b):\n",
    "     #'a'--is the list and 'b'-- is the length of the list\n",
    "        return max(a)\n",
    "    \n",
    "# inputs for the function \n",
    "a=[1,2,3,4,5,6,70]\n",
    "b-len(a)\n",
    "# calling function\n",
    "\n",
    "print('The list is:',a)\n",
    "print('The largest element of list is:',max_list(a,b))"
   ]
  },
  {
   "cell_type": "raw",
   "id": "bda77828",
   "metadata": {},
   "source": [
    "Ans--(5) for getting the second largest element of list"
   ]
  },
  {
   "cell_type": "code",
   "execution_count": 19,
   "id": "359b0275",
   "metadata": {},
   "outputs": [
    {
     "name": "stdout",
     "output_type": "stream",
     "text": [
      "The largest elements of list is : 8\n",
      "The second largest element of list is: 7\n"
     ]
    }
   ],
   "source": [
    "# defining a function\n",
    "l=[]\n",
    "def sec_max_list(a,b):\n",
    "     #'a'--is the list and 'b'-- is the length of the list\n",
    "        for i in range(b):\n",
    "            if a[i]<max(a):\n",
    "                l.append(a[i])\n",
    "        return max(l)\n",
    "    \n",
    "# inputs for the function\n",
    "a=[1,2,3,4,5,6,7,8]\n",
    "b=len(a)\n",
    "\n",
    "# calling function for results\n",
    "print('The largest elements of list is :',max(a))\n",
    "print('The second largest element of list is:',sec_max_list(a,b))"
   ]
  },
  {
   "cell_type": "raw",
   "id": "fb895439",
   "metadata": {},
   "source": [
    "Ans---(7)  for getting the even numbers out of list"
   ]
  },
  {
   "cell_type": "code",
   "execution_count": 21,
   "id": "957f60f4",
   "metadata": {},
   "outputs": [
    {
     "name": "stdout",
     "output_type": "stream",
     "text": [
      "The original list is : [1, 2, 3, 4, 5, 6, 7, 8]\n",
      "The list with all even elements of original list: [2, 4, 6, 8]\n"
     ]
    }
   ],
   "source": [
    "# defining a function\n",
    "\n",
    "def list_even(a,b):\n",
    "     #'a'--is the list and 'b'-- is the length of the list\n",
    "        global l\n",
    "        l=[]\n",
    "        for i in range(b):\n",
    "            if a[i]%2==0:\n",
    "                l.append(a[i])\n",
    "        return l  \n",
    "            \n",
    "#inputs for the function \n",
    "a=[1,2,3,4,5,6,7,8]\n",
    "b=len(a)\n",
    "\n",
    "# calling function \n",
    "print('The original list is :',a)\n",
    "print('The list with all even elements of original list:',list_even(a,b))"
   ]
  },
  {
   "cell_type": "raw",
   "id": "63ba0ef3",
   "metadata": {},
   "source": [
    "Ans--(8) for getting all odd elements of list "
   ]
  },
  {
   "cell_type": "code",
   "execution_count": 22,
   "id": "3d677e4d",
   "metadata": {},
   "outputs": [
    {
     "name": "stdout",
     "output_type": "stream",
     "text": [
      "The original list is : [1, 2, 3, 4, 5, 6, 7, 8]\n",
      "The list with all even elements of original list: [1, 3, 5, 7]\n"
     ]
    }
   ],
   "source": [
    "# defining a function\n",
    "\n",
    "def list_odd(a,b):\n",
    "     #'a'--is the list and 'b'-- is the length of the list\n",
    "        global l\n",
    "        l=[]\n",
    "        for i in range(b):\n",
    "            if a[i]%2==1:\n",
    "                l.append(a[i])\n",
    "        return l  \n",
    "            \n",
    "#inputs for the function \n",
    "a=[1,2,3,4,5,6,7,8]\n",
    "b=len(a)\n",
    "\n",
    "# calling function \n",
    "print('The original list is :',a)\n",
    "print('The list with all even elements of original list:',list_odd(a,b))"
   ]
  },
  {
   "cell_type": "raw",
   "id": "e3c556d5",
   "metadata": {},
   "source": [
    "Ans--(9) for removing all empty lists from nested list"
   ]
  },
  {
   "cell_type": "code",
   "execution_count": 19,
   "id": "5d560e20",
   "metadata": {},
   "outputs": [
    {
     "name": "stdout",
     "output_type": "stream",
     "text": [
      "The original list was: [[1, 2], [], [3, 4], [], [5, 6], [], [9, 0], []]\n",
      "The new list after removing all empty lists is : [[1, 2], [3, 4], [5, 6], [9, 0]]\n"
     ]
    }
   ],
   "source": [
    "# defining a function\n",
    "\n",
    "def empty_list(a,b):\n",
    "     #'a'--is the list and 'b'-- is the length of the list\n",
    "        for i in a:\n",
    "            if len(i)==0:\n",
    "                a.remove(i)\n",
    "        return a\n",
    "    \n",
    "# inputs for the function\n",
    "a=[[1,2],[],[3,4],[],[5,6],[],[9,0],[]]      #for list containing empty lists & non-empty lists alternatively \n",
    "b=len(a)\n",
    "\n",
    "# calling function\n",
    "\n",
    "print('The original list was:',a)\n",
    "print('The new list after removing all empty lists is :',empty_list(a,b))"
   ]
  },
  {
   "cell_type": "raw",
   "id": "1f8bee70",
   "metadata": {},
   "source": [
    "Ans--(11)  for getting the occurences of all elements of any list "
   ]
  },
  {
   "cell_type": "code",
   "execution_count": 22,
   "id": "cced7a41",
   "metadata": {},
   "outputs": [
    {
     "name": "stdout",
     "output_type": "stream",
     "text": [
      "The number of occurences for all elements of given lists are:\n",
      " [1, 2, 3, 4, 5, 6, 7, 8, 9, 8, 7, 6, 5, 4, 3, 2, 1]\n",
      "1 is repeated 2 times:\n",
      "2 is repeated 2 times:\n",
      "3 is repeated 2 times:\n",
      "4 is repeated 2 times:\n",
      "5 is repeated 2 times:\n",
      "6 is repeated 2 times:\n",
      "7 is repeated 2 times:\n",
      "8 is repeated 2 times:\n",
      "9 is repeated 1 times:\n",
      "8 is repeated 2 times:\n",
      "7 is repeated 2 times:\n",
      "6 is repeated 2 times:\n",
      "5 is repeated 2 times:\n",
      "4 is repeated 2 times:\n",
      "3 is repeated 2 times:\n",
      "2 is repeated 2 times:\n",
      "1 is repeated 2 times:\n"
     ]
    }
   ],
   "source": [
    "# defining a function like\n",
    "\n",
    "def occurences(a,b):\n",
    "    # 'a'-- is the list and 'b'-- is the length of the list\n",
    "    for i in range(b):\n",
    "        element=a[i]\n",
    "        count=0\n",
    "        for j in a:\n",
    "            if j==element:\n",
    "                count=count+1\n",
    "        print('{} is repeated {} times:'.format(element,count))\n",
    "        \n",
    "        \n",
    "# inputs for the function\n",
    "a=[1,2,3,4,5,6,7,8,9,8,7,6,5,4,3,2,1]\n",
    "b=len(a)\n",
    "\n",
    "# calling function\n",
    "print('The number of occurences for all elements of given lists are:\\n',a)\n",
    "occurences(a,b)"
   ]
  },
  {
   "cell_type": "code",
   "execution_count": null,
   "id": "1657764e",
   "metadata": {},
   "outputs": [],
   "source": [
    "# using above function we can get the number of occurences of all elements of any given list "
   ]
  },
  {
   "cell_type": "raw",
   "id": "1bd40463",
   "metadata": {},
   "source": [
    "Ans--(10)  for getting the copy of any given list "
   ]
  },
  {
   "cell_type": "code",
   "execution_count": 24,
   "id": "c2483f7f",
   "metadata": {},
   "outputs": [
    {
     "name": "stdout",
     "output_type": "stream",
     "text": [
      "The original list is: [1, 2, 3, 4, 5, 6, 7, 8]\n",
      "The cloned/coped list is: [1, 2, 3, 4, 5, 6, 7, 8]\n"
     ]
    }
   ],
   "source": [
    "# defining a function like\n",
    "\n",
    "def cloning_list(a,b):\n",
    "    #'a'-- is the list and 'b'-- is the length of the list \n",
    "    global l\n",
    "    l=[]\n",
    "    for i in a:\n",
    "        l.append(i)\n",
    "    return l\n",
    "\n",
    "# inputs for the function\n",
    "a=[1,2,3,4,5,6,7,8]\n",
    "b=len(a)\n",
    "\n",
    "# calling the function\n",
    "\n",
    "print('The original list is:',a)\n",
    "print('The cloned/coped list is:',cloning_list(a,b))"
   ]
  },
  {
   "cell_type": "code",
   "execution_count": null,
   "id": "f0a1d2b1",
   "metadata": {},
   "outputs": [],
   "source": [
    "# using above function we can get the clone of any given list"
   ]
  },
  {
   "cell_type": "raw",
   "id": "0007f793",
   "metadata": {},
   "source": [
    "Ans--(6) for getting the N largest elements from a list?"
   ]
  },
  {
   "cell_type": "code",
   "execution_count": 26,
   "id": "194ee8a8",
   "metadata": {},
   "outputs": [
    {
     "name": "stdout",
     "output_type": "stream",
     "text": [
      "How many largest elements of list you want:5\n",
      "The 1 largest element of list is = 9\n",
      "The 2 largest element of list is = 8\n",
      "The 3 largest element of list is = 7\n",
      "The 4 largest element of list is = 6\n",
      "The 5 largest element of list is = 5\n"
     ]
    }
   ],
   "source": [
    "# defining a function like\n",
    "\n",
    "def N_largest(a,b,c):\n",
    "    #'a'-- is the list, 'b'-- is the length of the list and 'c'-- is the N largest elements of given list \n",
    "    for i in range(c):\n",
    "        print('The {} largest element of list is ='.format(i+1),max(a))\n",
    "        a.remove(max(a))\n",
    "        \n",
    "        \n",
    "# inputs for the function \n",
    "a=[1,2,3,4,5,6,7,8,9]\n",
    "b=len(a)\n",
    "c=int(input('How many largest elements of list you want:'))\n",
    "\n",
    "# calling function\n",
    "N_largest(a,b,c)"
   ]
  },
  {
   "cell_type": "code",
   "execution_count": null,
   "id": "f6c0038d",
   "metadata": {},
   "outputs": [],
   "source": [
    "# using above function we can get any number of largest elements of given list"
   ]
  }
 ],
 "metadata": {
  "kernelspec": {
   "display_name": "Python 3 (ipykernel)",
   "language": "python",
   "name": "python3"
  },
  "language_info": {
   "codemirror_mode": {
    "name": "ipython",
    "version": 3
   },
   "file_extension": ".py",
   "mimetype": "text/x-python",
   "name": "python",
   "nbconvert_exporter": "python",
   "pygments_lexer": "ipython3",
   "version": "3.9.12"
  }
 },
 "nbformat": 4,
 "nbformat_minor": 5
}
