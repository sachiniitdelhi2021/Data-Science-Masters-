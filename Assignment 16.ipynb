{
 "cells": [
  {
   "cell_type": "raw",
   "id": "34782718",
   "metadata": {},
   "source": [
    "1. Create a list called years_list, starting with the year of your birth, and each year thereafter until the year of your fifth birthday. For example, if you were born in 1980. the list would be years_list = [1980, 1981, 1982, 1983, 1984, 1985].\n",
    "2. In which year in years_list was your third birthday? Remember, you were 0 years of age for your first year.\n",
    "3.In the years list, which year were you the oldest?\n",
    "4. Make a list called things with these three strings as elements: \"mozzarella\", \"cinderella\", \"salmonella\".\n",
    "5. Capitalize the element in things that refers to a person and then print the list. Did it change the element in the list?\n",
    "6. Make a surprise list with the elements \"Groucho,\" \"Chico,\" and \"Harpo.\"\n",
    "7. Lowercase the last element of the surprise list, reverse it, and then capitalize it.\n",
    "8. Make an English-to-French dictionary called e2f and print it. Here are your starter words: dog is chien, cat is chat, and walrus is morse.\n",
    "9. Write the French word for walrus in your three-word dictionary e2f.\n",
    "10. Make a French-to-English dictionary called f2e from e2f. Use the items method.\n",
    "11. Print the English version of the French word chien using f2e.\n",
    "12. Make and print a set of English words from the keys in e2f.\n",
    "13. Make a multilevel dictionary called life. Use these strings for the topmost keys: 'animals', 'plants', and 'other'. Make the 'animals' key refer to another dictionary with the keys 'cats', 'octopi', and 'emus'. Make the 'cats' key refer to a list of strings with the values 'Henri', 'Grumpy', and 'Lucy'. Make all the other keys refer to empty dictionaries.\n",
    "14. Print the top-level keys of life.\n",
    "15. Print the keys for life['animals'].\n",
    "16. Print the values for life['animals']['cats']\n",
    "\n"
   ]
  },
  {
   "cell_type": "raw",
   "id": "721f002a",
   "metadata": {},
   "source": [
    "1. Create a list called years_list, starting with the year of your birth, and each year thereafter until the year of your fifth birthday. For example, if you were born in 1980. the list would be years_list = [1980, 1981, 1982, 1983, 1984, 1985].\n",
    "Ans--  years_list = [1997, 1998, 1999, 2000, 2001, 2002]"
   ]
  },
  {
   "cell_type": "code",
   "execution_count": 20,
   "id": "c3dc39be",
   "metadata": {},
   "outputs": [
    {
     "data": {
      "text/plain": [
       "[1997, 1998, 1999, 2000, 2001, 2002]"
      ]
     },
     "execution_count": 20,
     "metadata": {},
     "output_type": "execute_result"
    }
   ],
   "source": [
    "years_list = [1997, 1998, 1999, 2000, 2001, 2002]\n",
    "years_list"
   ]
  },
  {
   "cell_type": "raw",
   "id": "45d5cf8c",
   "metadata": {},
   "source": [
    "2. In which year in years_list was your third birthday? Remember, you were 0 years of age for your first year.\n",
    "Ans-- years_list[3]"
   ]
  },
  {
   "cell_type": "code",
   "execution_count": 3,
   "id": "583d6d82",
   "metadata": {},
   "outputs": [
    {
     "data": {
      "text/plain": [
       "2000"
      ]
     },
     "execution_count": 3,
     "metadata": {},
     "output_type": "execute_result"
    }
   ],
   "source": [
    "years_list[3]"
   ]
  },
  {
   "cell_type": "raw",
   "id": "6bdedbae",
   "metadata": {},
   "source": [
    "3.In the years list, which year were you the oldest?\n",
    "Ans-- years_list[5]"
   ]
  },
  {
   "cell_type": "code",
   "execution_count": 5,
   "id": "0fe3b9f3",
   "metadata": {},
   "outputs": [
    {
     "data": {
      "text/plain": [
       "2002"
      ]
     },
     "execution_count": 5,
     "metadata": {},
     "output_type": "execute_result"
    }
   ],
   "source": [
    "years_list[5]  # in this year i was oldest "
   ]
  },
  {
   "cell_type": "raw",
   "id": "41df696c",
   "metadata": {},
   "source": [
    "4. Make a list called things with these three strings as elements: \"mozzarella\", \"cinderella\", \"salmonella\".\n",
    "Ans--  things=[\"mozzarella\", \"cinderella\", \"salmonella\"]"
   ]
  },
  {
   "cell_type": "code",
   "execution_count": 6,
   "id": "8082a9f1",
   "metadata": {},
   "outputs": [],
   "source": [
    "things=[\"mozzarella\", \"cinderella\", \"salmonella\"]"
   ]
  },
  {
   "cell_type": "code",
   "execution_count": 7,
   "id": "03840518",
   "metadata": {},
   "outputs": [
    {
     "data": {
      "text/plain": [
       "['mozzarella', 'cinderella', 'salmonella']"
      ]
     },
     "execution_count": 7,
     "metadata": {},
     "output_type": "execute_result"
    }
   ],
   "source": [
    "things"
   ]
  },
  {
   "cell_type": "raw",
   "id": "08bbce25",
   "metadata": {},
   "source": [
    "5. Capitalize the element in things that refers to a person and then print the list. Did it change the element in the list?\n",
    "Ans-- if we do this than the list elements will not be changed \n",
    "things[0].upper()\n",
    "\n",
    "result--'MOZZARELLA'\n",
    "\n",
    "# but if we again print the list \n",
    "things\n",
    "\n",
    "result--- ['mozzarella', 'cinderella', 'salmonella']   # this is what we will get,means the list elements are not changed, so change it permanently we must do this "
   ]
  },
  {
   "cell_type": "code",
   "execution_count": 15,
   "id": "dad94055",
   "metadata": {},
   "outputs": [],
   "source": [
    "# for permanently changing the elements to upper case characters \n",
    "things[0]=things[0].upper()"
   ]
  },
  {
   "cell_type": "code",
   "execution_count": 16,
   "id": "4cd177fb",
   "metadata": {},
   "outputs": [
    {
     "data": {
      "text/plain": [
       "['MOZZARELLA', 'cinderella', 'salmonella']"
      ]
     },
     "execution_count": 16,
     "metadata": {},
     "output_type": "execute_result"
    }
   ],
   "source": [
    "things   # permanently changed "
   ]
  },
  {
   "cell_type": "code",
   "execution_count": 17,
   "id": "9fd2ece0",
   "metadata": {},
   "outputs": [
    {
     "data": {
      "text/plain": [
       "['MOZZARELLA', 'cinderella', 'salmonella']"
      ]
     },
     "execution_count": 17,
     "metadata": {},
     "output_type": "execute_result"
    }
   ],
   "source": [
    "#  but if we do this only than the changes will not be permanently saved inside the list \n",
    "things[0].upper()\n",
    "things"
   ]
  },
  {
   "cell_type": "code",
   "execution_count": null,
   "id": "f6368879",
   "metadata": {},
   "outputs": [],
   "source": [
    "# we are getting the list with first element like 'MOZZARELLA' boz we previously changed it and made it permanent, otherwise\n",
    "#  as a result we will get this -- ['mozzarella', 'cinderella', 'salmonella'] "
   ]
  },
  {
   "cell_type": "raw",
   "id": "4e26703c",
   "metadata": {},
   "source": [
    "6. Make a surprise list with the elements \"Groucho,\" \"Chico,\" and \"Harpo.\"\n",
    "Ans-- surprise =['Groucho', 'Chico','Harpo']"
   ]
  },
  {
   "cell_type": "code",
   "execution_count": 22,
   "id": "2b5e6b05",
   "metadata": {},
   "outputs": [],
   "source": [
    "surprise =['Groucho', 'Chico','Harpo']"
   ]
  },
  {
   "cell_type": "code",
   "execution_count": 23,
   "id": "5239b3e6",
   "metadata": {},
   "outputs": [
    {
     "data": {
      "text/plain": [
       "['Groucho', 'Chico', 'Harpo']"
      ]
     },
     "execution_count": 23,
     "metadata": {},
     "output_type": "execute_result"
    }
   ],
   "source": [
    "surprise"
   ]
  },
  {
   "cell_type": "raw",
   "id": "19820b53",
   "metadata": {},
   "source": [
    "7. Lowercase the last element of the surprise list, reverse it, and then capitalize it.\n",
    "Ans-- \n",
    "a=surprise[2].lower()  # this is for making it lower case characters word/element\n",
    "a[::-1]    # this is for printing it in reverse order \n",
    "a[::-1].upper()  # this is for making all characters upper case of a[::-1] "
   ]
  },
  {
   "cell_type": "code",
   "execution_count": 27,
   "id": "ef50260c",
   "metadata": {},
   "outputs": [
    {
     "data": {
      "text/plain": [
       "'OPRAH'"
      ]
     },
     "execution_count": 27,
     "metadata": {},
     "output_type": "execute_result"
    }
   ],
   "source": [
    "a=surprise[2].lower()\n",
    "a[::-1]\n",
    "a[::-1].upper()"
   ]
  },
  {
   "cell_type": "raw",
   "id": "11e5db02",
   "metadata": {},
   "source": [
    "8. Make an English-to-French dictionary called e2f and print it. Here are your starter words: dog is chien, cat is chat, and walrus is morse.\n",
    "Ans-- \n",
    "\n",
    "# english to french dictionary with key as english word and it's value as french word \n",
    "e3f={'dog':'chien','cat':'chat','walrus':'morse'}"
   ]
  },
  {
   "cell_type": "code",
   "execution_count": 28,
   "id": "73b57677",
   "metadata": {},
   "outputs": [],
   "source": [
    "# english to french dictionary with key as english word and it's value as french word \n",
    "e3f={'dog':'chien','cat':'chat','walrus':'morse'}"
   ]
  },
  {
   "cell_type": "code",
   "execution_count": 29,
   "id": "8a33c6d7",
   "metadata": {},
   "outputs": [
    {
     "data": {
      "text/plain": [
       "{'dog': 'chien', 'cat': 'chat', 'walrus': 'morse'}"
      ]
     },
     "execution_count": 29,
     "metadata": {},
     "output_type": "execute_result"
    }
   ],
   "source": [
    "e3f"
   ]
  },
  {
   "cell_type": "raw",
   "id": "16a3a51b",
   "metadata": {},
   "source": [
    "9. Write the French word for walrus in your three-word dictionary e2f.\n",
    "Asn-- \n",
    "# this will give the value for key 'walrus' of dictionary \n",
    "e3f['walrus']"
   ]
  },
  {
   "cell_type": "code",
   "execution_count": 30,
   "id": "1fbc366e",
   "metadata": {},
   "outputs": [
    {
     "data": {
      "text/plain": [
       "'morse'"
      ]
     },
     "execution_count": 30,
     "metadata": {},
     "output_type": "execute_result"
    }
   ],
   "source": [
    "e3f['walrus']"
   ]
  },
  {
   "cell_type": "raw",
   "id": "a279575e",
   "metadata": {},
   "source": [
    "10. Make a French-to-English dictionary called f2e from e2f. Use the items method.\n",
    "Ans-- \n",
    "# french to english dictionary \n",
    "f3e={v:k for k,v in e3f.items()}"
   ]
  },
  {
   "cell_type": "code",
   "execution_count": 89,
   "id": "c7cfa8ca",
   "metadata": {},
   "outputs": [
    {
     "data": {
      "text/plain": [
       "{'chien': 'dog', 'chat': 'cat', 'morse': 'walrus'}"
      ]
     },
     "execution_count": 89,
     "metadata": {},
     "output_type": "execute_result"
    }
   ],
   "source": [
    "f3e={v:k for k,v in e3f.items()}\n",
    "f3e\n",
    "# now you can see the dictionary key and all values are reversed as compair to before  "
   ]
  },
  {
   "cell_type": "code",
   "execution_count": 31,
   "id": "5a6de038",
   "metadata": {},
   "outputs": [
    {
     "data": {
      "text/plain": [
       "dict_items([('dog', 'chien'), ('cat', 'chat'), ('walrus', 'morse')])"
      ]
     },
     "execution_count": 31,
     "metadata": {},
     "output_type": "execute_result"
    }
   ],
   "source": [
    "e3f.items()"
   ]
  },
  {
   "cell_type": "raw",
   "id": "c378a445",
   "metadata": {},
   "source": [
    "11. Print the English version of the French word chien using f2e.\n",
    "Ans-- \n",
    "f3e['chien']\n",
    "# this will the value of key 'chien' in the dictionary f3e, which is a english word 'dog'"
   ]
  },
  {
   "cell_type": "code",
   "execution_count": 90,
   "id": "5e51ca7c",
   "metadata": {},
   "outputs": [
    {
     "data": {
      "text/plain": [
       "'dog'"
      ]
     },
     "execution_count": 90,
     "metadata": {},
     "output_type": "execute_result"
    }
   ],
   "source": [
    "f3e['chien']  # for getting the value of key 'chien'"
   ]
  },
  {
   "cell_type": "raw",
   "id": "965129e1",
   "metadata": {},
   "source": [
    "12. Make and print a set of English words from the keys in e2f.\n",
    "Ans-- \n",
    "e3f.keys()\n",
    "# this will give all keys of the dictionary which are all english words \n",
    "s={'dog','cat','walrus'}"
   ]
  },
  {
   "cell_type": "code",
   "execution_count": 53,
   "id": "ab743267",
   "metadata": {},
   "outputs": [
    {
     "data": {
      "text/plain": [
       "dict_keys(['dog', 'cat', 'walrus'])"
      ]
     },
     "execution_count": 53,
     "metadata": {},
     "output_type": "execute_result"
    }
   ],
   "source": [
    "e3f.keys()"
   ]
  },
  {
   "cell_type": "code",
   "execution_count": 87,
   "id": "67a407cc",
   "metadata": {},
   "outputs": [
    {
     "data": {
      "text/plain": [
       "{'cat', 'dog', 'walrus'}"
      ]
     },
     "execution_count": 87,
     "metadata": {},
     "output_type": "execute_result"
    }
   ],
   "source": [
    "s={'dog','cat','walrus'}    # all keys of the dictionary 'e3f' inside a set 's'\n",
    "s"
   ]
  },
  {
   "cell_type": "raw",
   "id": "46fa9ae4",
   "metadata": {},
   "source": [
    "13. Make a multilevel dictionary called life. Use these strings for the topmost keys: 'animals', 'plants', and 'other'. Make the 'animals' key refer to another dictionary with the keys 'cats', 'octopi', and 'emus'. Make the 'cats' key refer to a list of strings with the values 'Henri', 'Grumpy', and 'Lucy'. Make all the other keys refer to empty dictionaries.\n",
    "Ans--\n",
    "life={'animals':{'cats':['Henri', 'Grumpy','lucy'],'octopic':{},'emus':{}},'plants':{},'other':{}}"
   ]
  },
  {
   "cell_type": "code",
   "execution_count": 73,
   "id": "d4b850ed",
   "metadata": {},
   "outputs": [],
   "source": [
    "life={'animals':{'cats':['Henri', 'Grumpy','lucy'],'octopic':{},'emus':{}},'plants':{},'other':{}}"
   ]
  },
  {
   "cell_type": "raw",
   "id": "1322479a",
   "metadata": {},
   "source": [
    "14. Print the top-level keys of life.\n",
    "15. Print the keys for life['animals'].\n",
    "16. Print the values for life['animals']['cats']\n"
   ]
  },
  {
   "cell_type": "raw",
   "id": "bd96c854",
   "metadata": {},
   "source": [
    "Ans-- 14 \n",
    "# for top-level keys of dictionary 'life'\n",
    "life.keys()"
   ]
  },
  {
   "cell_type": "code",
   "execution_count": 77,
   "id": "2ec42c2d",
   "metadata": {},
   "outputs": [
    {
     "data": {
      "text/plain": [
       "dict_keys(['animals', 'plants', 'other'])"
      ]
     },
     "execution_count": 77,
     "metadata": {},
     "output_type": "execute_result"
    }
   ],
   "source": [
    "life.keys()"
   ]
  },
  {
   "cell_type": "raw",
   "id": "8d458ec6",
   "metadata": {},
   "source": [
    "ANS-15-->\n",
    "# this will give all keys of 'animal'\n",
    "life['animals'].keys() "
   ]
  },
  {
   "cell_type": "code",
   "execution_count": 75,
   "id": "be018f4e",
   "metadata": {},
   "outputs": [
    {
     "data": {
      "text/plain": [
       "dict_keys(['cats', 'octopic', 'emus'])"
      ]
     },
     "execution_count": 75,
     "metadata": {},
     "output_type": "execute_result"
    }
   ],
   "source": [
    " life['animals'].keys() "
   ]
  },
  {
   "cell_type": "raw",
   "id": "97b96210",
   "metadata": {},
   "source": [
    "Ans--16\n",
    "# for the values of 'cats'\n",
    "life['animals']['cats']"
   ]
  },
  {
   "cell_type": "code",
   "execution_count": 76,
   "id": "8b38e435",
   "metadata": {},
   "outputs": [
    {
     "data": {
      "text/plain": [
       "['Henri', 'Grumpy', 'lucy']"
      ]
     },
     "execution_count": 76,
     "metadata": {},
     "output_type": "execute_result"
    }
   ],
   "source": [
    "life['animals']['cats']"
   ]
  },
  {
   "cell_type": "code",
   "execution_count": null,
   "id": "caf7a15e",
   "metadata": {},
   "outputs": [],
   "source": []
  }
 ],
 "metadata": {
  "kernelspec": {
   "display_name": "Python 3 (ipykernel)",
   "language": "python",
   "name": "python3"
  },
  "language_info": {
   "codemirror_mode": {
    "name": "ipython",
    "version": 3
   },
   "file_extension": ".py",
   "mimetype": "text/x-python",
   "name": "python",
   "nbconvert_exporter": "python",
   "pygments_lexer": "ipython3",
   "version": "3.9.12"
  }
 },
 "nbformat": 4,
 "nbformat_minor": 5
}
