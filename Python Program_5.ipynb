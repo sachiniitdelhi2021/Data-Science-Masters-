{
 "cells": [
  {
   "cell_type": "raw",
   "id": "d96e134e",
   "metadata": {},
   "source": [
    "1.\tWrite a Python Program to Find LCM?\n",
    "2.\tWrite a Python Program to Find HCF?\n",
    "3.\tWrite a Python Program to Convert Decimal to Binary, Octal and Hexadecimal?\n",
    "4.\tWrite a Python Program To Find ASCII value of a character?\n",
    "5.\tWrite a Python Program to Make a Simple Calculator with 4 basic mathematical operations?\n"
   ]
  },
  {
   "cell_type": "raw",
   "id": "32728e50",
   "metadata": {},
   "source": [
    "Ans--(1) for finding the lcm of any two given numbers  "
   ]
  },
  {
   "cell_type": "code",
   "execution_count": 24,
   "id": "28aba147",
   "metadata": {},
   "outputs": [
    {
     "name": "stdout",
     "output_type": "stream",
     "text": [
      "First number is :24\n",
      "Second number is:36\n",
      "The list of numbers divisible by 24 is: [24, 48, 72, 96, 120, 144, 168, 192, 216, 240, 264, 288, 312, 336, 360, 384, 408, 432, 456, 480, 504, 528, 552, 576, 600, 624, 648, 672, 696, 720, 744, 768, 792, 816, 840, 864]\n",
      "The list of numbers divisible by 36 is: [36, 72, 108, 144, 180, 216, 252, 288, 324, 360, 396, 432, 468, 504, 540, 576, 612, 648, 684, 720, 756, 792, 828, 864]\n",
      "The LCM of 24&36 is: 72\n"
     ]
    }
   ],
   "source": [
    "# defining the function as\n",
    "\n",
    "l1=[]\n",
    "l2=[]\n",
    "def LCM(a,b):\n",
    "    for i in range(1,a*b+1):\n",
    "        if i%a==0:\n",
    "            l1.append(i)\n",
    "       \n",
    "        if i%b==0:\n",
    "            l2.append(i)\n",
    "    print('The list of numbers divisible by {} is:'.format(a),l1)\n",
    "    print('The list of numbers divisible by {} is:'.format(b),l2)\n",
    "    \n",
    "    if (set(l1)&set(l2)):\n",
    "        l3=list(set(l1)&set(l2))\n",
    "    print('The LCM of {}&{} is:'.format(a,b),min(l3))\n",
    "        \n",
    "        \n",
    "# input numbers \n",
    "a=int(input('First number is :'))\n",
    "b=int(input('Second number is:'))\n",
    "\n",
    "# calling function as\n",
    "LCM(a,b)"
   ]
  },
  {
   "cell_type": "code",
   "execution_count": null,
   "id": "7a62e149",
   "metadata": {},
   "outputs": [],
   "source": [
    "# using above function we can get the lcm of any two integer numbers  "
   ]
  },
  {
   "cell_type": "raw",
   "id": "9ae62faf",
   "metadata": {},
   "source": [
    "Ans--(2) for finding the HCF of any two numbers "
   ]
  },
  {
   "cell_type": "code",
   "execution_count": 36,
   "id": "b26acdee",
   "metadata": {},
   "outputs": [
    {
     "name": "stdout",
     "output_type": "stream",
     "text": [
      "first number is:24\n",
      "second number is :36\n",
      "The list of factors of 24 is: [1, 2, 3, 4, 6, 8, 12]\n",
      "The list of factors of 36 is: [1, 2, 3, 4, 6, 9, 12, 18]\n",
      "The HCF of 24&36 is : 12\n"
     ]
    }
   ],
   "source": [
    "# defining function \n",
    "l1=[]\n",
    "l2=[]\n",
    "def HCF(a,b):\n",
    "    for i in range(1,a):\n",
    "        if a%i==0:\n",
    "            l1.append(i)\n",
    "    print('The list of factors of {} is:'.format(a),l1)\n",
    "    \n",
    "    for i in range(1,b):\n",
    "        if b%i==0:\n",
    "            l2.append(i)\n",
    "    print('The list of factors of {} is:'.format(b,l2),l2)\n",
    "    \n",
    "    l3=list(set(l1)&set(l2))\n",
    "    print('The HCF of {}&{} is :'.format(a,b),max(l3))\n",
    "          \n",
    "# inputs \n",
    "a=int(input('first number is:'))\n",
    "b=int(input('second number is :'))\n",
    "\n",
    "# calling function as\n",
    "HCF(a,b)"
   ]
  },
  {
   "cell_type": "code",
   "execution_count": null,
   "id": "3b693419",
   "metadata": {},
   "outputs": [],
   "source": [
    "# using above function we can get the hcf of any two numbers "
   ]
  },
  {
   "cell_type": "raw",
   "id": "633eaa3d",
   "metadata": {},
   "source": [
    "Ans-(4) for finding the ASCII value of any given character "
   ]
  },
  {
   "cell_type": "code",
   "execution_count": 39,
   "id": "fc76d5f3",
   "metadata": {},
   "outputs": [
    {
     "name": "stdout",
     "output_type": "stream",
     "text": [
      "The character is :s\n",
      "The ASCII value of s is: 115\n"
     ]
    }
   ],
   "source": [
    "# defining the function \n",
    "\n",
    "def ASCII(a):\n",
    "    print('The ASCII value of {} is:'.format(a),ord(a))\n",
    "    \n",
    "# for taking the inputs \n",
    "a=input('The character is :')\n",
    "\n",
    "# calling the function \n",
    "ASCII(a)"
   ]
  },
  {
   "cell_type": "code",
   "execution_count": 40,
   "id": "6b1a4650",
   "metadata": {},
   "outputs": [
    {
     "name": "stdout",
     "output_type": "stream",
     "text": [
      "The ASCII value of t is: 116\n"
     ]
    }
   ],
   "source": [
    "ASCII('t')"
   ]
  },
  {
   "cell_type": "code",
   "execution_count": null,
   "id": "77d61927",
   "metadata": {},
   "outputs": [],
   "source": [
    "# using above defined function we can get the ASCII value of any character "
   ]
  },
  {
   "cell_type": "raw",
   "id": "f7f814dd",
   "metadata": {},
   "source": [
    "Ans-(5) function which performs basic mathematical operations "
   ]
  },
  {
   "cell_type": "code",
   "execution_count": 41,
   "id": "4f39ecc2",
   "metadata": {},
   "outputs": [
    {
     "name": "stdout",
     "output_type": "stream",
     "text": [
      "The operation is:addition\n",
      "first number is:2\n",
      "second number is:3\n",
      "The sum of 2&3 is: 5\n"
     ]
    }
   ],
   "source": [
    "# defining the function \n",
    "\n",
    "def calculator(a,b,c):    # 'a'-- is for the type of operation ,'b' &'c' are the numbers\n",
    "    if a=='addition':\n",
    "        print('The sum of {}&{} is:'.format(b,c),b+c)\n",
    "        \n",
    "    elif a=='subtraction':\n",
    "        print('The subtraction of {}&{} is:'.format(b,c),b-c)\n",
    "    \n",
    "    elif a=='multiplication':\n",
    "        print('The product of {}&{} is:'.format(b,c),b*c)\n",
    "        \n",
    "    elif a=='division':\n",
    "        print('The division of {}&{} is:'.format(b,c),b/c)\n",
    "        \n",
    "    else:\n",
    "        print('This operation is not supported:')\n",
    "        \n",
    "# for inputs\n",
    "a=input('The operation is:')\n",
    "b=int(input('first number is:'))\n",
    "c=int(input('second number is:'))\n",
    "        \n",
    "# calling the function as\n",
    "calculator(a,b,c)"
   ]
  },
  {
   "cell_type": "code",
   "execution_count": 43,
   "id": "d867ec57",
   "metadata": {},
   "outputs": [
    {
     "name": "stdout",
     "output_type": "stream",
     "text": [
      "The subtraction of 10&20 is: -10\n"
     ]
    }
   ],
   "source": [
    "calculator('subtraction',10,20)"
   ]
  },
  {
   "cell_type": "code",
   "execution_count": 44,
   "id": "f44483db",
   "metadata": {},
   "outputs": [
    {
     "name": "stdout",
     "output_type": "stream",
     "text": [
      "The product of 10&20 is: 200\n"
     ]
    }
   ],
   "source": [
    "calculator('multiplication',10,20)"
   ]
  },
  {
   "cell_type": "code",
   "execution_count": 45,
   "id": "c1eadff9",
   "metadata": {},
   "outputs": [
    {
     "name": "stdout",
     "output_type": "stream",
     "text": [
      "The division of 10&20 is: 0.5\n"
     ]
    }
   ],
   "source": [
    "calculator('division',10,20)"
   ]
  },
  {
   "cell_type": "code",
   "execution_count": null,
   "id": "5b310da2",
   "metadata": {},
   "outputs": [],
   "source": [
    "# using above defined function we can get sum,subtraction,multiplication and division of any two numbers "
   ]
  },
  {
   "cell_type": "raw",
   "id": "46c05a5a",
   "metadata": {},
   "source": [
    "Ans--(3) for converting any decimal number to binary, octal and hexadecimal "
   ]
  },
  {
   "cell_type": "code",
   "execution_count": 47,
   "id": "2cb6023c",
   "metadata": {},
   "outputs": [
    {
     "name": "stdout",
     "output_type": "stream",
     "text": [
      "operation is conversion from decimal to:binary\n",
      "The decimal number is:10\n",
      "The binary of 10 is: 0b1010\n"
     ]
    }
   ],
   "source": [
    "# defining the function\n",
    "\n",
    "def decimal_to(a,b):    # 'a'-- is for conversion type and  'b'-- is for the decimal number \n",
    "    \n",
    "    if a=='binary':\n",
    "        print('The binary of {} is:'.format(b),bin(b))            # bin()-- is a in-built function for getting binary of decimal\n",
    "    elif a=='octal':                                               \n",
    "        print('The octal of {} is:'.format(b),oct(b))              # oct()-- is a in-built function for getting octal of decimal              \n",
    "    elif a=='hexadecimal':\n",
    "        print('The hexadecimal of {} is:'.format(b),hex(b))        # hex()-- is a in-built function for getting hexadecimal of decimal\n",
    "        \n",
    "# for inputs \n",
    "a=input('operation is conversion from decimal to:')\n",
    "b=int(input('The decimal number is:'))\n",
    "\n",
    "# calling the function as\n",
    "decimal_to(a,b)\n"
   ]
  },
  {
   "cell_type": "code",
   "execution_count": 49,
   "id": "f14a635d",
   "metadata": {},
   "outputs": [
    {
     "name": "stdout",
     "output_type": "stream",
     "text": [
      "The octal of 12 is: 0o14\n"
     ]
    }
   ],
   "source": [
    "# for decimal to octal as\n",
    "decimal_to('octal', 12)"
   ]
  },
  {
   "cell_type": "code",
   "execution_count": 50,
   "id": "749ce706",
   "metadata": {},
   "outputs": [
    {
     "name": "stdout",
     "output_type": "stream",
     "text": [
      "The hexadecimal of 100 is: 0x64\n"
     ]
    }
   ],
   "source": [
    "# for decimal to hexadecimal as\n",
    "decimal_to('hexadecimal', 100)"
   ]
  },
  {
   "cell_type": "code",
   "execution_count": null,
   "id": "f9b3a57b",
   "metadata": {},
   "outputs": [],
   "source": [
    "    # using above defined function we can get the conversion  from  decimal to binary, octal and hexadecimal "
   ]
  }
 ],
 "metadata": {
  "kernelspec": {
   "display_name": "Python 3 (ipykernel)",
   "language": "python",
   "name": "python3"
  },
  "language_info": {
   "codemirror_mode": {
    "name": "ipython",
    "version": 3
   },
   "file_extension": ".py",
   "mimetype": "text/x-python",
   "name": "python",
   "nbconvert_exporter": "python",
   "pygments_lexer": "ipython3",
   "version": "3.9.12"
  }
 },
 "nbformat": 4,
 "nbformat_minor": 5
}
