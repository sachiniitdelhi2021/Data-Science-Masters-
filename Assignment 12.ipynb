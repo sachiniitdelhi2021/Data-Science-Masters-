{
 "cells": [
  {
   "cell_type": "raw",
   "id": "b774cdcd",
   "metadata": {},
   "source": [
    "1. In what modes should the PdfFileReader() and PdfFileWriter() File objects will be opened?\n",
    "2. From a PdfFileReader object, how do you get a Page object for page 5?\n",
    "3. What PdfFileReader variable stores the number of pages in the PDF document?\n",
    "4. If a PdfFileReader object’s PDF is encrypted with the password swordfish, what must you do before you can obtain Page objects from it?\n",
    "5. What methods do you use to rotate a page?\n",
    "6. What is the difference between a Run object and a Paragraph object?\n",
    "7. How do you obtain a list of Paragraph objects for a Document object that’s stored in a variable named doc?\n",
    "8. What type of object has bold, underline, italic, strike, and outline variables?\n",
    "9. What is the difference between False, True, and None for the bold variable?\n",
    "10. How do you create a Document object for a new Word document?\n",
    "11. How do you add a paragraph with the text 'Hello, there!' to a Document object stored in a variable named doc?\n",
    "12. What integers represent the levels of headings available in Word documents?\n"
   ]
  },
  {
   "cell_type": "raw",
   "id": "b2b0667f",
   "metadata": {},
   "source": [
    "1. In what modes should the PdfFileReader() and PdfFileWriter() File objects will be opened?\n",
    "Ans-- for opening PdfFileReader() we use 'rb'- which is read binary mode\n",
    "for opening PdfFileWriter() we use 'wb'- which is write binary mode "
   ]
  },
  {
   "cell_type": "raw",
   "id": "dd8d2d97",
   "metadata": {},
   "source": [
    "2. From a PdfFileReader object, how do you get a Page object for page 5?\n",
    "ANS--PdfFileReader provides a method as getDestinationPageNumber() using which we can get the data of any page, if we know the page number and we just have to pass the page number as argument inside the function "
   ]
  },
  {
   "cell_type": "raw",
   "id": "bfb44361",
   "metadata": {},
   "source": [
    "3. What PdfFileReader variable stores the number of pages in the PDF document?\n",
    "Ans-- using getNumPages () method of PdfFileReader we can get the number of pages in any pdf file as this getNumPages() stores \n",
    "the number of pages "
   ]
  },
  {
   "cell_type": "code",
   "execution_count": 13,
   "id": "6ab97123",
   "metadata": {},
   "outputs": [
    {
     "name": "stdout",
     "output_type": "stream",
     "text": [
      "Requirement already satisfied: PyPDF2 in c:\\users\\dell\\anaconda3\\lib\\site-packages (2.0.0)\n",
      "Requirement already satisfied: typing-extensions in c:\\users\\dell\\anaconda3\\lib\\site-packages (from PyPDF2) (4.1.1)\n"
     ]
    }
   ],
   "source": [
    "!pip install PyPDF2              # this module is not updated from very long time and will only work with python module 3.5 \n",
    "from PyPDF2 import PdfFileReader\n"
   ]
  },
  {
   "cell_type": "code",
   "execution_count": null,
   "id": "8eab06aa",
   "metadata": {},
   "outputs": [],
   "source": [
    "# for getting the number of pages in any pdf file\n",
    "a=PdfFileReader(file_path)\n",
    "print(a.getNumPages ())   # this will give no. of pages in any pdf file"
   ]
  },
  {
   "cell_type": "code",
   "execution_count": null,
   "id": "738ade12",
   "metadata": {},
   "outputs": [],
   "source": [
    "4. If a PdfFileReader object’s PDF is encrypted with the password swordfish, what must you do before you can obtain Page objects from it?\n",
    "Ans-- if the pdf is encrypted with any password than we need to first decrypt the file to get any page object by giving the \n",
    "password \n",
    "\n",
    "# first importing all required functions of PyPDF2 module of python \n",
    "from PyPDF2 import PdfFileReader,PdfFileWriter\n",
    "\n",
    "# getting all data of file in variable 'file'\n",
    "file=PdfFileReader('file_name.pdf')\n",
    "\n",
    "# saving the password in variable password  \n",
    "password='swordfish'\n",
    "\n",
    "# checking file is encrypted, if yes than opening it by giving the password of the file \n",
    "if file.isEncrypted:\n",
    "     file.decrypt(password)\n",
    "\n",
    "#  now the file is unlocked, so we can read data of file like\n",
    "for page in file.getNumPages ():\n",
    "    print(file.getpage(page))   # with this we can get pages of file one-by-one \n",
    "        "
   ]
  },
  {
   "cell_type": "raw",
   "id": "f045912f",
   "metadata": {},
   "source": [
    "5. What methods do you use to rotate a page?\n",
    "Ans-- PyPDF2 module provides two methods for rotating the pages of file\n",
    "1)rotateClockwise -- for clockwise rotation of page \n",
    "2)rotateCounterClockwise--  for anti-clockwise rotation of page \n",
    "note-- with these methods we can only rotate any page in any sense but with encrement of 90 degrees every time "
   ]
  },
  {
   "cell_type": "raw",
   "id": "d59d4f40",
   "metadata": {},
   "source": [
    "6. What is the difference between a Run object and a Paragraph object?\n",
    "Ans-- The structure of a document is represented by three different data types in python-Docx. At the highest level, a Document object represents the entire document. The Document object contains a list of Paragraph objects for the paragraphs in the document. (A new paragraph begins whenever the user presses ENTER or RETURN while typing in a Word document.) Each of these Paragraph objects contains a list of one or more Run objects.\n",
    "\n",
    "The text in a Word document is more than just a string. It has font, size, color, and other styling information associated with it. A style in Word is a collection of these attributes. A Run object is a contiguous run of text with the same style. A new Run object is needed whenever the text style changes.\n"
   ]
  },
  {
   "cell_type": "code",
   "execution_count": null,
   "id": "15c29680",
   "metadata": {},
   "outputs": [],
   "source": [
    "7. How do you obtain a list of Paragraph objects for a Document object that’s stored in a variable named doc?\n",
    "Ans-- for getting the list of all paragraphs of any document \n",
    "\n",
    "# first installing the docx module as\n",
    "!pip install python-docx\n",
    "# importing the Document function as \n",
    "from docx import Document \n",
    "# getting all data of file inside variable 'a'\n",
    "a=Document('file_name.docx')\n",
    "print(a.paragraphs)    # printing all paragraphs of file \n",
    "\n",
    "# printing data of every paragraph using local variable 'paragraph'\n",
    "for paragraph in a.paragraphs:\n",
    "    print(paragraph.text)"
   ]
  },
  {
   "cell_type": "raw",
   "id": "4cf641d5",
   "metadata": {},
   "source": [
    "8. What type of object has bold, underline, italic, strike, and outline variables?\n",
    "Ans-- Run object has bold, underline, italic, strike, and outline variables. The text in a Word document is more than just a string. It has font, size, color, and other styling information associated with it.\n",
    "\n",
    "A style in Word is a collection of these attributes. A Run object is a contiguous run of text with the same style. A new Run object is needed whenever the text style changes.\n"
   ]
  },
  {
   "cell_type": "raw",
   "id": "9e6d27af",
   "metadata": {},
   "source": [
    "9. What is the difference between False, True, and None for the bold variable?\n",
    "Ans-- 1) if we set bold=False  -- then text will not be in bold style\n",
    "2) if we set bold=True  -- then text will be in bold style\n",
    "3) if we set bold=None  -- then style is not applicable "
   ]
  },
  {
   "cell_type": "raw",
   "id": "0825b5ce",
   "metadata": {},
   "source": [
    "10. How do you create a Document object for a new Word document?\n",
    "Ans-- using this code we can create Document object for a new document\n",
    "\n",
    "!pip install python-docx\n",
    "from docx import Document\n",
    "a=Document()\n",
    "\n",
    "# we can also add something inside file like \n",
    "# now we will add paragraph inside this word file using variable 'a' as\n",
    "a.add_paragraph('my name is sachin thakur, im a student in iit delhi')\n",
    "a.save('info.docx')   # saving the data inside file by giving name to file as\n"
   ]
  },
  {
   "cell_type": "code",
   "execution_count": 7,
   "id": "edc8dcf9",
   "metadata": {},
   "outputs": [
    {
     "name": "stdout",
     "output_type": "stream",
     "text": [
      "Collecting python-docx\n",
      "  Downloading python-docx-0.8.11.tar.gz (5.6 MB)\n",
      "Requirement already satisfied: lxml>=2.3.2 in c:\\users\\dell\\anaconda3\\lib\\site-packages (from python-docx) (4.8.0)\n",
      "Building wheels for collected packages: python-docx\n",
      "  Building wheel for python-docx (setup.py): started\n",
      "  Building wheel for python-docx (setup.py): finished with status 'done'\n",
      "  Created wheel for python-docx: filename=python_docx-0.8.11-py3-none-any.whl size=184507 sha256=eabe35eb6e32188ca8c01dfff2124dac728f4d311573127437e9bb33e19e8b5b\n",
      "  Stored in directory: c:\\users\\dell\\appdata\\local\\pip\\cache\\wheels\\83\\8b\\7c\\09ae60c42c7ba4ed2dddaf2b8b9186cb105255856d6ed3dba5\n",
      "Successfully built python-docx\n",
      "Installing collected packages: python-docx\n",
      "Successfully installed python-docx-0.8.11\n"
     ]
    }
   ],
   "source": [
    "!pip install python-docx "
   ]
  },
  {
   "cell_type": "code",
   "execution_count": 9,
   "id": "b7a91811",
   "metadata": {},
   "outputs": [],
   "source": [
    "\n",
    "from docx import Document\n",
    "a=Document()\n",
    "\n",
    "# now we will add paragraph inside this word file using variable 'a' as\n",
    "a.add_paragraph('my name is sachin thakur, im a student of iit delhi')\n",
    "a.save('sachin.docx')   # saving the data inside file by giving name to file as\n"
   ]
  },
  {
   "cell_type": "raw",
   "id": "dff2611d",
   "metadata": {},
   "source": [
    "11. How do you add a paragraph with the text 'Hello, there!' to a Document object stored in a variable named doc?\n",
    "Ans-- \n",
    "from docx import Document\n",
    "doc=Document()\n",
    "\n",
    "# now we will add paragraph inside this word file using variable 'a' as\n",
    "doc.add_paragraph('Hello, there!')\n",
    "doc.save('word file')   # saving the data inside file by giving name to file as\n"
   ]
  },
  {
   "cell_type": "code",
   "execution_count": 11,
   "id": "051af145",
   "metadata": {},
   "outputs": [],
   "source": [
    "from docx import Document\n",
    "doc=Document()\n",
    "\n",
    "# now we will add paragraph inside this word file using variable 'a' as\n",
    "doc.add_paragraph('Hello, there!')\n",
    "doc.save('word.docx')   # saving the data inside file by giving name to file as\n"
   ]
  },
  {
   "cell_type": "raw",
   "id": "4c449cc5",
   "metadata": {},
   "source": [
    "12. What integers represent the levels of headings available in Word documents?\n",
    "Ans-- word includes total of 9 heading levels,but some of the higher levels are not visible until be other higher \n",
    "level like heading 4 will appear after we use heading 3 \n",
    "\n",
    "ex-- \n",
    "when level is set to 0 -->  the string given inside add_heading()  will be set as the heading of document \n",
    " "
   ]
  }
 ],
 "metadata": {
  "kernelspec": {
   "display_name": "Python 3 (ipykernel)",
   "language": "python",
   "name": "python3"
  },
  "language_info": {
   "codemirror_mode": {
    "name": "ipython",
    "version": 3
   },
   "file_extension": ".py",
   "mimetype": "text/x-python",
   "name": "python",
   "nbconvert_exporter": "python",
   "pygments_lexer": "ipython3",
   "version": "3.9.12"
  }
 },
 "nbformat": 4,
 "nbformat_minor": 5
}
