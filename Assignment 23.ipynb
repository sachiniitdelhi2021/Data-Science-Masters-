{
 "cells": [
  {
   "cell_type": "raw",
   "id": "bb58d0ac",
   "metadata": {},
   "source": [
    "\n",
    "1. What is the result of the code, and why?\n",
    ">>> def func(a, b=6, c=8):\n",
    "print(a, b, c)\n",
    ">>> func(1, 2)\n",
    "2. What is the result of this code, and why?\n",
    ">>> def func(a, b, c=5):\n",
    "print(a, b, c)\n",
    ">>> func(1, c=3, b=2)\n",
    "3. How about this code: what is its result, and why?\n",
    ">>> def func(a, *pargs):\n",
    "print(a, pargs)\n",
    ">>> func(1, 2, 3)\n",
    "4. What does this code print, and why?\n",
    ">>> def func(a, **kargs):\n",
    "print(a, kargs)\n",
    ">>> func(a=1, c=3, b=2)\n",
    "5. What gets printed by this, and explain?\n",
    ">>> def func(a, b, c=8, d=5): print(a, b, c, d)\n",
    ">>> func(1, *(5, 6))\n",
    "6. what is the result of this, and explain?\n",
    ">>> def func(a, b, c): a = 2; b[0] = 'x'; c['a'] = 'y'\n",
    ">>> l=1; m=[1]; n={'a':0}\n",
    ">>> func(l, m, n)\n",
    ">>> l, m, n\n",
    "\n"
   ]
  },
  {
   "cell_type": "raw",
   "id": "408ff1bb",
   "metadata": {},
   "source": [
    "1. What is the result of the code, and why?\n",
    ">>> def func(a, b=6, c=8):\n",
    "    print(a, b, c)\n",
    "    \n",
    ">>> func(1, 2)\n",
    "\n",
    "Ans-- the result will be 1 2  and 8 boz during defining function we gave three input arguments out of which two were already\n",
    "give values as 6 and 8, but during function call the two values were given out of which first is for a and second is for b and this value for b which is 2 will override the value of b which was previously given as 6 "
   ]
  },
  {
   "cell_type": "code",
   "execution_count": 2,
   "id": "323a3ee7",
   "metadata": {},
   "outputs": [
    {
     "name": "stdout",
     "output_type": "stream",
     "text": [
      "1 2 8\n"
     ]
    }
   ],
   "source": [
    ">>> def func(a, b=6, c=8):\n",
    "    print(a, b, c)\n",
    "    \n",
    ">>> func(1, 2)\n"
   ]
  },
  {
   "cell_type": "raw",
   "id": "309b57c5",
   "metadata": {},
   "source": [
    "2. What is the result of this code, and why?\n",
    ">>> def func(a, b, c=5):\n",
    "    print(a, b, c)\n",
    "    \n",
    ">>> func(1, c=3, b=2)\n",
    "\n",
    "ANS-- the result is 1 2 and 3 here also the same thing is happening  'a' will get value as 1, 'b' will value 2 and 'c' will get \n",
    "value as 3 which is after overiding the previously given value 5"
   ]
  },
  {
   "cell_type": "code",
   "execution_count": 4,
   "id": "7dd96b60",
   "metadata": {},
   "outputs": [
    {
     "name": "stdout",
     "output_type": "stream",
     "text": [
      "1 2 3\n"
     ]
    }
   ],
   "source": [
    ">>> def func(a, b, c=5):\n",
    "    print(a, b, c)\n",
    "    \n",
    ">>> func(1, c=3, b=2)\n"
   ]
  },
  {
   "cell_type": "raw",
   "id": "1a18d904",
   "metadata": {},
   "source": [
    "3. How about this code: what is its result, and why?\n",
    ">>> def func(a, *pargs):\n",
    "    print(a, pargs)\n",
    "    \n",
    ">>> func(1, 2, 3)\n",
    "\n",
    "Ans-- the result is 1 (2, 3), when the function is called the tree values were given out of which 1 is will be assigned to 'a'\n",
    "and the other two values will be assigned inside pargs in pair as given in result below and if we give any number of inputs in function except the first value all will make a pair and go inside pargs "
   ]
  },
  {
   "cell_type": "code",
   "execution_count": 10,
   "id": "1dbbb442",
   "metadata": {},
   "outputs": [
    {
     "name": "stdout",
     "output_type": "stream",
     "text": [
      "1 (2, 3)\n"
     ]
    }
   ],
   "source": [
    ">>> def func(a, *pargs):\n",
    "    print(a, pargs)\n",
    "    \n",
    ">>> func(1, 2, 3)\n"
   ]
  },
  {
   "cell_type": "raw",
   "id": "45e89604",
   "metadata": {},
   "source": [
    "4. What does this code print, and why?\n",
    "\n",
    ">>> def func(a, **kargs):\n",
    "    print(a, kargs)\n",
    "    \n",
    ">>> func(a=1, c=3, b=2)\n",
    "\n",
    "Ans-- the result is 1 {'c': 3, 'b': 2}, the first value 1 goes to 'a' and rest two values c=3 and b=2 becomes as key and value \n",
    "pair inside a dictionary boz of **kwargs as we know double (*) makes the given values as key and it's value of any dictionary as happening in this case also 'c' becomes the key and 3 it's value similarly 'b' becomes the key and 2 it's value "
   ]
  },
  {
   "cell_type": "code",
   "execution_count": 12,
   "id": "41fd7c53",
   "metadata": {},
   "outputs": [
    {
     "name": "stdout",
     "output_type": "stream",
     "text": [
      "1 {'c': 3, 'b': 2}\n"
     ]
    }
   ],
   "source": [
    ">>> def func(a, **kargs):\n",
    "    print(a, kargs)\n",
    "    \n",
    ">>> func(a=1, c=3, b=2)\n"
   ]
  },
  {
   "cell_type": "raw",
   "id": "f1331e68",
   "metadata": {},
   "source": [
    "5. What gets printed by this, and explain?\n",
    "\n",
    ">>> def func(a, b, c=8, d=5):\n",
    "    print(a, b, c, d)\n",
    "    \n",
    ">>> func(1, *(5, 6))\n",
    "\n",
    "Ans-- the result is 1 5 6 5, 1 if for 'a', 5 is for 'b', 6 is for 'c' and 5 id for 'd'. when function is called the first value\n",
    "1 gets assigned to 'a' and the two values 5 and 6 in given in pair gets assigned to 'b' and 'c' respectively and the value for \n",
    "'d' was already assigned during defining function as 5  "
   ]
  },
  {
   "cell_type": "code",
   "execution_count": 18,
   "id": "5b13cc33",
   "metadata": {},
   "outputs": [
    {
     "name": "stdout",
     "output_type": "stream",
     "text": [
      "1 5 6 5\n"
     ]
    }
   ],
   "source": [
    ">>> def func(a, b, c=8, d=5):\n",
    "    print(a, b, c, d)\n",
    "    \n",
    ">>> func(1, *(5, 6))"
   ]
  },
  {
   "cell_type": "raw",
   "id": "6e6ccddd",
   "metadata": {},
   "source": [
    "6. what is the result of this, and explain?\n",
    "\n",
    ">>> def func(a, b, c): a = 2; b[0] = 'x'; c['a'] = 'y'\n",
    ">>> l=1; m=[1]; n={'a':0}\n",
    "\n",
    ">>> func(l, m, n)\n",
    ">>> l, m, n\n",
    "\n",
    "Ans-- the result is (1, ['x'], {'a': 'y'}), when we will call function we will not get any result boz the function is not \n",
    "concluded with either of print or return hence will not give any output rather what is happening when function is called and \n",
    "given values l,m and n for arguments a,b,c of function, a=l and l=1 so new value is assigned for 'a' ,b=m and 'm' is a list\n",
    "with value '1' but now it's value is re-assigned/replaced with 'x' similarly c=n and 'n' is a dictionary who's value for key 'a' is also getting re-placed by 'y' and when l,m,n are called after function they are giving result as given below.\n",
    "\n",
    "nothing special is happening just assignment operation when function is called 'a' is getting reassigned by '1', element if list 'm' is getting replaced by another value 'x' and similarly value of key of dictionary 'n' is also getting replaced  by 'y'"
   ]
  },
  {
   "cell_type": "code",
   "execution_count": 24,
   "id": "0edc2c0b",
   "metadata": {},
   "outputs": [
    {
     "data": {
      "text/plain": [
       "(1, ['x'], {'a': 'y'})"
      ]
     },
     "execution_count": 24,
     "metadata": {},
     "output_type": "execute_result"
    }
   ],
   "source": [
    ">>> def func(a, b, c): a = 2; b[0] = 'x'; c['a'] = 'y'\n",
    ">>> l=1; m=[1]; n={'a':0}\n",
    "\n",
    ">>> func(l, m, n)\n",
    ">>> l, m, n"
   ]
  },
  {
   "cell_type": "code",
   "execution_count": 25,
   "id": "c77bf7aa",
   "metadata": {},
   "outputs": [
    {
     "data": {
      "text/plain": [
       "{'a': 5}"
      ]
     },
     "execution_count": 25,
     "metadata": {},
     "output_type": "execute_result"
    }
   ],
   "source": [
    "# what is happening with this dict.. 'z' , same is happening with dict... 'n' also  \n",
    "z={'a':5}\n",
    "z"
   ]
  },
  {
   "cell_type": "code",
   "execution_count": 26,
   "id": "a7494e7e",
   "metadata": {},
   "outputs": [],
   "source": [
    "z['a']=6"
   ]
  },
  {
   "cell_type": "code",
   "execution_count": 27,
   "id": "b5da72a8",
   "metadata": {},
   "outputs": [
    {
     "data": {
      "text/plain": [
       "{'a': 6}"
      ]
     },
     "execution_count": 27,
     "metadata": {},
     "output_type": "execute_result"
    }
   ],
   "source": [
    "z"
   ]
  },
  {
   "cell_type": "code",
   "execution_count": 29,
   "id": "2463cc5f",
   "metadata": {},
   "outputs": [
    {
     "data": {
      "text/plain": [
       "[1]"
      ]
     },
     "execution_count": 29,
     "metadata": {},
     "output_type": "execute_result"
    }
   ],
   "source": [
    "# what is happening with this list 'w' ,same is happening with list 'm'\n",
    "w=[1]\n",
    "w"
   ]
  },
  {
   "cell_type": "code",
   "execution_count": 30,
   "id": "189ac0f2",
   "metadata": {},
   "outputs": [
    {
     "data": {
      "text/plain": [
       "['x']"
      ]
     },
     "execution_count": 30,
     "metadata": {},
     "output_type": "execute_result"
    }
   ],
   "source": [
    "w[0]='x'\n",
    "w"
   ]
  },
  {
   "cell_type": "code",
   "execution_count": null,
   "id": "274244cf",
   "metadata": {},
   "outputs": [],
   "source": []
  }
 ],
 "metadata": {
  "kernelspec": {
   "display_name": "Python 3 (ipykernel)",
   "language": "python",
   "name": "python3"
  },
  "language_info": {
   "codemirror_mode": {
    "name": "ipython",
    "version": 3
   },
   "file_extension": ".py",
   "mimetype": "text/x-python",
   "name": "python",
   "nbconvert_exporter": "python",
   "pygments_lexer": "ipython3",
   "version": "3.9.12"
  }
 },
 "nbformat": 4,
 "nbformat_minor": 5
}
