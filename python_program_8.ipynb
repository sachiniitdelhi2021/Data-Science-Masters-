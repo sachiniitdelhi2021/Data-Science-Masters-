{
 "cells": [
  {
   "cell_type": "raw",
   "id": "b5957105",
   "metadata": {},
   "source": [
    "1.\tWrite a Python Program to Add Two Matrices?\n",
    "2.\tWrite a Python Program to Multiply Two Matrices?\n",
    "3.\tWrite a Python Program to Transpose a Matrix?\n",
    "4.\tWrite a Python Program to Sort Words in Alphabetic Order?\n",
    "5.\tWrite a Python Program to Remove Punctuation From a String?\n"
   ]
  },
  {
   "cell_type": "raw",
   "id": "3f9e5c80",
   "metadata": {},
   "source": [
    "Ans--(1) for adding two matrices "
   ]
  },
  {
   "cell_type": "code",
   "execution_count": 23,
   "id": "cf9c5194",
   "metadata": {},
   "outputs": [
    {
     "name": "stdout",
     "output_type": "stream",
     "text": [
      "number of rows:2\n",
      "number of columns2\n",
      "give the values without comma seperated by the space:\n",
      "1 2 2 1\n",
      "2 1 1 2\n",
      "The matrix M1 is: [[1 2]\n",
      " [2 1]]\n",
      "The matrix M2 is: [[2 1]\n",
      " [1 2]]\n",
      "The sum of M1 & M2 is M3= [[3 3]\n",
      " [3 3]]\n"
     ]
    }
   ],
   "source": [
    "# defining function for adding tow given matrices which may be a square matrices or non-square matcises \n",
    "\n",
    "def mat_addition(m1,m2,a,b):\n",
    "    #for matrices addition the order of two matrices should be same \n",
    "    import numpy as np\n",
    "    #using numpy  we have to reshape the given lists to make them matrices as\n",
    "    M1=np.array(m1).reshape(a,b)\n",
    "    M2=np.array(m2).reshape(a,b)\n",
    "    #now adding the two above matrices M1 & M2 to get new matrix M3 as\n",
    "    M3=M1+M2\n",
    "    print('The matrix M1 is:',M1)\n",
    "    print('The matrix M2 is:',M2)\n",
    "    print('The sum of M1 & M2 is M3=',M3)\n",
    "\n",
    "    \n",
    "# for inputs to the function \n",
    "# no. of rows and no. column \n",
    "a=int(input('number of rows:'))\n",
    "b=int(input('number of columns'))\n",
    "\n",
    "\n",
    "print('give the values without comma seperated by the space:')\n",
    "m1=list(map(int,input().split()))\n",
    "m2=list(map(int,input().split()))   # all the given values will go inside the lists m1 and m2\n",
    "\n",
    "\n",
    "# calling the function as\n",
    "mat_addition(m1,m2,a,b)"
   ]
  },
  {
   "cell_type": "code",
   "execution_count": null,
   "id": "a86069dc",
   "metadata": {},
   "outputs": [],
   "source": [
    "# using above defined function we can get the sum of any two given matrices "
   ]
  },
  {
   "cell_type": "raw",
   "id": "dc869c68",
   "metadata": {},
   "source": [
    "Ans--(2)  for multiplying two matrices "
   ]
  },
  {
   "cell_type": "code",
   "execution_count": 34,
   "id": "1d49a5dd",
   "metadata": {},
   "outputs": [
    {
     "name": "stdout",
     "output_type": "stream",
     "text": [
      "The rows of first matrix are:2\n",
      "The columns of first matrix are:2\n",
      "The rows of second matrix are:2\n",
      "The colums of second matrix are:2\n",
      "give the values without comma seperated by the space:\n",
      "1 2 2 1\n",
      "2 1 1 2\n",
      "The matrix M1 is: [[1 2]\n",
      " [2 1]]\n",
      "The matrix M2 is: [[2 1]\n",
      " [1 2]]\n",
      "The product of M1 & M2 is M3= [[2 2]\n",
      " [2 2]]\n"
     ]
    }
   ],
   "source": [
    "# defining function to get the multiplication of two given matrices as\n",
    "\n",
    "def mat_multi(m1,m2,a,b,c,d):\n",
    "    if b==c:\n",
    "        import numpy as np\n",
    "        #using numpy  we have to reshape the given lists to make them matrices as\n",
    "        M1=np.array(m1).reshape(a,b)\n",
    "        M2=np.array(m2).reshape(a,b)\n",
    "        #now adding the two above matrices M1 & M2 to get new matrix M3 as\n",
    "        M3=np.multiply(M1,M2)\n",
    "        print('The matrix M1 is:',M1)\n",
    "        print('The matrix M2 is:',M2)\n",
    "        print('The product of M1 & M2 is M3=',M3)\n",
    "    else:\n",
    "        print('The two given matrices are not having proper order to do multiplication:')\n",
    "    \n",
    "    \n",
    "# inputs for the function \n",
    "a=int(input('The rows of first matrix are:'))\n",
    "b=int(input('The columns of first matrix are:'))\n",
    "c=int(input('The rows of second matrix are:'))\n",
    "d=int(input('The colums of second matrix are:'))\n",
    "\n",
    "print('give the values without comma seperated by the space:')\n",
    "m1=list(map(int,input().split()))\n",
    "m2=list(map(int,input().split()))   # all the given values will go inside the lists m1 and m2\n",
    "\n",
    "\n",
    "# calling the function as\n",
    "mat_multi(m1,m2,a,b,c,d)"
   ]
  },
  {
   "cell_type": "code",
   "execution_count": null,
   "id": "7a5ff28c",
   "metadata": {},
   "outputs": [],
   "source": [
    "# using the above function we can get the multiplication of any two given matrices if their order is proper which is suitable for the matrix multiplication operation "
   ]
  },
  {
   "cell_type": "raw",
   "id": "531dd46d",
   "metadata": {},
   "source": [
    "Ans-(3) for getting the transpose of any matrix "
   ]
  },
  {
   "cell_type": "code",
   "execution_count": 41,
   "id": "6f8b8cda",
   "metadata": {},
   "outputs": [
    {
     "name": "stdout",
     "output_type": "stream",
     "text": [
      "number of rows are:2\n",
      "number of columns are:2\n",
      "give the elements for matrix-->m, with space:\n",
      "1 0 2 -1\n",
      "The original matrix is: [[ 1  0]\n",
      " [ 2 -1]]\n",
      "The transposed matrix is: [[ 1  2]\n",
      " [ 0 -1]]\n"
     ]
    }
   ],
   "source": [
    "# defining function to get the transpoase of any matrix \n",
    "\n",
    "def mat_transp(m,a,b):\n",
    "    import numpy as np\n",
    "    #using numpy fuction for re-shaping the 2-d array \n",
    "    M=np.array(m).reshape(a,b)\n",
    "    for i in range(a):\n",
    "        for j in range(b):\n",
    "            #using the numpy function to get the transpose of matrix \n",
    "            M_T=np.transpose(M)\n",
    "            return M_T,M\n",
    "        \n",
    "        \n",
    "# inputs for the function \n",
    "a=int(input('number of rows are:'))\n",
    "b=int(input('number of columns are:'))\n",
    "\n",
    "# for taking the elements of matrix as input\n",
    "print('give the elements for matrix-->m, with space:')\n",
    "m=list(map(int,input().split()))\n",
    "\n",
    "# calling the function \n",
    "c,d=mat_transp(m,a,b)\n",
    "print('The original matrix is:',d)\n",
    "print('The transposed matrix is:',c)"
   ]
  },
  {
   "cell_type": "code",
   "execution_count": null,
   "id": "70fd91a6",
   "metadata": {},
   "outputs": [],
   "source": [
    "# using above defined function we can get the transpose of any matrix  "
   ]
  },
  {
   "cell_type": "raw",
   "id": "486c5387",
   "metadata": {},
   "source": [
    "Ans-(4) for Sorting Words in Alphabetic Order?"
   ]
  },
  {
   "cell_type": "code",
   "execution_count": 56,
   "id": "3603525b",
   "metadata": {},
   "outputs": [
    {
     "name": "stdout",
     "output_type": "stream",
     "text": [
      "enter something:MY NAME IS SACHIN THAKUR\n",
      "The sorted words are:\n",
      "is\n",
      "my\n",
      "name\n",
      "sachin\n",
      "thakur\n"
     ]
    }
   ],
   "source": [
    "# defining function \n",
    "\n",
    "def srt_words(a):\n",
    "    # 'a'- is the input string provided by the user\n",
    "    words=[i.lower() for i in a.split()]\n",
    "    #now sorting all the words of the list in order\n",
    "    words.sort()\n",
    "    print('The sorted words are:')\n",
    "    for j in words:\n",
    "        print(j)\n",
    "   \n",
    "    \n",
    "# input for the function\n",
    "a=input('enter something:')\n",
    "\n",
    "# calling the function \n",
    "srt_words(a) "
   ]
  },
  {
   "cell_type": "code",
   "execution_count": null,
   "id": "6ebe15e6",
   "metadata": {},
   "outputs": [],
   "source": [
    "# using above function we can get the sorted words for any given string by the user"
   ]
  },
  {
   "cell_type": "raw",
   "id": "9f097201",
   "metadata": {},
   "source": [
    "Ans--(4)  for Removing Punctuation From a String?"
   ]
  },
  {
   "cell_type": "code",
   "execution_count": 59,
   "id": "8efed895",
   "metadata": {},
   "outputs": [
    {
     "name": "stdout",
     "output_type": "stream",
     "text": [
      "The input string is:,my,name,is,sachin,thakur,\n",
      "punctuation which is to be removed is:,\n",
      "The new string is:  my name is sachin thakur \n"
     ]
    }
   ],
   "source": [
    "# defining function \n",
    "\n",
    "def remo_punct(string,punctuation):\n",
    "    #using for loop \n",
    "    for i in string:\n",
    "        if i in punctuation:\n",
    "            string=string.replace(i,' ')\n",
    "    return string\n",
    "\n",
    "# inputs for the function \n",
    "string=input('The input string is:')\n",
    "punctuation=input('punctuation which is to be removed is:')\n",
    "\n",
    "# calling function\n",
    "a=remo_punct(string,punctuation)\n",
    "print('The new string is:',a)\n",
    "    "
   ]
  },
  {
   "cell_type": "code",
   "execution_count": null,
   "id": "609258da",
   "metadata": {},
   "outputs": [],
   "source": [
    "# using above function we can replace any punctuation given by the user as input by any other thing in from the string given by the usere itself "
   ]
  }
 ],
 "metadata": {
  "kernelspec": {
   "display_name": "Python 3 (ipykernel)",
   "language": "python",
   "name": "python3"
  },
  "language_info": {
   "codemirror_mode": {
    "name": "ipython",
    "version": 3
   },
   "file_extension": ".py",
   "mimetype": "text/x-python",
   "name": "python",
   "nbconvert_exporter": "python",
   "pygments_lexer": "ipython3",
   "version": "3.9.12"
  }
 },
 "nbformat": 4,
 "nbformat_minor": 5
}
