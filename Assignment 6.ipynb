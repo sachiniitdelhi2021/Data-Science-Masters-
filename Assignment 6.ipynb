{
 "cells": [
  {
   "cell_type": "raw",
   "id": "e3b4f3ae",
   "metadata": {},
   "source": [
    "1. What are escape characters, and how do you use them?\n",
    "2. What do the escape characters n and t stand for?\n",
    "3. What is the way to include backslash characters in a string?\n",
    "4. The string \"Howl's Moving Castle\" is a correct value. Why isn't the single quote character in the word Howl's not escaped a problem?\n",
    "5. How do you write a string of newlines if you don't want to use the n character?\n",
    "6. What are the values of the given expressions?\n",
    "'Hello, world!'[1]\n",
    "'Hello, world!'[0:5]\n",
    "'Hello, world!'[:5]\n",
    "'Hello, world!'[3:]\n",
    "\n",
    "7. What are the values of the following expressions?\n",
    "'Hello'.upper()\n",
    "'Hello'.upper().isupper()\n",
    "'Hello'.upper().lower()\n",
    "8. What are the values of the following expressions?\n",
    "'Remember, remember, the fifth of July.'.split()\n",
    "'-'.join('There can only one.'.split())\n",
    "9. What are the methods for right-justifying, left-justifying, and centering a string?\n",
    "10. What is the best way to remove whitespace characters from the start or end?\n",
    "\n"
   ]
  },
  {
   "cell_type": "raw",
   "id": "a36f176a",
   "metadata": {},
   "source": [
    "1. What are escape characters, and how do you use them?\n",
    "Ans-- escape characters are those characters which allow us to use some characters inside string which normally is not allowed to \n",
    "use inside string like\n",
    "\n",
    "ex- there are four such characters -- 1)\\'  2)\\''  3) \\n   and   4)  \\t\n",
    "1) If you are using single quotes to print out a string and you have a single quote in the string, then you would have either 1 of 2 choices: you can use double quotes to enclose the string or you can use the escape character within the string enclosed by single quotes to have a single quote appear in the string.\n",
    "2)If you are using double quotes to print out a string and you have a double quote within the string, then you could either use single quotes to enclose the string or use the double quote escape character within the string.\n",
    "3)If you want a newline (line break) to appear within a string, then you would just place a newline escape character (\\n) where you would a newline (line break).\n",
    "4)If you need a tab (8 spaces) to appear in a string, then you would put a tab (\\t) escape character at the beginning of the string.\n"
   ]
  },
  {
   "cell_type": "code",
   "execution_count": 4,
   "id": "e7bc4349",
   "metadata": {},
   "outputs": [
    {
     "name": "stdout",
     "output_type": "stream",
     "text": [
      "this is sachin's house\n",
      "He told me, \"Go home\", which I did\n",
      "this is \tsachin\n",
      "my\n",
      "name\n",
      "is\n",
      "sachin\n"
     ]
    }
   ],
   "source": [
    "print('this is sachin\\'s house')\n",
    "print(\"He told me, \\\"Go home\\\", which I did\")\n",
    "print('this is \\tsachin')\n",
    "print('my\\nname\\nis\\nsachin')"
   ]
  },
  {
   "cell_type": "raw",
   "id": "185c1989",
   "metadata": {},
   "source": [
    "2. What do the escape characters n and t stand for?\n",
    "Ans--n --- If you want a newline (line break) to appear within a string, then you would just place a newline escape character (\\n) where you would a newline (line break).\n",
    "t-- If you need a tab (8 spaces) to appear in a string, then you would put a tab (\\t) escape character at the beginning of the string.\n"
   ]
  },
  {
   "cell_type": "raw",
   "id": "e46739b7",
   "metadata": {},
   "source": [
    "3. What is the way to include backslash characters in a string?\n",
    "Ans-- The backslash (\"\\\") character is a special escape character used to indicate other special characters such as new lines (\\n), tabs (\\t), or quotation marks (\\\").\n",
    "if we want to use backslash chracter in the string then we either have to use double backslash or another special character like \n",
    "\n",
    "a='\\\\sachin'\n",
    "b=@'\\sachin'                     "
   ]
  },
  {
   "cell_type": "code",
   "execution_count": 9,
   "id": "aa237400",
   "metadata": {},
   "outputs": [],
   "source": [
    "a='\\\\sachin'\n",
    "b='@\\sachin' "
   ]
  },
  {
   "cell_type": "code",
   "execution_count": 10,
   "id": "ab776c69",
   "metadata": {},
   "outputs": [
    {
     "data": {
      "text/plain": [
       "'\\\\sachin'"
      ]
     },
     "execution_count": 10,
     "metadata": {},
     "output_type": "execute_result"
    }
   ],
   "source": [
    "a"
   ]
  },
  {
   "cell_type": "code",
   "execution_count": 11,
   "id": "6cef5ded",
   "metadata": {},
   "outputs": [
    {
     "data": {
      "text/plain": [
       "'@\\\\sachin'"
      ]
     },
     "execution_count": 11,
     "metadata": {},
     "output_type": "execute_result"
    }
   ],
   "source": [
    "b"
   ]
  },
  {
   "cell_type": "raw",
   "id": "df8e221f",
   "metadata": {},
   "source": [
    "4. The string \"Howl's Moving Castle\" is a correct value. Why isn't the single quote character in the word Howl's not escaped a problem?\n",
    "Ans-- because if i want to use single quote inside a string than i can do this in two ways either by enclosing string inside double quotes or \n",
    "triple quotes or by using \\' and enclosing string inside single quotes \n",
    "\n",
    "ex- print('this is sachin\\'s house')\n",
    "print('''this is sachin's house''')"
   ]
  },
  {
   "cell_type": "code",
   "execution_count": 13,
   "id": "986fbb1b",
   "metadata": {},
   "outputs": [
    {
     "name": "stdout",
     "output_type": "stream",
     "text": [
      "this is sachin's house\n",
      "this is sachin's house\n"
     ]
    }
   ],
   "source": [
    "print('this is sachin\\'s house')\n",
    "print('''this is sachin's house''')"
   ]
  },
  {
   "cell_type": "raw",
   "id": "41ca75ee",
   "metadata": {},
   "source": [
    "5. How do you write a string of newlines if you don't want to use the n character?\n",
    "Ans-- print('my name is sachin',end='\\n')\n",
    "print('i m a student in iit delhi')"
   ]
  },
  {
   "cell_type": "code",
   "execution_count": 19,
   "id": "b9ae2297",
   "metadata": {},
   "outputs": [
    {
     "name": "stdout",
     "output_type": "stream",
     "text": [
      "my name is sachin\n",
      "i m a student in iit delhi\n"
     ]
    }
   ],
   "source": [
    "print('my name is sachin',end='\\n')\n",
    "print('i m a student in iit delhi')"
   ]
  },
  {
   "cell_type": "raw",
   "id": "370c1cc6",
   "metadata": {},
   "source": [
    "6. What are the values of the given expressions?\n",
    "\n",
    "'Hello, world!'[1]\n",
    "Ans-- this will give -- 'e' \n",
    "\n",
    "'Hello, world!'[:5]\n",
    "Ans-- this will give-- 'Hello'\n",
    "\n",
    "'Hello, world!'[3:]\n",
    "Ans-- this will give --'lo, world!'\n",
    "\n",
    "'Hello, world!'[0:5]\n",
    "Ans-- 'Hello'"
   ]
  },
  {
   "cell_type": "code",
   "execution_count": 16,
   "id": "0f331cd2",
   "metadata": {},
   "outputs": [
    {
     "data": {
      "text/plain": [
       "'e'"
      ]
     },
     "execution_count": 16,
     "metadata": {},
     "output_type": "execute_result"
    }
   ],
   "source": [
    "'Hello, world!'[1]"
   ]
  },
  {
   "cell_type": "code",
   "execution_count": 17,
   "id": "ed8dd606",
   "metadata": {},
   "outputs": [
    {
     "data": {
      "text/plain": [
       "'Hello'"
      ]
     },
     "execution_count": 17,
     "metadata": {},
     "output_type": "execute_result"
    }
   ],
   "source": [
    "'Hello, world!'[:5]"
   ]
  },
  {
   "cell_type": "code",
   "execution_count": 18,
   "id": "22b3e94e",
   "metadata": {
    "scrolled": true
   },
   "outputs": [
    {
     "data": {
      "text/plain": [
       "'lo, world!'"
      ]
     },
     "execution_count": 18,
     "metadata": {},
     "output_type": "execute_result"
    }
   ],
   "source": [
    "'Hello, world!'[3:]"
   ]
  },
  {
   "cell_type": "code",
   "execution_count": 19,
   "id": "79d29faf",
   "metadata": {},
   "outputs": [
    {
     "data": {
      "text/plain": [
       "'Hello'"
      ]
     },
     "execution_count": 19,
     "metadata": {},
     "output_type": "execute_result"
    }
   ],
   "source": [
    "'Hello, world!'[0:5]"
   ]
  },
  {
   "cell_type": "raw",
   "id": "3ee2fd89",
   "metadata": {},
   "source": [
    "7. What are the values of the following expressions?\n",
    "\n",
    "'Hello'.upper()\n",
    "Ans--- 'HELLO'\n",
    "\n",
    "'Hello'.upper().isupper()\n",
    "Ans--- True\n",
    "\n",
    "'Hello'.upper().lower()\n",
    "Ans--- 'hello'"
   ]
  },
  {
   "cell_type": "code",
   "execution_count": 20,
   "id": "90b8ad52",
   "metadata": {},
   "outputs": [
    {
     "data": {
      "text/plain": [
       "'HELLO'"
      ]
     },
     "execution_count": 20,
     "metadata": {},
     "output_type": "execute_result"
    }
   ],
   "source": [
    "'Hello'.upper()"
   ]
  },
  {
   "cell_type": "code",
   "execution_count": 22,
   "id": "5f8f0998",
   "metadata": {},
   "outputs": [
    {
     "data": {
      "text/plain": [
       "True"
      ]
     },
     "execution_count": 22,
     "metadata": {},
     "output_type": "execute_result"
    }
   ],
   "source": [
    "'Hello'.upper().isupper()"
   ]
  },
  {
   "cell_type": "code",
   "execution_count": 23,
   "id": "360229ec",
   "metadata": {},
   "outputs": [
    {
     "data": {
      "text/plain": [
       "'hello'"
      ]
     },
     "execution_count": 23,
     "metadata": {},
     "output_type": "execute_result"
    }
   ],
   "source": [
    "'Hello'.upper().lower()"
   ]
  },
  {
   "cell_type": "raw",
   "id": "2c2e926d",
   "metadata": {},
   "source": [
    "8. What are the values of the following expressions?\n",
    "'Remember, remember, the fifth of July.'.split()\n",
    "'-'.join('There can only one.'.split())\n",
    "\n",
    "'Remember, remember, the fifth of July.'.split()\n",
    "Ans-- each of the word will become seperate element inside list as \n",
    "\n",
    "['Remember,', 'remember,', 'the', 'fifth', 'of', 'July.']\n",
    "\n",
    "'-'.join('There can only one.'.split())\n",
    "\n",
    "Ans--- 'There-can-only-one.'"
   ]
  },
  {
   "cell_type": "code",
   "execution_count": 24,
   "id": "4834bc2d",
   "metadata": {},
   "outputs": [
    {
     "data": {
      "text/plain": [
       "['Remember,', 'remember,', 'the', 'fifth', 'of', 'July.']"
      ]
     },
     "execution_count": 24,
     "metadata": {},
     "output_type": "execute_result"
    }
   ],
   "source": [
    "'Remember, remember, the fifth of July.'.split()"
   ]
  },
  {
   "cell_type": "code",
   "execution_count": 25,
   "id": "e7a4e99d",
   "metadata": {},
   "outputs": [
    {
     "data": {
      "text/plain": [
       "'There-can-only-one.'"
      ]
     },
     "execution_count": 25,
     "metadata": {},
     "output_type": "execute_result"
    }
   ],
   "source": [
    "'-'.join('There can only one.'.split())"
   ]
  },
  {
   "cell_type": "raw",
   "id": "8b7a56d2",
   "metadata": {},
   "source": [
    "9. What are the methods for right-justifying, left-justifying, and centering a string?\n",
    "Ans--- for left justify any string we can use python function as \n",
    "str = \"my name is sachin\";\n",
    "print (str.ljust(50, '^'))\n",
    "\n",
    "for right justify any string we can use \n",
    "# rjust() function in python \n",
    " \n",
    "str = \"my name is sachin\";\n",
    "print str.rjust(50, '^')\n",
    "\n",
    "for centering any string \n",
    "# center() function in python \n",
    " \n",
    "str = \"my name is sachin\";\n",
    "print(str.center(50, '^'))\n"
   ]
  },
  {
   "cell_type": "code",
   "execution_count": 49,
   "id": "f0158234",
   "metadata": {},
   "outputs": [
    {
     "name": "stdout",
     "output_type": "stream",
     "text": [
      "my name is sachin^^^^^^^^^^^^^^^^^^^^^^^^^^^^^^^^^\n"
     ]
    }
   ],
   "source": [
    "# ljust() function in python \n",
    " \n",
    "str = \"my name is sachin\";\n",
    "print (str.ljust(50, '^'))"
   ]
  },
  {
   "cell_type": "code",
   "execution_count": 47,
   "id": "52abc0a5",
   "metadata": {},
   "outputs": [
    {
     "name": "stdout",
     "output_type": "stream",
     "text": [
      "^^^^^^^^^^^^^^^^^^^^^^^^Salute to the mother earth\n"
     ]
    }
   ],
   "source": [
    "# rjust() function in python \n",
    " \n",
    "str = \"my name is sachin\";\n",
    "print( str.rjust(50, '^'))"
   ]
  },
  {
   "cell_type": "code",
   "execution_count": 50,
   "id": "0045f378",
   "metadata": {},
   "outputs": [
    {
     "name": "stdout",
     "output_type": "stream",
     "text": [
      "^^^^^^^^^^^^^^^^my name is sachin^^^^^^^^^^^^^^^^^\n"
     ]
    }
   ],
   "source": [
    "# center() function in python \n",
    " \n",
    "str = \"my name is sachin\";\n",
    "print(str.center(50, '^'))"
   ]
  },
  {
   "cell_type": "raw",
   "id": "bd81c729",
   "metadata": {},
   "source": [
    "10. What is the best way to remove whitespace characters from the start or end?\n",
    "Ans-- removing spaces from the start as\n",
    "a='    my name is sachin'\n",
    "a.lstrip()\n",
    "\n",
    "Ans- removing spaces from the end of any string \n",
    "b='my name is sachin   '\n",
    "b.rstrip()\n",
    "\n",
    "Ans-- removing spaces from both sides of the string as \n",
    "c='   my name is sachin   '\n",
    "c.strip()"
   ]
  },
  {
   "cell_type": "code",
   "execution_count": 4,
   "id": "e5367b57",
   "metadata": {},
   "outputs": [
    {
     "data": {
      "text/plain": [
       "'my name is sachin'"
      ]
     },
     "execution_count": 4,
     "metadata": {},
     "output_type": "execute_result"
    }
   ],
   "source": [
    "a='    my name is sachin'\n",
    "a.lstrip()\n"
   ]
  },
  {
   "cell_type": "code",
   "execution_count": 5,
   "id": "d4a748be",
   "metadata": {},
   "outputs": [
    {
     "data": {
      "text/plain": [
       "'my name is sachin'"
      ]
     },
     "execution_count": 5,
     "metadata": {},
     "output_type": "execute_result"
    }
   ],
   "source": [
    "b='my name is sachin   '\n",
    "b.rstrip()"
   ]
  },
  {
   "cell_type": "code",
   "execution_count": 6,
   "id": "f1db1311",
   "metadata": {},
   "outputs": [
    {
     "data": {
      "text/plain": [
       "'my name is sachin'"
      ]
     },
     "execution_count": 6,
     "metadata": {},
     "output_type": "execute_result"
    }
   ],
   "source": [
    "c='   my name is sachin   '\n",
    "c.strip()"
   ]
  },
  {
   "cell_type": "code",
   "execution_count": null,
   "id": "43c88af8",
   "metadata": {},
   "outputs": [],
   "source": []
  }
 ],
 "metadata": {
  "kernelspec": {
   "display_name": "Python 3 (ipykernel)",
   "language": "python",
   "name": "python3"
  },
  "language_info": {
   "codemirror_mode": {
    "name": "ipython",
    "version": 3
   },
   "file_extension": ".py",
   "mimetype": "text/x-python",
   "name": "python",
   "nbconvert_exporter": "python",
   "pygments_lexer": "ipython3",
   "version": "3.9.12"
  }
 },
 "nbformat": 4,
 "nbformat_minor": 5
}
