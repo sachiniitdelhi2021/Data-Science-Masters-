{
 "cells": [
  {
   "cell_type": "raw",
   "id": "a968db9d",
   "metadata": {},
   "source": [
    "1. To what does a relative path refer?\n",
    "2. What does an absolute path start with your operating system?\n",
    "3. What do the functions os.getcwd() and os.chdir() do?\n",
    "4. What are the . and .. folders?\n",
    "5. In C:\\bacon\\eggs\\spam.txt, which part is the dir name, and which part is the base name?\n",
    "6. What are the three “mode” arguments that can be passed to the open() function?\n",
    "7. What happens if an existing file is opened in write mode?\n",
    "8. How do you tell the difference between read() and readlines()?\n",
    "9. What data structure does a shelf value resemble?"
   ]
  },
  {
   "cell_type": "raw",
   "id": "597f3355",
   "metadata": {},
   "source": [
    "1. To what does a relative path refer?\n",
    "Ans-- relative path refers to a location that is relative to a current directory, relative paths uses two special symbols (.)dot \n",
    "and (..)double dot, double dot is used for moving up in the hierarchy whereas single dot represent the current directory itself  "
   ]
  },
  {
   "cell_type": "raw",
   "id": "2eb447f1",
   "metadata": {},
   "source": [
    "2. What does an absolute path start with your operating system?\n",
    "Ans-- the absolute path contains complete details of all directories in between starting from the root file to the final or target\n",
    "file, the absolute path starts with the root folder like -- c:\\"
   ]
  },
  {
   "cell_type": "raw",
   "id": "6e330e75",
   "metadata": {},
   "source": [
    "3. What do the functions os.getcwd() and os.chdir() do?\n",
    "Ans-- the first functoin is used for getting the current working directory and second is used for changing the directory from \n",
    "current to any new directory "
   ]
  },
  {
   "cell_type": "raw",
   "id": "6f856c62",
   "metadata": {},
   "source": [
    "4. What are the . and .. folders?\n",
    "Ans-- the single dot(.) is for current directory whereas duoble dot(..) is for parent/root directory"
   ]
  },
  {
   "cell_type": "raw",
   "id": "b264de22",
   "metadata": {},
   "source": [
    "5. In C:\\bacon\\eggs\\spam.txt, which part is the dir name, and which part is the base name?\n",
    "Ans-- of any path name the rigtmost part is the base name and the folder in which it exist is the dir name\n",
    "so in C:\\bacon\\eggs\\spam.txt\n",
    "basename is -- spam.txt           # os.path.basename() can be used for getting the basenmae out of path \n",
    "dir name is -- C:\\bacon\\eggs      # os.path.dirname()   can be used for getting the dir name"
   ]
  },
  {
   "cell_type": "raw",
   "id": "7758db15",
   "metadata": {},
   "source": [
    "6. What are the three “mode” arguments that can be passed to the open() function?\n",
    "Ans-- three modes can be--\n",
    "1) 'r'-- this will open the existing file in reading mode only \n",
    "2) 'r+'-- this will open the existing file in reading and writing both mode  \n",
    "3) 'a'-- this will open the existing file and allows writing without deleting the past data of file and also opens the file if it \n",
    "does not exist \n",
    "4) 'w'-- this will open the file in writing mode and deletes all past data of existing file and also creates new file if it \n",
    "does not exist \n"
   ]
  },
  {
   "cell_type": "raw",
   "id": "92dde79f",
   "metadata": {},
   "source": [
    "7. What happens if an existing file is opened in write mode?\n",
    "Ans-- if any existing file is opened in writing mode then all of it's past data will be deleted "
   ]
  },
  {
   "cell_type": "raw",
   "id": "d3ad6eed",
   "metadata": {},
   "source": [
    "8. How do you tell the difference between read() and readlines()?\n",
    "Ans-- read() will read entire data of file and print as one single string but readlines() read line after line and returns \n",
    "a list of strings with each line as element of list if no argument representing bytes is given inside these functions  "
   ]
  },
  {
   "cell_type": "raw",
   "id": "135f77a3",
   "metadata": {},
   "source": [
    "9. What data structure does a shelf value resemble?\n",
    "Ans-- A shelf value resembles a dictionary value; it has keys and values, along with keys() and values() methods that work similarly to the dictionary methods of the same names"
   ]
  },
  {
   "cell_type": "code",
   "execution_count": null,
   "id": "928d1a7a",
   "metadata": {},
   "outputs": [],
   "source": []
  }
 ],
 "metadata": {
  "kernelspec": {
   "display_name": "Python 3 (ipykernel)",
   "language": "python",
   "name": "python3"
  },
  "language_info": {
   "codemirror_mode": {
    "name": "ipython",
    "version": 3
   },
   "file_extension": ".py",
   "mimetype": "text/x-python",
   "name": "python",
   "nbconvert_exporter": "python",
   "pygments_lexer": "ipython3",
   "version": "3.9.12"
  }
 },
 "nbformat": 4,
 "nbformat_minor": 5
}
