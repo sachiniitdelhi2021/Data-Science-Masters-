{
 "cells": [
  {
   "cell_type": "raw",
   "id": "353e952e",
   "metadata": {},
   "source": [
    "1.\tWrite a Python Program to find sum of array?\n",
    "2.\tWrite a Python Program to find largest element in an array?\n",
    "3.\tWrite a Python Program for array rotation?\n",
    "4.\tWrite a Python Program to Split the array and add the first part to the end?\n",
    "5.\tWrite a Python Program to check if given array is Monotonic?\n"
   ]
  },
  {
   "cell_type": "raw",
   "id": "3805775a",
   "metadata": {},
   "source": [
    "Ans--(1) for finding the sum of array "
   ]
  },
  {
   "cell_type": "code",
   "execution_count": 8,
   "id": "95efd61b",
   "metadata": {},
   "outputs": [
    {
     "name": "stdout",
     "output_type": "stream",
     "text": [
      "The sum of array is : 45\n"
     ]
    }
   ],
   "source": [
    "# defining the function as\n",
    "\n",
    "def Sum(arr,l):     # arr-- is the array and 'l'-- is for the length of the array\n",
    "    return sum(arr)\n",
    "\n",
    "# for inputs to the function \n",
    "arr=[1,2,3,4,5,6,7,8,9]       # we can give any values to this array but they can either be integer or float values  \n",
    "l=len(arr)             # 'l'-- is a variable storing the legth of the array \n",
    "\n",
    "# calling the function as\n",
    "a=Sum(arr,l)\n",
    "print('The sum of array is :',a)"
   ]
  },
  {
   "cell_type": "code",
   "execution_count": null,
   "id": "24992650",
   "metadata": {},
   "outputs": [],
   "source": [
    "# using above function we can get the sum of any given array if it is a 'int' array or 'float' array "
   ]
  },
  {
   "cell_type": "raw",
   "id": "ff247aa3",
   "metadata": {},
   "source": [
    "Ans--(2) for finding the largest element of any given array "
   ]
  },
  {
   "cell_type": "code",
   "execution_count": 17,
   "id": "8b72f74f",
   "metadata": {},
   "outputs": [
    {
     "name": "stdout",
     "output_type": "stream",
     "text": [
      "The largest element of given array is: 9\n"
     ]
    }
   ],
   "source": [
    "# defining the function as\n",
    "\n",
    "def lar_elem(arr):\n",
    "    return max(arr)\n",
    "\n",
    "# for inputs to the function\n",
    "arr=[9,8,7,6,5,4,3]\n",
    "\n",
    "# calling the function\n",
    "b=lar_elem(arr)\n",
    "print('The largest element of given array is:',b)\n",
    "    \n",
    "    "
   ]
  },
  {
   "cell_type": "raw",
   "id": "56e2c4ba",
   "metadata": {},
   "source": [
    "Ans--(3) for rotating any given array "
   ]
  },
  {
   "cell_type": "code",
   "execution_count": 20,
   "id": "10fcecfb",
   "metadata": {},
   "outputs": [
    {
     "name": "stdout",
     "output_type": "stream",
     "text": [
      "Rotation by elements:3\n",
      "The original array was: [1, 2, 3, 4, 5, 6, 7]\n",
      "The rotated array is: [4, 5, 6, 7, 1, 2, 3]\n"
     ]
    }
   ],
   "source": [
    "# defining function for rotating any given array\n",
    "\n",
    "def rot_array(arr,d,n):\n",
    "    a=arr.index(d)\n",
    "    l=arr[a+1:]+arr[0:a+1]\n",
    "    return l\n",
    "\n",
    "# giving inputs for the function as\n",
    "arr=[1,2,3,4,5,6,7]\n",
    "d=int(input('Rotation by elements:'))\n",
    "n=len(arr)\n",
    "\n",
    "# calling the function as\n",
    "b=rot_array(arr,d,n)\n",
    "print('The original array was:',arr)\n",
    "print('The rotated array is:',b)"
   ]
  },
  {
   "cell_type": "code",
   "execution_count": null,
   "id": "0b1c885f",
   "metadata": {},
   "outputs": [],
   "source": [
    "# using this above function we can get the rotated array by giving the value for 'd'--which is for the rotation by elements  "
   ]
  },
  {
   "cell_type": "raw",
   "id": "13b00391",
   "metadata": {},
   "source": [
    "Ans-(4) for splitting any array "
   ]
  },
  {
   "cell_type": "code",
   "execution_count": 21,
   "id": "891d1626",
   "metadata": {},
   "outputs": [
    {
     "name": "stdout",
     "output_type": "stream",
     "text": [
      "element after which you want to split the array:2\n",
      "The original array was: [1, 2, 3, 4, 5, 6, 7]\n",
      "new array after splitting & again adding the two parts is: [3, 4, 5, 6, 7, 1, 2]\n"
     ]
    }
   ],
   "source": [
    "# defining the function \n",
    "\n",
    "def split(arr,d):\n",
    "    a=arr.index(d)\n",
    "    l=arr[a+1:]+arr[0:a+1]              #adding the last part first and than the first part of the original array \n",
    "    return l                   # new array after adding the first part at the last of new array\n",
    "\n",
    "# giving inputs for the function as\n",
    "arr=[1,2,3,4,5,6,7]\n",
    "d=int(input('element after which you want to split the array:'))\n",
    "n=len(arr)\n",
    "\n",
    "# calling the function as\n",
    "b=split(arr,d)\n",
    "print('The original array was:',arr)\n",
    "print('new array after splitting & again adding the two parts is:',b)"
   ]
  },
  {
   "cell_type": "raw",
   "id": "ce869552",
   "metadata": {},
   "source": [
    "Ans--(5) for checking the given array is monotonic or not "
   ]
  },
  {
   "cell_type": "code",
   "execution_count": 31,
   "id": "b5d9103e",
   "metadata": {},
   "outputs": [
    {
     "name": "stdout",
     "output_type": "stream",
     "text": [
      "The given array is: monotonically increasing\n"
     ]
    }
   ],
   "source": [
    "# defining the function \n",
    "\n",
    "def mono_array(arr,n):\n",
    "    for i in range(n-2):\n",
    "        if arr[i]<=arr[i+1]:\n",
    "            return 'monotonically increasing'\n",
    "    \n",
    "    for i in range(n-2):\n",
    "        if arr[i]>=arr[i+1]:\n",
    "            return 'monotonically decreasing'\n",
    "\n",
    "    else:\n",
    "        return 'No monotonicity'\n",
    "\n",
    "# inputs for the function \n",
    "arr=[1,2,3,4,5,6,7,8]\n",
    "n=len(arr)\n",
    "\n",
    "# calling the function\n",
    "b=mono_array(arr,n)\n",
    "print('The given array is:',b)\n"
   ]
  },
  {
   "cell_type": "code",
   "execution_count": null,
   "id": "28b719ef",
   "metadata": {},
   "outputs": [],
   "source": []
  }
 ],
 "metadata": {
  "kernelspec": {
   "display_name": "Python 3 (ipykernel)",
   "language": "python",
   "name": "python3"
  },
  "language_info": {
   "codemirror_mode": {
    "name": "ipython",
    "version": 3
   },
   "file_extension": ".py",
   "mimetype": "text/x-python",
   "name": "python",
   "nbconvert_exporter": "python",
   "pygments_lexer": "ipython3",
   "version": "3.9.12"
  }
 },
 "nbformat": 4,
 "nbformat_minor": 5
}
