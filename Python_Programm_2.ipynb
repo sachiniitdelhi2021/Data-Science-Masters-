{
 "cells": [
  {
   "cell_type": "raw",
   "id": "26548efa",
   "metadata": {},
   "source": [
    "1.\tWrite a Python program to convert kilometers to miles?\n",
    "2.\tWrite a Python program to convert Celsius to Fahrenheit?\n",
    "3.\tWrite a Python program to display calendar?\n",
    "4.\tWrite a Python program to solve quadratic equation?\n",
    "5.\tWrite a Python program to swap two variables without temp variable?\n"
   ]
  },
  {
   "cell_type": "raw",
   "id": "216d8f81",
   "metadata": {},
   "source": [
    "Ans--(1)"
   ]
  },
  {
   "cell_type": "code",
   "execution_count": 3,
   "id": "c11962d4",
   "metadata": {},
   "outputs": [],
   "source": [
    "# defining a function which will convert kilometers to miles \n",
    "\n",
    "def km_to_miles(a):                     # 'a' is the input argument in kilometers\n",
    "    '''1 km = 0.6213712 miles'''\n",
    "    print('{} KM = {} miles'.format(a,a*0.6213712))\n",
    "\n",
    "# using this function we can convert kilometers into miles as you can see below given two results "
   ]
  },
  {
   "cell_type": "code",
   "execution_count": 4,
   "id": "de710b71",
   "metadata": {},
   "outputs": [
    {
     "name": "stdout",
     "output_type": "stream",
     "text": [
      "1 KM = 0.6213712 miles\n"
     ]
    }
   ],
   "source": [
    "km_to_miles(1)"
   ]
  },
  {
   "cell_type": "code",
   "execution_count": 5,
   "id": "6528bc2c",
   "metadata": {},
   "outputs": [
    {
     "name": "stdout",
     "output_type": "stream",
     "text": [
      "2 KM = 1.2427424 miles\n"
     ]
    }
   ],
   "source": [
    "km_to_miles(2)"
   ]
  },
  {
   "cell_type": "raw",
   "id": "ad3b4fe6",
   "metadata": {},
   "source": [
    "Ans--(2)"
   ]
  },
  {
   "cell_type": "code",
   "execution_count": 11,
   "id": "cf09c35a",
   "metadata": {},
   "outputs": [],
   "source": [
    "# function which will convert Celsius to Fahrenheit\n",
    "def temp_C_to_F(t):                 # 't' is the input argument in degree celsius \n",
    "    '''F=(9/5)*C+32'''\n",
    "    print('{} celsius = {} Fahrenheit'.format(t,(t*1.8)+32))\n",
    " \n",
    "# using this funtion we can get value of temperature in degree Fahrenheit by giving the temperature value in degee celsius as input to this function  "
   ]
  },
  {
   "cell_type": "code",
   "execution_count": 12,
   "id": "311fafcd",
   "metadata": {},
   "outputs": [
    {
     "name": "stdout",
     "output_type": "stream",
     "text": [
      "1 celsius = 33.8 Fahrenheit\n"
     ]
    }
   ],
   "source": [
    "# 1 degree celsius is \n",
    "temp_C_to_F(1)"
   ]
  },
  {
   "cell_type": "code",
   "execution_count": 13,
   "id": "b5a306e4",
   "metadata": {},
   "outputs": [
    {
     "name": "stdout",
     "output_type": "stream",
     "text": [
      "100 celsius = 212.0 Fahrenheit\n"
     ]
    }
   ],
   "source": [
    "# 100 degree celsius is \n",
    "temp_C_to_F(100)"
   ]
  },
  {
   "cell_type": "raw",
   "id": "9764bf0a",
   "metadata": {},
   "source": [
    "Ans--(4)"
   ]
  },
  {
   "cell_type": "code",
   "execution_count": 26,
   "id": "8fff7123",
   "metadata": {},
   "outputs": [],
   "source": [
    "# function for solving quadratic equations and give roots of it \n",
    "# importing function 'sqrt' from module 'math' as\n",
    "from math import sqrt\n",
    "\n",
    "def quad(a,b,c):\n",
    "    '''quadratic equation a*x^2+b*x+c'''\n",
    "    r1=-b+sqrt(b**2-(4*a*c))/(2*a)\n",
    "    r2=-b-sqrt(b**2-(4*a*c))/(2*a)\n",
    "    print('root 1 is ={}, root 2 is ={}'.format(r1,r2))"
   ]
  },
  {
   "cell_type": "code",
   "execution_count": 27,
   "id": "0173379c",
   "metadata": {},
   "outputs": [
    {
     "name": "stdout",
     "output_type": "stream",
     "text": [
      "root 1 is =2.0, root 2 is =-2.0\n"
     ]
    }
   ],
   "source": [
    "quad(1,0,-4)"
   ]
  },
  {
   "cell_type": "raw",
   "id": "02e888ff",
   "metadata": {},
   "source": [
    "Ans--(5)"
   ]
  },
  {
   "cell_type": "code",
   "execution_count": 48,
   "id": "741fb14d",
   "metadata": {},
   "outputs": [],
   "source": [
    "# function for swaping two input variables\n",
    "\n",
    "def swap(a,b):\n",
    "    print('initial value of a is:{} & b is:{}'.format(a,b)+'  '+' before swaping')\n",
    "    a,b=b,a\n",
    "    '''without using 'temp' variable we need to make two variables(a & b) to exchange their values'''\n",
    "    print('final value of a is:{} & b is:{}'.format(a,b)+'  '+'after swaping')\n",
    "\n",
    "# in this way we can get the new values of two varibales 'a' and 'b' after swaping \n",
    "# this function will give the initial values of two variables as well as the final values after swaping "
   ]
  },
  {
   "cell_type": "code",
   "execution_count": 49,
   "id": "36b8c7a6",
   "metadata": {},
   "outputs": [
    {
     "name": "stdout",
     "output_type": "stream",
     "text": [
      "initial value of a is:1 & b is:2   before swaping\n",
      "final value of a is:2 & b is:1  after swaping\n"
     ]
    }
   ],
   "source": [
    "swap(1,2)   # the result of swap()  function is "
   ]
  },
  {
   "cell_type": "code",
   "execution_count": 50,
   "id": "f9c7bc4a",
   "metadata": {},
   "outputs": [
    {
     "name": "stdout",
     "output_type": "stream",
     "text": [
      "initial value of a is:100 & b is:200   before swaping\n",
      "final value of a is:200 & b is:100  after swaping\n"
     ]
    }
   ],
   "source": [
    "swap(100,200)  # the result of swap() function is "
   ]
  },
  {
   "cell_type": "raw",
   "id": "be97aa52",
   "metadata": {},
   "source": [
    "Ans--(3) displaying calendar "
   ]
  },
  {
   "cell_type": "code",
   "execution_count": 62,
   "id": "c733a243",
   "metadata": {},
   "outputs": [],
   "source": [
    "# creating our own fucntion for getting calendar of any month and year as\n",
    "# using the function 'month()' of module 'calendar' as\n",
    "\n",
    "def calen(yr,mon):\n",
    "    from calendar import month\n",
    "    a=month(mon,yr)\n",
    "    print('The calendar is:\\n\\n ',a)\n"
   ]
  },
  {
   "cell_type": "code",
   "execution_count": 63,
   "id": "76dd1405",
   "metadata": {},
   "outputs": [
    {
     "name": "stdout",
     "output_type": "stream",
     "text": [
      "The calendar is:\n",
      "\n",
      "       June 2022\n",
      "Mo Tu We Th Fr Sa Su\n",
      "       1  2  3  4  5\n",
      " 6  7  8  9 10 11 12\n",
      "13 14 15 16 17 18 19\n",
      "20 21 22 23 24 25 26\n",
      "27 28 29 30\n",
      "\n"
     ]
    }
   ],
   "source": [
    "calen(6,2022)"
   ]
  },
  {
   "cell_type": "code",
   "execution_count": null,
   "id": "98c876eb",
   "metadata": {},
   "outputs": [],
   "source": []
  }
 ],
 "metadata": {
  "kernelspec": {
   "display_name": "Python 3 (ipykernel)",
   "language": "python",
   "name": "python3"
  },
  "language_info": {
   "codemirror_mode": {
    "name": "ipython",
    "version": 3
   },
   "file_extension": ".py",
   "mimetype": "text/x-python",
   "name": "python",
   "nbconvert_exporter": "python",
   "pygments_lexer": "ipython3",
   "version": "3.9.12"
  }
 },
 "nbformat": 4,
 "nbformat_minor": 5
}
