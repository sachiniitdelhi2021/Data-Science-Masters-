{
 "cells": [
  {
   "cell_type": "raw",
   "id": "29692e05",
   "metadata": {},
   "source": [
    "1. Make a class called Thing with no contents and print it. Then, create an object called example from this class and also print it. Are the printed values the same or different?\n",
    "2. Create a new class called Thing2 and add the value 'abc' to the letters class attribute. Letters should be printed.\n",
    "3. Make yet another class called, of course, Thing3. This time, assign the value 'xyz' to an instance (object) attribute called letters. Print letters. Do you need to make an object from the class to do this?\n",
    "4. Create an Element class with the instance attributes name, symbol, and number. Create a class object with the values 'Hydrogen,' 'H,' and 1.\n",
    "5. Make a dictionary with these keys and values: 'name': 'Hydrogen', 'symbol': 'H', 'number': 1. Then, create an object called hydrogen from class Element using this dictionary.\n",
    "6. For the Element class, define a method called dump() that prints the values of the object’s attributes (name, symbol, and number). Create the hydrogen object from this new definition and use dump() to print its attributes.\n",
    "7. Call print(hydrogen). In the definition of Element, change the name of method dump to __str__, create a new hydrogen object, and call print(hydrogen) again.\n",
    "8. Modify Element to make the attributes name, symbol, and number private. Define a getter property for each to return its value.\n",
    "9. Define three classes: Bear, Rabbit, and Octothorpe. For each, define only one method: eats(). This should return 'berries' (Bear), 'clover' (Rabbit), or 'campers' (Octothorpe). Create one object from each and print what it eats.\n",
    "10. Define these classes: Laser, Claw, and SmartPhone. Each has only one method: does(). This returns 'disintegrate' (Laser), 'crush' (Claw), or 'ring' (SmartPhone). Then, define the class Robot that has one instance (object) of each of these. Define a does() method for the Robot that prints what its component objects do.\n",
    "\n"
   ]
  },
  {
   "cell_type": "raw",
   "id": "8e77270a",
   "metadata": {},
   "source": [
    "1. Make a class called Thing with no contents and print it. Then, create an object called example from this class and also print it. Are the printed values the same or different?\n",
    "Ans-- \n"
   ]
  },
  {
   "cell_type": "code",
   "execution_count": 11,
   "id": "4f3d77d1",
   "metadata": {},
   "outputs": [],
   "source": [
    "# creating a class \n",
    "class Thing:\n",
    "    pass    \n",
    "            "
   ]
  },
  {
   "cell_type": "code",
   "execution_count": 14,
   "id": "7f2647a3",
   "metadata": {},
   "outputs": [
    {
     "name": "stdout",
     "output_type": "stream",
     "text": [
      "<class '__main__.Thing'>\n"
     ]
    }
   ],
   "source": [
    "print(Thing )     # printing the complete class which is empty "
   ]
  },
  {
   "cell_type": "code",
   "execution_count": 15,
   "id": "64189ceb",
   "metadata": {},
   "outputs": [],
   "source": [
    "example=Thing()    # creating an object of class 'Thing'"
   ]
  },
  {
   "cell_type": "code",
   "execution_count": 16,
   "id": "f418577c",
   "metadata": {},
   "outputs": [
    {
     "name": "stdout",
     "output_type": "stream",
     "text": [
      "<__main__.Thing object at 0x000002A4C6A1CE80>\n"
     ]
    }
   ],
   "source": [
    "print(example)     # printing the object of class "
   ]
  },
  {
   "cell_type": "code",
   "execution_count": null,
   "id": "54926b35",
   "metadata": {},
   "outputs": [],
   "source": [
    "#  the printed values are not same in both the cases "
   ]
  },
  {
   "cell_type": "raw",
   "id": "4e34e921",
   "metadata": {},
   "source": [
    "2. Create a new class called Thing2 and add the value 'abc' to the letters class attribute. Letters should be printed.\n",
    "Ans-- \n"
   ]
  },
  {
   "cell_type": "code",
   "execution_count": 145,
   "id": "fe40e822",
   "metadata": {},
   "outputs": [
    {
     "data": {
      "text/plain": [
       "'abc'"
      ]
     },
     "execution_count": 145,
     "metadata": {},
     "output_type": "execute_result"
    }
   ],
   "source": [
    "class Thing2:\n",
    "    letters='abc'\n",
    "\n",
    "# calling attribute of class using the class as \n",
    "Thing2.letters\n",
    "   "
   ]
  },
  {
   "cell_type": "raw",
   "id": "e0e2683d",
   "metadata": {},
   "source": [
    "3. Make yet another class called, of course, Thing3. This time, assign the value 'xyz' to an instance (object) attribute called letters. Print letters. Do you need to make an object from the class to do this?\n",
    "Ans-- "
   ]
  },
  {
   "cell_type": "code",
   "execution_count": 147,
   "id": "1c4eb27e",
   "metadata": {},
   "outputs": [
    {
     "data": {
      "text/plain": [
       "'xyz'"
      ]
     },
     "execution_count": 147,
     "metadata": {},
     "output_type": "execute_result"
    }
   ],
   "source": [
    "# creating another class as \n",
    "class Thing3:\n",
    "    def __init__(self,letters):\n",
    "        self.letters=letters\n",
    "        \n",
    "    def letters(self):\n",
    "        print(self.letters)\n",
    "        \n",
    "# now assigning value 'xyz' to attribute as      \n",
    "Thing3('xyz').letters \n",
    "\n",
    "# No we don't need to make an object from the class to do this "
   ]
  },
  {
   "cell_type": "code",
   "execution_count": 40,
   "id": "16aab1bb",
   "metadata": {},
   "outputs": [
    {
     "name": "stdout",
     "output_type": "stream",
     "text": [
      "xyz\n"
     ]
    }
   ],
   "source": [
    "print(letters)"
   ]
  },
  {
   "cell_type": "raw",
   "id": "bd7e0b0c",
   "metadata": {},
   "source": [
    "4. Create an Element class with the instance attributes name, symbol, and number. Create a class object with the values 'Hydrogen,' 'H,' and 1.\n",
    "Ans--\n"
   ]
  },
  {
   "cell_type": "code",
   "execution_count": 43,
   "id": "0b83ac5a",
   "metadata": {},
   "outputs": [],
   "source": [
    "# creating another class as \n",
    "class Element:\n",
    "    def __init__(self,name,symbol,number):\n",
    "        self.name=name\n",
    "        self.symbol=symbol\n",
    "        self.number=number\n",
    "        "
   ]
  },
  {
   "cell_type": "code",
   "execution_count": 44,
   "id": "29003ae4",
   "metadata": {},
   "outputs": [],
   "source": [
    "# now creating an object for above class as \n",
    "first=Element('Hydrogen','H',1)"
   ]
  },
  {
   "cell_type": "code",
   "execution_count": 45,
   "id": "22012186",
   "metadata": {},
   "outputs": [
    {
     "name": "stdout",
     "output_type": "stream",
     "text": [
      "Hydrogen\n",
      "H\n",
      "1\n"
     ]
    }
   ],
   "source": [
    "# printing all the specifications of object 'first'\n",
    "print(first.name)\n",
    "print(first.symbol)\n",
    "print(first.number)"
   ]
  },
  {
   "cell_type": "raw",
   "id": "1118e278",
   "metadata": {},
   "source": [
    "5. Make a dictionary with these keys and values: 'name': 'Hydrogen', 'symbol': 'H', 'number': 1. Then, create an object called hydrogen from class Element using this dictionary.\n",
    "Ans--                 "
   ]
  },
  {
   "cell_type": "code",
   "execution_count": 152,
   "id": "ef0561b7",
   "metadata": {},
   "outputs": [],
   "source": [
    "# first creating a dictionary as \n",
    "d={'name': 'Hydrogen', 'symbol': 'H', 'number': 1}\n",
    "\n",
    "# creating an object from class 'Element' as\n",
    "# hydrogen= Element(d['name'],d['symbol'],d['number'])  # we can use this also but what if the dictionary is very large in size than\n",
    "hydrogen= Element(**d)   # we will use this for unpacking the dictionary "
   ]
  },
  {
   "cell_type": "code",
   "execution_count": 153,
   "id": "7aef18ba",
   "metadata": {},
   "outputs": [
    {
     "name": "stdout",
     "output_type": "stream",
     "text": [
      "Hydrogen\n",
      "H\n",
      "1\n"
     ]
    }
   ],
   "source": [
    "# now calling the object 'hydrogen' as\n",
    "print(hydrogen.name)\n",
    "print(hydrogen.symbol)\n",
    "print(hydrogen.number)"
   ]
  },
  {
   "cell_type": "raw",
   "id": "26cd90c8",
   "metadata": {},
   "source": [
    "6. For the Element class, define a method called dump() that prints the values of the object’s attributes (name, symbol, and number). Create the hydrogen object from this new definition and use dump() to print its attributes.\n",
    "Ans-- "
   ]
  },
  {
   "cell_type": "code",
   "execution_count": 29,
   "id": "c9b35304",
   "metadata": {},
   "outputs": [],
   "source": [
    "# creating Element class as this and also defining anoter function inside as 'dump'  like \n",
    "class Element:\n",
    "    def __init__(self,name,symbol,number):\n",
    "        self.name=name\n",
    "        self.symbol=symbol\n",
    "        self.number=number\n",
    "        \n",
    "    def dump(self):\n",
    "        return('name is=%s, symbol is=%s, number is=%s'% (self.name, self.symbol, self.number) )\n",
    "        "
   ]
  },
  {
   "cell_type": "code",
   "execution_count": 35,
   "id": "970b8b90",
   "metadata": {},
   "outputs": [
    {
     "data": {
      "text/plain": [
       "'name is=Hydrogen, symbol is=H, number is=1'"
      ]
     },
     "execution_count": 35,
     "metadata": {},
     "output_type": "execute_result"
    }
   ],
   "source": [
    "hydrogen = Element('Hydrogen','H',1)\n",
    "hydrogen.dump()\n"
   ]
  },
  {
   "cell_type": "code",
   "execution_count": 36,
   "id": "cc736ffc",
   "metadata": {},
   "outputs": [],
   "source": [
    "# As you can see we are getting the result for object 'hydrogen' which was previously defined for class 'Element'\n",
    "# now say if i create another object for class 'Element' with name -- 'helium'\n",
    "helium=Element('Helium','He',2)"
   ]
  },
  {
   "cell_type": "code",
   "execution_count": 38,
   "id": "ece4cb62",
   "metadata": {},
   "outputs": [
    {
     "data": {
      "text/plain": [
       "'name is=Helium, symbol is=He, number is=2'"
      ]
     },
     "execution_count": 38,
     "metadata": {},
     "output_type": "execute_result"
    }
   ],
   "source": [
    "# now using the defined function 'dump()' getting the values of  object 'helium' as \n",
    "helium.dump()"
   ]
  },
  {
   "cell_type": "code",
   "execution_count": 40,
   "id": "859337a2",
   "metadata": {},
   "outputs": [],
   "source": [
    "# creating another object for class 'Element' as 'neon'\n",
    "neon=Element('Neon','Ne',3)"
   ]
  },
  {
   "cell_type": "code",
   "execution_count": 41,
   "id": "187465b9",
   "metadata": {},
   "outputs": [
    {
     "data": {
      "text/plain": [
       "'name is=Neon, symbol is=Ne, number is=3'"
      ]
     },
     "execution_count": 41,
     "metadata": {},
     "output_type": "execute_result"
    }
   ],
   "source": [
    "# now using the defined function 'dump()' getting the values of  object 'neon' as \n",
    "neon.dump()"
   ]
  },
  {
   "cell_type": "raw",
   "id": "20c149e3",
   "metadata": {},
   "source": [
    "7. Call print(hydrogen). In the definition of Element, change the name of method dump to __str__, create a new hydrogen object, and call print(hydrogen) again.\n",
    "Ans--"
   ]
  },
  {
   "cell_type": "code",
   "execution_count": 78,
   "id": "16bd4305",
   "metadata": {},
   "outputs": [
    {
     "name": "stdout",
     "output_type": "stream",
     "text": [
      "<__main__.Element object at 0x000002A4C6A5B550>\n"
     ]
    }
   ],
   "source": [
    "#  if we call print(hydrogen) as\n",
    "print(hydrogen)\n",
    "# we get this as output "
   ]
  },
  {
   "cell_type": "code",
   "execution_count": 5,
   "id": "9b526be8",
   "metadata": {},
   "outputs": [],
   "source": [
    "# creating another method in class 'Element' as __str__ by replacing dump()\n",
    "\n",
    "class Element:\n",
    "    def __init__(self,name,symbol,number):\n",
    "        self.name=name\n",
    "        self.symbol=symbol\n",
    "        self.number=number\n",
    "        \n",
    "    def __str__(self):\n",
    "\n",
    "        return ('name is=%s, symbol is=%s, number is=%s'% (self.name, self.symbol, self.number) )"
   ]
  },
  {
   "cell_type": "code",
   "execution_count": 6,
   "id": "726b13be",
   "metadata": {},
   "outputs": [
    {
     "name": "stdout",
     "output_type": "stream",
     "text": [
      "name is=Hydrogen, symbol is=H, number is=1\n"
     ]
    }
   ],
   "source": [
    "# now creating another object as 'hydrogen' like\n",
    "hydrogen=Element('Hydrogen','H',1)\n",
    "print(hydrogen)\n",
    "# we are getting this as output "
   ]
  },
  {
   "cell_type": "raw",
   "id": "3dc46b0a",
   "metadata": {},
   "source": [
    "8. Modify Element to make the attributes name, symbol, and number private. Define a getter property for each to return its value.\n",
    "Ans-- "
   ]
  },
  {
   "cell_type": "code",
   "execution_count": null,
   "id": "6e6d5982",
   "metadata": {},
   "outputs": [],
   "source": [
    "class Element(): \n",
    "    def __init__(self ,name,symbol,number):\n",
    "        self.__name = name\n",
    "        self.__symbol = symbol\n",
    "        self.__number = number\n",
    "    @property\n",
    "    def name(self):\n",
    "        return (self.__name)\n",
    "    @property\n",
    "    def symbol(self):\n",
    "        return (self.__symbol)\n",
    "    @property\n",
    "    def number(self):\n",
    "        return (self.__number)"
   ]
  },
  {
   "cell_type": "code",
   "execution_count": 64,
   "id": "1e53127d",
   "metadata": {},
   "outputs": [
    {
     "name": "stdout",
     "output_type": "stream",
     "text": [
      "1\n",
      "Hydrogen\n",
      "H\n"
     ]
    }
   ],
   "source": [
    "print(hydrogen.number)\n",
    "print(hydrogen.name)\n",
    "print(hydrogen.symbol)"
   ]
  },
  {
   "cell_type": "raw",
   "id": "acf7640b",
   "metadata": {},
   "source": [
    "9. Define three classes: Bear, Rabbit, and Octothorpe. For each, define only one method: eats(). This should return 'berries' (Bear), 'clover' (Rabbit), or 'campers' (Octothorpe). Create one object from each and print what it eats.\n",
    "Ans-- "
   ]
  },
  {
   "cell_type": "code",
   "execution_count": 55,
   "id": "e08ec39c",
   "metadata": {},
   "outputs": [],
   "source": [
    "# first class as \n",
    "class Bear:\n",
    "    def eats(self):\n",
    "        print('berries')"
   ]
  },
  {
   "cell_type": "code",
   "execution_count": 56,
   "id": "80ffdb43",
   "metadata": {},
   "outputs": [],
   "source": [
    "# second class as\n",
    "class Rabbit:\n",
    "    def eats(self):\n",
    "        print('clover')"
   ]
  },
  {
   "cell_type": "code",
   "execution_count": 57,
   "id": "98444e98",
   "metadata": {},
   "outputs": [],
   "source": [
    "# third class as \n",
    "class Octothorpe:\n",
    "    def eats(self):\n",
    "        print('campers')"
   ]
  },
  {
   "cell_type": "code",
   "execution_count": 58,
   "id": "24b09614",
   "metadata": {},
   "outputs": [],
   "source": [
    "# creating object for class 'Bear' as\n",
    "obj1=Bear()\n",
    "\n",
    "# creating object for class 'Rabbit' as\n",
    "obj2=Rabbit()\n",
    "\n",
    "# creating object for class 'Octothorpe' as\n",
    "obj3=Octothorpe()\n"
   ]
  },
  {
   "cell_type": "code",
   "execution_count": 59,
   "id": "9583e0c9",
   "metadata": {},
   "outputs": [
    {
     "name": "stdout",
     "output_type": "stream",
     "text": [
      "berries\n"
     ]
    }
   ],
   "source": [
    "obj1.eats()"
   ]
  },
  {
   "cell_type": "code",
   "execution_count": 61,
   "id": "f2f74ee0",
   "metadata": {},
   "outputs": [
    {
     "name": "stdout",
     "output_type": "stream",
     "text": [
      "clover\n"
     ]
    }
   ],
   "source": [
    "obj2.eats()"
   ]
  },
  {
   "cell_type": "code",
   "execution_count": 62,
   "id": "d45df4b7",
   "metadata": {},
   "outputs": [
    {
     "name": "stdout",
     "output_type": "stream",
     "text": [
      "campers\n"
     ]
    }
   ],
   "source": [
    "obj3.eats()"
   ]
  },
  {
   "cell_type": "raw",
   "id": "a94e4e8d",
   "metadata": {},
   "source": [
    "10. Define these classes: Laser, Claw, and SmartPhone. Each has only one method: does(). This returns 'disintegrate' (Laser), 'crush' (Claw), or 'ring' (SmartPhone). Then, define the class Robot that has one instance (object) of each of these. Define a does() method for the Robot that prints what its component objects do.\n",
    "Ans--- "
   ]
  },
  {
   "cell_type": "code",
   "execution_count": 24,
   "id": "5e5abdc9",
   "metadata": {},
   "outputs": [],
   "source": [
    "# first class \n",
    "class Laser:\n",
    "    def does(self):\n",
    "        return('disitegrate')\n",
    "    \n",
    "# second class\n",
    "class Claw:\n",
    "    def does(self):\n",
    "        return('crush')\n",
    "    \n",
    "# third class \n",
    "class SmartPhone:\n",
    "    def does(self):\n",
    "        return('ring')\n",
    "    \n",
    "\n",
    "# class Robot         \n",
    "class Robot:\n",
    "    def __init__(self):\n",
    "        self.laser = Laser()\n",
    "        self.claw = Claw()\n",
    "        self.smartphone = SmartPhone()\n",
    "    def does(self):\n",
    "        return ('Laser is= %s, Claw is= %s, SmartPhone is= %s' % (self.laser.does(),self.claw.does(),self.smartphone.does()))"
   ]
  },
  {
   "cell_type": "code",
   "execution_count": 27,
   "id": "a8d0ba4d",
   "metadata": {},
   "outputs": [
    {
     "data": {
      "text/plain": [
       "'Laser is= disitegrate, Claw is= crush, SmartPhone is= ring'"
      ]
     },
     "execution_count": 27,
     "metadata": {},
     "output_type": "execute_result"
    }
   ],
   "source": [
    "Robot().does()"
   ]
  },
  {
   "cell_type": "code",
   "execution_count": 37,
   "id": "b62e4ebc",
   "metadata": {},
   "outputs": [],
   "source": [
    "#  we can do this in this way also and will get the same results \n",
    "# first class \n",
    "class Laser:\n",
    "    def does(self):\n",
    "        return('disitegrate')\n",
    "    \n",
    "# second class\n",
    "class Claw:\n",
    "    def does(self):\n",
    "        return('crush')\n",
    "    \n",
    "# third class \n",
    "class SmartPhone:\n",
    "    def does(self):\n",
    "        return('ring')\n",
    "    \n",
    "\n",
    "# class Robot         \n",
    "class Robot:\n",
    "    \n",
    "    def does(self):\n",
    "        return ('Laser is= %s, Claw is= %s, SmartPhone is= %s' % (Laser().does(),Claw().does(),SmartPhone().does()))"
   ]
  },
  {
   "cell_type": "code",
   "execution_count": 38,
   "id": "0a6fcdaa",
   "metadata": {},
   "outputs": [
    {
     "data": {
      "text/plain": [
       "'Laser is= disitegrate, Claw is= crush, SmartPhone is= ring'"
      ]
     },
     "execution_count": 38,
     "metadata": {},
     "output_type": "execute_result"
    }
   ],
   "source": [
    "Robot().does()"
   ]
  },
  {
   "cell_type": "code",
   "execution_count": null,
   "id": "614f8e54",
   "metadata": {},
   "outputs": [],
   "source": []
  }
 ],
 "metadata": {
  "kernelspec": {
   "display_name": "Python 3 (ipykernel)",
   "language": "python",
   "name": "python3"
  },
  "language_info": {
   "codemirror_mode": {
    "name": "ipython",
    "version": 3
   },
   "file_extension": ".py",
   "mimetype": "text/x-python",
   "name": "python",
   "nbconvert_exporter": "python",
   "pygments_lexer": "ipython3",
   "version": "3.9.12"
  }
 },
 "nbformat": 4,
 "nbformat_minor": 5
}
