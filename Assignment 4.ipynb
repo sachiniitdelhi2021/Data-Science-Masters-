{
 "cells": [
  {
   "cell_type": "raw",
   "id": "0c7688e6",
   "metadata": {},
   "source": [
    "1. What exactly is []?\n",
    "2. In a list of values stored in a variable called spam, how would you assign the value 'hello' as the third value? (Assume [2, 4, 6, 8, 10] are in spam.)\n",
    "Let's pretend the spam includes the list ['a', 'b', 'c', 'd'] for the next three queries.\n",
    "3. What is the value of spam[int(int('3' * 2) / 11)]?\n",
    "4. What is the value of spam[-1]?\n",
    "5. What is the value of spam[:2]?\n",
    "Let's pretend bacon has the list [3.14, 'cat,' 11, 'cat,' True] for the next three questions.\n",
    "6. What is the value of bacon.index('cat')?\n",
    "7. How does bacon.append(99) change the look of the list value in bacon?\n",
    "8. How does bacon.remove('cat') change the look of the list in bacon?\n",
    "9. What are the list concatenation and list replication operators?\n",
    "10. What is difference between the list methods append() and insert()?\n",
    "11. What are the two methods for removing items from a list?\n",
    "12. Describe how list values and string values are identical.\n",
    "13. What's the difference between tuples and lists?\n",
    "14. How do you type a tuple value that only contains the integer 42?\n",
    "15. How do you get a list value's tuple form? How do you get a tuple value's list form?\n",
    "16. Variables that \"contain\" list values are not necessarily lists themselves. Instead, what do they contain?\n",
    "17. How do you distinguish between copy.copy() and copy.deepcopy()?\n",
    "\n"
   ]
  },
  {
   "cell_type": "raw",
   "id": "f29e5329",
   "metadata": {},
   "source": [
    "1. What exactly is []?\n",
    "Ans- it is an empty list, which contains no elements "
   ]
  },
  {
   "cell_type": "raw",
   "id": "640925f6",
   "metadata": {},
   "source": [
    "2.Assigning 'hello' at third position(index '2') in list stored in variable spam \n",
    "Ans- spam=[2, 4, 6, 8, 10]\n",
    "\n",
    "using insert command \n",
    "spam.insert(2,'hello')"
   ]
  },
  {
   "cell_type": "code",
   "execution_count": 1,
   "id": "91818cb2",
   "metadata": {},
   "outputs": [],
   "source": [
    "spam=[2, 4, 6, 8, 10]\n",
    "spam.insert(2,'hello')"
   ]
  },
  {
   "cell_type": "code",
   "execution_count": 2,
   "id": "7d4a76ce",
   "metadata": {},
   "outputs": [
    {
     "data": {
      "text/plain": [
       "[2, 4, 'hello', 6, 8, 10]"
      ]
     },
     "execution_count": 2,
     "metadata": {},
     "output_type": "execute_result"
    }
   ],
   "source": [
    "spam"
   ]
  },
  {
   "cell_type": "raw",
   "id": "48962f80",
   "metadata": {},
   "source": [
    "spam=  ['a', 'b', 'c', 'd']\n",
    "3. What is the value of spam[int(int('3' * 2) / 11)]?\n",
    "Ans- we will definitely get 'd' as answer which is at index position 3 "
   ]
  },
  {
   "cell_type": "code",
   "execution_count": 3,
   "id": "576815e7",
   "metadata": {},
   "outputs": [
    {
     "data": {
      "text/plain": [
       "'d'"
      ]
     },
     "execution_count": 3,
     "metadata": {},
     "output_type": "execute_result"
    }
   ],
   "source": [
    "spam= ['a', 'b', 'c', 'd']\n",
    "spam[int(int('3' * 2) / 11)]"
   ]
  },
  {
   "cell_type": "raw",
   "id": "abd4dafe",
   "metadata": {},
   "source": [
    "4. What is the value of spam[-1]?\n",
    "5. What is the value of spam[2]?\n",
    "\n",
    "Ans-4 'd'\n",
    "Ans-5  'c'"
   ]
  },
  {
   "cell_type": "raw",
   "id": "c3e94771",
   "metadata": {},
   "source": [
    "bacon=  [3.14, 'cat,' 11, 'cat', True]\n",
    "\n",
    "6. What is the value of bacon.index('cat')?\n",
    "Ans- the value will be - 1 as this will give the value which is first  "
   ]
  },
  {
   "cell_type": "code",
   "execution_count": 6,
   "id": "651f0e81",
   "metadata": {},
   "outputs": [
    {
     "data": {
      "text/plain": [
       "1"
      ]
     },
     "execution_count": 6,
     "metadata": {},
     "output_type": "execute_result"
    }
   ],
   "source": [
    "bacon=  [3.14, 'cat', 11, 'cat', True]\n",
    "bacon.index('cat')"
   ]
  },
  {
   "cell_type": "raw",
   "id": "5fea5b44",
   "metadata": {},
   "source": [
    "bacon=  [3.14, 'cat', 11, 'cat', True]\n",
    "\n",
    "7. How does bacon.append(99) change the look of the list value in bacon\n",
    "Ans- appending 99 inside list will add 99 at the last of the list at index position 5 and the final lisy will look like\n",
    "bacon=  [3.14, 'cat,' 11, 'cat', True,99]"
   ]
  },
  {
   "cell_type": "code",
   "execution_count": 10,
   "id": "58862517",
   "metadata": {},
   "outputs": [
    {
     "data": {
      "text/plain": [
       "[3.14, 'cat', 11, 'cat', True, 99]"
      ]
     },
     "execution_count": 10,
     "metadata": {},
     "output_type": "execute_result"
    }
   ],
   "source": [
    "bacon=  [3.14, 'cat', 11, 'cat', True]\n",
    "bacon.append(99)\n",
    "bacon"
   ]
  },
  {
   "cell_type": "raw",
   "id": "8424bf4d",
   "metadata": {},
   "source": [
    "Now the list bacon look like bacon=  [3.14, 'cat', 11, 'cat', True,99]\n",
    "\n",
    "8. How does bacon.remove('cat') change the look of the list in bacon?\n",
    "Ans- this will remove the very first 'cat'(Remove first occurrence of value) fron the list and the final list will look like \n",
    "bacon=  [3.14, 11, 'cat', True,99]"
   ]
  },
  {
   "cell_type": "code",
   "execution_count": 13,
   "id": "bfd0fe31",
   "metadata": {},
   "outputs": [],
   "source": [
    "bacon=  [3.14, 'cat', 11, 'cat', True,99]\n",
    "bacon.remove('cat')"
   ]
  },
  {
   "cell_type": "code",
   "execution_count": 14,
   "id": "da34f80e",
   "metadata": {},
   "outputs": [
    {
     "data": {
      "text/plain": [
       "[3.14, 11, 'cat', True, 99]"
      ]
     },
     "execution_count": 14,
     "metadata": {},
     "output_type": "execute_result"
    }
   ],
   "source": [
    "bacon"
   ]
  },
  {
   "cell_type": "raw",
   "id": "0c5390a6",
   "metadata": {},
   "source": [
    "9. What are the list concatenation and list replication operators?\n",
    "Ans- + -- is the list concatination operator \n",
    "* -- is the list replication operator "
   ]
  },
  {
   "cell_type": "code",
   "execution_count": 76,
   "id": "510d963e",
   "metadata": {},
   "outputs": [
    {
     "data": {
      "text/plain": [
       "[1, 2, 3, 4, 5, 6]"
      ]
     },
     "execution_count": 76,
     "metadata": {},
     "output_type": "execute_result"
    }
   ],
   "source": [
    "# list concatination \n",
    "l1=[1,2,3]\n",
    "l2=[4,5,6]\n",
    "\n",
    "l1+l2"
   ]
  },
  {
   "cell_type": "code",
   "execution_count": 77,
   "id": "bdb5b20c",
   "metadata": {},
   "outputs": [
    {
     "data": {
      "text/plain": [
       "[1, 2, 3, 4, 1, 2, 3, 4]"
      ]
     },
     "execution_count": 77,
     "metadata": {},
     "output_type": "execute_result"
    }
   ],
   "source": [
    "# list replication operation\n",
    "l1=[1,2,3,4]\n",
    "l1*2"
   ]
  },
  {
   "cell_type": "raw",
   "id": "194dbe41",
   "metadata": {},
   "source": [
    "10. What is difference between the list methods append() and insert()?\n",
    "Ans-- using list operation append(), the appended item will be added at the last of the list and this operation takes only one\n",
    "single argument which may be integer, string or any other.\n",
    "\n",
    "whereas the second list opearation insert(), takes two argument which are 1) the index value at which the item is to added\n",
    "2) the item which is to be added \n",
    "\n",
    "ex- l=[1,2,3]\n",
    "l.append('sachin')\n",
    "l.insert(0,'sachin')"
   ]
  },
  {
   "cell_type": "code",
   "execution_count": 16,
   "id": "99dd8cc8",
   "metadata": {},
   "outputs": [],
   "source": [
    "l=[1,2,3]\n",
    "l.append('sachin')\n"
   ]
  },
  {
   "cell_type": "code",
   "execution_count": 17,
   "id": "a0fa0cfd",
   "metadata": {},
   "outputs": [
    {
     "data": {
      "text/plain": [
       "[1, 2, 3, 'sachin']"
      ]
     },
     "execution_count": 17,
     "metadata": {},
     "output_type": "execute_result"
    }
   ],
   "source": [
    "l"
   ]
  },
  {
   "cell_type": "code",
   "execution_count": 18,
   "id": "553fafb4",
   "metadata": {},
   "outputs": [],
   "source": [
    "l.insert(0,'sachin')"
   ]
  },
  {
   "cell_type": "code",
   "execution_count": 19,
   "id": "3c6a52a6",
   "metadata": {},
   "outputs": [
    {
     "data": {
      "text/plain": [
       "['sachin', 1, 2, 3, 'sachin']"
      ]
     },
     "execution_count": 19,
     "metadata": {},
     "output_type": "execute_result"
    }
   ],
   "source": [
    "l"
   ]
  },
  {
   "cell_type": "raw",
   "id": "afe52038",
   "metadata": {},
   "source": [
    "11. What are the two methods for removing items from a list?\n",
    "Ans- the methods are \n",
    "\n",
    "l=[1,2,3]\n",
    "\n",
    "1)l.remove(1) --- this takes the argument as the item itself \n",
    "2) l.pop(2)  ----- this takes the argument as index of the value, here the 2 is the index value and this will delete 3 from list \n",
    "\n"
   ]
  },
  {
   "cell_type": "code",
   "execution_count": 21,
   "id": "3e13d40c",
   "metadata": {},
   "outputs": [],
   "source": [
    "l=[1,2,3,]\n",
    "l.remove(1)"
   ]
  },
  {
   "cell_type": "code",
   "execution_count": 23,
   "id": "76e2ce09",
   "metadata": {},
   "outputs": [
    {
     "data": {
      "text/plain": [
       "[2, 3]"
      ]
     },
     "execution_count": 23,
     "metadata": {},
     "output_type": "execute_result"
    }
   ],
   "source": [
    "l"
   ]
  },
  {
   "cell_type": "code",
   "execution_count": 27,
   "id": "8ed6de6b",
   "metadata": {},
   "outputs": [
    {
     "data": {
      "text/plain": [
       "3"
      ]
     },
     "execution_count": 27,
     "metadata": {},
     "output_type": "execute_result"
    }
   ],
   "source": [
    "l=[1,2,3,4,5]\n",
    "l.pop(2)"
   ]
  },
  {
   "cell_type": "code",
   "execution_count": 28,
   "id": "5f4fe3b1",
   "metadata": {},
   "outputs": [
    {
     "data": {
      "text/plain": [
       "[1, 2, 4, 5]"
      ]
     },
     "execution_count": 28,
     "metadata": {},
     "output_type": "execute_result"
    }
   ],
   "source": [
    "l"
   ]
  },
  {
   "cell_type": "raw",
   "id": "b93f30af",
   "metadata": {},
   "source": [
    "12. Describe how list values and string values are identical.\n",
    "Ans-- the list values and the string values are identical in a way-- both in list and string the values are saved by giving \n",
    "indexes to them also both in list and string the values can be called by their indexes \n",
    "\n",
    "both list and string can be passed into function len() for calculating the length\n",
    "can do slicing in both, both supports concatination and replication operations \n",
    "\n",
    "\n",
    "l=[1,2,3,4,5,6,'sachin']\n",
    "l.index('sachin')\n",
    "\n",
    "a='sachin'\n",
    "a[0]"
   ]
  },
  {
   "cell_type": "code",
   "execution_count": 31,
   "id": "cde9be88",
   "metadata": {},
   "outputs": [
    {
     "data": {
      "text/plain": [
       "0"
      ]
     },
     "execution_count": 31,
     "metadata": {},
     "output_type": "execute_result"
    }
   ],
   "source": [
    "l=[1,2,3,4,5,6]\n",
    "l.index(1)"
   ]
  },
  {
   "cell_type": "code",
   "execution_count": 35,
   "id": "1e78928a",
   "metadata": {},
   "outputs": [
    {
     "data": {
      "text/plain": [
       "'s'"
      ]
     },
     "execution_count": 35,
     "metadata": {},
     "output_type": "execute_result"
    }
   ],
   "source": [
    "a='sachin'\n",
    "a[0]"
   ]
  },
  {
   "cell_type": "raw",
   "id": "b8603a49",
   "metadata": {},
   "source": [
    "13. What's the difference between tuples and lists?\n",
    "Ans-- list and typle are two different data types, list is mutable whereas tuple is immutable means any item of list can be \n",
    "replaced by new item (list support item assignment) on the other hand tuple does not support item assignment means one's anything is\n",
    "inerted inside tuple it cannot be replaced \n",
    "\n",
    "Also list has variable length and typle has fixed length \n",
    "\n",
    "l=[1,2,4,5,6]   ---- list items are always put inside square brackets \n",
    "t=(1,2,3)  ---- tuple items are always put inside these () parentheses   "
   ]
  },
  {
   "cell_type": "raw",
   "id": "e3995f34",
   "metadata": {},
   "source": [
    "14. How do you type a tuple value that only contains the integer 42?\n",
    "Ans-- first create a list than convert that list into tuple as \n",
    "l=[42]\n",
    "t=tuple(l) \n",
    "\n",
    "'''or''' \n",
    "t=(42,)--- now this is a tuple with only one element inside it which is integer \n",
    "\n"
   ]
  },
  {
   "cell_type": "code",
   "execution_count": 54,
   "id": "6b05f2c7",
   "metadata": {},
   "outputs": [],
   "source": [
    "l=[42]\n",
    "t=tuple(l)"
   ]
  },
  {
   "cell_type": "code",
   "execution_count": 55,
   "id": "02ed441d",
   "metadata": {},
   "outputs": [
    {
     "data": {
      "text/plain": [
       "(42,)"
      ]
     },
     "execution_count": 55,
     "metadata": {},
     "output_type": "execute_result"
    }
   ],
   "source": [
    "t"
   ]
  },
  {
   "cell_type": "code",
   "execution_count": 56,
   "id": "c896abae",
   "metadata": {},
   "outputs": [
    {
     "data": {
      "text/plain": [
       "tuple"
      ]
     },
     "execution_count": 56,
     "metadata": {},
     "output_type": "execute_result"
    }
   ],
   "source": [
    "type(t)"
   ]
  },
  {
   "cell_type": "code",
   "execution_count": 57,
   "id": "fb3a4927",
   "metadata": {},
   "outputs": [],
   "source": [
    "t=(42,)"
   ]
  },
  {
   "cell_type": "code",
   "execution_count": 58,
   "id": "c15f7f9b",
   "metadata": {},
   "outputs": [
    {
     "data": {
      "text/plain": [
       "(42,)"
      ]
     },
     "execution_count": 58,
     "metadata": {},
     "output_type": "execute_result"
    }
   ],
   "source": [
    "t"
   ]
  },
  {
   "cell_type": "code",
   "execution_count": 59,
   "id": "9c4919d9",
   "metadata": {},
   "outputs": [
    {
     "data": {
      "text/plain": [
       "tuple"
      ]
     },
     "execution_count": 59,
     "metadata": {},
     "output_type": "execute_result"
    }
   ],
   "source": [
    "type(t)"
   ]
  },
  {
   "cell_type": "raw",
   "id": "8b88a652",
   "metadata": {},
   "source": [
    "15. How do you get a list value's tuple form? How do you get a tuple value's list form?\n",
    "Ans-  l=['sachin','thakur',123]    this is a list \n",
    "t=('dangi','rajput',888) this is a tuple \n",
    "\n",
    "converting list into tuple as--\n",
    "a=tuple(l)\n",
    "\n",
    "converting tuple into list as--\n",
    "b=list(t)\n",
    "\n"
   ]
  },
  {
   "cell_type": "code",
   "execution_count": 60,
   "id": "624140a0",
   "metadata": {},
   "outputs": [],
   "source": [
    "l=['sachin','thakur',123] \n",
    "a=tuple(l)"
   ]
  },
  {
   "cell_type": "code",
   "execution_count": 61,
   "id": "95ca69a6",
   "metadata": {},
   "outputs": [
    {
     "data": {
      "text/plain": [
       "('sachin', 'thakur', 123)"
      ]
     },
     "execution_count": 61,
     "metadata": {},
     "output_type": "execute_result"
    }
   ],
   "source": [
    "a"
   ]
  },
  {
   "cell_type": "code",
   "execution_count": 62,
   "id": "19e2af52",
   "metadata": {},
   "outputs": [
    {
     "data": {
      "text/plain": [
       "tuple"
      ]
     },
     "execution_count": 62,
     "metadata": {},
     "output_type": "execute_result"
    }
   ],
   "source": [
    "type(a)"
   ]
  },
  {
   "cell_type": "code",
   "execution_count": 63,
   "id": "8965913e",
   "metadata": {},
   "outputs": [],
   "source": [
    "t=('dangi','rajput',888)\n",
    "b=list(t)"
   ]
  },
  {
   "cell_type": "code",
   "execution_count": 64,
   "id": "da812756",
   "metadata": {},
   "outputs": [
    {
     "data": {
      "text/plain": [
       "['dangi', 'rajput', 888]"
      ]
     },
     "execution_count": 64,
     "metadata": {},
     "output_type": "execute_result"
    }
   ],
   "source": [
    "b"
   ]
  },
  {
   "cell_type": "code",
   "execution_count": 65,
   "id": "75e51530",
   "metadata": {},
   "outputs": [
    {
     "data": {
      "text/plain": [
       "list"
      ]
     },
     "execution_count": 65,
     "metadata": {},
     "output_type": "execute_result"
    }
   ],
   "source": [
    "type(b)"
   ]
  },
  {
   "cell_type": "raw",
   "id": "67dfaefc",
   "metadata": {},
   "source": [
    "16. Variables that \"contain\" list values are not necessarily lists themselves. Instead, what do they contain?\n",
    "Ans--- They contain references to list values"
   ]
  },
  {
   "cell_type": "raw",
   "id": "5bf303b4",
   "metadata": {},
   "source": [
    "17. How do you distinguish between copy.copy() and copy.deepcopy()?\n",
    "Ans-- copy.copy() --creates shallow copy of any data type say list, and if any further changes in list are done then those changes will\n",
    "also be replected in the shallow copy \n",
    "\n",
    "whereas copy.deepcopy() --  creates a deep copy of any data type say list, any if any further changes are done in list then those will\n",
    "not reflect in the deep copy \n"
   ]
  }
 ],
 "metadata": {
  "kernelspec": {
   "display_name": "Python 3 (ipykernel)",
   "language": "python",
   "name": "python3"
  },
  "language_info": {
   "codemirror_mode": {
    "name": "ipython",
    "version": 3
   },
   "file_extension": ".py",
   "mimetype": "text/x-python",
   "name": "python",
   "nbconvert_exporter": "python",
   "pygments_lexer": "ipython3",
   "version": "3.9.12"
  }
 },
 "nbformat": 4,
 "nbformat_minor": 5
}
