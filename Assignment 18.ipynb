{
 "cells": [
  {
   "cell_type": "raw",
   "id": "50cf693f",
   "metadata": {},
   "source": [
    "1. Create a zoo.py file first. Define the hours() function, which prints the string 'Open 9-5 daily'. Then, use the interactive interpreter to import the zoo module and call its hours() function.\n",
    "2. In the interactive interpreter, import the zoo module as menagerie and call its hours() function.\n",
    "3. Using the interpreter, explicitly import and call the hours() function from zoo.\n",
    "4. Import the hours() function as info and call it.\n",
    "5. Create a plain dictionary with the key-value pairs 'a': 1, 'b': 2, and 'c': 3, and print it out.\n",
    "6.Make an OrderedDict called fancy from the same pairs listed in 5 and print it. Did it print in the same order as plain?\n",
    "7. Make a default dictionary called dict_of_lists and pass it the argument list. Make the list dict_of_lists['a'] and append the value 'something for a' to it in one assignment. Print dict_of_lists['a'].\n",
    "\n"
   ]
  },
  {
   "cell_type": "raw",
   "id": "77b3b1c5",
   "metadata": {},
   "source": [
    "1. Create a zoo.py file first. Define the hours() function, which prints the string 'Open 9-5 daily'. Then, use the interactive interpreter to import the zoo module and call its hours() function.\n",
    "Ans-- \n",
    "after creating the module with name 'zoo' in form of python file as zoo.py, and than defining the function inside it as hours()\n",
    "and saving the changes in the zoo file so that we can import zoo module and can call it's function as given bellow \n",
    "\n",
    "import zoo \n",
    "zoo.hours()"
   ]
  },
  {
   "cell_type": "code",
   "execution_count": 10,
   "id": "6630578c",
   "metadata": {},
   "outputs": [
    {
     "name": "stdout",
     "output_type": "stream",
     "text": [
      "Open 9-5 daily\n"
     ]
    }
   ],
   "source": [
    "import zoo \n",
    "zoo.hours()"
   ]
  },
  {
   "cell_type": "raw",
   "id": "796c3e3a",
   "metadata": {},
   "source": [
    "2. In the interactive interpreter, import the zoo module as menagerie and call its hours() function.\n",
    "Ans-- \n",
    "we can import any module with any alias for simplicity, for calling the function every time as \n",
    "\n",
    "import zoo as menagerie\n",
    "menagerie.hours()"
   ]
  },
  {
   "cell_type": "code",
   "execution_count": 11,
   "id": "f4083bbf",
   "metadata": {},
   "outputs": [
    {
     "name": "stdout",
     "output_type": "stream",
     "text": [
      "Open 9-5 daily\n"
     ]
    }
   ],
   "source": [
    "import zoo as menagerie       # importing the module \n",
    "menagerie.hours()    # calling the function "
   ]
  },
  {
   "cell_type": "raw",
   "id": "4125eab9",
   "metadata": {},
   "source": [
    "3. Using the interpreter, explicitly import and call the hours() function from zoo.\n",
    "Ans-- \n",
    "explicitly calling the hours()  function as \n",
    "\n",
    "from zoo import hours   # only importing the hour function of this module which may contain many other functions  \n",
    "hours()  # calling the imported function "
   ]
  },
  {
   "cell_type": "code",
   "execution_count": 12,
   "id": "43b3a9e0",
   "metadata": {},
   "outputs": [
    {
     "name": "stdout",
     "output_type": "stream",
     "text": [
      "Open 9-5 daily\n"
     ]
    }
   ],
   "source": [
    "from zoo import hours\n",
    "hours()   # directly calling the function without using the name of module because we explicitly imported the function hours() of module 'zoo' only hour function no other function of this module  "
   ]
  },
  {
   "cell_type": "raw",
   "id": "eabeea11",
   "metadata": {},
   "source": [
    "4. Import the hours() function as info and call it.\n",
    "Ans-- \n",
    "\n",
    "from zoo import hours as info    # importing hours function as 'info' from module 'zoo' \n",
    "info()   "
   ]
  },
  {
   "cell_type": "code",
   "execution_count": 18,
   "id": "b53aa87f",
   "metadata": {},
   "outputs": [
    {
     "name": "stdout",
     "output_type": "stream",
     "text": [
      "Open 9-5 daily\n"
     ]
    }
   ],
   "source": [
    "from zoo import hours as info    # importing hours function as 'info' from module 'zoo' \n",
    "info()    # calling the same hours  functions with name 'info' and getting the output from function "
   ]
  },
  {
   "cell_type": "raw",
   "id": "e2f76821",
   "metadata": {},
   "source": [
    "5. Create a plain dictionary with the key-value pairs 'a': 1, 'b': 2, and 'c': 3, and print it out.\n",
    "Ans-- \n",
    "# creating a dictionary as \n",
    "plain={'a': 1, 'b': 2,'c': 3}\n",
    "print(plain)"
   ]
  },
  {
   "cell_type": "code",
   "execution_count": 2,
   "id": "d697b9c4",
   "metadata": {},
   "outputs": [
    {
     "name": "stdout",
     "output_type": "stream",
     "text": [
      "{'a': 1, 'b': 2, 'c': 3}\n"
     ]
    }
   ],
   "source": [
    "plain={'a': 1, 'b': 2,'c': 3}\n",
    "print(plain)"
   ]
  },
  {
   "cell_type": "raw",
   "id": "72fb0f97",
   "metadata": {},
   "source": [
    "6.Make an OrderedDict called fancy from the same pairs listed in 5 and print it. Did it print in the same order as plain?\n",
    "Ans-- \n",
    "from collections import OrderedDict\n",
    "\n",
    "fancy=OrderedDict()\n",
    "fancy['a']=1\n",
    "fancy['b']=2\n",
    "fancy['c']=3\n",
    "fancy"
   ]
  },
  {
   "cell_type": "code",
   "execution_count": 2,
   "id": "b491d443",
   "metadata": {},
   "outputs": [
    {
     "data": {
      "text/plain": [
       "OrderedDict([('a', 1), ('b', 2), ('c', 3)])"
      ]
     },
     "execution_count": 2,
     "metadata": {},
     "output_type": "execute_result"
    }
   ],
   "source": [
    "from collections import OrderedDict\n",
    "\n",
    "fancy=OrderedDict()\n",
    "fancy['a']=1\n",
    "fancy['b']=2\n",
    "fancy['c']=3\n",
    "fancy"
   ]
  },
  {
   "cell_type": "code",
   "execution_count": 3,
   "id": "db2d3000",
   "metadata": {},
   "outputs": [
    {
     "data": {
      "text/plain": [
       "OrderedDict([('a', 1), ('b', 2), ('c', 3)])"
      ]
     },
     "execution_count": 3,
     "metadata": {},
     "output_type": "execute_result"
    }
   ],
   "source": [
    "# we can also do the same above thing as\n",
    "fancy=OrderedDict([('a',1),('b',2),('c',3)])\n",
    "fancy\n",
    "# in this case also we will get the same result as "
   ]
  },
  {
   "cell_type": "code",
   "execution_count": 22,
   "id": "38b905a5",
   "metadata": {},
   "outputs": [
    {
     "data": {
      "text/plain": [
       "\"yes we are getting the same order but 'OrderedDict()'' remembers the order in which we insert the key and value pairs \\n and every time gives it in same order but 'dict()''  can give it in any random order or may be in same order in which we insert\\n the difference is that 'dict()' does not remembers the order whereas 'OrderedDict()'' remembers the order in which we insert the key and value pairs\""
      ]
     },
     "execution_count": 22,
     "metadata": {},
     "output_type": "execute_result"
    }
   ],
   "source": [
    "'''yes we are getting the same order but 'OrderedDict()'' remembers the order in which we insert the key and value pairs \n",
    " and every time gives it in same order but 'dict()''  can give it in any random order or may be in same order in which we insert\n",
    " the difference is that 'dict()' does not remembers the order whereas 'OrderedDict()'' remembers the order in which we insert the key and value pairs''' "
   ]
  },
  {
   "cell_type": "raw",
   "id": "09e71b57",
   "metadata": {},
   "source": [
    "7. Make a default dictionary called dict_of_lists and pass it the argument list. Make the list dict_of_lists['a'] and append the value 'something for a' to it in one assignment. Print dict_of_lists['a'].\n",
    "Ans-- "
   ]
  },
  {
   "cell_type": "code",
   "execution_count": 4,
   "id": "62e81955",
   "metadata": {
    "scrolled": true
   },
   "outputs": [
    {
     "data": {
      "text/plain": [
       "['something for a ']"
      ]
     },
     "execution_count": 4,
     "metadata": {},
     "output_type": "execute_result"
    }
   ],
   "source": [
    "# for this we have to import 'defaultdict'  from collections module as \n",
    "from collections import defaultdict\n",
    "\n",
    "# now making an dictionary as\n",
    "dict_of_lists=defaultdict(list)\n",
    "dict_of_lists['a'].append('something for a ')\n",
    "dict_of_lists['a']\n",
    "# this will give the value for key 'a'"
   ]
  },
  {
   "cell_type": "code",
   "execution_count": null,
   "id": "d7705fcd",
   "metadata": {},
   "outputs": [],
   "source": []
  }
 ],
 "metadata": {
  "kernelspec": {
   "display_name": "Python 3 (ipykernel)",
   "language": "python",
   "name": "python3"
  },
  "language_info": {
   "codemirror_mode": {
    "name": "ipython",
    "version": 3
   },
   "file_extension": ".py",
   "mimetype": "text/x-python",
   "name": "python",
   "nbconvert_exporter": "python",
   "pygments_lexer": "ipython3",
   "version": "3.9.12"
  }
 },
 "nbformat": 4,
 "nbformat_minor": 5
}
