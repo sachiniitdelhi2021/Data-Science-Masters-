{
 "cells": [
  {
   "cell_type": "raw",
   "id": "2231fd89",
   "metadata": {},
   "source": [
    "1.\tWrite a Python Program to Check if a Number is Positive, Negative or Zero?\n",
    "2.\tWrite a Python Program to Check if a Number is Odd or Even?\n",
    "3.\tWrite a Python Program to Check Leap Year?\n",
    "4.\tWrite a Python Program to Check Prime Number?\n",
    "5.\tWrite a Python Program to Print all Prime Numbers in an Interval of 1-10000?\n"
   ]
  },
  {
   "cell_type": "raw",
   "id": "fd2065dd",
   "metadata": {},
   "source": [
    "Ans-(1)"
   ]
  },
  {
   "cell_type": "code",
   "execution_count": 3,
   "id": "e148dd0c",
   "metadata": {},
   "outputs": [
    {
     "name": "stdout",
     "output_type": "stream",
     "text": [
      "give any number-100\n",
      "-100 : is the input number\n",
      "-100 : is negative\n"
     ]
    }
   ],
   "source": [
    "a=int(input('give any number'))\n",
    "print('{} : is the input number'.format(a))\n",
    "\n",
    "\n",
    "# defining a function\n",
    "\n",
    "def num(a):\n",
    "    if a>0:\n",
    "        print('{} :is positive'.format(a))\n",
    "    elif a<0:\n",
    "        print('{} : is negative'.format(a))\n",
    "    else:\n",
    "        print('{}: is zero'.format(a))\n",
    "        \n",
    "        \n",
    "# calling function \n",
    "num(a)"
   ]
  },
  {
   "cell_type": "code",
   "execution_count": null,
   "id": "0eadc08e",
   "metadata": {},
   "outputs": [],
   "source": [
    "# using above given function we can check any number is +ve, -ve or zero just give any integer number not floating point numbers\n"
   ]
  },
  {
   "cell_type": "raw",
   "id": "4803d269",
   "metadata": {},
   "source": [
    "Ans--(2)"
   ]
  },
  {
   "cell_type": "code",
   "execution_count": 10,
   "id": "907c51dd",
   "metadata": {},
   "outputs": [
    {
     "name": "stdout",
     "output_type": "stream",
     "text": [
      "give any number:-110\n",
      "The input number is :-110\n",
      "-110: is even number\n"
     ]
    }
   ],
   "source": [
    "# function to check any given number is even or odd \n",
    "a=int(input('give any number:'))\n",
    "print('The input number is :{}'.format(a))\n",
    "\n",
    "# defining a function as \n",
    "\n",
    "def num2(a):\n",
    "    if a!=0:\n",
    "        if a%2==0:\n",
    "            print('{}: is even number'.format(a))\n",
    "        else:\n",
    "            print('{}: is odd number'.format(a))\n",
    "    else:\n",
    "        print('{}: is given'.format(a))\n",
    "        \n",
    "        \n",
    "# calling function \n",
    "num2(a)\n",
    "   "
   ]
  },
  {
   "cell_type": "code",
   "execution_count": null,
   "id": "69ed4955",
   "metadata": {},
   "outputs": [],
   "source": [
    "# giving any integer number we can get the number is even or odd using above function "
   ]
  },
  {
   "cell_type": "raw",
   "id": "89b3c52c",
   "metadata": {},
   "source": [
    "Ans---(3)"
   ]
  },
  {
   "cell_type": "code",
   "execution_count": 34,
   "id": "8e47e0db",
   "metadata": {},
   "outputs": [
    {
     "name": "stdout",
     "output_type": "stream",
     "text": [
      "Enter year:2400\n",
      "2400: is the given year\n",
      "2400: is a leap year\n"
     ]
    }
   ],
   "source": [
    "# function to check any given year is leap year or not \n",
    "\n",
    "a=int(input('Enter year:'))\n",
    "print('{}: is the given year'.format(a))\n",
    "\n",
    "# defining function \n",
    "def leap(a):\n",
    "    while a%4==0:\n",
    "    \n",
    "        if type(a//100)!=int:\n",
    "            print('{}: is a leap year'.format(a))\n",
    "        break\n",
    "            \n",
    "    if a%400==0:\n",
    "        if a%100==0:\n",
    "            print('{}: is a leap year'.format(a))\n",
    "   \n",
    "    else:\n",
    "        print('{}: is not a leap year'.format(a))\n",
    "        \n",
    "# calling function\n",
    "leap(a)"
   ]
  },
  {
   "cell_type": "raw",
   "id": "c43bce76",
   "metadata": {},
   "source": [
    "Ans--(4)"
   ]
  },
  {
   "cell_type": "code",
   "execution_count": 100,
   "id": "e09283e7",
   "metadata": {},
   "outputs": [
    {
     "name": "stdout",
     "output_type": "stream",
     "text": [
      "enter integer number > 1:7\n",
      "you have entered:7\n",
      "7: is a prime number\n"
     ]
    }
   ],
   "source": [
    "# defining a function to check number is prime or not\n",
    "a=int(input('enter integer number > 1:'))\n",
    "print('you have entered:{}'.format(a))\n",
    "\n",
    "# function \n",
    "def prime(a):\n",
    "    if a>1:\n",
    "        for i in range(2,int(a/2)):\n",
    "            if a%i==0:\n",
    "                print('{}: is not a prime number'.format(a))\n",
    "                break\n",
    "            \n",
    "    \n",
    "            \n",
    "        else:\n",
    "            print('{}: is a prime number'.format(a))\n",
    "            \n",
    "#     for a=1 case\n",
    "    else:\n",
    "        print('{}:is not a prime number'.format(a))\n",
    "\n",
    "# calling function\n",
    "prime(a)"
   ]
  },
  {
   "cell_type": "code",
   "execution_count": null,
   "id": "76569987",
   "metadata": {},
   "outputs": [],
   "source": [
    "# using above function we can check any number is prime or not ,for any integer number "
   ]
  },
  {
   "cell_type": "raw",
   "id": "83595661",
   "metadata": {},
   "source": [
    "Ans--(5)"
   ]
  },
  {
   "cell_type": "code",
   "execution_count": 58,
   "id": "d352b3f7",
   "metadata": {},
   "outputs": [
    {
     "name": "stdout",
     "output_type": "stream",
     "text": [
      "lower limit is:5\n",
      "upper limit is:10\n",
      "prime numbers b/w these numbers are:\n"
     ]
    },
    {
     "data": {
      "text/plain": [
       "[5, 7]"
      ]
     },
     "execution_count": 58,
     "metadata": {},
     "output_type": "execute_result"
    }
   ],
   "source": [
    "# function for getting prime numbers b/w two given numbers as\n",
    "a=int(input('lower limit is:'))\n",
    "b=int(input('upper limit is:'))\n",
    "\n",
    "if a>1:\n",
    "    print('prime numbers b/w these numbers are:')\n",
    "else:\n",
    "    print('you have entered wrong vaule for a')\n",
    "\n",
    "# function \n",
    "def primenum(a,b):\n",
    "    if a>1:\n",
    "        l=[]\n",
    "        for i in range(a,b):\n",
    "            for j in range(2,int(i/2)+1):\n",
    "                if i%j==0:\n",
    "                    break\n",
    "                    \n",
    "            else:\n",
    "                l.append(i)\n",
    "        return l\n",
    "     \n",
    "    else:\n",
    "        print('please give (a) >=2')\n",
    "                    \n",
    "        \n",
    "        \n",
    "# calling function \n",
    "# and give values for 'a' and 'b'  as given below \n",
    "# a=2\n",
    "# b=10000\n",
    "primenum(a,b)\n",
    "                    \n",
    "        "
   ]
  },
  {
   "cell_type": "code",
   "execution_count": null,
   "id": "39121940",
   "metadata": {},
   "outputs": [],
   "source": [
    "# using this function we can get prime numbers b/w any two given numbers as given above b/w '5'  and '10' \n",
    "# for getting prime numbers b/w 1 and 10000 give suitable values for 'a'  and 'b'   "
   ]
  }
 ],
 "metadata": {
  "kernelspec": {
   "display_name": "Python 3 (ipykernel)",
   "language": "python",
   "name": "python3"
  },
  "language_info": {
   "codemirror_mode": {
    "name": "ipython",
    "version": 3
   },
   "file_extension": ".py",
   "mimetype": "text/x-python",
   "name": "python",
   "nbconvert_exporter": "python",
   "pygments_lexer": "ipython3",
   "version": "3.9.12"
  }
 },
 "nbformat": 4,
 "nbformat_minor": 5
}
